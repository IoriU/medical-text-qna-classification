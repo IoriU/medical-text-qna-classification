{
 "cells": [
  {
   "cell_type": "code",
   "execution_count": 1,
   "metadata": {
    "colab": {
     "base_uri": "https://localhost:8080/"
    },
    "id": "N7a3p7n7vHXR",
    "outputId": "df4229fc-3bd6-41b2-da4f-90b46b91f579"
   },
   "outputs": [
    {
     "name": "stdout",
     "output_type": "stream",
     "text": [
      "Wed Jun 21 16:13:46 2023       \n",
      "+-----------------------------------------------------------------------------+\n",
      "| NVIDIA-SMI 450.156.00   Driver Version: 450.156.00   CUDA Version: 11.5     |\n",
      "|-------------------------------+----------------------+----------------------+\n",
      "| GPU  Name        Persistence-M| Bus-Id        Disp.A | Volatile Uncorr. ECC |\n",
      "| Fan  Temp  Perf  Pwr:Usage/Cap|         Memory-Usage | GPU-Util  Compute M. |\n",
      "|                               |                      |               MIG M. |\n",
      "|===============================+======================+======================|\n",
      "|   0  A100-SXM4-40GB      On   | 00000000:07:00.0 Off |                    0 |\n",
      "| N/A   30C    P0    59W / 400W |  20957MiB / 40537MiB |      0%      Default |\n",
      "|                               |                      |             Disabled |\n",
      "+-------------------------------+----------------------+----------------------+\n",
      "|   1  A100-SXM4-40GB      On   | 00000000:0F:00.0 Off |                    0 |\n",
      "| N/A   39C    P0   130W / 400W |  39451MiB / 40537MiB |    100%      Default |\n",
      "|                               |                      |             Disabled |\n",
      "+-------------------------------+----------------------+----------------------+\n",
      "|   2  A100-SXM4-40GB      On   | 00000000:47:00.0 Off |                    0 |\n",
      "| N/A   28C    P0    56W / 400W |      3MiB / 40537MiB |      0%      Default |\n",
      "|                               |                      |             Disabled |\n",
      "+-------------------------------+----------------------+----------------------+\n",
      "|   3  A100-SXM4-40GB      On   | 00000000:4E:00.0 Off |                    0 |\n",
      "| N/A   31C    P0    66W / 400W |  26546MiB / 40537MiB |     26%      Default |\n",
      "|                               |                      |             Disabled |\n",
      "+-------------------------------+----------------------+----------------------+\n",
      "|   4  A100-SXM4-40GB      On   | 00000000:87:00.0 Off |                    0 |\n",
      "| N/A   35C    P0    63W / 400W |   2030MiB / 40537MiB |      0%      Default |\n",
      "|                               |                      |             Disabled |\n",
      "+-------------------------------+----------------------+----------------------+\n",
      "|   5  A100-SXM4-40GB      On   | 00000000:90:00.0 Off |                    0 |\n",
      "| N/A   39C    P0    66W / 400W |   7719MiB / 40537MiB |      0%      Default |\n",
      "|                               |                      |             Disabled |\n",
      "+-------------------------------+----------------------+----------------------+\n",
      "|   6  A100-SXM4-40GB      On   | 00000000:B7:00.0 Off |                    0 |\n",
      "| N/A   43C    P0   132W / 400W |  21894MiB / 40537MiB |    100%      Default |\n",
      "|                               |                      |             Disabled |\n",
      "+-------------------------------+----------------------+----------------------+\n",
      "|   7  A100-SXM4-40GB      On   | 00000000:BD:00.0 Off |                    0 |\n",
      "| N/A   34C    P0    66W / 400W |   5225MiB / 40537MiB |      0%      Default |\n",
      "|                               |                      |             Disabled |\n",
      "+-------------------------------+----------------------+----------------------+\n",
      "                                                                               \n",
      "+-----------------------------------------------------------------------------+\n",
      "| Processes:                                                                  |\n",
      "|  GPU   GI   CI        PID   Type   Process name                  GPU Memory |\n",
      "|        ID   ID                                                   Usage      |\n",
      "|=============================================================================|\n",
      "+-----------------------------------------------------------------------------+\n"
     ]
    }
   ],
   "source": [
    "!nvidia-smi"
   ]
  },
  {
   "cell_type": "code",
   "execution_count": 2,
   "metadata": {},
   "outputs": [],
   "source": [
    "import os\n",
    "os.environ['CUDA_VISIBLE_DEVICES'] = '2'"
   ]
  },
  {
   "cell_type": "code",
   "execution_count": 3,
   "metadata": {
    "colab": {
     "base_uri": "https://localhost:8080/"
    },
    "id": "jqXRfh9k6Dwo",
    "outputId": "a5cb801d-b223-4444-ddc1-1cd6d813f6e8"
   },
   "outputs": [],
   "source": [
    "!pip install -qq transformers\n",
    "!pip install -qq scikit-multilearn"
   ]
  },
  {
   "cell_type": "code",
   "execution_count": 4,
   "metadata": {
    "id": "Lu8TdNAy6lFb"
   },
   "outputs": [],
   "source": [
    "import random\n",
    "import numpy as np\n",
    "import nlpaug.augmenter.word as naw\n",
    "import torch\n",
    "import torch.nn.functional as F\n",
    "import torch.nn as nn\n",
    "\n",
    "from transformers import AutoTokenizer, AutoModel, get_constant_schedule_with_warmup, BertForPreTraining\n",
    "from transformers import TrainingArguments, Trainer, AutoConfig\n",
    "from torch.utils.data import TensorDataset, DataLoader, RandomSampler, SequentialSampler"
   ]
  },
  {
   "cell_type": "code",
   "execution_count": 5,
   "metadata": {
    "id": "FT1qwnumvYip"
   },
   "outputs": [],
   "source": [
    "import pandas as pd\n",
    "import re\n",
    "import numpy as np\n",
    "import warnings\n",
    "import string\n",
    "warnings.filterwarnings(\"ignore\", 'This pattern has match groups')\n",
    "import matplotlib.pyplot as plt\n",
    "import matplotlib"
   ]
  },
  {
   "cell_type": "code",
   "execution_count": 6,
   "metadata": {
    "colab": {
     "base_uri": "https://localhost:8080/"
    },
    "id": "HDwsKrIr-v_h",
    "outputId": "b2dc0161-2fc0-4951-b4c3-e30820c4103c"
   },
   "outputs": [
    {
     "data": {
      "text/plain": [
       "<torch._C.Generator at 0x7f54fc9670b0>"
      ]
     },
     "execution_count": 6,
     "metadata": {},
     "output_type": "execute_result"
    }
   ],
   "source": [
    "seed_val = 1906350912\n",
    "random.seed(seed_val)\n",
    "np.random.seed(seed_val)\n",
    "torch.manual_seed(seed_val)"
   ]
  },
  {
   "cell_type": "code",
   "execution_count": 7,
   "metadata": {
    "id": "dfvB2LBk-y8T"
   },
   "outputs": [],
   "source": [
    "if torch.cuda.is_available():\n",
    "  torch.cuda.manual_seed_all(seed_val)"
   ]
  },
  {
   "cell_type": "code",
   "execution_count": 8,
   "metadata": {
    "colab": {
     "base_uri": "https://localhost:8080/"
    },
    "id": "Y540eZ12-3PX",
    "outputId": "03fd27db-0582-4531-aee3-b86a64af742a"
   },
   "outputs": [
    {
     "name": "stdout",
     "output_type": "stream",
     "text": [
      "Tersedia sejumlah 1 GPU(s).\n",
      "GPU yang akan digunakan: A100-SXM4-40GB\n"
     ]
    }
   ],
   "source": [
    "if torch.cuda.is_available():    \n",
    "    device = torch.device(\"cuda\")\n",
    "    print('Tersedia sejumlah %d GPU(s).' % torch.cuda.device_count())\n",
    "    print('GPU yang akan digunakan:', torch.cuda.get_device_name(0))\n",
    "else:\n",
    "    print('Tidak mendukung GPU; hanya CPU')\n",
    "    device = torch.device(\"cpu\")"
   ]
  },
  {
   "cell_type": "code",
   "execution_count": 9,
   "metadata": {
    "id": "n85xtw4fvhUw"
   },
   "outputs": [],
   "source": [
    "df_train = pd.read_csv(f\"Dataset/Human_Annotated.csv\", index_col=\"ID\")\n",
    "df_train.fillna(\"\", inplace = True)\n",
    "df_test = pd.read_csv(f\"Dataset/Gold_Standard.csv\", index_col=\"ID\")\n",
    "df_test.fillna(\"\", inplace = True)\n",
    "categories = ['Anak', 'Bedah', 'Gigi', 'Gizi', 'Jantung', 'Jiwa',\n",
    "       'Kandungan', 'Kulit dan Kelamin', 'Mata', 'Paru', 'Penyakit Dalam',\n",
    "       'Saraf', 'THT', 'Tulang', 'Urologi']"
   ]
  },
  {
   "cell_type": "code",
   "execution_count": 10,
   "metadata": {},
   "outputs": [],
   "source": [
    "df_train_umumnt = df_train.drop(columns=[\"Umum\"])\n",
    "df_train_umumnt[\"COUNT CLASS\"] = df_train_umumnt.drop(columns=[\"JUDUL\", \"ISI\"]).sum(axis=1)\n",
    "df_train = df_train_umumnt[df_train_umumnt[\"COUNT CLASS\"] > 0].drop(columns=[\"COUNT CLASS\"])"
   ]
  },
  {
   "cell_type": "code",
   "execution_count": 11,
   "metadata": {},
   "outputs": [],
   "source": [
    "df_test['Count'] = df_test.drop(columns=['JUDUL', 'ISI']).values.sum(axis=1)\n",
    "df_test = df_test[df_test['Count'] <= 3].drop(columns=['Count'])"
   ]
  },
  {
   "cell_type": "code",
   "execution_count": 12,
   "metadata": {},
   "outputs": [],
   "source": [
    "df_test_umumnt = df_test.drop(columns=[\"Umum\"])\n",
    "df_test_umumnt[\"COUNT CLASS\"] = df_test_umumnt.drop(columns=[\"JUDUL\", \"ISI\"]).sum(axis=1)\n",
    "df_test = df_test_umumnt[df_test_umumnt[\"COUNT CLASS\"] > 0].drop(columns=[\"COUNT CLASS\"])"
   ]
  },
  {
   "cell_type": "code",
   "execution_count": 13,
   "metadata": {
    "id": "Ke1-zHGnzaX_"
   },
   "outputs": [],
   "source": [
    "code = ['DS', 'AD', 'DH', 'TD', 'KD']\n",
    "for i in code:\n",
    "  df_train[i] = df_train.index.map(lambda x: 1 if x[:2] == i else 0)\n",
    "\n",
    "X = df_train[['JUDUL', 'ISI']].values\n",
    "y = df_train.drop(columns=['JUDUL', 'ISI']).values\n",
    "\n",
    "from skmultilearn.model_selection import iterative_train_test_split\n",
    "X_train, y_train, X_val, y_val = iterative_train_test_split(X, y,test_size = 0.2)\n",
    "y_train = y_train[:,:-5]\n",
    "y_val = y_val[:,:-5]"
   ]
  },
  {
   "cell_type": "code",
   "execution_count": 14,
   "metadata": {
    "id": "nwKXD9Asxyop"
   },
   "outputs": [],
   "source": [
    "df_test = df_test[[\"JUDUL\", \"ISI\"] + categories]\n",
    "X_test = df_test[['JUDUL', 'ISI']].values\n",
    "y_test = df_test.drop(columns=['JUDUL', 'ISI']).values"
   ]
  },
  {
   "cell_type": "code",
   "execution_count": 15,
   "metadata": {
    "id": "rXDvGnky_6J5"
   },
   "outputs": [],
   "source": [
    "#--------------------------------\n",
    "#  Some Parameters\n",
    "#--------------------------------\n",
    "MAX_SEQ_LENGTH = 256\n",
    "BATCH_SIZE = 8\n",
    "WARMUP_PROPORTION = 0.1\n",
    "EPOCH = 100\n",
    "REGULARIZATION = 0.02\n",
    "MODEL_EPOCH = 7\n",
    "MODEL_NAME = f\"Hendrico/dapt-indobert-large-{MODEL_EPOCH}\"\n",
    "LEARNING_RATE = 1e-5\n",
    "PATH = f\"Model/dapt-indobert-large-{MODEL_EPOCH}-finetuned.pt\"\n",
    "BASE = \"indobenchmark/indobert-large-p1\""
   ]
  },
  {
   "cell_type": "code",
   "execution_count": 17,
   "metadata": {
    "colab": {
     "base_uri": "https://localhost:8080/",
     "height": 449,
     "referenced_widgets": [
      "2073b8dcf8ee4d1c87f697633cefb2d7",
      "290b804498d941419e5fcfc496860794",
      "31317a5094ac4aba94fc4e3a906cd64e",
      "3a2b9d5b439241bca6c5594e28e034de",
      "143599c854ab46368a86c5832d7cc442",
      "efee6531459d48d3944cd2cfc7ecdcc8",
      "d8772191f4394490aeb5aff707cc6175",
      "bc71c1c75e2b43549390b8893d3ed061",
      "ba3e251080a24b93a6046e6d7ff8cb5c",
      "04a419f4dda54e89b67b4fdf7df545a4",
      "887fbc5bec7b4dedafa40c0c7825da08",
      "df49fb14f1b94e13acd5026948becdf6",
      "12102861416449a5a25c9394f0c14b26",
      "bd3aa89c288d45668f2fe0a0d708cfc8",
      "a2abf61937a946bcb3797e4532c74022",
      "ad40facb8c3f4cb2825fe780f193190e",
      "40c600367a964cf78ecd442a00518a5b",
      "6433c8181f2f430683cc2123bd7150cf",
      "b5e1ca62a5d84e12b54d0d218b586ce2",
      "0e138bdc5a574e34afa47a739a67d4ac",
      "869af91e8cb64ed69a586b5865e1804a",
      "20e43ad1b9c940ef9802daefc509f37a",
      "30bcec41555a43868a7da00fda16c58a",
      "254542107d564eeca9c8ae5f9fc92bfa",
      "f13b93f49ebc40a7af91b14f986fbd0a",
      "95493abff50347148c73a43ed81beda3",
      "ed8598719f314d1b998be608e5fa1b44",
      "8b4ecc3e15434844a81eb854287dfe06",
      "7f40d47bd4b84478b0316aa52f8dc664",
      "96b818dd75274b39b8ac9b92aba7fe2b",
      "92f55df24dc74aeaa995b51de23a354f",
      "a3748f6b95ac47e69cf5b06d9a7ce23a",
      "79b5b2951d754d88bee6238513a086d4",
      "dcc96f1bbe6e43f29cc02a88373989e9",
      "05a4b7cf84cc48e19e32b69886d2b458",
      "3f6e9886b4cc4bb0bc79e29029f5e466",
      "e7115a8750ff49a49eeda83dcfa98e50",
      "9d17a2913c1242dea25483ad56c0c893",
      "544d0df5a4a647b9b6b0b8c6bdb26cb6",
      "2f37e0b9395b492f9d73b3d095a70bd9",
      "b152d11ce2a64b51a34884291bbc8b1b",
      "88da52c9ddca4bbf91113ef4d1793f07",
      "32a7e3f6a6894c3c8263d8d398fe61bb",
      "9b90900013144a658ab4db2401caa3f2",
      "40445df68e4841d7ba23de17b6a66adb",
      "7485131aa1b342f9808462ad6efeba93",
      "8d89748e23974b369603a51650dd0c08",
      "693f3f5db2c44c9bbb24e8c9ccbe94cf",
      "ad952bdd65c04588bd921f33110e28f8",
      "59e96c71bc3744f68cb4c66b11188da7",
      "39bbe92530594a828c691d3df28055f9",
      "32ca4f6aa77645f19865f1c6484e6c90",
      "7bff898d9e0444bf95f17ce0338a20e6",
      "614a80ae332042ac8940c78d5fda5a76",
      "381f4c9c261c4af2be406b31f7d56537",
      "a1a28e3d4061419fb1d4194c0801124d",
      "537c4c816876433fbc98cbc3a1fd1818",
      "e71018e6db294d438d0d39f0c1d3ec18",
      "668d076b9d27407881a67924a0646ca1",
      "fe87e9d0bc4846c0b16d4a824d9ada8b",
      "6ed9d0415f78452dbad942fcdca14418",
      "7f58f0dfa3094b6dbfbf4c597faf8a0c",
      "06776b06b38b40e3a1564574a3f1a9a1",
      "b6104933f86f4350a80851e8887d6c00",
      "f842604d51204c31956f68421c7a2d4f",
      "a5c9d1ed3e684d3dac00da66fea9d82f"
     ]
    },
    "id": "4-UMQSlCF6v0",
    "outputId": "37e8fc1c-4a92-4ba9-f8e0-4608c214e988"
   },
   "outputs": [],
   "source": [
    "tokenizer = AutoTokenizer.from_pretrained(MODEL_NAME)"
   ]
  },
  {
   "cell_type": "code",
   "execution_count": 18,
   "metadata": {
    "id": "ELEqFOfUNvVY"
   },
   "outputs": [],
   "source": [
    "categories = ['Anak', 'Bedah', 'Gigi', 'Gizi', 'Jantung', 'Jiwa',\n",
    "       'Kandungan', 'Kulit dan Kelamin', 'Mata', 'Paru', 'Penyakit Dalam',\n",
    "       'Saraf', 'THT', 'Tulang', 'Urologi']\n",
    "label2idx = {k: v for v, k in enumerate(categories)}\n",
    "idx2label = {v: k for v, k in enumerate(categories)}"
   ]
  },
  {
   "cell_type": "code",
   "execution_count": 19,
   "metadata": {
    "id": "snFlAEIcyyws"
   },
   "outputs": [],
   "source": [
    "def create_data_loader(x, y):\n",
    "  input_ids = []\n",
    "  input_att_mask = []\n",
    "  input_label = []\n",
    "  for instance, label in zip(x, y):\n",
    "    encoded_sent = tokenizer.encode(instance, \\\n",
    "                                  add_special_tokens = True, \\\n",
    "                                  max_length = MAX_SEQ_LENGTH, \\\n",
    "                                  padding = \"max_length\", \\\n",
    "                                  truncation = True)\n",
    "    input_ids.append(encoded_sent)\n",
    "    input_att_mask.append([int(token_id > 0) for token_id in encoded_sent])\n",
    "    input_label.append(label)\n",
    "  \n",
    "  # ubah ke Torch's Tensor\n",
    "  input_ids = torch.tensor(input_ids)\n",
    "  input_att_mask = torch.tensor(input_att_mask)\n",
    "  input_label = torch.tensor(input_label)\n",
    "\n",
    "  # gunakan Torch's Dataset\n",
    "  dataset = TensorDataset(input_ids, input_att_mask, input_label)\n",
    "\n",
    "  # mengembalikan sebuah abstraksi DataLoader dari Torch\n",
    "  return DataLoader(dataset,\n",
    "#                     sampler = SequentialSampler(dataset), \n",
    "                    sampler = RandomSampler(dataset), \n",
    "                    batch_size = BATCH_SIZE)"
   ]
  },
  {
   "cell_type": "code",
   "execution_count": 20,
   "metadata": {
    "id": "rdjBimWx1vYK"
   },
   "outputs": [
    {
     "name": "stderr",
     "output_type": "stream",
     "text": [
      "/tmp/ipykernel_209735/1514995109.py:18: UserWarning: Creating a tensor from a list of numpy.ndarrays is extremely slow. Please consider converting the list to a single numpy.ndarray with numpy.array() before converting to a tensor. (Triggered internally at  /opt/pytorch/pytorch/torch/csrc/utils/tensor_new.cpp:207.)\n",
      "  input_label = torch.tensor(input_label)\n"
     ]
    }
   ],
   "source": [
    "train_instances = create_data_loader(X_train, y_train)\n",
    "valid_instances = create_data_loader(X_val, y_val)\n",
    "test_instances = create_data_loader(X_test, y_test)\n",
    "dataset = {\"Train\" : train_instances, \"Val\" : valid_instances, \"Test\" : test_instances}"
   ]
  },
  {
   "cell_type": "code",
   "execution_count": 21,
   "metadata": {
    "id": "3TPyFazD4YqC"
   },
   "outputs": [],
   "source": [
    "# Classifier adalah layer on top of BERT yang digunakan untuk klasifikasi\n",
    "# inputnya adalah vektor CLS dari BERT\n",
    "class Classifier(nn.Module):\n",
    "    def __init__(self, input_size = 512, output_size = 3, dropout_rate = 0.1):\n",
    "        super(Classifier, self).__init__()\n",
    "        layers = []\n",
    "        layers.append(nn.Linear(input_size, output_size))\n",
    "        layers.append(nn.LeakyReLU(0.2, inplace = True))\n",
    "        layers.append(nn.Dropout(dropout_rate))\n",
    "        layers.append(nn.Sigmoid())\n",
    "        self.layers = nn.Sequential(*layers)\n",
    "\n",
    "    def forward(self, input):\n",
    "        return self.layers(input)\n"
   ]
  },
  {
   "cell_type": "code",
   "execution_count": 22,
   "metadata": {
    "colab": {
     "base_uri": "https://localhost:8080/"
    },
    "id": "Lqv1fBk0jh2w",
    "outputId": "9f32ebba-7edd-4d43-8986-509fe6c7b833"
   },
   "outputs": [
    {
     "name": "stderr",
     "output_type": "stream",
     "text": [
      "Some weights of the model checkpoint at Hendrico/cpt-indobert-large-8 were not used when initializing BertModel: ['cls.predictions.bias', 'cls.predictions.transform.dense.bias', 'cls.predictions.transform.dense.weight', 'cls.predictions.transform.LayerNorm.bias', 'cls.predictions.transform.LayerNorm.weight', 'cls.predictions.decoder.weight', 'cls.seq_relationship.weight', 'cls.predictions.decoder.bias', 'cls.seq_relationship.bias']\n",
      "- This IS expected if you are initializing BertModel from the checkpoint of a model trained on another task or with another architecture (e.g. initializing a BertForSequenceClassification model from a BertForPreTraining model).\n",
      "- This IS NOT expected if you are initializing BertModel from the checkpoint of a model that you expect to be exactly identical (initializing a BertForSequenceClassification model from a BertForSequenceClassification model).\n"
     ]
    }
   ],
   "source": [
    "transformer = None\n",
    "classifier = None\n",
    "def create_model(transformer, classifier):\n",
    "  if classifier != None:\n",
    "    del transformer, classifier\n",
    "    torch.cuda.empty_cache()\n",
    "  config = AutoConfig.from_pretrained(MODEL_NAME)\n",
    "  transformer = AutoModel.from_pretrained(MODEL_NAME)\n",
    "  classifier = Classifier(input_size = config.hidden_size, output_size = len(categories))\n",
    "  if torch.cuda.is_available():    \n",
    "    classifier.cuda()\n",
    "    transformer.cuda()\n",
    "  return transformer, classifier\n",
    "transformer, classifier = create_model(transformer, classifier)"
   ]
  },
  {
   "cell_type": "code",
   "execution_count": 23,
   "metadata": {
    "id": "siSMVaiMGGeG"
   },
   "outputs": [],
   "source": [
    "def get_param(model, cls):\n",
    "    model_vars = [p for p in model.parameters()]\n",
    "    cls_vars = [p for p in cls.parameters()]\n",
    "    return model_vars + cls_vars"
   ]
  },
  {
   "cell_type": "code",
   "execution_count": 25,
   "metadata": {
    "id": "JcC8nfcNJlB7"
   },
   "outputs": [],
   "source": [
    "# training\n",
    "from tqdm import tqdm\n",
    "from time import sleep\n",
    "import copy\n",
    "from sklearn.metrics import classification_report, accuracy_score, recall_score, precision_score\n",
    "\n",
    "def train_model(model, cls, optimizer, scheduler, num_epochs=25, last_epoch=0, last_acc=0):\n",
    "\n",
    "  best_acc = last_acc\n",
    "  max_epoch = last_epoch + num_epochs\n",
    "  loss = torch.tensor([0])\n",
    "  for epoch_i in range(last_epoch, max_epoch):\n",
    "    print(f\"Epoch {epoch_i + 1} / {max_epoch}\")\n",
    "    pred_labels = []\n",
    "    true_labels = []\n",
    "    \n",
    "    if np.isnan(loss.item()):\n",
    "        break\n",
    "        \n",
    "    for phase in [\"Train\", \"Val\"]:\n",
    "      instance = dataset[phase]\n",
    "      if phase == \"Train\":\n",
    "        model.train()\n",
    "        cls.train()\n",
    "      else:\n",
    "        model.eval()\n",
    "        cls.eval()\n",
    "      # Reset the total loss for this epoch.\n",
    "      loss_track = 0\n",
    "      \n",
    "      # Untuk setiap batch di training data\n",
    "      pbar = tqdm(enumerate(instance), desc=phase, total=len(instance))\n",
    "      for step, batch in pbar:\n",
    "\n",
    "        batch_input_ids = batch[0].to(device)\n",
    "        batch_input_att_mask = batch[1].to(device)\n",
    "        batch_label = batch[2].to(device)\n",
    "\n",
    "        if phase == \"Train\":\n",
    "            # Encode real data in the Transformer\n",
    "            bert_outputs = transformer(batch_input_ids, attention_mask = batch_input_att_mask)\n",
    "            cls_hidden_states = bert_outputs.pooler_output\n",
    "            probs = classifier(cls_hidden_states)\n",
    "\n",
    "            # Categorical Cross-Entropy\n",
    "            loss = -torch.mean(torch.sum(batch_label * torch.log(probs) + (1 - batch_label) * torch.log(1 - probs), dim = 1))\n",
    "            \n",
    "            loss.to(device)\n",
    "            optimizer.zero_grad()\n",
    "            loss.backward()\n",
    "            optimizer.step()\n",
    "            loss_track += loss.item()\n",
    "            scheduler.step()\n",
    "            \n",
    "\n",
    "        elif phase == \"Val\":\n",
    "            with torch.no_grad(): \n",
    "                bert_outputs = transformer(batch_input_ids, attention_mask = batch_input_att_mask)\n",
    "                cls_hidden_states = bert_outputs.pooler_output\n",
    "                probs = classifier(cls_hidden_states)\n",
    "\n",
    "                # Categorical Cross-Entropy\n",
    "                loss = -torch.mean(torch.sum(batch_label * torch.log(probs) + (1 - batch_label) * torch.log(1 - probs), dim = 1))\n",
    "\n",
    "                # akumulasi loss di validation set\n",
    "                loss_track += loss.item()\n",
    "            pred_l = []\n",
    "            for prob in probs:\n",
    "                pred = [1 if x >= 0.5 else 0 for x in prob]\n",
    "                if (np.sum(pred) == 0):\n",
    "                    _, idx = torch.max(prob, dim = 0)\n",
    "                    pred[idx] = 1\n",
    "                pred_l.append(pred)\n",
    "            pred_labels += pred_l\n",
    "            true_l = batch_label\n",
    "            true_labels += true_l.detach().cpu()\n",
    "\n",
    "        # pbar.set_description(f\"Average loss : {(loss_track / len(instance)):.2f}\")\n",
    "        pbar.set_postfix(loss = str(f'{(loss_track / len(instance)):.2f}'))\n",
    "        sleep(0.1)\n",
    "\n",
    "  # accuracy\n",
    "    pred_labels = np.array(pred_labels)\n",
    "    true_labels = torch.stack(true_labels).numpy()\n",
    "    val_accuracy = accuracy_score(true_labels, pred_labels)\n",
    "    val_precision = precision_score(true_labels, pred_labels, average='micro')\n",
    "    val_recall = recall_score(true_labels, pred_labels, average='micro')\n",
    "    print(f\"Accuracy: {val_accuracy}, Precision (micro): {val_precision}, Recall (micro): {val_recall}\")\n",
    "\n",
    "    if (val_accuracy > best_acc):\n",
    "      \n",
    "      torch.save({\n",
    "                  'best_model_sd' : model.state_dict(),\n",
    "                  'best_cls_sd' : cls.state_dict(),\n",
    "                  'best_optimizer_sd' : optimizer.state_dict(),\n",
    "                  'best_scheduler_sd' : scheduler.state_dict(),\n",
    "                  'best_epoch' : epoch_i,\n",
    "                  'best_acc' : val_accuracy\n",
    "                  }, PATH)\n",
    "      best_acc = val_accuracy\n",
    "\n",
    "  checkpoint = torch.load(PATH)\n",
    "  model.load_state_dict(checkpoint['best_model_sd'])\n",
    "  cls.load_state_dict(checkpoint['best_cls_sd'])\n",
    "  optimizer.load_state_dict(checkpoint['best_optimizer_sd'])\n",
    "  scheduler.load_state_dict(checkpoint['best_scheduler_sd'])\n",
    "  best_epoch = checkpoint['best_epoch']\n",
    "  best_acc = checkpoint['best_acc']\n",
    "  return {'model' : model, 'cls' : cls, 'optim' : optimizer, \n",
    "          'scheduler' : scheduler, 'best_acc' : best_acc, \"best_epoch\" : best_epoch}  "
   ]
  },
  {
   "cell_type": "code",
   "execution_count": 29,
   "metadata": {
    "colab": {
     "base_uri": "https://localhost:8080/",
     "height": 730
    },
    "collapsed": true,
    "id": "woa_BvnwkxKJ",
    "outputId": "9204af72-6851-41c9-875d-376a8689e119"
   },
   "outputs": [
    {
     "name": "stderr",
     "output_type": "stream",
     "text": [
      "Some weights of the model checkpoint at Hendrico/cpt-indobert-large-6 were not used when initializing BertModel: ['cls.predictions.bias', 'cls.predictions.transform.dense.weight', 'cls.predictions.transform.LayerNorm.bias', 'cls.predictions.transform.LayerNorm.weight', 'cls.predictions.decoder.bias', 'cls.predictions.transform.dense.bias', 'cls.predictions.decoder.weight', 'cls.seq_relationship.weight', 'cls.seq_relationship.bias']\n",
      "- This IS expected if you are initializing BertModel from the checkpoint of a model trained on another task or with another architecture (e.g. initializing a BertForSequenceClassification model from a BertForPreTraining model).\n",
      "- This IS NOT expected if you are initializing BertModel from the checkpoint of a model that you expect to be exactly identical (initializing a BertForSequenceClassification model from a BertForSequenceClassification model).\n"
     ]
    },
    {
     "name": "stdout",
     "output_type": "stream",
     "text": [
      "Epoch 1 / 100\n"
     ]
    },
    {
     "name": "stderr",
     "output_type": "stream",
     "text": [
      "Train: 100%|██████████| 156/156 [00:34<00:00,  4.53it/s, loss=8.35]\n",
      "Val: 100%|██████████| 40/40 [00:05<00:00,  7.30it/s, loss=6.88]\n",
      "/opt/conda/lib/python3.8/site-packages/sklearn/metrics/_classification.py:1221: UndefinedMetricWarning: Precision is ill-defined and being set to 0.0 in labels with no predicted samples. Use `zero_division` parameter to control this behavior.\n",
      "  _warn_prf(average, modifier, msg_start, len(result))\n"
     ]
    },
    {
     "name": "stdout",
     "output_type": "stream",
     "text": [
      "Accuracy: 0.16293929712460065, Precision (macro): 0.012992545260915868, Recall (macro): 0.06666666666666667\n",
      "Epoch 2 / 100\n"
     ]
    },
    {
     "name": "stderr",
     "output_type": "stream",
     "text": [
      "Train: 100%|██████████| 156/156 [00:33<00:00,  4.64it/s, loss=6.48]\n",
      "Val: 100%|██████████| 40/40 [00:05<00:00,  7.30it/s, loss=5.82]\n"
     ]
    },
    {
     "name": "stdout",
     "output_type": "stream",
     "text": [
      "Accuracy: 0.16293929712460065, Precision (macro): 0.012992545260915868, Recall (macro): 0.06666666666666667\n",
      "Epoch 3 / 100\n"
     ]
    },
    {
     "name": "stderr",
     "output_type": "stream",
     "text": [
      "Train: 100%|██████████| 156/156 [00:33<00:00,  4.64it/s, loss=5.75]\n",
      "Val: 100%|██████████| 40/40 [00:05<00:00,  7.33it/s, loss=5.20]\n"
     ]
    },
    {
     "name": "stdout",
     "output_type": "stream",
     "text": [
      "Accuracy: 0.16293929712460065, Precision (macro): 0.012992545260915868, Recall (macro): 0.06666666666666667\n",
      "Epoch 4 / 100\n"
     ]
    },
    {
     "name": "stderr",
     "output_type": "stream",
     "text": [
      "Train: 100%|██████████| 156/156 [00:33<00:00,  4.64it/s, loss=5.33]\n",
      "Val: 100%|██████████| 40/40 [00:05<00:00,  7.29it/s, loss=4.81]\n"
     ]
    },
    {
     "name": "stdout",
     "output_type": "stream",
     "text": [
      "Accuracy: 0.16293929712460065, Precision (macro): 0.012992545260915868, Recall (macro): 0.06666666666666667\n",
      "Epoch 5 / 100\n"
     ]
    },
    {
     "name": "stderr",
     "output_type": "stream",
     "text": [
      "Train: 100%|██████████| 156/156 [00:33<00:00,  4.64it/s, loss=5.05]\n",
      "Val: 100%|██████████| 40/40 [00:05<00:00,  7.29it/s, loss=4.53]\n"
     ]
    },
    {
     "name": "stdout",
     "output_type": "stream",
     "text": [
      "Accuracy: 0.16293929712460065, Precision (macro): 0.012992545260915868, Recall (macro): 0.06666666666666667\n",
      "Epoch 6 / 100\n"
     ]
    },
    {
     "name": "stderr",
     "output_type": "stream",
     "text": [
      "Train: 100%|██████████| 156/156 [00:33<00:00,  4.64it/s, loss=4.87]\n",
      "Val: 100%|██████████| 40/40 [00:05<00:00,  7.31it/s, loss=4.35]\n"
     ]
    },
    {
     "name": "stdout",
     "output_type": "stream",
     "text": [
      "Accuracy: 0.16293929712460065, Precision (macro): 0.012992545260915868, Recall (macro): 0.06666666666666667\n",
      "Epoch 7 / 100\n"
     ]
    },
    {
     "name": "stderr",
     "output_type": "stream",
     "text": [
      "Train: 100%|██████████| 156/156 [00:33<00:00,  4.64it/s, loss=4.76]\n",
      "Val: 100%|██████████| 40/40 [00:05<00:00,  7.31it/s, loss=4.21]\n"
     ]
    },
    {
     "name": "stdout",
     "output_type": "stream",
     "text": [
      "Accuracy: 0.16293929712460065, Precision (macro): 0.012992545260915868, Recall (macro): 0.06666666666666667\n",
      "Epoch 8 / 100\n"
     ]
    },
    {
     "name": "stderr",
     "output_type": "stream",
     "text": [
      "Train: 100%|██████████| 156/156 [00:33<00:00,  4.63it/s, loss=4.66]\n",
      "Val: 100%|██████████| 40/40 [00:05<00:00,  7.29it/s, loss=4.10]\n"
     ]
    },
    {
     "name": "stdout",
     "output_type": "stream",
     "text": [
      "Accuracy: 0.16293929712460065, Precision (macro): 0.012992545260915868, Recall (macro): 0.06666666666666667\n",
      "Epoch 9 / 100\n"
     ]
    },
    {
     "name": "stderr",
     "output_type": "stream",
     "text": [
      "Train: 100%|██████████| 156/156 [00:33<00:00,  4.63it/s, loss=4.60]\n",
      "Val: 100%|██████████| 40/40 [00:05<00:00,  7.30it/s, loss=4.02]\n"
     ]
    },
    {
     "name": "stdout",
     "output_type": "stream",
     "text": [
      "Accuracy: 0.16293929712460065, Precision (macro): 0.012992545260915868, Recall (macro): 0.06666666666666667\n",
      "Epoch 10 / 100\n"
     ]
    },
    {
     "name": "stderr",
     "output_type": "stream",
     "text": [
      "Train: 100%|██████████| 156/156 [00:33<00:00,  4.63it/s, loss=4.49]\n",
      "Val: 100%|██████████| 40/40 [00:05<00:00,  7.32it/s, loss=3.98]\n"
     ]
    },
    {
     "name": "stdout",
     "output_type": "stream",
     "text": [
      "Accuracy: 0.16293929712460065, Precision (macro): 0.012992545260915868, Recall (macro): 0.06666666666666667\n",
      "Epoch 11 / 100\n"
     ]
    },
    {
     "name": "stderr",
     "output_type": "stream",
     "text": [
      "Train: 100%|██████████| 156/156 [00:33<00:00,  4.64it/s, loss=4.55]\n",
      "Val: 100%|██████████| 40/40 [00:05<00:00,  7.31it/s, loss=3.94]\n"
     ]
    },
    {
     "name": "stdout",
     "output_type": "stream",
     "text": [
      "Accuracy: 0.16293929712460065, Precision (macro): 0.012992545260915868, Recall (macro): 0.06666666666666667\n",
      "Epoch 12 / 100\n"
     ]
    },
    {
     "name": "stderr",
     "output_type": "stream",
     "text": [
      "Train: 100%|██████████| 156/156 [00:33<00:00,  4.64it/s, loss=4.49]\n",
      "Val: 100%|██████████| 40/40 [00:05<00:00,  7.28it/s, loss=3.89]\n"
     ]
    },
    {
     "name": "stdout",
     "output_type": "stream",
     "text": [
      "Accuracy: 0.16293929712460065, Precision (macro): 0.012992545260915868, Recall (macro): 0.06666666666666667\n",
      "Epoch 13 / 100\n"
     ]
    },
    {
     "name": "stderr",
     "output_type": "stream",
     "text": [
      "Train: 100%|██████████| 156/156 [00:33<00:00,  4.65it/s, loss=4.56]\n",
      "Val: 100%|██████████| 40/40 [00:05<00:00,  7.30it/s, loss=3.87]\n"
     ]
    },
    {
     "name": "stdout",
     "output_type": "stream",
     "text": [
      "Accuracy: 0.16293929712460065, Precision (macro): 0.012992545260915868, Recall (macro): 0.06666666666666667\n",
      "Epoch 14 / 100\n"
     ]
    },
    {
     "name": "stderr",
     "output_type": "stream",
     "text": [
      "Train: 100%|██████████| 156/156 [00:33<00:00,  4.64it/s, loss=4.54]\n",
      "Val: 100%|██████████| 40/40 [00:05<00:00,  7.31it/s, loss=3.90]\n"
     ]
    },
    {
     "name": "stdout",
     "output_type": "stream",
     "text": [
      "Accuracy: 0.16293929712460065, Precision (macro): 0.012992545260915868, Recall (macro): 0.06666666666666667\n",
      "Epoch 15 / 100\n"
     ]
    },
    {
     "name": "stderr",
     "output_type": "stream",
     "text": [
      "Train: 100%|██████████| 156/156 [00:33<00:00,  4.64it/s, loss=4.46]\n",
      "Val: 100%|██████████| 40/40 [00:05<00:00,  7.30it/s, loss=3.88]\n"
     ]
    },
    {
     "name": "stdout",
     "output_type": "stream",
     "text": [
      "Accuracy: 0.16293929712460065, Precision (macro): 0.012992545260915868, Recall (macro): 0.06666666666666667\n",
      "Epoch 16 / 100\n"
     ]
    },
    {
     "name": "stderr",
     "output_type": "stream",
     "text": [
      "Train: 100%|██████████| 156/156 [00:33<00:00,  4.65it/s, loss=4.50]\n",
      "Val: 100%|██████████| 40/40 [00:05<00:00,  7.30it/s, loss=3.81]\n"
     ]
    },
    {
     "name": "stdout",
     "output_type": "stream",
     "text": [
      "Accuracy: 0.16293929712460065, Precision (macro): 0.012992545260915868, Recall (macro): 0.06666666666666667\n",
      "Epoch 17 / 100\n"
     ]
    },
    {
     "name": "stderr",
     "output_type": "stream",
     "text": [
      "Train: 100%|██████████| 156/156 [00:33<00:00,  4.65it/s, loss=4.47]\n",
      "Val: 100%|██████████| 40/40 [00:05<00:00,  7.31it/s, loss=3.79]\n"
     ]
    },
    {
     "name": "stdout",
     "output_type": "stream",
     "text": [
      "Accuracy: 0.16293929712460065, Precision (macro): 0.012992545260915868, Recall (macro): 0.06666666666666667\n",
      "Epoch 18 / 100\n"
     ]
    },
    {
     "name": "stderr",
     "output_type": "stream",
     "text": [
      "Train: 100%|██████████| 156/156 [00:33<00:00,  4.65it/s, loss=4.43]\n",
      "Val: 100%|██████████| 40/40 [00:05<00:00,  7.31it/s, loss=3.85]\n"
     ]
    },
    {
     "name": "stdout",
     "output_type": "stream",
     "text": [
      "Accuracy: 0.22044728434504793, Precision (macro): 0.047312130593864334, Recall (macro): 0.0981874106867299\n",
      "Epoch 19 / 100\n"
     ]
    },
    {
     "name": "stderr",
     "output_type": "stream",
     "text": [
      "Train: 100%|██████████| 156/156 [00:33<00:00,  4.64it/s, loss=4.39]\n",
      "Val: 100%|██████████| 40/40 [00:05<00:00,  7.30it/s, loss=3.76]\n"
     ]
    },
    {
     "name": "stdout",
     "output_type": "stream",
     "text": [
      "Accuracy: 0.24600638977635783, Precision (macro): 0.055096116071725834, Recall (macro): 0.10826882029975544\n",
      "Epoch 20 / 100\n"
     ]
    },
    {
     "name": "stderr",
     "output_type": "stream",
     "text": [
      "Train: 100%|██████████| 156/156 [00:33<00:00,  4.64it/s, loss=4.37]\n",
      "Val: 100%|██████████| 40/40 [00:05<00:00,  7.31it/s, loss=3.80]\n"
     ]
    },
    {
     "name": "stdout",
     "output_type": "stream",
     "text": [
      "Accuracy: 0.26198083067092653, Precision (macro): 0.0711628024622375, Recall (macro): 0.12531426600377094\n",
      "Epoch 21 / 100\n"
     ]
    },
    {
     "name": "stderr",
     "output_type": "stream",
     "text": [
      "Train: 100%|██████████| 156/156 [00:33<00:00,  4.65it/s, loss=4.25]\n",
      "Val: 100%|██████████| 40/40 [00:05<00:00,  7.32it/s, loss=3.69]\n"
     ]
    },
    {
     "name": "stdout",
     "output_type": "stream",
     "text": [
      "Accuracy: 0.3035143769968051, Precision (macro): 0.07388439504547191, Recall (macro): 0.14768518158311744\n",
      "Epoch 22 / 100\n"
     ]
    },
    {
     "name": "stderr",
     "output_type": "stream",
     "text": [
      "Train: 100%|██████████| 156/156 [00:33<00:00,  4.64it/s, loss=4.21]\n",
      "Val: 100%|██████████| 40/40 [00:05<00:00,  7.30it/s, loss=3.61]\n"
     ]
    },
    {
     "name": "stdout",
     "output_type": "stream",
     "text": [
      "Accuracy: 0.3610223642172524, Precision (macro): 0.1480522713789304, Recall (macro): 0.17410336959381126\n",
      "Epoch 23 / 100\n"
     ]
    },
    {
     "name": "stderr",
     "output_type": "stream",
     "text": [
      "Train: 100%|██████████| 156/156 [00:33<00:00,  4.64it/s, loss=4.08]\n",
      "Val: 100%|██████████| 40/40 [00:05<00:00,  7.33it/s, loss=3.47]\n"
     ]
    },
    {
     "name": "stdout",
     "output_type": "stream",
     "text": [
      "Accuracy: 0.3801916932907348, Precision (macro): 0.13107224871930753, Recall (macro): 0.1917460046429057\n",
      "Epoch 24 / 100\n"
     ]
    },
    {
     "name": "stderr",
     "output_type": "stream",
     "text": [
      "Train: 100%|██████████| 156/156 [00:33<00:00,  4.64it/s, loss=3.98]\n",
      "Val: 100%|██████████| 40/40 [00:05<00:00,  7.32it/s, loss=3.40]\n"
     ]
    },
    {
     "name": "stdout",
     "output_type": "stream",
     "text": [
      "Accuracy: 0.40894568690095845, Precision (macro): 0.14399502695367575, Recall (macro): 0.21890724821937718\n",
      "Epoch 25 / 100\n"
     ]
    },
    {
     "name": "stderr",
     "output_type": "stream",
     "text": [
      "Train: 100%|██████████| 156/156 [00:33<00:00,  4.64it/s, loss=3.88]\n",
      "Val: 100%|██████████| 40/40 [00:05<00:00,  7.18it/s, loss=3.32]\n"
     ]
    },
    {
     "name": "stdout",
     "output_type": "stream",
     "text": [
      "Accuracy: 0.46325878594249204, Precision (macro): 0.2222081449206693, Recall (macro): 0.26659235619179317\n",
      "Epoch 26 / 100\n"
     ]
    },
    {
     "name": "stderr",
     "output_type": "stream",
     "text": [
      "Train: 100%|██████████| 156/156 [00:33<00:00,  4.64it/s, loss=3.70]\n",
      "Val: 100%|██████████| 40/40 [00:05<00:00,  7.29it/s, loss=3.24]\n"
     ]
    },
    {
     "name": "stdout",
     "output_type": "stream",
     "text": [
      "Accuracy: 0.49201277955271566, Precision (macro): 0.24160083120879852, Recall (macro): 0.28424550061290504\n",
      "Epoch 27 / 100\n"
     ]
    },
    {
     "name": "stderr",
     "output_type": "stream",
     "text": [
      "Train: 100%|██████████| 156/156 [00:33<00:00,  4.64it/s, loss=3.66]\n",
      "Val: 100%|██████████| 40/40 [00:05<00:00,  7.29it/s, loss=3.17]\n"
     ]
    },
    {
     "name": "stdout",
     "output_type": "stream",
     "text": [
      "Accuracy: 0.476038338658147, Precision (macro): 0.2401090918876738, Recall (macro): 0.27768273302421925\n",
      "Epoch 28 / 100\n"
     ]
    },
    {
     "name": "stderr",
     "output_type": "stream",
     "text": [
      "Train: 100%|██████████| 156/156 [00:33<00:00,  4.64it/s, loss=3.49]\n",
      "Val: 100%|██████████| 40/40 [00:05<00:00,  7.32it/s, loss=3.02]\n"
     ]
    },
    {
     "name": "stdout",
     "output_type": "stream",
     "text": [
      "Accuracy: 0.49201277955271566, Precision (macro): 0.26136026936026935, Recall (macro): 0.2905294375018749\n",
      "Epoch 29 / 100\n"
     ]
    },
    {
     "name": "stderr",
     "output_type": "stream",
     "text": [
      "Train: 100%|██████████| 156/156 [00:33<00:00,  4.64it/s, loss=3.36]\n",
      "Val: 100%|██████████| 40/40 [00:05<00:00,  7.28it/s, loss=2.98]\n"
     ]
    },
    {
     "name": "stdout",
     "output_type": "stream",
     "text": [
      "Accuracy: 0.5175718849840255, Precision (macro): 0.29433988373045117, Recall (macro): 0.31862960863005557\n",
      "Epoch 30 / 100\n"
     ]
    },
    {
     "name": "stderr",
     "output_type": "stream",
     "text": [
      "Train: 100%|██████████| 156/156 [00:33<00:00,  4.64it/s, loss=3.34]\n",
      "Val: 100%|██████████| 40/40 [00:05<00:00,  7.33it/s, loss=2.93]\n"
     ]
    },
    {
     "name": "stdout",
     "output_type": "stream",
     "text": [
      "Accuracy: 0.5623003194888179, Precision (macro): 0.3785712638216507, Recall (macro): 0.35572628510048193\n",
      "Epoch 31 / 100\n"
     ]
    },
    {
     "name": "stderr",
     "output_type": "stream",
     "text": [
      "Train: 100%|██████████| 156/156 [00:33<00:00,  4.64it/s, loss=3.29]\n",
      "Val: 100%|██████████| 40/40 [00:05<00:00,  7.29it/s, loss=2.82]\n"
     ]
    },
    {
     "name": "stdout",
     "output_type": "stream",
     "text": [
      "Accuracy: 0.5750798722044729, Precision (macro): 0.33791189685008427, Recall (macro): 0.3534983868421318\n",
      "Epoch 32 / 100\n"
     ]
    },
    {
     "name": "stderr",
     "output_type": "stream",
     "text": [
      "Train: 100%|██████████| 156/156 [00:33<00:00,  4.64it/s, loss=3.10]\n",
      "Val: 100%|██████████| 40/40 [00:05<00:00,  7.31it/s, loss=2.78]\n"
     ]
    },
    {
     "name": "stdout",
     "output_type": "stream",
     "text": [
      "Accuracy: 0.5846645367412141, Precision (macro): 0.3847726991783474, Recall (macro): 0.38878909326658206\n",
      "Epoch 33 / 100\n"
     ]
    },
    {
     "name": "stderr",
     "output_type": "stream",
     "text": [
      "Train: 100%|██████████| 156/156 [00:33<00:00,  4.64it/s, loss=3.09]\n",
      "Val: 100%|██████████| 40/40 [00:05<00:00,  7.32it/s, loss=2.71]\n"
     ]
    },
    {
     "name": "stdout",
     "output_type": "stream",
     "text": [
      "Accuracy: 0.5623003194888179, Precision (macro): 0.357429431282871, Recall (macro): 0.3833125709694157\n",
      "Epoch 34 / 100\n"
     ]
    },
    {
     "name": "stderr",
     "output_type": "stream",
     "text": [
      "Train: 100%|██████████| 156/156 [00:33<00:00,  4.65it/s, loss=2.99]\n",
      "Val: 100%|██████████| 40/40 [00:05<00:00,  7.34it/s, loss=2.80]\n"
     ]
    },
    {
     "name": "stdout",
     "output_type": "stream",
     "text": [
      "Accuracy: 0.5527156549520766, Precision (macro): 0.3782109140951568, Recall (macro): 0.38880887539169046\n",
      "Epoch 35 / 100\n"
     ]
    },
    {
     "name": "stderr",
     "output_type": "stream",
     "text": [
      "Train: 100%|██████████| 156/156 [00:33<00:00,  4.65it/s, loss=2.99]\n",
      "Val: 100%|██████████| 40/40 [00:05<00:00,  7.31it/s, loss=2.72]\n"
     ]
    },
    {
     "name": "stdout",
     "output_type": "stream",
     "text": [
      "Accuracy: 0.5814696485623003, Precision (macro): 0.3910607184960633, Recall (macro): 0.3979394242255704\n",
      "Epoch 36 / 100\n"
     ]
    },
    {
     "name": "stderr",
     "output_type": "stream",
     "text": [
      "Train: 100%|██████████| 156/156 [00:33<00:00,  4.65it/s, loss=2.96]\n",
      "Val: 100%|██████████| 40/40 [00:05<00:00,  7.32it/s, loss=2.67]\n"
     ]
    },
    {
     "name": "stdout",
     "output_type": "stream",
     "text": [
      "Accuracy: 0.5846645367412141, Precision (macro): 0.4104450204324154, Recall (macro): 0.40424136171324576\n",
      "Epoch 37 / 100\n"
     ]
    },
    {
     "name": "stderr",
     "output_type": "stream",
     "text": [
      "Train: 100%|██████████| 156/156 [00:33<00:00,  4.65it/s, loss=2.87]\n",
      "Val: 100%|██████████| 40/40 [00:05<00:00,  7.33it/s, loss=2.52]\n"
     ]
    },
    {
     "name": "stdout",
     "output_type": "stream",
     "text": [
      "Accuracy: 0.6134185303514377, Precision (macro): 0.4180752728305296, Recall (macro): 0.4247799267314445\n",
      "Epoch 38 / 100\n"
     ]
    },
    {
     "name": "stderr",
     "output_type": "stream",
     "text": [
      "Train: 100%|██████████| 156/156 [00:33<00:00,  4.64it/s, loss=2.77]\n",
      "Val: 100%|██████████| 40/40 [00:05<00:00,  7.33it/s, loss=2.60]\n"
     ]
    },
    {
     "name": "stdout",
     "output_type": "stream",
     "text": [
      "Accuracy: 0.6166134185303515, Precision (macro): 0.4250153377013808, Recall (macro): 0.427521843477761\n",
      "Epoch 39 / 100\n"
     ]
    },
    {
     "name": "stderr",
     "output_type": "stream",
     "text": [
      "Train: 100%|██████████| 156/156 [00:33<00:00,  4.65it/s, loss=2.71]\n",
      "Val: 100%|██████████| 40/40 [00:05<00:00,  7.30it/s, loss=2.63]\n"
     ]
    },
    {
     "name": "stdout",
     "output_type": "stream",
     "text": [
      "Accuracy: 0.6070287539936102, Precision (macro): 0.4204287899875442, Recall (macro): 0.4260331792697068\n",
      "Epoch 40 / 100\n"
     ]
    },
    {
     "name": "stderr",
     "output_type": "stream",
     "text": [
      "Train: 100%|██████████| 156/156 [00:33<00:00,  4.64it/s, loss=2.77]\n",
      "Val: 100%|██████████| 40/40 [00:05<00:00,  7.32it/s, loss=2.41]\n"
     ]
    },
    {
     "name": "stdout",
     "output_type": "stream",
     "text": [
      "Accuracy: 0.6421725239616614, Precision (macro): 0.4661725656310601, Recall (macro): 0.4502994303464266\n",
      "Epoch 41 / 100\n"
     ]
    },
    {
     "name": "stderr",
     "output_type": "stream",
     "text": [
      "Train: 100%|██████████| 156/156 [00:33<00:00,  4.65it/s, loss=2.71]\n",
      "Val: 100%|██████████| 40/40 [00:05<00:00,  7.33it/s, loss=2.38]\n"
     ]
    },
    {
     "name": "stdout",
     "output_type": "stream",
     "text": [
      "Accuracy: 0.6389776357827476, Precision (macro): 0.4791426218098256, Recall (macro): 0.472820484589459\n",
      "Epoch 42 / 100\n"
     ]
    },
    {
     "name": "stderr",
     "output_type": "stream",
     "text": [
      "Train: 100%|██████████| 156/156 [00:33<00:00,  4.64it/s, loss=2.61]\n",
      "Val: 100%|██████████| 40/40 [00:05<00:00,  7.31it/s, loss=2.36]\n"
     ]
    },
    {
     "name": "stdout",
     "output_type": "stream",
     "text": [
      "Accuracy: 0.6613418530351438, Precision (macro): 0.48167689018109183, Recall (macro): 0.47474261015510844\n",
      "Epoch 43 / 100\n"
     ]
    },
    {
     "name": "stderr",
     "output_type": "stream",
     "text": [
      "Train: 100%|██████████| 156/156 [00:33<00:00,  4.65it/s, loss=2.62]\n",
      "Val: 100%|██████████| 40/40 [00:05<00:00,  7.33it/s, loss=2.45]\n"
     ]
    },
    {
     "name": "stdout",
     "output_type": "stream",
     "text": [
      "Accuracy: 0.6421725239616614, Precision (macro): 0.48166401028596845, Recall (macro): 0.49467361103596985\n",
      "Epoch 44 / 100\n"
     ]
    },
    {
     "name": "stderr",
     "output_type": "stream",
     "text": [
      "Train: 100%|██████████| 156/156 [00:33<00:00,  4.65it/s, loss=2.48]\n",
      "Val: 100%|██████████| 40/40 [00:05<00:00,  7.28it/s, loss=2.33]\n"
     ]
    },
    {
     "name": "stdout",
     "output_type": "stream",
     "text": [
      "Accuracy: 0.6485623003194888, Precision (macro): 0.49197043454289824, Recall (macro): 0.4860220900134303\n",
      "Epoch 45 / 100\n"
     ]
    },
    {
     "name": "stderr",
     "output_type": "stream",
     "text": [
      "Train: 100%|██████████| 156/156 [00:33<00:00,  4.65it/s, loss=2.44]\n",
      "Val: 100%|██████████| 40/40 [00:05<00:00,  7.27it/s, loss=2.23]\n"
     ]
    },
    {
     "name": "stdout",
     "output_type": "stream",
     "text": [
      "Accuracy: 0.6677316293929713, Precision (macro): 0.4990046817936148, Recall (macro): 0.507221461033439\n",
      "Epoch 46 / 100\n"
     ]
    },
    {
     "name": "stderr",
     "output_type": "stream",
     "text": [
      "Train: 100%|██████████| 156/156 [00:33<00:00,  4.65it/s, loss=2.44]\n",
      "Val: 100%|██████████| 40/40 [00:05<00:00,  7.32it/s, loss=2.26]\n"
     ]
    },
    {
     "name": "stdout",
     "output_type": "stream",
     "text": [
      "Accuracy: 0.6677316293929713, Precision (macro): 0.5065690770306731, Recall (macro): 0.5172905401349338\n",
      "Epoch 47 / 100\n"
     ]
    },
    {
     "name": "stderr",
     "output_type": "stream",
     "text": [
      "Train: 100%|██████████| 156/156 [00:33<00:00,  4.65it/s, loss=2.40]\n",
      "Val: 100%|██████████| 40/40 [00:05<00:00,  7.31it/s, loss=2.23]\n"
     ]
    },
    {
     "name": "stdout",
     "output_type": "stream",
     "text": [
      "Accuracy: 0.670926517571885, Precision (macro): 0.5076599276802968, Recall (macro): 0.5058747824918324\n",
      "Epoch 48 / 100\n"
     ]
    },
    {
     "name": "stderr",
     "output_type": "stream",
     "text": [
      "Train: 100%|██████████| 156/156 [00:33<00:00,  4.64it/s, loss=2.35]\n",
      "Val: 100%|██████████| 40/40 [00:05<00:00,  7.30it/s, loss=2.36]\n"
     ]
    },
    {
     "name": "stdout",
     "output_type": "stream",
     "text": [
      "Accuracy: 0.6261980830670927, Precision (macro): 0.49798333476240497, Recall (macro): 0.4867892752951153\n",
      "Epoch 49 / 100\n"
     ]
    },
    {
     "name": "stderr",
     "output_type": "stream",
     "text": [
      "Train: 100%|██████████| 156/156 [00:33<00:00,  4.64it/s, loss=2.50]\n",
      "Val: 100%|██████████| 40/40 [00:05<00:00,  7.31it/s, loss=2.15]\n"
     ]
    },
    {
     "name": "stdout",
     "output_type": "stream",
     "text": [
      "Accuracy: 0.6837060702875399, Precision (macro): 0.5661432911490383, Recall (macro): 0.5680082345742042\n",
      "Epoch 50 / 100\n"
     ]
    },
    {
     "name": "stderr",
     "output_type": "stream",
     "text": [
      "Train: 100%|██████████| 156/156 [00:33<00:00,  4.64it/s, loss=2.32]\n",
      "Val: 100%|██████████| 40/40 [00:05<00:00,  7.34it/s, loss=2.25]\n"
     ]
    },
    {
     "name": "stdout",
     "output_type": "stream",
     "text": [
      "Accuracy: 0.6485623003194888, Precision (macro): 0.5001979876860255, Recall (macro): 0.5056667821909205\n",
      "Epoch 51 / 100\n"
     ]
    },
    {
     "name": "stderr",
     "output_type": "stream",
     "text": [
      "Train: 100%|██████████| 156/156 [00:33<00:00,  4.64it/s, loss=2.28]\n",
      "Val: 100%|██████████| 40/40 [00:05<00:00,  7.27it/s, loss=2.05]\n"
     ]
    },
    {
     "name": "stdout",
     "output_type": "stream",
     "text": [
      "Accuracy: 0.6996805111821086, Precision (macro): 0.5861734693000445, Recall (macro): 0.5714015767506233\n",
      "Epoch 52 / 100\n"
     ]
    },
    {
     "name": "stderr",
     "output_type": "stream",
     "text": [
      "Train: 100%|██████████| 156/156 [00:33<00:00,  4.65it/s, loss=2.21]\n",
      "Val: 100%|██████████| 40/40 [00:05<00:00,  7.32it/s, loss=2.05]\n"
     ]
    },
    {
     "name": "stdout",
     "output_type": "stream",
     "text": [
      "Accuracy: 0.7060702875399361, Precision (macro): 0.6436135103161149, Recall (macro): 0.5809905595321723\n",
      "Epoch 53 / 100\n"
     ]
    },
    {
     "name": "stderr",
     "output_type": "stream",
     "text": [
      "Train: 100%|██████████| 156/156 [00:33<00:00,  4.63it/s, loss=2.22]\n",
      "Val: 100%|██████████| 40/40 [00:05<00:00,  7.33it/s, loss=2.07]\n"
     ]
    },
    {
     "name": "stdout",
     "output_type": "stream",
     "text": [
      "Accuracy: 0.7028753993610224, Precision (macro): 0.6561211739088116, Recall (macro): 0.5903642178295915\n",
      "Epoch 54 / 100\n"
     ]
    },
    {
     "name": "stderr",
     "output_type": "stream",
     "text": [
      "Train: 100%|██████████| 156/156 [00:33<00:00,  4.63it/s, loss=2.40]\n",
      "Val: 100%|██████████| 40/40 [00:05<00:00,  7.29it/s, loss=2.05]\n"
     ]
    },
    {
     "name": "stdout",
     "output_type": "stream",
     "text": [
      "Accuracy: 0.6900958466453674, Precision (macro): 0.5925394452568365, Recall (macro): 0.5758063137266624\n",
      "Epoch 55 / 100\n"
     ]
    },
    {
     "name": "stderr",
     "output_type": "stream",
     "text": [
      "Train: 100%|██████████| 156/156 [00:33<00:00,  4.63it/s, loss=2.22]\n",
      "Val: 100%|██████████| 40/40 [00:05<00:00,  7.32it/s, loss=2.03]\n"
     ]
    },
    {
     "name": "stdout",
     "output_type": "stream",
     "text": [
      "Accuracy: 0.6900958466453674, Precision (macro): 0.6094064196398162, Recall (macro): 0.5919662787251186\n",
      "Epoch 56 / 100\n"
     ]
    },
    {
     "name": "stderr",
     "output_type": "stream",
     "text": [
      "Train: 100%|██████████| 156/156 [00:33<00:00,  4.64it/s, loss=2.21]\n",
      "Val: 100%|██████████| 40/40 [00:05<00:00,  7.27it/s, loss=2.05]\n"
     ]
    },
    {
     "name": "stdout",
     "output_type": "stream",
     "text": [
      "Accuracy: 0.7092651757188498, Precision (macro): 0.6351253419276676, Recall (macro): 0.5958156496996343\n",
      "Epoch 57 / 100\n"
     ]
    },
    {
     "name": "stderr",
     "output_type": "stream",
     "text": [
      "Train: 100%|██████████| 156/156 [00:33<00:00,  4.64it/s, loss=2.15]\n",
      "Val: 100%|██████████| 40/40 [00:05<00:00,  7.28it/s, loss=2.10]\n"
     ]
    },
    {
     "name": "stdout",
     "output_type": "stream",
     "text": [
      "Accuracy: 0.6773162939297125, Precision (macro): 0.5703085677628011, Recall (macro): 0.5737668978699163\n",
      "Epoch 58 / 100\n"
     ]
    },
    {
     "name": "stderr",
     "output_type": "stream",
     "text": [
      "Train: 100%|██████████| 156/156 [00:33<00:00,  4.63it/s, loss=2.15]\n",
      "Val: 100%|██████████| 40/40 [00:05<00:00,  7.31it/s, loss=1.98]\n"
     ]
    },
    {
     "name": "stdout",
     "output_type": "stream",
     "text": [
      "Accuracy: 0.6964856230031949, Precision (macro): 0.6184493325104216, Recall (macro): 0.5819925723405528\n",
      "Epoch 59 / 100\n"
     ]
    },
    {
     "name": "stderr",
     "output_type": "stream",
     "text": [
      "Train: 100%|██████████| 156/156 [00:33<00:00,  4.64it/s, loss=2.20]\n",
      "Val: 100%|██████████| 40/40 [00:05<00:00,  7.33it/s, loss=2.03]\n"
     ]
    },
    {
     "name": "stdout",
     "output_type": "stream",
     "text": [
      "Accuracy: 0.6964856230031949, Precision (macro): 0.6256251170969654, Recall (macro): 0.5911946599965084\n",
      "Epoch 60 / 100\n"
     ]
    },
    {
     "name": "stderr",
     "output_type": "stream",
     "text": [
      "Train: 100%|██████████| 156/156 [00:33<00:00,  4.64it/s, loss=2.06]\n",
      "Val: 100%|██████████| 40/40 [00:05<00:00,  7.34it/s, loss=1.90]\n"
     ]
    },
    {
     "name": "stdout",
     "output_type": "stream",
     "text": [
      "Accuracy: 0.6837060702875399, Precision (macro): 0.6015209645111607, Recall (macro): 0.5805894291621914\n",
      "Epoch 61 / 100\n"
     ]
    },
    {
     "name": "stderr",
     "output_type": "stream",
     "text": [
      "Train: 100%|██████████| 156/156 [00:33<00:00,  4.65it/s, loss=2.07]\n",
      "Val: 100%|██████████| 40/40 [00:05<00:00,  7.32it/s, loss=2.09]\n"
     ]
    },
    {
     "name": "stdout",
     "output_type": "stream",
     "text": [
      "Accuracy: 0.6932907348242812, Precision (macro): 0.6151408808938588, Recall (macro): 0.5856729599444389\n",
      "Epoch 62 / 100\n"
     ]
    },
    {
     "name": "stderr",
     "output_type": "stream",
     "text": [
      "Train: 100%|██████████| 156/156 [00:33<00:00,  4.64it/s, loss=2.02]\n",
      "Val: 100%|██████████| 40/40 [00:05<00:00,  7.33it/s, loss=1.84]\n"
     ]
    },
    {
     "name": "stdout",
     "output_type": "stream",
     "text": [
      "Accuracy: 0.7188498402555911, Precision (macro): 0.6572713057186742, Recall (macro): 0.6119416554602267\n",
      "Epoch 63 / 100\n"
     ]
    },
    {
     "name": "stderr",
     "output_type": "stream",
     "text": [
      "Train: 100%|██████████| 156/156 [00:33<00:00,  4.64it/s, loss=1.99]\n",
      "Val: 100%|██████████| 40/40 [00:05<00:00,  7.34it/s, loss=2.10]\n"
     ]
    },
    {
     "name": "stdout",
     "output_type": "stream",
     "text": [
      "Accuracy: 0.6932907348242812, Precision (macro): 0.6228381075234622, Recall (macro): 0.5884759427597931\n",
      "Epoch 64 / 100\n"
     ]
    },
    {
     "name": "stderr",
     "output_type": "stream",
     "text": [
      "Train: 100%|██████████| 156/156 [00:33<00:00,  4.64it/s, loss=2.06]\n",
      "Val: 100%|██████████| 40/40 [00:05<00:00,  7.33it/s, loss=2.17]\n"
     ]
    },
    {
     "name": "stdout",
     "output_type": "stream",
     "text": [
      "Accuracy: 0.6677316293929713, Precision (macro): 0.580920239972796, Recall (macro): 0.5248492370673807\n",
      "Epoch 65 / 100\n"
     ]
    },
    {
     "name": "stderr",
     "output_type": "stream",
     "text": [
      "Train: 100%|██████████| 156/156 [00:33<00:00,  4.64it/s, loss=2.07]\n",
      "Val: 100%|██████████| 40/40 [00:05<00:00,  7.33it/s, loss=2.02]\n"
     ]
    },
    {
     "name": "stdout",
     "output_type": "stream",
     "text": [
      "Accuracy: 0.6996805111821086, Precision (macro): 0.6071302478642219, Recall (macro): 0.6018048815136885\n",
      "Epoch 66 / 100\n"
     ]
    },
    {
     "name": "stderr",
     "output_type": "stream",
     "text": [
      "Train: 100%|██████████| 156/156 [00:33<00:00,  4.64it/s, loss=1.98]\n",
      "Val: 100%|██████████| 40/40 [00:05<00:00,  7.34it/s, loss=1.85]\n"
     ]
    },
    {
     "name": "stdout",
     "output_type": "stream",
     "text": [
      "Accuracy: 0.7124600638977636, Precision (macro): 0.6190885645505256, Recall (macro): 0.6028176731401896\n",
      "Epoch 67 / 100\n"
     ]
    },
    {
     "name": "stderr",
     "output_type": "stream",
     "text": [
      "Train: 100%|██████████| 156/156 [00:33<00:00,  4.64it/s, loss=1.93]\n",
      "Val: 100%|██████████| 40/40 [00:05<00:00,  7.25it/s, loss=1.91]\n"
     ]
    },
    {
     "name": "stdout",
     "output_type": "stream",
     "text": [
      "Accuracy: 0.6996805111821086, Precision (macro): 0.6147098481816271, Recall (macro): 0.6017828462271427\n",
      "Epoch 68 / 100\n"
     ]
    },
    {
     "name": "stderr",
     "output_type": "stream",
     "text": [
      "Train: 100%|██████████| 156/156 [00:33<00:00,  4.61it/s, loss=1.93]\n",
      "Val: 100%|██████████| 40/40 [00:05<00:00,  7.25it/s, loss=1.95]\n"
     ]
    },
    {
     "name": "stdout",
     "output_type": "stream",
     "text": [
      "Accuracy: 0.6964856230031949, Precision (macro): 0.6886542720845046, Recall (macro): 0.628234388511231\n",
      "Epoch 69 / 100\n"
     ]
    },
    {
     "name": "stderr",
     "output_type": "stream",
     "text": [
      "Train: 100%|██████████| 156/156 [00:33<00:00,  4.64it/s, loss=1.93]\n",
      "Val: 100%|██████████| 40/40 [00:05<00:00,  7.22it/s, loss=1.87]\n"
     ]
    },
    {
     "name": "stdout",
     "output_type": "stream",
     "text": [
      "Accuracy: 0.6964856230031949, Precision (macro): 0.699077343919741, Recall (macro): 0.6237555706868849\n",
      "Epoch 70 / 100\n"
     ]
    },
    {
     "name": "stderr",
     "output_type": "stream",
     "text": [
      "Train: 100%|██████████| 156/156 [00:33<00:00,  4.60it/s, loss=1.93]\n",
      "Val: 100%|██████████| 40/40 [00:05<00:00,  7.26it/s, loss=1.97]\n"
     ]
    },
    {
     "name": "stdout",
     "output_type": "stream",
     "text": [
      "Accuracy: 0.7060702875399361, Precision (macro): 0.7467886188922024, Recall (macro): 0.6029095754946583\n",
      "Epoch 71 / 100\n"
     ]
    },
    {
     "name": "stderr",
     "output_type": "stream",
     "text": [
      "Train: 100%|██████████| 156/156 [00:33<00:00,  4.63it/s, loss=1.93]\n",
      "Val: 100%|██████████| 40/40 [00:05<00:00,  7.32it/s, loss=2.03]\n"
     ]
    },
    {
     "name": "stdout",
     "output_type": "stream",
     "text": [
      "Accuracy: 0.6677316293929713, Precision (macro): 0.5984049281622815, Recall (macro): 0.551497919537146\n",
      "Epoch 72 / 100\n"
     ]
    },
    {
     "name": "stderr",
     "output_type": "stream",
     "text": [
      "Train: 100%|██████████| 156/156 [00:33<00:00,  4.63it/s, loss=1.91]\n",
      "Val: 100%|██████████| 40/40 [00:05<00:00,  7.32it/s, loss=1.89]\n"
     ]
    },
    {
     "name": "stdout",
     "output_type": "stream",
     "text": [
      "Accuracy: 0.7156549520766773, Precision (macro): 0.6958996957698537, Recall (macro): 0.6196369563549488\n",
      "Epoch 73 / 100\n"
     ]
    },
    {
     "name": "stderr",
     "output_type": "stream",
     "text": [
      "Train: 100%|██████████| 156/156 [00:33<00:00,  4.63it/s, loss=1.82]\n",
      "Val: 100%|██████████| 40/40 [00:05<00:00,  7.26it/s, loss=1.79]\n"
     ]
    },
    {
     "name": "stdout",
     "output_type": "stream",
     "text": [
      "Accuracy: 0.7252396166134185, Precision (macro): 0.7265006954729291, Recall (macro): 0.631627205604353\n",
      "Epoch 74 / 100\n"
     ]
    },
    {
     "name": "stderr",
     "output_type": "stream",
     "text": [
      "Train: 100%|██████████| 156/156 [00:33<00:00,  4.63it/s, loss=1.84]\n",
      "Val: 100%|██████████| 40/40 [00:05<00:00,  7.31it/s, loss=1.79]\n"
     ]
    },
    {
     "name": "stdout",
     "output_type": "stream",
     "text": [
      "Accuracy: 0.7252396166134185, Precision (macro): 0.717442446165345, Recall (macro): 0.620245447670871\n",
      "Epoch 75 / 100\n"
     ]
    },
    {
     "name": "stderr",
     "output_type": "stream",
     "text": [
      "Train: 100%|██████████| 156/156 [00:33<00:00,  4.63it/s, loss=1.80]\n",
      "Val: 100%|██████████| 40/40 [00:05<00:00,  7.30it/s, loss=1.80]\n"
     ]
    },
    {
     "name": "stdout",
     "output_type": "stream",
     "text": [
      "Accuracy: 0.7188498402555911, Precision (macro): 0.6854429802757189, Recall (macro): 0.6223446015155043\n",
      "Epoch 76 / 100\n"
     ]
    },
    {
     "name": "stderr",
     "output_type": "stream",
     "text": [
      "Train: 100%|██████████| 156/156 [00:33<00:00,  4.64it/s, loss=1.77]\n",
      "Val: 100%|██████████| 40/40 [00:05<00:00,  7.30it/s, loss=1.81]\n"
     ]
    },
    {
     "name": "stdout",
     "output_type": "stream",
     "text": [
      "Accuracy: 0.731629392971246, Precision (macro): 0.6731290938449859, Recall (macro): 0.6375137022193872\n",
      "Epoch 77 / 100\n"
     ]
    },
    {
     "name": "stderr",
     "output_type": "stream",
     "text": [
      "Train: 100%|██████████| 156/156 [00:33<00:00,  4.64it/s, loss=1.74]\n",
      "Val: 100%|██████████| 40/40 [00:05<00:00,  7.31it/s, loss=1.85]\n"
     ]
    },
    {
     "name": "stdout",
     "output_type": "stream",
     "text": [
      "Accuracy: 0.7220447284345048, Precision (macro): 0.7171110104640165, Recall (macro): 0.6264762162271976\n",
      "Epoch 78 / 100\n"
     ]
    },
    {
     "name": "stderr",
     "output_type": "stream",
     "text": [
      "Train: 100%|██████████| 156/156 [00:33<00:00,  4.63it/s, loss=1.80]\n",
      "Val: 100%|██████████| 40/40 [00:05<00:00,  7.27it/s, loss=1.92]\n"
     ]
    },
    {
     "name": "stdout",
     "output_type": "stream",
     "text": [
      "Accuracy: 0.7220447284345048, Precision (macro): 0.6952112839080796, Recall (macro): 0.6151456936419987\n",
      "Epoch 79 / 100\n"
     ]
    },
    {
     "name": "stderr",
     "output_type": "stream",
     "text": [
      "Train: 100%|██████████| 156/156 [00:33<00:00,  4.63it/s, loss=1.79]\n",
      "Val: 100%|██████████| 40/40 [00:05<00:00,  7.30it/s, loss=1.85]\n"
     ]
    },
    {
     "name": "stdout",
     "output_type": "stream",
     "text": [
      "Accuracy: 0.7092651757188498, Precision (macro): 0.6863420829296116, Recall (macro): 0.616125560709328\n",
      "Epoch 80 / 100\n"
     ]
    },
    {
     "name": "stderr",
     "output_type": "stream",
     "text": [
      "Train: 100%|██████████| 156/156 [00:33<00:00,  4.63it/s, loss=1.77]\n",
      "Val: 100%|██████████| 40/40 [00:05<00:00,  7.30it/s, loss=1.83]\n"
     ]
    },
    {
     "name": "stdout",
     "output_type": "stream",
     "text": [
      "Accuracy: 0.7124600638977636, Precision (macro): 0.6075865146568478, Recall (macro): 0.6186259894868521\n",
      "Epoch 81 / 100\n"
     ]
    },
    {
     "name": "stderr",
     "output_type": "stream",
     "text": [
      "Train: 100%|██████████| 156/156 [00:33<00:00,  4.63it/s, loss=1.80]\n",
      "Val: 100%|██████████| 40/40 [00:05<00:00,  7.30it/s, loss=1.73]\n"
     ]
    },
    {
     "name": "stdout",
     "output_type": "stream",
     "text": [
      "Accuracy: 0.7348242811501597, Precision (macro): 0.7107608805064947, Recall (macro): 0.6435404334840878\n",
      "Epoch 82 / 100\n"
     ]
    },
    {
     "name": "stderr",
     "output_type": "stream",
     "text": [
      "Train: 100%|██████████| 156/156 [00:33<00:00,  4.63it/s, loss=1.84]\n",
      "Val: 100%|██████████| 40/40 [00:05<00:00,  7.29it/s, loss=1.87]\n"
     ]
    },
    {
     "name": "stdout",
     "output_type": "stream",
     "text": [
      "Accuracy: 0.7092651757188498, Precision (macro): 0.6817369046543755, Recall (macro): 0.6441369218825727\n",
      "Epoch 83 / 100\n"
     ]
    },
    {
     "name": "stderr",
     "output_type": "stream",
     "text": [
      "Train: 100%|██████████| 156/156 [00:33<00:00,  4.63it/s, loss=1.74]\n",
      "Val: 100%|██████████| 40/40 [00:05<00:00,  7.31it/s, loss=1.85]\n"
     ]
    },
    {
     "name": "stdout",
     "output_type": "stream",
     "text": [
      "Accuracy: 0.7252396166134185, Precision (macro): 0.7048606268561657, Recall (macro): 0.6355963544037241\n",
      "Epoch 84 / 100\n"
     ]
    },
    {
     "name": "stderr",
     "output_type": "stream",
     "text": [
      "Train: 100%|██████████| 156/156 [00:33<00:00,  4.63it/s, loss=1.75]\n",
      "Val: 100%|██████████| 40/40 [00:05<00:00,  7.30it/s, loss=1.85]\n"
     ]
    },
    {
     "name": "stdout",
     "output_type": "stream",
     "text": [
      "Accuracy: 0.7252396166134185, Precision (macro): 0.7164356151817454, Recall (macro): 0.6211746051349372\n",
      "Epoch 85 / 100\n"
     ]
    },
    {
     "name": "stderr",
     "output_type": "stream",
     "text": [
      "Train: 100%|██████████| 156/156 [00:33<00:00,  4.63it/s, loss=1.70]\n",
      "Val: 100%|██████████| 40/40 [00:05<00:00,  7.23it/s, loss=1.91]\n"
     ]
    },
    {
     "name": "stdout",
     "output_type": "stream",
     "text": [
      "Accuracy: 0.7188498402555911, Precision (macro): 0.6817922867552001, Recall (macro): 0.632247105364548\n",
      "Epoch 86 / 100\n"
     ]
    },
    {
     "name": "stderr",
     "output_type": "stream",
     "text": [
      "Train: 100%|██████████| 156/156 [00:33<00:00,  4.64it/s, loss=1.68]\n",
      "Val: 100%|██████████| 40/40 [00:05<00:00,  7.28it/s, loss=1.88]\n"
     ]
    },
    {
     "name": "stdout",
     "output_type": "stream",
     "text": [
      "Accuracy: 0.6996805111821086, Precision (macro): 0.6062460582540901, Recall (macro): 0.6509039985339358\n",
      "Epoch 87 / 100\n"
     ]
    },
    {
     "name": "stderr",
     "output_type": "stream",
     "text": [
      "Train: 100%|██████████| 156/156 [00:33<00:00,  4.64it/s, loss=1.66]\n",
      "Val: 100%|██████████| 40/40 [00:05<00:00,  7.32it/s, loss=1.83]\n"
     ]
    },
    {
     "name": "stdout",
     "output_type": "stream",
     "text": [
      "Accuracy: 0.7124600638977636, Precision (macro): 0.7144599544262947, Recall (macro): 0.6496879956982796\n",
      "Epoch 88 / 100\n"
     ]
    },
    {
     "name": "stderr",
     "output_type": "stream",
     "text": [
      "Train: 100%|██████████| 156/156 [00:33<00:00,  4.63it/s, loss=1.64]\n",
      "Val: 100%|██████████| 40/40 [00:05<00:00,  7.29it/s, loss=1.99]\n"
     ]
    },
    {
     "name": "stdout",
     "output_type": "stream",
     "text": [
      "Accuracy: 0.7188498402555911, Precision (macro): 0.6810569352197321, Recall (macro): 0.6345707993107491\n",
      "Epoch 89 / 100\n"
     ]
    },
    {
     "name": "stderr",
     "output_type": "stream",
     "text": [
      "Train: 100%|██████████| 156/156 [00:33<00:00,  4.64it/s, loss=1.73]\n",
      "Val: 100%|██████████| 40/40 [00:05<00:00,  7.28it/s, loss=1.96]\n"
     ]
    },
    {
     "name": "stdout",
     "output_type": "stream",
     "text": [
      "Accuracy: 0.7028753993610224, Precision (macro): 0.6587427806368622, Recall (macro): 0.6347559235696244\n",
      "Epoch 90 / 100\n"
     ]
    },
    {
     "name": "stderr",
     "output_type": "stream",
     "text": [
      "Train: 100%|██████████| 156/156 [00:33<00:00,  4.64it/s, loss=1.66]\n",
      "Val: 100%|██████████| 40/40 [00:05<00:00,  7.23it/s, loss=1.89]\n"
     ]
    },
    {
     "name": "stdout",
     "output_type": "stream",
     "text": [
      "Accuracy: 0.7220447284345048, Precision (macro): 0.675483638550061, Recall (macro): 0.6328925497508063\n",
      "Epoch 91 / 100\n"
     ]
    },
    {
     "name": "stderr",
     "output_type": "stream",
     "text": [
      "Train: 100%|██████████| 156/156 [00:33<00:00,  4.63it/s, loss=1.65]\n",
      "Val: 100%|██████████| 40/40 [00:05<00:00,  7.30it/s, loss=1.91]\n"
     ]
    },
    {
     "name": "stdout",
     "output_type": "stream",
     "text": [
      "Accuracy: 0.7252396166134185, Precision (macro): 0.7079089029762565, Recall (macro): 0.6557320560476471\n",
      "Epoch 92 / 100\n"
     ]
    },
    {
     "name": "stderr",
     "output_type": "stream",
     "text": [
      "Train: 100%|██████████| 156/156 [00:33<00:00,  4.63it/s, loss=1.56]\n",
      "Val: 100%|██████████| 40/40 [00:05<00:00,  7.30it/s, loss=2.04]\n"
     ]
    },
    {
     "name": "stdout",
     "output_type": "stream",
     "text": [
      "Accuracy: 0.7188498402555911, Precision (macro): 0.6556638315423011, Recall (macro): 0.6352220529909256\n",
      "Epoch 93 / 100\n"
     ]
    },
    {
     "name": "stderr",
     "output_type": "stream",
     "text": [
      "Train: 100%|██████████| 156/156 [00:33<00:00,  4.63it/s, loss=1.57]\n",
      "Val: 100%|██████████| 40/40 [00:05<00:00,  7.32it/s, loss=1.94]\n"
     ]
    },
    {
     "name": "stdout",
     "output_type": "stream",
     "text": [
      "Accuracy: 0.7028753993610224, Precision (macro): 0.650132386530236, Recall (macro): 0.6415164938966323\n",
      "Epoch 94 / 100\n"
     ]
    },
    {
     "name": "stderr",
     "output_type": "stream",
     "text": [
      "Train: 100%|██████████| 156/156 [00:33<00:00,  4.63it/s, loss=1.55]\n",
      "Val: 100%|██████████| 40/40 [00:05<00:00,  7.32it/s, loss=2.17]\n"
     ]
    },
    {
     "name": "stdout",
     "output_type": "stream",
     "text": [
      "Accuracy: 0.7028753993610224, Precision (macro): 0.682371197524177, Recall (macro): 0.6431278455079839\n",
      "Epoch 95 / 100\n"
     ]
    },
    {
     "name": "stderr",
     "output_type": "stream",
     "text": [
      "Train: 100%|██████████| 156/156 [00:33<00:00,  4.63it/s, loss=1.54]\n",
      "Val: 100%|██████████| 40/40 [00:05<00:00,  7.31it/s, loss=1.88]\n"
     ]
    },
    {
     "name": "stdout",
     "output_type": "stream",
     "text": [
      "Accuracy: 0.7060702875399361, Precision (macro): 0.6852596333241495, Recall (macro): 0.6592807302242828\n",
      "Epoch 96 / 100\n"
     ]
    },
    {
     "name": "stderr",
     "output_type": "stream",
     "text": [
      "Train: 100%|██████████| 156/156 [00:33<00:00,  4.63it/s, loss=1.53]\n",
      "Val: 100%|██████████| 40/40 [00:05<00:00,  7.31it/s, loss=1.85]\n"
     ]
    },
    {
     "name": "stdout",
     "output_type": "stream",
     "text": [
      "Accuracy: 0.6996805111821086, Precision (macro): 0.6911086802906709, Recall (macro): 0.6646231550008694\n",
      "Epoch 97 / 100\n"
     ]
    },
    {
     "name": "stderr",
     "output_type": "stream",
     "text": [
      "Train: 100%|██████████| 156/156 [00:33<00:00,  4.64it/s, loss=1.53]\n",
      "Val: 100%|██████████| 40/40 [00:05<00:00,  7.31it/s, loss=1.94]\n"
     ]
    },
    {
     "name": "stdout",
     "output_type": "stream",
     "text": [
      "Accuracy: 0.7028753993610224, Precision (macro): 0.6954593468226037, Recall (macro): 0.6688783971952217\n",
      "Epoch 98 / 100\n"
     ]
    },
    {
     "name": "stderr",
     "output_type": "stream",
     "text": [
      "Train: 100%|██████████| 156/156 [00:33<00:00,  4.64it/s, loss=1.51]\n",
      "Val: 100%|██████████| 40/40 [00:05<00:00,  7.31it/s, loss=1.94]\n"
     ]
    },
    {
     "name": "stdout",
     "output_type": "stream",
     "text": [
      "Accuracy: 0.7028753993610224, Precision (macro): 0.6875133232597743, Recall (macro): 0.660364350742065\n",
      "Epoch 99 / 100\n"
     ]
    },
    {
     "name": "stderr",
     "output_type": "stream",
     "text": [
      "Train: 100%|██████████| 156/156 [00:33<00:00,  4.64it/s, loss=1.55]\n",
      "Val: 100%|██████████| 40/40 [00:05<00:00,  7.32it/s, loss=1.87]\n"
     ]
    },
    {
     "name": "stdout",
     "output_type": "stream",
     "text": [
      "Accuracy: 0.7060702875399361, Precision (macro): 0.6895942282469798, Recall (macro): 0.6630076345138277\n",
      "Epoch 100 / 100\n"
     ]
    },
    {
     "name": "stderr",
     "output_type": "stream",
     "text": [
      "Train: 100%|██████████| 156/156 [00:33<00:00,  4.63it/s, loss=1.53]\n",
      "Val: 100%|██████████| 40/40 [00:05<00:00,  7.28it/s, loss=1.88]\n"
     ]
    },
    {
     "name": "stdout",
     "output_type": "stream",
     "text": [
      "Accuracy: 0.7028753993610224, Precision (macro): 0.68582844165686, Recall (macro): 0.6614572469169284\n",
      "CPU times: user 33min 3s, sys: 7min 50s, total: 40min 54s\n",
      "Wall time: 1h 7min 43s\n"
     ]
    }
   ],
   "source": [
    "%%time\n",
    "transformer, classifier = create_model(transformer, classifier)\n",
    "optimizer = torch.optim.AdamW(get_param(transformer, classifier), lr = LEARNING_RATE, weight_decay = REGULARIZATION)\n",
    "scheduler = torch.optim.lr_scheduler.ReduceLROnPlateau(optimizer, 'min')\n",
    "info = train_model(transformer, classifier, optimizer, scheduler, num_epochs=100, last_epoch=0, last_acc=0)"
   ]
  },
  {
   "cell_type": "code",
   "execution_count": 28,
   "metadata": {},
   "outputs": [
    {
     "name": "stdout",
     "output_type": "stream",
     "text": [
      "Acc : 0.7795527156549521, Epoch : 30\n"
     ]
    }
   ],
   "source": [
    "checkpoint = torch.load(PATH)\n",
    "transformer.load_state_dict(checkpoint['best_model_sd'])\n",
    "classifier.load_state_dict(checkpoint['best_cls_sd'])\n",
    "# optimizer.load_state_dict(checkpoint['best_optimizer_sd'])\n",
    "# scheduler.load_state_dict(checkpoint['best_scheduler_sd'])\n",
    "best_epoch = checkpoint['best_epoch']\n",
    "best_acc = checkpoint['best_acc']\n",
    "print(f\"Acc : {best_acc}, Epoch : {best_epoch}\")"
   ]
  },
  {
   "cell_type": "code",
   "execution_count": 30,
   "metadata": {
    "id": "40KlFt0AfR86"
   },
   "outputs": [],
   "source": [
    "from sklearn.metrics import classification_report, accuracy_score, jaccard_score, \\\n",
    "hamming_loss, cohen_kappa_score, f1_score, precision_score, recall_score\n",
    "import math\n",
    "def eval_all(y_human, y_machine, categories):\n",
    "  print(\"================ Classification Report ================\")\n",
    "  print(classification_report(y_human, y_machine, target_names=categories))\n",
    "  print(\"================ Multi Label Score ================\")\n",
    "  eval_multi_label(y_human, y_machine, categories)\n",
    "\n",
    "def eval_multi_label(y_test, prediction, categories):\n",
    "    # Butuh informasi lebih lengkap? silakan disimak di bawah ini\n",
    "    print('Accuracy             :', accuracy_score(y_test, prediction))\n",
    "    print('Precision            :', precision_score(y_test, prediction, average='micro'))\n",
    "    print('Recall               :', recall_score(y_test, prediction, average='micro'))\n",
    "    print('F1 Score             :', f1_score(y_test, prediction, average='micro'))\n",
    "    print('Hamming Loss         :', hamming_loss(y_test, prediction))\n",
    "    print('Jaccard Score')\n",
    "    js = jaccard_score(y_test, prediction, average=None)\n",
    "    for i, j in zip(categories, js):\n",
    "      print(f\"{i:<20} : {j}\")\n",
    "    print('Jaccard Score Macro Average:', jaccard_score(y_test, prediction, average='macro'))\n",
    "    print('Jaccard Score Micro Average:', jaccard_score(y_test, prediction, average='micro'))"
   ]
  },
  {
   "cell_type": "code",
   "execution_count": 31,
   "metadata": {
    "colab": {
     "base_uri": "https://localhost:8080/"
    },
    "id": "li2qjFrrfxNi",
    "outputId": "d8378e0b-1257-43a4-ebbb-544f6710f153"
   },
   "outputs": [],
   "source": [
    "def evaluate_dataset(model, cls, instance):\n",
    "    cls.eval()\n",
    "    model.eval()\n",
    "\n",
    "    loss_track = 0\n",
    "    pred_labels = []\n",
    "    true_labels = []\n",
    "\n",
    "    # Untuk setiap batch di validation data\n",
    "    pbar = tqdm(enumerate(instance), desc=\"Evaluate\", total=len(instance))\n",
    "    for step, batch in pbar:\n",
    "\n",
    "        # Unpack sebuah batch dari DataLoader\n",
    "        batch_input_ids = batch[0].to(device)\n",
    "        batch_input_att_mask = batch[1].to(device)\n",
    "        batch_label = batch[2].to(device)\n",
    "\n",
    "        # jangan track gradient! ini sedang evaluasi, bukan training\n",
    "        with torch.no_grad(): \n",
    "            bert_outputs = transformer(batch_input_ids, attention_mask = batch_input_att_mask)\n",
    "            cls_hidden_states = bert_outputs.pooler_output\n",
    "            probs = classifier(cls_hidden_states)\n",
    "\n",
    "        # akumulasi prediksi\n",
    "        pred_l = []\n",
    "        for prob in probs:\n",
    "            pred = [1 if x >= 0.5 else 0 for x in prob]\n",
    "            if (np.sum(pred) == 0):\n",
    "                _, idx = torch.max(prob, dim = 0)\n",
    "                pred[idx] = 1\n",
    "            pred_l.append(pred)\n",
    "        pred_labels += pred_l\n",
    "        true_l = batch_label\n",
    "        true_labels += true_l.detach().cpu()\n",
    "\n",
    "    pred_labels = np.array(pred_labels)\n",
    "    true_labels = torch.stack(true_labels).numpy()\n",
    "    eval_all(true_labels, pred_labels, categories)\n",
    "    print(\"\")"
   ]
  },
  {
   "cell_type": "code",
   "execution_count": 35,
   "metadata": {},
   "outputs": [
    {
     "name": "stdout",
     "output_type": "stream",
     "text": [
      "tensor([[0.0953, 0.0599, 0.0451, 0.0623, 0.0514, 0.0651, 0.0909, 0.0781, 0.0654,\n",
      "         0.0422, 0.0978, 0.0701, 0.9390, 0.0527, 0.0421]], device='cuda:0')\n",
      "[[0, 0, 0, 0, 0, 0, 0, 0, 0, 0, 0, 0, 1, 0, 0]]\n",
      "\n",
      "Saya belakangan ini sakit pilek. Apakah saya kena covid dok?\n",
      "['THT']\n"
     ]
    }
   ],
   "source": [
    "classifier.eval()\n",
    "transformer.eval()\n",
    "judul = ''\n",
    "isi = 'Saya belakangan ini sakit pilek. Apakah saya kena covid dok?'\n",
    "encoded_sent = tokenizer.encode([judul, isi], \\\n",
    "                                  add_special_tokens = True, \\\n",
    "                                  max_length = MAX_SEQ_LENGTH, \\\n",
    "                                  padding = \"max_length\", \\\n",
    "                                  truncation = True)\n",
    "input_ids = torch.tensor([encoded_sent]).cuda()\n",
    "input_att_mask = torch.tensor([[int(token_id > 0) for token_id in encoded_sent]]).cuda()\n",
    "\n",
    "with torch.no_grad(): \n",
    "    bert_outputs = transformer(input_ids, attention_mask = input_att_mask)\n",
    "    cls_hidden_states = bert_outputs.pooler_output\n",
    "    probs = classifier(cls_hidden_states)\n",
    "    print(probs)\n",
    "pred_l = []\n",
    "for prob in probs:\n",
    "    pred = [1 if x >= 0.5 else 0 for x in prob]\n",
    "    if (np.sum(pred) == 0):\n",
    "        _, idx = torch.max(prob, dim = 0)\n",
    "        pred[idx] = 1\n",
    "    pred_l.append(pred)\n",
    "print(pred_l)\n",
    "pred_lst = []\n",
    "for i, j in enumerate(pred_l[0]):\n",
    "  if j:\n",
    "    pred_lst.append(idx2label[i])\n",
    "print(judul)\n",
    "print(isi)\n",
    "print(pred_lst)"
   ]
  },
  {
   "cell_type": "code",
   "execution_count": 35,
   "metadata": {
    "collapsed": true
   },
   "outputs": [
    {
     "name": "stderr",
     "output_type": "stream",
     "text": [
      "Evaluate: 100%|██████████| 156/156 [00:04<00:00, 31.44it/s]"
     ]
    },
    {
     "name": "stdout",
     "output_type": "stream",
     "text": [
      "================ Classification Report ================\n",
      "                   precision    recall  f1-score   support\n",
      "\n",
      "             Anak       1.00      0.99      0.99       148\n",
      "            Bedah       0.99      0.93      0.96       116\n",
      "             Gigi       1.00      0.93      0.97        30\n",
      "             Gizi       1.00      0.84      0.91        88\n",
      "          Jantung       0.44      0.13      0.20        31\n",
      "             Jiwa       1.00      0.92      0.96        90\n",
      "        Kandungan       1.00      0.97      0.98       244\n",
      "Kulit dan Kelamin       1.00      0.94      0.97       172\n",
      "             Mata       1.00      0.98      0.99        65\n",
      "             Paru       0.00      0.00      0.00        17\n",
      "   Penyakit Dalam       0.97      0.91      0.94       197\n",
      "            Saraf       0.88      0.55      0.67        51\n",
      "              THT       1.00      0.92      0.96       125\n",
      "           Tulang       0.97      0.87      0.92        39\n",
      "          Urologi       0.94      0.55      0.69        31\n",
      "\n",
      "        micro avg       0.99      0.89      0.93      1444\n",
      "        macro avg       0.88      0.76      0.81      1444\n",
      "     weighted avg       0.96      0.89      0.92      1444\n",
      "      samples avg       0.99      0.93      0.95      1444\n",
      "\n",
      "================ Multi Label Score ================\n",
      "Accuracy             : 0.869983948635634\n",
      "Hamming Loss         : 0.009791332263242376\n",
      "Jaccard Score\n",
      "Anak                 : 0.9864864864864865\n",
      "Bedah                : 0.9230769230769231\n",
      "Gigi                 : 0.9333333333333333\n",
      "Gizi                 : 0.8409090909090909\n",
      "Jantung              : 0.1111111111111111\n",
      "Jiwa                 : 0.9222222222222223\n",
      "Kandungan            : 0.9673469387755103\n",
      "Kulit dan Kelamin    : 0.936046511627907\n",
      "Mata                 : 0.9846153846153847\n",
      "Paru                 : 0.0\n",
      "Penyakit Dalam       : 0.8910891089108911\n",
      "Saraf                : 0.509090909090909\n",
      "THT                  : 0.92\n",
      "Tulang               : 0.85\n",
      "Urologi              : 0.53125\n",
      "Jaccard Score Macro Average: 0.7537718680106514\n",
      "Jaccard Score Micro Average: 0.874829001367989\n",
      "\n"
     ]
    },
    {
     "name": "stderr",
     "output_type": "stream",
     "text": [
      "\n",
      "/opt/conda/lib/python3.8/site-packages/sklearn/metrics/_classification.py:1221: UndefinedMetricWarning: Precision and F-score are ill-defined and being set to 0.0 in labels with no predicted samples. Use `zero_division` parameter to control this behavior.\n",
      "  _warn_prf(average, modifier, msg_start, len(result))\n"
     ]
    }
   ],
   "source": [
    "evaluate_dataset(transformer, classifier, train_instances)"
   ]
  },
  {
   "cell_type": "code",
   "execution_count": 36,
   "metadata": {
    "colab": {
     "base_uri": "https://localhost:8080/"
    },
    "collapsed": true,
    "id": "N5NeHMKjAYPH",
    "outputId": "652f1ba1-9672-44f3-b198-e74358f32b40"
   },
   "outputs": [
    {
     "name": "stderr",
     "output_type": "stream",
     "text": [
      "Evaluate: 100%|██████████| 40/40 [00:01<00:00, 31.90it/s]"
     ]
    },
    {
     "name": "stdout",
     "output_type": "stream",
     "text": [
      "================ Classification Report ================\n",
      "                   precision    recall  f1-score   support\n",
      "\n",
      "             Anak       0.92      0.95      0.93        37\n",
      "            Bedah       0.70      0.90      0.79        29\n",
      "             Gigi       1.00      0.86      0.92         7\n",
      "             Gizi       0.64      0.70      0.67        23\n",
      "          Jantung       0.00      0.00      0.00         7\n",
      "             Jiwa       0.80      0.73      0.76        22\n",
      "        Kandungan       0.86      0.80      0.83        61\n",
      "Kulit dan Kelamin       0.93      0.91      0.92        43\n",
      "             Mata       0.94      1.00      0.97        15\n",
      "             Paru       0.00      0.00      0.00         4\n",
      "   Penyakit Dalam       0.69      0.55      0.61        49\n",
      "            Saraf       0.67      0.17      0.27        12\n",
      "              THT       0.96      0.84      0.90        31\n",
      "           Tulang       0.80      0.89      0.84         9\n",
      "          Urologi       0.75      0.38      0.50         8\n",
      "\n",
      "        micro avg       0.83      0.75      0.79       357\n",
      "        macro avg       0.71      0.64      0.66       357\n",
      "     weighted avg       0.80      0.75      0.77       357\n",
      "      samples avg       0.83      0.79      0.80       357\n",
      "\n",
      "================ Multi Label Score ================\n",
      "Accuracy             : 0.7348242811501597\n",
      "Hamming Loss         : 0.0308839190628328\n",
      "Jaccard Score\n",
      "Anak                 : 0.875\n",
      "Bedah                : 0.65\n",
      "Gigi                 : 0.8571428571428571\n",
      "Gizi                 : 0.5\n",
      "Jantung              : 0.0\n",
      "Jiwa                 : 0.6153846153846154\n",
      "Kandungan            : 0.7101449275362319\n",
      "Kulit dan Kelamin    : 0.8478260869565217\n",
      "Mata                 : 0.9375\n",
      "Paru                 : 0.0\n",
      "Penyakit Dalam       : 0.4426229508196721\n",
      "Saraf                : 0.15384615384615385\n",
      "THT                  : 0.8125\n",
      "Tulang               : 0.7272727272727273\n",
      "Urologi              : 0.3333333333333333\n",
      "Jaccard Score Macro Average: 0.5641715768194742\n",
      "Jaccard Score Micro Average: 0.648910411622276\n",
      "\n"
     ]
    },
    {
     "name": "stderr",
     "output_type": "stream",
     "text": [
      "\n"
     ]
    }
   ],
   "source": [
    "evaluate_dataset(transformer, classifier, valid_instances)"
   ]
  },
  {
   "cell_type": "code",
   "execution_count": 37,
   "metadata": {
    "collapsed": true
   },
   "outputs": [
    {
     "name": "stderr",
     "output_type": "stream",
     "text": [
      "Evaluate: 100%|██████████| 340/340 [00:10<00:00, 30.95it/s]\n"
     ]
    },
    {
     "name": "stdout",
     "output_type": "stream",
     "text": [
      "================ Classification Report ================\n",
      "                   precision    recall  f1-score   support\n",
      "\n",
      "             Anak       0.80      0.80      0.80       286\n",
      "            Bedah       0.57      0.46      0.51       237\n",
      "             Gigi       0.93      0.75      0.83       232\n",
      "             Gizi       0.76      0.70      0.73       240\n",
      "          Jantung       0.00      0.00      0.00        72\n",
      "             Jiwa       0.72      0.51      0.60       144\n",
      "        Kandungan       0.82      0.83      0.83       393\n",
      "Kulit dan Kelamin       0.84      0.62      0.71       419\n",
      "             Mata       0.97      0.85      0.91       215\n",
      "             Paru       0.00      0.00      0.00        19\n",
      "   Penyakit Dalam       0.55      0.53      0.54       426\n",
      "            Saraf       0.30      0.43      0.35        95\n",
      "              THT       0.75      0.68      0.71       235\n",
      "           Tulang       0.74      0.47      0.57       132\n",
      "          Urologi       0.30      0.17      0.22       126\n",
      "\n",
      "        micro avg       0.73      0.62      0.67      3271\n",
      "        macro avg       0.60      0.52      0.55      3271\n",
      "     weighted avg       0.71      0.62      0.66      3271\n",
      "      samples avg       0.73      0.68      0.69      3271\n",
      "\n",
      "================ Multi Label Score ================\n",
      "Accuracy             : 0.6010305483989694\n",
      "Hamming Loss         : 0.04922095448411238\n",
      "Jaccard Score\n",
      "Anak                 : 0.672514619883041\n",
      "Bedah                : 0.3448275862068966\n",
      "Gigi                 : 0.710204081632653\n",
      "Gizi                 : 0.5699658703071673\n",
      "Jantung              : 0.0\n",
      "Jiwa                 : 0.42441860465116277\n",
      "Kandungan            : 0.7047413793103449\n",
      "Kulit dan Kelamin    : 0.5512820512820513\n",
      "Mata                 : 0.8280542986425339\n",
      "Paru                 : 0.0\n",
      "Penyakit Dalam       : 0.369281045751634\n",
      "Saraf                : 0.21354166666666666\n",
      "THT                  : 0.554006968641115\n",
      "Tulang               : 0.4025974025974026\n",
      "Urologi              : 0.12359550561797752\n",
      "Jaccard Score Macro Average: 0.43126873874604316\n",
      "Jaccard Score Micro Average: 0.5032194155522536\n",
      "\n"
     ]
    }
   ],
   "source": [
    "evaluate_dataset(transformer, classifier, test_instances)"
   ]
  },
  {
   "cell_type": "markdown",
   "metadata": {},
   "source": [
    "# ASO"
   ]
  },
  {
   "cell_type": "code",
   "execution_count": 27,
   "metadata": {},
   "outputs": [],
   "source": [
    "def aso_pred(model, cls, instance):\n",
    "    cls.eval()\n",
    "    model.eval()\n",
    "\n",
    "    loss_track = 0\n",
    "    pred_labels = []\n",
    "    true_labels = []\n",
    "\n",
    "    # Untuk setiap batch di validation data\n",
    "    pbar = tqdm(enumerate(instance), desc=\"Evaluate\", total=len(instance))\n",
    "    for step, batch in pbar:\n",
    "\n",
    "        # Unpack sebuah batch dari DataLoader\n",
    "        batch_input_ids = batch[0].to(device)\n",
    "        batch_input_att_mask = batch[1].to(device)\n",
    "        batch_label = batch[2].to(device)\n",
    "\n",
    "        # jangan track gradient! ini sedang evaluasi, bukan training\n",
    "        with torch.no_grad(): \n",
    "            bert_outputs = transformer(batch_input_ids, attention_mask = batch_input_att_mask)\n",
    "            cls_hidden_states = bert_outputs.pooler_output\n",
    "            probs = classifier(cls_hidden_states)\n",
    "\n",
    "        # akumulasi prediksi\n",
    "        pred_l = []\n",
    "        for prob in probs:\n",
    "            pred = [1 if x >= 0.5 else 0 for x in prob]\n",
    "            if (np.sum(pred) == 0):\n",
    "                _, idx = torch.max(prob, dim = 0)\n",
    "                pred[idx] = 1\n",
    "            pred_l.append(pred)\n",
    "        pred_labels += pred_l\n",
    "        true_l = batch_label\n",
    "        true_labels += true_l.detach().cpu()\n",
    "\n",
    "    pred_labels = np.array(pred_labels)\n",
    "    true_labels = torch.stack(true_labels).numpy()\n",
    "    return pred_labels, true_labels\n",
    "\n",
    "def aso_eval(prediction, y_test):\n",
    "    return accuracy_score(y_test, prediction), f1_score(y_test, prediction, average='micro', zero_division=0), hamming_loss(y_test, prediction)"
   ]
  },
  {
   "cell_type": "code",
   "execution_count": 28,
   "metadata": {},
   "outputs": [
    {
     "name": "stdout",
     "output_type": "stream",
     "text": [
      "ada\n"
     ]
    }
   ],
   "source": [
    "import csv  \n",
    "import os\n",
    "\n",
    "# Specifying path\n",
    "\n",
    "path = 'Result/deep.csv'\n",
    "\n",
    "# Checking whether the specified path exists\n",
    "\n",
    "if not os.path.exists(path):\n",
    "  print(\"gada\")\n",
    "  f = open(path, \"w+\")\n",
    "  writer = csv.writer(f)\n",
    "  writer.writerow(['Id', \"Learning Method\", 'Model', 'Accuracy', 'F1-Score', 'Hamming Loss'])\n",
    "  f.close()\n",
    "else:\n",
    "  print('ada')\n",
    "\n",
    "def record_result(row):\n",
    "  f = open(path, \"a\")\n",
    "  writer = csv.writer(f)\n",
    "  writer.writerow(row)\n",
    "  f.close()"
   ]
  },
  {
   "cell_type": "code",
   "execution_count": null,
   "metadata": {
    "scrolled": true
   },
   "outputs": [
    {
     "name": "stderr",
     "output_type": "stream",
     "text": [
      "Some weights of the model checkpoint at Hendrico/cpt-indobert-large-8 were not used when initializing BertModel: ['cls.predictions.transform.LayerNorm.bias', 'cls.predictions.decoder.weight', 'cls.predictions.bias', 'cls.predictions.transform.LayerNorm.weight', 'cls.predictions.decoder.bias', 'cls.predictions.transform.dense.weight', 'cls.predictions.transform.dense.bias', 'cls.seq_relationship.weight', 'cls.seq_relationship.bias']\n",
      "- This IS expected if you are initializing BertModel from the checkpoint of a model trained on another task or with another architecture (e.g. initializing a BertForSequenceClassification model from a BertForPreTraining model).\n",
      "- This IS NOT expected if you are initializing BertModel from the checkpoint of a model that you expect to be exactly identical (initializing a BertForSequenceClassification model from a BertForSequenceClassification model).\n"
     ]
    },
    {
     "name": "stdout",
     "output_type": "stream",
     "text": [
      "Epoch 1 / 100\n"
     ]
    },
    {
     "name": "stderr",
     "output_type": "stream",
     "text": [
      "Train: 100%|██████████| 156/156 [00:41<00:00,  3.79it/s, loss=9.39]\n",
      "Val: 100%|██████████| 40/40 [00:07<00:00,  5.44it/s, loss=8.11]\n"
     ]
    },
    {
     "name": "stdout",
     "output_type": "stream",
     "text": [
      "Accuracy: 0.1597444089456869, Precision (micro): 0.19169329073482427, Recall (micro): 0.16806722689075632\n",
      "Epoch 2 / 100\n"
     ]
    },
    {
     "name": "stderr",
     "output_type": "stream",
     "text": [
      "Train: 100%|██████████| 156/156 [00:40<00:00,  3.87it/s, loss=7.13]\n",
      "Val: 100%|██████████| 40/40 [00:07<00:00,  5.61it/s, loss=6.28]\n"
     ]
    },
    {
     "name": "stdout",
     "output_type": "stream",
     "text": [
      "Accuracy: 0.16293929712460065, Precision (micro): 0.19488817891373802, Recall (micro): 0.17086834733893558\n",
      "Epoch 3 / 100\n"
     ]
    },
    {
     "name": "stderr",
     "output_type": "stream",
     "text": [
      "Train: 100%|██████████| 156/156 [00:40<00:00,  3.88it/s, loss=6.10]\n",
      "Val: 100%|██████████| 40/40 [00:07<00:00,  5.48it/s, loss=5.55]\n"
     ]
    },
    {
     "name": "stdout",
     "output_type": "stream",
     "text": [
      "Accuracy: 0.16293929712460065, Precision (micro): 0.19488817891373802, Recall (micro): 0.17086834733893558\n",
      "Epoch 4 / 100\n"
     ]
    },
    {
     "name": "stderr",
     "output_type": "stream",
     "text": [
      "Train: 100%|██████████| 156/156 [00:39<00:00,  3.94it/s, loss=5.59]\n",
      "Val: 100%|██████████| 40/40 [00:07<00:00,  5.61it/s, loss=5.09]\n"
     ]
    },
    {
     "name": "stdout",
     "output_type": "stream",
     "text": [
      "Accuracy: 0.16293929712460065, Precision (micro): 0.19488817891373802, Recall (micro): 0.17086834733893558\n",
      "Epoch 5 / 100\n"
     ]
    },
    {
     "name": "stderr",
     "output_type": "stream",
     "text": [
      "Train: 100%|██████████| 156/156 [00:38<00:00,  4.04it/s, loss=5.25]\n",
      "Val: 100%|██████████| 40/40 [00:06<00:00,  5.76it/s, loss=4.75]\n"
     ]
    },
    {
     "name": "stdout",
     "output_type": "stream",
     "text": [
      "Accuracy: 0.24920127795527156, Precision (micro): 0.2971246006389776, Recall (micro): 0.2605042016806723\n",
      "Epoch 6 / 100\n"
     ]
    },
    {
     "name": "stderr",
     "output_type": "stream",
     "text": [
      "Train: 100%|██████████| 156/156 [00:38<00:00,  4.04it/s, loss=5.00]\n",
      "Val: 100%|██████████| 40/40 [00:07<00:00,  5.61it/s, loss=4.51]\n"
     ]
    },
    {
     "name": "stdout",
     "output_type": "stream",
     "text": [
      "Accuracy: 0.25559105431309903, Precision (micro): 0.3035143769968051, Recall (micro): 0.2661064425770308\n",
      "Epoch 7 / 100\n"
     ]
    },
    {
     "name": "stderr",
     "output_type": "stream",
     "text": [
      "Train: 100%|██████████| 156/156 [00:38<00:00,  4.03it/s, loss=4.83]\n",
      "Val: 100%|██████████| 40/40 [00:07<00:00,  5.71it/s, loss=4.29]\n"
     ]
    },
    {
     "name": "stdout",
     "output_type": "stream",
     "text": [
      "Accuracy: 0.25559105431309903, Precision (micro): 0.3035143769968051, Recall (micro): 0.2661064425770308\n",
      "Epoch 8 / 100\n"
     ]
    },
    {
     "name": "stderr",
     "output_type": "stream",
     "text": [
      "Train: 100%|██████████| 156/156 [00:39<00:00,  3.96it/s, loss=4.64]\n",
      "Val: 100%|██████████| 40/40 [00:08<00:00,  4.70it/s, loss=4.10]\n"
     ]
    },
    {
     "name": "stdout",
     "output_type": "stream",
     "text": [
      "Accuracy: 0.4217252396166134, Precision (micro): 0.5175718849840255, Recall (micro): 0.453781512605042\n",
      "Epoch 9 / 100\n"
     ]
    },
    {
     "name": "stderr",
     "output_type": "stream",
     "text": [
      "Train: 100%|██████████| 156/156 [00:39<00:00,  3.95it/s, loss=4.47]\n",
      "Val: 100%|██████████| 40/40 [00:08<00:00,  4.77it/s, loss=3.92]\n"
     ]
    },
    {
     "name": "stdout",
     "output_type": "stream",
     "text": [
      "Accuracy: 0.49201277955271566, Precision (micro): 0.6038338658146964, Recall (micro): 0.5294117647058824\n",
      "Epoch 10 / 100\n"
     ]
    },
    {
     "name": "stderr",
     "output_type": "stream",
     "text": [
      "Train: 100%|██████████| 156/156 [00:40<00:00,  3.82it/s, loss=4.24]\n",
      "Val: 100%|██████████| 40/40 [00:07<00:00,  5.24it/s, loss=3.77]\n"
     ]
    },
    {
     "name": "stdout",
     "output_type": "stream",
     "text": [
      "Accuracy: 0.5079872204472844, Precision (micro): 0.6166134185303515, Recall (micro): 0.5406162464985994\n",
      "Epoch 11 / 100\n"
     ]
    },
    {
     "name": "stderr",
     "output_type": "stream",
     "text": [
      "Train: 100%|██████████| 156/156 [00:40<00:00,  3.86it/s, loss=4.16]\n",
      "Val: 100%|██████████| 40/40 [00:07<00:00,  5.49it/s, loss=3.61]\n"
     ]
    },
    {
     "name": "stdout",
     "output_type": "stream",
     "text": [
      "Accuracy: 0.6485623003194888, Precision (micro): 0.7699680511182109, Recall (micro): 0.6750700280112045\n",
      "Epoch 12 / 100\n"
     ]
    },
    {
     "name": "stderr",
     "output_type": "stream",
     "text": [
      "Train: 100%|██████████| 156/156 [00:40<00:00,  3.88it/s, loss=3.94]\n",
      "Val: 100%|██████████| 40/40 [00:07<00:00,  5.21it/s, loss=3.42]\n"
     ]
    },
    {
     "name": "stdout",
     "output_type": "stream",
     "text": [
      "Accuracy: 0.6549520766773163, Precision (micro): 0.7731629392971247, Recall (micro): 0.6778711484593838\n",
      "Epoch 13 / 100\n"
     ]
    },
    {
     "name": "stderr",
     "output_type": "stream",
     "text": [
      "Train: 100%|██████████| 156/156 [00:39<00:00,  3.98it/s, loss=3.77]\n",
      "Val: 100%|██████████| 40/40 [00:07<00:00,  5.11it/s, loss=3.32]\n"
     ]
    },
    {
     "name": "stdout",
     "output_type": "stream",
     "text": [
      "Accuracy: 0.6773162939297125, Precision (micro): 0.7891373801916933, Recall (micro): 0.6918767507002801\n",
      "Epoch 14 / 100\n"
     ]
    },
    {
     "name": "stderr",
     "output_type": "stream",
     "text": [
      "Train: 100%|██████████| 156/156 [00:38<00:00,  4.00it/s, loss=3.64]\n",
      "Val: 100%|██████████| 40/40 [00:06<00:00,  6.14it/s, loss=3.21]\n"
     ]
    },
    {
     "name": "stdout",
     "output_type": "stream",
     "text": [
      "Accuracy: 0.7156549520766773, Precision (micro): 0.8306709265175719, Recall (micro): 0.7282913165266106\n",
      "Epoch 15 / 100\n"
     ]
    },
    {
     "name": "stderr",
     "output_type": "stream",
     "text": [
      "Train: 100%|██████████| 156/156 [00:39<00:00,  3.96it/s, loss=3.42]\n",
      "Val: 100%|██████████| 40/40 [00:07<00:00,  5.28it/s, loss=3.01]\n"
     ]
    },
    {
     "name": "stdout",
     "output_type": "stream",
     "text": [
      "Accuracy: 0.7252396166134185, Precision (micro): 0.8498402555910544, Recall (micro): 0.7450980392156863\n",
      "Epoch 16 / 100\n"
     ]
    },
    {
     "name": "stderr",
     "output_type": "stream",
     "text": [
      "Train: 100%|██████████| 156/156 [00:39<00:00,  3.97it/s, loss=3.29]\n",
      "Val: 100%|██████████| 40/40 [00:07<00:00,  5.41it/s, loss=2.84]\n"
     ]
    },
    {
     "name": "stdout",
     "output_type": "stream",
     "text": [
      "Accuracy: 0.7220447284345048, Precision (micro): 0.8343949044585988, Recall (micro): 0.7338935574229691\n",
      "Epoch 17 / 100\n"
     ]
    },
    {
     "name": "stderr",
     "output_type": "stream",
     "text": [
      "Train: 100%|██████████| 156/156 [00:40<00:00,  3.87it/s, loss=3.14]\n",
      "Val: 100%|██████████| 40/40 [00:07<00:00,  5.62it/s, loss=2.77]\n"
     ]
    },
    {
     "name": "stdout",
     "output_type": "stream",
     "text": [
      "Accuracy: 0.7124600638977636, Precision (micro): 0.8312101910828026, Recall (micro): 0.7310924369747899\n",
      "Epoch 18 / 100\n"
     ]
    },
    {
     "name": "stderr",
     "output_type": "stream",
     "text": [
      "Train: 100%|██████████| 156/156 [00:40<00:00,  3.84it/s, loss=2.97]\n",
      "Val: 100%|██████████| 40/40 [00:07<00:00,  5.42it/s, loss=2.72]\n"
     ]
    },
    {
     "name": "stdout",
     "output_type": "stream",
     "text": [
      "Accuracy: 0.7124600638977636, Precision (micro): 0.8338658146964856, Recall (micro): 0.7310924369747899\n",
      "Epoch 19 / 100\n"
     ]
    },
    {
     "name": "stderr",
     "output_type": "stream",
     "text": [
      "Train: 100%|██████████| 156/156 [00:40<00:00,  3.89it/s, loss=2.87]\n",
      "Val: 100%|██████████| 40/40 [00:07<00:00,  5.28it/s, loss=2.59]\n"
     ]
    },
    {
     "name": "stdout",
     "output_type": "stream",
     "text": [
      "Accuracy: 0.7188498402555911, Precision (micro): 0.8407643312101911, Recall (micro): 0.7394957983193278\n",
      "Epoch 20 / 100\n"
     ]
    },
    {
     "name": "stderr",
     "output_type": "stream",
     "text": [
      "Train: 100%|██████████| 156/156 [00:40<00:00,  3.88it/s, loss=2.78]\n",
      "Val: 100%|██████████| 40/40 [00:07<00:00,  5.32it/s, loss=2.48]\n"
     ]
    },
    {
     "name": "stdout",
     "output_type": "stream",
     "text": [
      "Accuracy: 0.7412140575079872, Precision (micro): 0.8517350157728707, Recall (micro): 0.7563025210084033\n",
      "Epoch 21 / 100\n"
     ]
    },
    {
     "name": "stderr",
     "output_type": "stream",
     "text": [
      "Train: 100%|██████████| 156/156 [00:39<00:00,  3.91it/s, loss=2.67]\n",
      "Val: 100%|██████████| 40/40 [00:07<00:00,  5.41it/s, loss=2.50]\n"
     ]
    },
    {
     "name": "stdout",
     "output_type": "stream",
     "text": [
      "Accuracy: 0.7348242811501597, Precision (micro): 0.8432601880877743, Recall (micro): 0.7535014005602241\n",
      "Epoch 22 / 100\n"
     ]
    },
    {
     "name": "stderr",
     "output_type": "stream",
     "text": [
      "Train: 100%|██████████| 156/156 [00:40<00:00,  3.89it/s, loss=2.60]\n",
      "Val: 100%|██████████| 40/40 [00:07<00:00,  5.57it/s, loss=2.41]\n"
     ]
    },
    {
     "name": "stdout",
     "output_type": "stream",
     "text": [
      "Accuracy: 0.7284345047923323, Precision (micro): 0.8364779874213837, Recall (micro): 0.7450980392156863\n",
      "Epoch 23 / 100\n"
     ]
    },
    {
     "name": "stderr",
     "output_type": "stream",
     "text": [
      "Train: 100%|██████████| 156/156 [00:39<00:00,  3.96it/s, loss=2.54]\n",
      "Val: 100%|██████████| 40/40 [00:07<00:00,  5.68it/s, loss=2.27]\n"
     ]
    },
    {
     "name": "stdout",
     "output_type": "stream",
     "text": [
      "Accuracy: 0.7476038338658147, Precision (micro): 0.8540372670807453, Recall (micro): 0.7703081232492998\n",
      "Epoch 24 / 100\n"
     ]
    },
    {
     "name": "stderr",
     "output_type": "stream",
     "text": [
      "Train: 100%|██████████| 156/156 [00:38<00:00,  4.00it/s, loss=2.46]\n",
      "Val: 100%|██████████| 40/40 [00:05<00:00,  6.97it/s, loss=2.24]\n"
     ]
    },
    {
     "name": "stdout",
     "output_type": "stream",
     "text": [
      "Accuracy: 0.7380191693290735, Precision (micro): 0.85, Recall (micro): 0.7619047619047619\n",
      "Epoch 25 / 100\n"
     ]
    },
    {
     "name": "stderr",
     "output_type": "stream",
     "text": [
      "Train: 100%|██████████| 156/156 [00:39<00:00,  3.92it/s, loss=2.43]\n",
      "Val: 100%|██████████| 40/40 [00:07<00:00,  5.48it/s, loss=2.19]\n"
     ]
    },
    {
     "name": "stdout",
     "output_type": "stream",
     "text": [
      "Accuracy: 0.7380191693290735, Precision (micro): 0.8509316770186336, Recall (micro): 0.7675070028011205\n",
      "Epoch 26 / 100\n"
     ]
    },
    {
     "name": "stderr",
     "output_type": "stream",
     "text": [
      "Train: 100%|██████████| 156/156 [00:36<00:00,  4.29it/s, loss=2.28]\n",
      "Val: 100%|██████████| 40/40 [00:08<00:00,  4.55it/s, loss=2.11]\n"
     ]
    },
    {
     "name": "stdout",
     "output_type": "stream",
     "text": [
      "Accuracy: 0.744408945686901, Precision (micro): 0.8553846153846154, Recall (micro): 0.7787114845938375\n",
      "Epoch 27 / 100\n"
     ]
    },
    {
     "name": "stderr",
     "output_type": "stream",
     "text": [
      "Train: 100%|██████████| 156/156 [00:53<00:00,  2.91it/s, loss=2.26]\n",
      "Val: 100%|██████████| 40/40 [00:10<00:00,  3.68it/s, loss=2.06]\n"
     ]
    },
    {
     "name": "stdout",
     "output_type": "stream",
     "text": [
      "Accuracy: 0.7539936102236422, Precision (micro): 0.8571428571428571, Recall (micro): 0.7899159663865546\n",
      "Epoch 28 / 100\n"
     ]
    },
    {
     "name": "stderr",
     "output_type": "stream",
     "text": [
      "Train: 100%|██████████| 156/156 [00:53<00:00,  2.94it/s, loss=2.18]\n",
      "Val: 100%|██████████| 40/40 [00:10<00:00,  3.76it/s, loss=1.98]\n"
     ]
    },
    {
     "name": "stdout",
     "output_type": "stream",
     "text": [
      "Accuracy: 0.7603833865814696, Precision (micro): 0.8593272171253823, Recall (micro): 0.7871148459383753\n",
      "Epoch 29 / 100\n"
     ]
    },
    {
     "name": "stderr",
     "output_type": "stream",
     "text": [
      "Train: 100%|██████████| 156/156 [00:53<00:00,  2.94it/s, loss=2.13]\n",
      "Val: 100%|██████████| 40/40 [00:10<00:00,  3.70it/s, loss=2.00]\n"
     ]
    },
    {
     "name": "stdout",
     "output_type": "stream",
     "text": [
      "Accuracy: 0.7571884984025559, Precision (micro): 0.8575757575757575, Recall (micro): 0.7927170868347339\n",
      "Epoch 30 / 100\n"
     ]
    },
    {
     "name": "stderr",
     "output_type": "stream",
     "text": [
      "Train: 100%|██████████| 156/156 [00:53<00:00,  2.89it/s, loss=2.15]\n",
      "Val: 100%|██████████| 40/40 [00:11<00:00,  3.40it/s, loss=1.89]\n"
     ]
    },
    {
     "name": "stdout",
     "output_type": "stream",
     "text": [
      "Accuracy: 0.7667731629392971, Precision (micro): 0.8619631901840491, Recall (micro): 0.7871148459383753\n",
      "Epoch 31 / 100\n"
     ]
    },
    {
     "name": "stderr",
     "output_type": "stream",
     "text": [
      "Train: 100%|██████████| 156/156 [00:53<00:00,  2.92it/s, loss=2.10]\n",
      "Val: 100%|██████████| 40/40 [00:11<00:00,  3.46it/s, loss=1.90]\n"
     ]
    },
    {
     "name": "stdout",
     "output_type": "stream",
     "text": [
      "Accuracy: 0.7795527156549521, Precision (micro): 0.8693009118541033, Recall (micro): 0.8011204481792717\n",
      "Epoch 32 / 100\n"
     ]
    },
    {
     "name": "stderr",
     "output_type": "stream",
     "text": [
      "Train: 100%|██████████| 156/156 [00:53<00:00,  2.91it/s, loss=1.99]\n",
      "Val: 100%|██████████| 40/40 [00:11<00:00,  3.55it/s, loss=1.95]\n"
     ]
    },
    {
     "name": "stdout",
     "output_type": "stream",
     "text": [
      "Accuracy: 0.7635782747603834, Precision (micro): 0.863905325443787, Recall (micro): 0.8179271708683473\n",
      "Epoch 33 / 100\n"
     ]
    },
    {
     "name": "stderr",
     "output_type": "stream",
     "text": [
      "Train: 100%|██████████| 156/156 [00:54<00:00,  2.88it/s, loss=1.97]\n",
      "Val: 100%|██████████| 40/40 [00:11<00:00,  3.59it/s, loss=1.83]\n"
     ]
    },
    {
     "name": "stdout",
     "output_type": "stream",
     "text": [
      "Accuracy: 0.7667731629392971, Precision (micro): 0.8529411764705882, Recall (micro): 0.8123249299719888\n",
      "Epoch 34 / 100\n"
     ]
    },
    {
     "name": "stderr",
     "output_type": "stream",
     "text": [
      "Train: 100%|██████████| 156/156 [00:54<00:00,  2.87it/s, loss=1.91]\n",
      "Val: 100%|██████████| 40/40 [00:11<00:00,  3.56it/s, loss=1.88]\n"
     ]
    },
    {
     "name": "stdout",
     "output_type": "stream",
     "text": [
      "Accuracy: 0.7539936102236422, Precision (micro): 0.8411764705882353, Recall (micro): 0.8011204481792717\n",
      "Epoch 35 / 100\n"
     ]
    },
    {
     "name": "stderr",
     "output_type": "stream",
     "text": [
      "Train: 100%|██████████| 156/156 [00:54<00:00,  2.89it/s, loss=1.89]\n",
      "Val: 100%|██████████| 40/40 [00:11<00:00,  3.35it/s, loss=1.82]\n"
     ]
    },
    {
     "name": "stdout",
     "output_type": "stream",
     "text": [
      "Accuracy: 0.7763578274760383, Precision (micro): 0.8626865671641791, Recall (micro): 0.8095238095238095\n",
      "Epoch 36 / 100\n"
     ]
    },
    {
     "name": "stderr",
     "output_type": "stream",
     "text": [
      "Train: 100%|██████████| 156/156 [00:56<00:00,  2.74it/s, loss=1.88]\n",
      "Val: 100%|██████████| 40/40 [00:11<00:00,  3.44it/s, loss=1.81]\n"
     ]
    },
    {
     "name": "stdout",
     "output_type": "stream",
     "text": [
      "Accuracy: 0.7571884984025559, Precision (micro): 0.8441176470588235, Recall (micro): 0.803921568627451\n",
      "Epoch 37 / 100\n"
     ]
    },
    {
     "name": "stderr",
     "output_type": "stream",
     "text": [
      "Train: 100%|██████████| 156/156 [00:53<00:00,  2.91it/s, loss=1.86]\n",
      "Val: 100%|██████████| 40/40 [00:12<00:00,  3.17it/s, loss=1.85]\n"
     ]
    },
    {
     "name": "stdout",
     "output_type": "stream",
     "text": [
      "Accuracy: 0.7571884984025559, Precision (micro): 0.8391812865497076, Recall (micro): 0.803921568627451\n",
      "Epoch 38 / 100\n"
     ]
    },
    {
     "name": "stderr",
     "output_type": "stream",
     "text": [
      "Train: 100%|██████████| 156/156 [00:52<00:00,  2.98it/s, loss=1.79]\n",
      "Val: 100%|██████████| 40/40 [00:12<00:00,  3.25it/s, loss=1.68]\n"
     ]
    },
    {
     "name": "stdout",
     "output_type": "stream",
     "text": [
      "Accuracy: 0.7635782747603834, Precision (micro): 0.8511904761904762, Recall (micro): 0.8011204481792717\n",
      "Epoch 39 / 100\n"
     ]
    },
    {
     "name": "stderr",
     "output_type": "stream",
     "text": [
      "Train: 100%|██████████| 156/156 [00:53<00:00,  2.92it/s, loss=1.76]\n",
      "Val: 100%|██████████| 40/40 [00:11<00:00,  3.46it/s, loss=1.77]\n"
     ]
    },
    {
     "name": "stdout",
     "output_type": "stream",
     "text": [
      "Accuracy: 0.7635782747603834, Precision (micro): 0.839541547277937, Recall (micro): 0.8207282913165266\n",
      "Epoch 40 / 100\n"
     ]
    },
    {
     "name": "stderr",
     "output_type": "stream",
     "text": [
      "Train: 100%|██████████| 156/156 [00:54<00:00,  2.87it/s, loss=1.73]\n",
      "Val: 100%|██████████| 40/40 [00:11<00:00,  3.54it/s, loss=1.65]\n"
     ]
    },
    {
     "name": "stdout",
     "output_type": "stream",
     "text": [
      "Accuracy: 0.7763578274760383, Precision (micro): 0.8542274052478134, Recall (micro): 0.8207282913165266\n",
      "Epoch 41 / 100\n"
     ]
    },
    {
     "name": "stderr",
     "output_type": "stream",
     "text": [
      "Train: 100%|██████████| 156/156 [00:54<00:00,  2.88it/s, loss=1.68]\n",
      "Val: 100%|██████████| 40/40 [00:14<00:00,  2.84it/s, loss=1.68]\n"
     ]
    },
    {
     "name": "stdout",
     "output_type": "stream",
     "text": [
      "Accuracy: 0.7667731629392971, Precision (micro): 0.8428571428571429, Recall (micro): 0.8263305322128851\n",
      "Epoch 42 / 100\n"
     ]
    },
    {
     "name": "stderr",
     "output_type": "stream",
     "text": [
      "Train: 100%|██████████| 156/156 [00:55<00:00,  2.83it/s, loss=1.68]\n",
      "Val: 100%|██████████| 40/40 [00:11<00:00,  3.56it/s, loss=1.82]\n"
     ]
    },
    {
     "name": "stdout",
     "output_type": "stream",
     "text": [
      "Accuracy: 0.744408945686901, Precision (micro): 0.8333333333333334, Recall (micro): 0.8263305322128851\n",
      "Epoch 43 / 100\n"
     ]
    },
    {
     "name": "stderr",
     "output_type": "stream",
     "text": [
      "Train: 100%|██████████| 156/156 [00:54<00:00,  2.85it/s, loss=1.71]\n",
      "Val: 100%|██████████| 40/40 [00:14<00:00,  2.67it/s, loss=1.68]\n"
     ]
    },
    {
     "name": "stdout",
     "output_type": "stream",
     "text": [
      "Accuracy: 0.7635782747603834, Precision (micro): 0.84375, Recall (micro): 0.8319327731092437\n",
      "Epoch 44 / 100\n"
     ]
    },
    {
     "name": "stderr",
     "output_type": "stream",
     "text": [
      "Train: 100%|██████████| 156/156 [00:53<00:00,  2.91it/s, loss=1.63]\n",
      "Val: 100%|██████████| 40/40 [00:10<00:00,  3.68it/s, loss=1.66]\n"
     ]
    },
    {
     "name": "stdout",
     "output_type": "stream",
     "text": [
      "Accuracy: 0.7603833865814696, Precision (micro): 0.8333333333333334, Recall (micro): 0.8263305322128851\n",
      "Epoch 45 / 100\n"
     ]
    },
    {
     "name": "stderr",
     "output_type": "stream",
     "text": [
      "Train: 100%|██████████| 156/156 [00:51<00:00,  3.00it/s, loss=1.57]\n",
      "Val: 100%|██████████| 40/40 [00:11<00:00,  3.63it/s, loss=1.58]\n"
     ]
    },
    {
     "name": "stdout",
     "output_type": "stream",
     "text": [
      "Accuracy: 0.7539936102236422, Precision (micro): 0.8394366197183099, Recall (micro): 0.834733893557423\n",
      "Epoch 46 / 100\n"
     ]
    },
    {
     "name": "stderr",
     "output_type": "stream",
     "text": [
      "Train: 100%|██████████| 156/156 [00:52<00:00,  2.99it/s, loss=1.62]\n",
      "Val: 100%|██████████| 40/40 [00:11<00:00,  3.61it/s, loss=1.75]\n"
     ]
    },
    {
     "name": "stdout",
     "output_type": "stream",
     "text": [
      "Accuracy: 0.7348242811501597, Precision (micro): 0.8161559888579387, Recall (micro): 0.8207282913165266\n",
      "Epoch 47 / 100\n"
     ]
    },
    {
     "name": "stderr",
     "output_type": "stream",
     "text": [
      "Train: 100%|██████████| 156/156 [00:52<00:00,  2.99it/s, loss=1.56]\n",
      "Val: 100%|██████████| 40/40 [00:11<00:00,  3.57it/s, loss=1.60]\n"
     ]
    },
    {
     "name": "stdout",
     "output_type": "stream",
     "text": [
      "Accuracy: 0.7507987220447284, Precision (micro): 0.8404558404558404, Recall (micro): 0.8263305322128851\n",
      "Epoch 48 / 100\n"
     ]
    },
    {
     "name": "stderr",
     "output_type": "stream",
     "text": [
      "Train: 100%|██████████| 156/156 [00:52<00:00,  2.98it/s, loss=1.52]\n",
      "Val: 100%|██████████| 40/40 [00:10<00:00,  3.64it/s, loss=1.55]\n"
     ]
    },
    {
     "name": "stdout",
     "output_type": "stream",
     "text": [
      "Accuracy: 0.7603833865814696, Precision (micro): 0.8418079096045198, Recall (micro): 0.834733893557423\n",
      "Epoch 49 / 100\n"
     ]
    },
    {
     "name": "stderr",
     "output_type": "stream",
     "text": [
      "Train: 100%|██████████| 156/156 [00:52<00:00,  2.99it/s, loss=1.53]\n",
      "Val: 100%|██████████| 40/40 [00:11<00:00,  3.58it/s, loss=1.67]\n"
     ]
    },
    {
     "name": "stdout",
     "output_type": "stream",
     "text": [
      "Accuracy: 0.744408945686901, Precision (micro): 0.8286516853932584, Recall (micro): 0.8263305322128851\n",
      "Epoch 50 / 100\n"
     ]
    },
    {
     "name": "stderr",
     "output_type": "stream",
     "text": [
      "Train: 100%|██████████| 156/156 [00:52<00:00,  2.99it/s, loss=1.49]\n",
      "Val: 100%|██████████| 40/40 [00:11<00:00,  3.60it/s, loss=1.59]\n"
     ]
    },
    {
     "name": "stdout",
     "output_type": "stream",
     "text": [
      "Accuracy: 0.7539936102236422, Precision (micro): 0.8296089385474861, Recall (micro): 0.8319327731092437\n",
      "Epoch 51 / 100\n"
     ]
    },
    {
     "name": "stderr",
     "output_type": "stream",
     "text": [
      "Train: 100%|██████████| 156/156 [00:52<00:00,  2.99it/s, loss=1.47]\n",
      "Val: 100%|██████████| 40/40 [00:11<00:00,  3.62it/s, loss=1.54]\n"
     ]
    },
    {
     "name": "stdout",
     "output_type": "stream",
     "text": [
      "Accuracy: 0.7699680511182109, Precision (micro): 0.841225626740947, Recall (micro): 0.84593837535014\n",
      "Epoch 52 / 100\n"
     ]
    },
    {
     "name": "stderr",
     "output_type": "stream",
     "text": [
      "Train: 100%|██████████| 156/156 [00:52<00:00,  3.00it/s, loss=1.44]\n",
      "Val: 100%|██████████| 40/40 [00:11<00:00,  3.61it/s, loss=1.82]\n"
     ]
    },
    {
     "name": "stdout",
     "output_type": "stream",
     "text": [
      "Accuracy: 0.7539936102236422, Precision (micro): 0.8301369863013699, Recall (micro): 0.8487394957983193\n",
      "Epoch 53 / 100\n"
     ]
    },
    {
     "name": "stderr",
     "output_type": "stream",
     "text": [
      "Train: 100%|██████████| 156/156 [00:52<00:00,  3.00it/s, loss=1.48]\n",
      "Val: 100%|██████████| 40/40 [00:11<00:00,  3.58it/s, loss=1.60]\n"
     ]
    },
    {
     "name": "stdout",
     "output_type": "stream",
     "text": [
      "Accuracy: 0.7476038338658147, Precision (micro): 0.8319327731092437, Recall (micro): 0.8319327731092437\n",
      "Epoch 54 / 100\n"
     ]
    },
    {
     "name": "stderr",
     "output_type": "stream",
     "text": [
      "Train: 100%|██████████| 156/156 [00:52<00:00,  2.99it/s, loss=1.46]\n",
      "Val: 100%|██████████| 40/40 [00:11<00:00,  3.62it/s, loss=1.66]\n"
     ]
    },
    {
     "name": "stdout",
     "output_type": "stream",
     "text": [
      "Accuracy: 0.7380191693290735, Precision (micro): 0.8164383561643835, Recall (micro): 0.834733893557423\n",
      "Epoch 55 / 100\n"
     ]
    },
    {
     "name": "stderr",
     "output_type": "stream",
     "text": [
      "Train: 100%|██████████| 156/156 [00:51<00:00,  3.01it/s, loss=1.43]\n",
      "Val: 100%|██████████| 40/40 [00:11<00:00,  3.60it/s, loss=1.61]\n"
     ]
    },
    {
     "name": "stdout",
     "output_type": "stream",
     "text": [
      "Accuracy: 0.744408945686901, Precision (micro): 0.8273972602739726, Recall (micro): 0.84593837535014\n",
      "Epoch 56 / 100\n"
     ]
    },
    {
     "name": "stderr",
     "output_type": "stream",
     "text": [
      "Train: 100%|██████████| 156/156 [00:51<00:00,  3.05it/s, loss=1.43]\n",
      "Val: 100%|██████████| 40/40 [00:11<00:00,  3.62it/s, loss=1.55]\n"
     ]
    },
    {
     "name": "stdout",
     "output_type": "stream",
     "text": [
      "Accuracy: 0.7476038338658147, Precision (micro): 0.8224043715846995, Recall (micro): 0.8431372549019608\n",
      "Epoch 57 / 100\n"
     ]
    },
    {
     "name": "stderr",
     "output_type": "stream",
     "text": [
      "Train: 100%|██████████| 156/156 [00:50<00:00,  3.07it/s, loss=1.39]\n",
      "Val: 100%|██████████| 40/40 [00:10<00:00,  3.82it/s, loss=1.53]\n"
     ]
    },
    {
     "name": "stdout",
     "output_type": "stream",
     "text": [
      "Accuracy: 0.7603833865814696, Precision (micro): 0.8287292817679558, Recall (micro): 0.8403361344537815\n",
      "Epoch 58 / 100\n"
     ]
    },
    {
     "name": "stderr",
     "output_type": "stream",
     "text": [
      "Train: 100%|██████████| 156/156 [00:51<00:00,  3.02it/s, loss=1.37]\n",
      "Val: 100%|██████████| 40/40 [00:10<00:00,  3.85it/s, loss=1.52]\n"
     ]
    },
    {
     "name": "stdout",
     "output_type": "stream",
     "text": [
      "Accuracy: 0.7603833865814696, Precision (micro): 0.8398876404494382, Recall (micro): 0.8375350140056023\n",
      "Epoch 59 / 100\n"
     ]
    },
    {
     "name": "stderr",
     "output_type": "stream",
     "text": [
      "Train: 100%|██████████| 156/156 [00:51<00:00,  3.05it/s, loss=1.39]\n",
      "Val: 100%|██████████| 40/40 [00:11<00:00,  3.58it/s, loss=1.64]\n"
     ]
    },
    {
     "name": "stdout",
     "output_type": "stream",
     "text": [
      "Accuracy: 0.7507987220447284, Precision (micro): 0.8211382113821138, Recall (micro): 0.8487394957983193\n",
      "Epoch 60 / 100\n"
     ]
    },
    {
     "name": "stderr",
     "output_type": "stream",
     "text": [
      "Train: 100%|██████████| 156/156 [00:51<00:00,  3.04it/s, loss=1.32]\n",
      "Val: 100%|██████████| 40/40 [00:10<00:00,  3.81it/s, loss=1.56]\n"
     ]
    },
    {
     "name": "stdout",
     "output_type": "stream",
     "text": [
      "Accuracy: 0.7412140575079872, Precision (micro): 0.8138297872340425, Recall (micro): 0.8571428571428571\n",
      "Epoch 61 / 100\n"
     ]
    },
    {
     "name": "stderr",
     "output_type": "stream",
     "text": [
      "Train: 100%|██████████| 156/156 [00:51<00:00,  3.03it/s, loss=1.35]\n",
      "Val: 100%|██████████| 40/40 [00:10<00:00,  3.65it/s, loss=1.57]\n"
     ]
    },
    {
     "name": "stdout",
     "output_type": "stream",
     "text": [
      "Accuracy: 0.7507987220447284, Precision (micro): 0.8283378746594006, Recall (micro): 0.8515406162464986\n",
      "Epoch 62 / 100\n"
     ]
    },
    {
     "name": "stderr",
     "output_type": "stream",
     "text": [
      "Train: 100%|██████████| 156/156 [00:51<00:00,  3.03it/s, loss=1.35]\n",
      "Val: 100%|██████████| 40/40 [00:10<00:00,  3.67it/s, loss=1.59]\n"
     ]
    },
    {
     "name": "stdout",
     "output_type": "stream",
     "text": [
      "Accuracy: 0.7284345047923323, Precision (micro): 0.8091397849462365, Recall (micro): 0.8431372549019608\n",
      "Epoch 63 / 100\n"
     ]
    },
    {
     "name": "stderr",
     "output_type": "stream",
     "text": [
      "Train: 100%|██████████| 156/156 [00:51<00:00,  3.03it/s, loss=1.32]\n",
      "Val: 100%|██████████| 40/40 [00:10<00:00,  3.75it/s, loss=1.57]\n"
     ]
    },
    {
     "name": "stdout",
     "output_type": "stream",
     "text": [
      "Accuracy: 0.7412140575079872, Precision (micro): 0.8189189189189189, Recall (micro): 0.8487394957983193\n",
      "Epoch 64 / 100\n"
     ]
    },
    {
     "name": "stderr",
     "output_type": "stream",
     "text": [
      "Train: 100%|██████████| 156/156 [00:51<00:00,  3.03it/s, loss=1.29]\n",
      "Val: 100%|██████████| 40/40 [00:11<00:00,  3.59it/s, loss=1.64]\n"
     ]
    },
    {
     "name": "stdout",
     "output_type": "stream",
     "text": [
      "Accuracy: 0.7603833865814696, Precision (micro): 0.8324175824175825, Recall (micro): 0.8487394957983193\n",
      "Epoch 65 / 100\n"
     ]
    },
    {
     "name": "stderr",
     "output_type": "stream",
     "text": [
      "Train: 100%|██████████| 156/156 [00:51<00:00,  3.02it/s, loss=1.31]\n",
      "Val: 100%|██████████| 40/40 [00:11<00:00,  3.63it/s, loss=1.68]\n"
     ]
    },
    {
     "name": "stdout",
     "output_type": "stream",
     "text": [
      "Accuracy: 0.7635782747603834, Precision (micro): 0.8324175824175825, Recall (micro): 0.8487394957983193\n",
      "Epoch 66 / 100\n"
     ]
    },
    {
     "name": "stderr",
     "output_type": "stream",
     "text": [
      "Train: 100%|██████████| 156/156 [00:51<00:00,  3.00it/s, loss=1.30]\n",
      "Val: 100%|██████████| 40/40 [00:10<00:00,  3.72it/s, loss=1.39]\n"
     ]
    },
    {
     "name": "stdout",
     "output_type": "stream",
     "text": [
      "Accuracy: 0.7412140575079872, Precision (micro): 0.8361111111111111, Recall (micro): 0.8431372549019608\n",
      "Epoch 67 / 100\n"
     ]
    },
    {
     "name": "stderr",
     "output_type": "stream",
     "text": [
      "Train: 100%|██████████| 156/156 [00:52<00:00,  3.00it/s, loss=1.32]\n",
      "Val: 100%|██████████| 40/40 [00:10<00:00,  3.73it/s, loss=1.69]\n"
     ]
    },
    {
     "name": "stdout",
     "output_type": "stream",
     "text": [
      "Accuracy: 0.7124600638977636, Precision (micro): 0.7978142076502732, Recall (micro): 0.8179271708683473\n",
      "Epoch 68 / 100\n"
     ]
    },
    {
     "name": "stderr",
     "output_type": "stream",
     "text": [
      "Train: 100%|██████████| 156/156 [00:52<00:00,  3.00it/s, loss=1.32]\n",
      "Val: 100%|██████████| 40/40 [00:10<00:00,  3.68it/s, loss=1.57]\n"
     ]
    },
    {
     "name": "stdout",
     "output_type": "stream",
     "text": [
      "Accuracy: 0.7284345047923323, Precision (micro): 0.8131868131868132, Recall (micro): 0.8291316526610645\n",
      "Epoch 69 / 100\n"
     ]
    },
    {
     "name": "stderr",
     "output_type": "stream",
     "text": [
      "Train: 100%|██████████| 156/156 [00:52<00:00,  2.99it/s, loss=1.25]\n",
      "Val: 100%|██████████| 40/40 [00:11<00:00,  3.63it/s, loss=1.59]\n"
     ]
    },
    {
     "name": "stdout",
     "output_type": "stream",
     "text": [
      "Accuracy: 0.7412140575079872, Precision (micro): 0.816711590296496, Recall (micro): 0.8487394957983193\n",
      "Epoch 70 / 100\n"
     ]
    },
    {
     "name": "stderr",
     "output_type": "stream",
     "text": [
      "Train: 100%|██████████| 156/156 [00:51<00:00,  3.01it/s, loss=1.28]\n",
      "Val: 100%|██████████| 40/40 [00:11<00:00,  3.62it/s, loss=1.56]\n"
     ]
    },
    {
     "name": "stdout",
     "output_type": "stream",
     "text": [
      "Accuracy: 0.7412140575079872, Precision (micro): 0.8181818181818182, Recall (micro): 0.8571428571428571\n",
      "Epoch 71 / 100\n"
     ]
    },
    {
     "name": "stderr",
     "output_type": "stream",
     "text": [
      "Train: 100%|██████████| 156/156 [00:53<00:00,  2.92it/s, loss=1.22]\n",
      "Val: 100%|██████████| 40/40 [00:11<00:00,  3.63it/s, loss=1.53]\n"
     ]
    },
    {
     "name": "stdout",
     "output_type": "stream",
     "text": [
      "Accuracy: 0.744408945686901, Precision (micro): 0.824, Recall (micro): 0.865546218487395\n",
      "Epoch 72 / 100\n"
     ]
    },
    {
     "name": "stderr",
     "output_type": "stream",
     "text": [
      "Train: 100%|██████████| 156/156 [00:52<00:00,  3.00it/s, loss=1.22]\n",
      "Val: 100%|██████████| 40/40 [00:10<00:00,  3.64it/s, loss=1.58]\n"
     ]
    },
    {
     "name": "stdout",
     "output_type": "stream",
     "text": [
      "Accuracy: 0.744408945686901, Precision (micro): 0.8155080213903744, Recall (micro): 0.8543417366946778\n",
      "Epoch 73 / 100\n"
     ]
    },
    {
     "name": "stderr",
     "output_type": "stream",
     "text": [
      "Train: 100%|██████████| 156/156 [00:52<00:00,  3.00it/s, loss=1.21]\n",
      "Val: 100%|██████████| 40/40 [00:10<00:00,  3.67it/s, loss=1.53]\n"
     ]
    },
    {
     "name": "stdout",
     "output_type": "stream",
     "text": [
      "Accuracy: 0.7507987220447284, Precision (micro): 0.8216216216216217, Recall (micro): 0.8515406162464986\n",
      "Epoch 74 / 100\n"
     ]
    },
    {
     "name": "stderr",
     "output_type": "stream",
     "text": [
      "Train: 100%|██████████| 156/156 [00:52<00:00,  2.95it/s, loss=1.24]\n",
      "Val: 100%|██████████| 40/40 [00:12<00:00,  3.26it/s, loss=1.57]\n"
     ]
    },
    {
     "name": "stdout",
     "output_type": "stream",
     "text": [
      "Accuracy: 0.7476038338658147, Precision (micro): 0.8150134048257373, Recall (micro): 0.8515406162464986\n",
      "Epoch 75 / 100\n"
     ]
    },
    {
     "name": "stderr",
     "output_type": "stream",
     "text": [
      "Train: 100%|██████████| 156/156 [00:53<00:00,  2.91it/s, loss=1.19]\n",
      "Val: 100%|██████████| 40/40 [00:10<00:00,  3.65it/s, loss=1.61]\n"
     ]
    },
    {
     "name": "stdout",
     "output_type": "stream",
     "text": [
      "Accuracy: 0.7476038338658147, Precision (micro): 0.8101604278074866, Recall (micro): 0.8487394957983193\n",
      "Epoch 76 / 100\n"
     ]
    },
    {
     "name": "stderr",
     "output_type": "stream",
     "text": [
      "Train: 100%|██████████| 156/156 [00:53<00:00,  2.94it/s, loss=1.18]\n",
      "Val: 100%|██████████| 40/40 [00:13<00:00,  3.06it/s, loss=1.58]\n"
     ]
    },
    {
     "name": "stdout",
     "output_type": "stream",
     "text": [
      "Accuracy: 0.7412140575079872, Precision (micro): 0.8189189189189189, Recall (micro): 0.8487394957983193\n",
      "Epoch 77 / 100\n"
     ]
    },
    {
     "name": "stderr",
     "output_type": "stream",
     "text": [
      "Train: 100%|██████████| 156/156 [00:53<00:00,  2.92it/s, loss=1.16]\n",
      "Val: 100%|██████████| 40/40 [00:10<00:00,  3.76it/s, loss=1.52]\n"
     ]
    },
    {
     "name": "stdout",
     "output_type": "stream",
     "text": [
      "Accuracy: 0.744408945686901, Precision (micro): 0.8246575342465754, Recall (micro): 0.8431372549019608\n",
      "Epoch 78 / 100\n"
     ]
    },
    {
     "name": "stderr",
     "output_type": "stream",
     "text": [
      "Train: 100%|██████████| 156/156 [00:51<00:00,  3.02it/s, loss=1.19]\n",
      "Val: 100%|██████████| 40/40 [00:10<00:00,  3.65it/s, loss=1.54]\n"
     ]
    },
    {
     "name": "stdout",
     "output_type": "stream",
     "text": [
      "Accuracy: 0.744408945686901, Precision (micro): 0.8233695652173914, Recall (micro): 0.8487394957983193\n",
      "Epoch 79 / 100\n"
     ]
    },
    {
     "name": "stderr",
     "output_type": "stream",
     "text": [
      "Train: 100%|██████████| 156/156 [00:51<00:00,  3.03it/s, loss=1.21]\n",
      "Val: 100%|██████████| 40/40 [00:10<00:00,  3.80it/s, loss=1.55]\n"
     ]
    },
    {
     "name": "stdout",
     "output_type": "stream",
     "text": [
      "Accuracy: 0.7380191693290735, Precision (micro): 0.816711590296496, Recall (micro): 0.8487394957983193\n",
      "Epoch 80 / 100\n"
     ]
    },
    {
     "name": "stderr",
     "output_type": "stream",
     "text": [
      "Train: 100%|██████████| 156/156 [00:51<00:00,  3.03it/s, loss=1.17]\n",
      "Val: 100%|██████████| 40/40 [00:10<00:00,  3.66it/s, loss=1.50]\n"
     ]
    },
    {
     "name": "stdout",
     "output_type": "stream",
     "text": [
      "Accuracy: 0.7603833865814696, Precision (micro): 0.8260869565217391, Recall (micro): 0.8515406162464986\n",
      "Epoch 81 / 100\n"
     ]
    },
    {
     "name": "stderr",
     "output_type": "stream",
     "text": [
      "Train: 100%|██████████| 156/156 [00:51<00:00,  3.04it/s, loss=1.18]\n",
      "Val: 100%|██████████| 40/40 [00:10<00:00,  3.87it/s, loss=1.49]\n"
     ]
    },
    {
     "name": "stdout",
     "output_type": "stream",
     "text": [
      "Accuracy: 0.7539936102236422, Precision (micro): 0.8256130790190735, Recall (micro): 0.8487394957983193\n",
      "Epoch 82 / 100\n"
     ]
    },
    {
     "name": "stderr",
     "output_type": "stream",
     "text": [
      "Train: 100%|██████████| 156/156 [00:51<00:00,  3.03it/s, loss=1.21]\n",
      "Val: 100%|██████████| 40/40 [00:10<00:00,  3.64it/s, loss=1.44]\n"
     ]
    },
    {
     "name": "stdout",
     "output_type": "stream",
     "text": [
      "Accuracy: 0.7507987220447284, Precision (micro): 0.8259668508287292, Recall (micro): 0.8375350140056023\n",
      "Epoch 83 / 100\n"
     ]
    },
    {
     "name": "stderr",
     "output_type": "stream",
     "text": [
      "Train: 100%|██████████| 156/156 [00:51<00:00,  3.03it/s, loss=1.16]\n",
      "Val: 100%|██████████| 40/40 [00:11<00:00,  3.58it/s, loss=1.54]\n"
     ]
    },
    {
     "name": "stdout",
     "output_type": "stream",
     "text": [
      "Accuracy: 0.7476038338658147, Precision (micro): 0.8211382113821138, Recall (micro): 0.8487394957983193\n",
      "Epoch 84 / 100\n"
     ]
    },
    {
     "name": "stderr",
     "output_type": "stream",
     "text": [
      "Train: 100%|██████████| 156/156 [00:51<00:00,  3.03it/s, loss=1.20]\n",
      "Val: 100%|██████████| 40/40 [00:10<00:00,  3.88it/s, loss=1.64]\n"
     ]
    },
    {
     "name": "stdout",
     "output_type": "stream",
     "text": [
      "Accuracy: 0.744408945686901, Precision (micro): 0.8162162162162162, Recall (micro): 0.84593837535014\n",
      "Epoch 85 / 100\n"
     ]
    },
    {
     "name": "stderr",
     "output_type": "stream",
     "text": [
      "Train:   2%|▏         | 3/156 [00:01<00:52,  2.90it/s, loss=0.03]"
     ]
    }
   ],
   "source": [
    "%%time\n",
    "transformer, classifier = create_model(transformer, classifier)\n",
    "optimizer = torch.optim.AdamW(get_param(transformer, classifier), lr = LEARNING_RATE, weight_decay = REGULARIZATION)\n",
    "\n",
    "num_train_instances = len(train_instances)\n",
    "num_train_steps = int(num_train_instances / BATCH_SIZE * EPOCH)\n",
    "num_warmup_steps = int(num_train_steps * WARMUP_PROPORTION)\n",
    "scheduler = get_constant_schedule_with_warmup(optimizer, num_warmup_steps = num_warmup_steps)\n",
    "\n",
    "info = train_model(transformer, classifier, optimizer, scheduler, num_epochs=EPOCH, last_epoch=0, last_acc=0)\n",
    "\n",
    "y_pred, y_test = aso_pred(transformer, classifier, test_instances)\n",
    "acc, f1, hamm = aso_eval(y_pred, y_test)\n",
    "\n",
    "record_result([f\"daptE6-1\", \"semi-supervised\", \"dapt\", acc, f1, hamm])\n",
    "\n",
    "evaluate_dataset(transformer, classifier, test_instances)"
   ]
  },
  {
   "cell_type": "code",
   "execution_count": null,
   "metadata": {},
   "outputs": [],
   "source": [
    "%%time\n",
    "transformer, classifier = create_model(transformer, classifier)\n",
    "optimizer = torch.optim.AdamW(get_param(transformer, classifier), lr = LEARNING_RATE, weight_decay = REGULARIZATION)\n",
    "\n",
    "num_train_instances = len(train_instances)\n",
    "num_train_steps = int(num_train_instances / BATCH_SIZE * EPOCH)\n",
    "num_warmup_steps = int(num_train_steps * WARMUP_PROPORTION)\n",
    "scheduler = get_constant_schedule_with_warmup(optimizer, num_warmup_steps = num_warmup_steps)\n",
    "\n",
    "info = train_model(transformer, classifier, optimizer, scheduler, num_epochs=EPOCH, last_epoch=0, last_acc=0)\n",
    "\n",
    "y_pred, y_test = aso_pred(transformer, classifier, test_instances)\n",
    "acc, f1, hamm = aso_eval(y_pred, y_test)\n",
    "\n",
    "record_result([f\"daptE6-2\", \"semi-supervised\", \"dapt\", acc, f1, hamm])\n",
    "\n",
    "evaluate_dataset(transformer, classifier, test_instances)"
   ]
  },
  {
   "cell_type": "code",
   "execution_count": null,
   "metadata": {},
   "outputs": [],
   "source": [
    "%%time\n",
    "transformer, classifier = create_model(transformer, classifier)\n",
    "optimizer = torch.optim.AdamW(get_param(transformer, classifier), lr = LEARNING_RATE, weight_decay = REGULARIZATION)\n",
    "\n",
    "num_train_instances = len(train_instances)\n",
    "num_train_steps = int(num_train_instances / BATCH_SIZE * EPOCH)\n",
    "num_warmup_steps = int(num_train_steps * WARMUP_PROPORTION)\n",
    "scheduler = get_constant_schedule_with_warmup(optimizer, num_warmup_steps = num_warmup_steps)\n",
    "\n",
    "info = train_model(transformer, classifier, optimizer, scheduler, num_epochs=EPOCH, last_epoch=0, last_acc=0)\n",
    "\n",
    "y_pred, y_test = aso_pred(transformer, classifier, test_instances)\n",
    "acc, f1, hamm = aso_eval(y_pred, y_test)\n",
    "\n",
    "record_result([f\"daptE6-3\", \"semi-supervised\", \"dapt\", acc, f1, hamm])\n",
    "\n",
    "evaluate_dataset(transformer, classifier, test_instances)"
   ]
  },
  {
   "cell_type": "code",
   "execution_count": null,
   "metadata": {},
   "outputs": [],
   "source": [
    "%%time\n",
    "transformer, classifier = create_model(transformer, classifier)\n",
    "optimizer = torch.optim.AdamW(get_param(transformer, classifier), lr = LEARNING_RATE, weight_decay = REGULARIZATION)\n",
    "\n",
    "num_train_instances = len(train_instances)\n",
    "num_train_steps = int(num_train_instances / BATCH_SIZE * EPOCH)\n",
    "num_warmup_steps = int(num_train_steps * WARMUP_PROPORTION)\n",
    "scheduler = get_constant_schedule_with_warmup(optimizer, num_warmup_steps = num_warmup_steps)\n",
    "\n",
    "info = train_model(transformer, classifier, optimizer, scheduler, num_epochs=EPOCH, last_epoch=0, last_acc=0)\n",
    "\n",
    "y_pred, y_test = aso_pred(transformer, classifier, test_instances)\n",
    "acc, f1, hamm = aso_eval(y_pred, y_test)\n",
    "\n",
    "record_result([f\"daptE6-4\", \"semi-supervised\", \"dapt\", acc, f1, hamm])\n",
    "\n",
    "evaluate_dataset(transformer, classifier, test_instances)"
   ]
  },
  {
   "cell_type": "code",
   "execution_count": 29,
   "metadata": {
    "scrolled": true
   },
   "outputs": [
    {
     "name": "stderr",
     "output_type": "stream",
     "text": [
      "Some weights of the model checkpoint at Hendrico/cpt-indobert-large-8 were not used when initializing BertModel: ['cls.seq_relationship.weight', 'cls.predictions.transform.LayerNorm.weight', 'cls.predictions.transform.dense.weight', 'cls.predictions.transform.LayerNorm.bias', 'cls.predictions.bias', 'cls.predictions.decoder.bias', 'cls.predictions.decoder.weight', 'cls.predictions.transform.dense.bias', 'cls.seq_relationship.bias']\n",
      "- This IS expected if you are initializing BertModel from the checkpoint of a model trained on another task or with another architecture (e.g. initializing a BertForSequenceClassification model from a BertForPreTraining model).\n",
      "- This IS NOT expected if you are initializing BertModel from the checkpoint of a model that you expect to be exactly identical (initializing a BertForSequenceClassification model from a BertForSequenceClassification model).\n"
     ]
    },
    {
     "name": "stdout",
     "output_type": "stream",
     "text": [
      "Epoch 1 / 100\n"
     ]
    },
    {
     "name": "stderr",
     "output_type": "stream",
     "text": [
      "Train: 100%|██████████| 156/156 [00:44<00:00,  3.48it/s, loss=9.39]\n",
      "Val: 100%|██████████| 40/40 [00:10<00:00,  3.67it/s, loss=8.11]\n"
     ]
    },
    {
     "name": "stdout",
     "output_type": "stream",
     "text": [
      "Accuracy: 0.1597444089456869, Precision (micro): 0.19169329073482427, Recall (micro): 0.16806722689075632\n",
      "Epoch 2 / 100\n"
     ]
    },
    {
     "name": "stderr",
     "output_type": "stream",
     "text": [
      "Train: 100%|██████████| 156/156 [00:43<00:00,  3.57it/s, loss=7.13]\n",
      "Val: 100%|██████████| 40/40 [00:10<00:00,  3.64it/s, loss=6.28]\n"
     ]
    },
    {
     "name": "stdout",
     "output_type": "stream",
     "text": [
      "Accuracy: 0.16293929712460065, Precision (micro): 0.19488817891373802, Recall (micro): 0.17086834733893558\n",
      "Epoch 3 / 100\n"
     ]
    },
    {
     "name": "stderr",
     "output_type": "stream",
     "text": [
      "Train: 100%|██████████| 156/156 [00:41<00:00,  3.79it/s, loss=6.10]\n",
      "Val: 100%|██████████| 40/40 [00:10<00:00,  3.79it/s, loss=5.55]\n"
     ]
    },
    {
     "name": "stdout",
     "output_type": "stream",
     "text": [
      "Accuracy: 0.16293929712460065, Precision (micro): 0.19488817891373802, Recall (micro): 0.17086834733893558\n",
      "Epoch 4 / 100\n"
     ]
    },
    {
     "name": "stderr",
     "output_type": "stream",
     "text": [
      "Train: 100%|██████████| 156/156 [00:43<00:00,  3.58it/s, loss=5.59]\n",
      "Val: 100%|██████████| 40/40 [00:10<00:00,  3.74it/s, loss=5.09]\n"
     ]
    },
    {
     "name": "stdout",
     "output_type": "stream",
     "text": [
      "Accuracy: 0.16293929712460065, Precision (micro): 0.19488817891373802, Recall (micro): 0.17086834733893558\n",
      "Epoch 5 / 100\n"
     ]
    },
    {
     "name": "stderr",
     "output_type": "stream",
     "text": [
      "Train: 100%|██████████| 156/156 [00:43<00:00,  3.59it/s, loss=5.25]\n",
      "Val: 100%|██████████| 40/40 [00:10<00:00,  3.83it/s, loss=4.75]\n"
     ]
    },
    {
     "name": "stdout",
     "output_type": "stream",
     "text": [
      "Accuracy: 0.24920127795527156, Precision (micro): 0.2971246006389776, Recall (micro): 0.2605042016806723\n",
      "Epoch 6 / 100\n"
     ]
    },
    {
     "name": "stderr",
     "output_type": "stream",
     "text": [
      "Train: 100%|██████████| 156/156 [00:40<00:00,  3.82it/s, loss=5.00]\n",
      "Val: 100%|██████████| 40/40 [00:10<00:00,  3.70it/s, loss=4.51]\n"
     ]
    },
    {
     "name": "stdout",
     "output_type": "stream",
     "text": [
      "Accuracy: 0.25559105431309903, Precision (micro): 0.3035143769968051, Recall (micro): 0.2661064425770308\n",
      "Epoch 7 / 100\n"
     ]
    },
    {
     "name": "stderr",
     "output_type": "stream",
     "text": [
      "Train: 100%|██████████| 156/156 [00:43<00:00,  3.59it/s, loss=4.83]\n",
      "Val: 100%|██████████| 40/40 [00:10<00:00,  3.72it/s, loss=4.29]\n"
     ]
    },
    {
     "name": "stdout",
     "output_type": "stream",
     "text": [
      "Accuracy: 0.25559105431309903, Precision (micro): 0.3035143769968051, Recall (micro): 0.2661064425770308\n",
      "Epoch 8 / 100\n"
     ]
    },
    {
     "name": "stderr",
     "output_type": "stream",
     "text": [
      "Train: 100%|██████████| 156/156 [00:43<00:00,  3.60it/s, loss=4.64]\n",
      "Val: 100%|██████████| 40/40 [00:10<00:00,  3.70it/s, loss=4.10]\n"
     ]
    },
    {
     "name": "stdout",
     "output_type": "stream",
     "text": [
      "Accuracy: 0.4217252396166134, Precision (micro): 0.5175718849840255, Recall (micro): 0.453781512605042\n",
      "Epoch 9 / 100\n"
     ]
    },
    {
     "name": "stderr",
     "output_type": "stream",
     "text": [
      "Train: 100%|██████████| 156/156 [00:43<00:00,  3.63it/s, loss=4.47]\n",
      "Val: 100%|██████████| 40/40 [00:10<00:00,  3.71it/s, loss=3.92]\n"
     ]
    },
    {
     "name": "stdout",
     "output_type": "stream",
     "text": [
      "Accuracy: 0.49201277955271566, Precision (micro): 0.6038338658146964, Recall (micro): 0.5294117647058824\n",
      "Epoch 10 / 100\n"
     ]
    },
    {
     "name": "stderr",
     "output_type": "stream",
     "text": [
      "Train: 100%|██████████| 156/156 [00:42<00:00,  3.64it/s, loss=4.24]\n",
      "Val: 100%|██████████| 40/40 [00:10<00:00,  3.70it/s, loss=3.77]\n"
     ]
    },
    {
     "name": "stdout",
     "output_type": "stream",
     "text": [
      "Accuracy: 0.5079872204472844, Precision (micro): 0.6166134185303515, Recall (micro): 0.5406162464985994\n",
      "Epoch 11 / 100\n"
     ]
    },
    {
     "name": "stderr",
     "output_type": "stream",
     "text": [
      "Train: 100%|██████████| 156/156 [00:43<00:00,  3.62it/s, loss=4.16]\n",
      "Val: 100%|██████████| 40/40 [00:11<00:00,  3.62it/s, loss=3.61]\n"
     ]
    },
    {
     "name": "stdout",
     "output_type": "stream",
     "text": [
      "Accuracy: 0.6485623003194888, Precision (micro): 0.7699680511182109, Recall (micro): 0.6750700280112045\n",
      "Epoch 12 / 100\n"
     ]
    },
    {
     "name": "stderr",
     "output_type": "stream",
     "text": [
      "Train: 100%|██████████| 156/156 [00:43<00:00,  3.62it/s, loss=3.94]\n",
      "Val: 100%|██████████| 40/40 [00:11<00:00,  3.57it/s, loss=3.42]\n"
     ]
    },
    {
     "name": "stdout",
     "output_type": "stream",
     "text": [
      "Accuracy: 0.6549520766773163, Precision (micro): 0.7731629392971247, Recall (micro): 0.6778711484593838\n",
      "Epoch 13 / 100\n"
     ]
    },
    {
     "name": "stderr",
     "output_type": "stream",
     "text": [
      "Train: 100%|██████████| 156/156 [00:42<00:00,  3.66it/s, loss=3.77]\n",
      "Val: 100%|██████████| 40/40 [00:11<00:00,  3.60it/s, loss=3.32]\n"
     ]
    },
    {
     "name": "stdout",
     "output_type": "stream",
     "text": [
      "Accuracy: 0.6773162939297125, Precision (micro): 0.7891373801916933, Recall (micro): 0.6918767507002801\n",
      "Epoch 14 / 100\n"
     ]
    },
    {
     "name": "stderr",
     "output_type": "stream",
     "text": [
      "Train: 100%|██████████| 156/156 [00:42<00:00,  3.65it/s, loss=3.64]\n",
      "Val: 100%|██████████| 40/40 [00:11<00:00,  3.57it/s, loss=3.21]\n"
     ]
    },
    {
     "name": "stdout",
     "output_type": "stream",
     "text": [
      "Accuracy: 0.7156549520766773, Precision (micro): 0.8306709265175719, Recall (micro): 0.7282913165266106\n",
      "Epoch 15 / 100\n"
     ]
    },
    {
     "name": "stderr",
     "output_type": "stream",
     "text": [
      "Train: 100%|██████████| 156/156 [00:43<00:00,  3.56it/s, loss=3.42]\n",
      "Val: 100%|██████████| 40/40 [00:10<00:00,  3.65it/s, loss=3.01]\n"
     ]
    },
    {
     "name": "stdout",
     "output_type": "stream",
     "text": [
      "Accuracy: 0.7252396166134185, Precision (micro): 0.8498402555910544, Recall (micro): 0.7450980392156863\n",
      "Epoch 16 / 100\n"
     ]
    },
    {
     "name": "stderr",
     "output_type": "stream",
     "text": [
      "Train: 100%|██████████| 156/156 [00:42<00:00,  3.70it/s, loss=3.29]\n",
      "Val: 100%|██████████| 40/40 [00:10<00:00,  3.77it/s, loss=2.84]\n"
     ]
    },
    {
     "name": "stdout",
     "output_type": "stream",
     "text": [
      "Accuracy: 0.7220447284345048, Precision (micro): 0.8343949044585988, Recall (micro): 0.7338935574229691\n",
      "Epoch 17 / 100\n"
     ]
    },
    {
     "name": "stderr",
     "output_type": "stream",
     "text": [
      "Train: 100%|██████████| 156/156 [00:42<00:00,  3.67it/s, loss=3.14]\n",
      "Val: 100%|██████████| 40/40 [00:10<00:00,  3.70it/s, loss=2.77]\n"
     ]
    },
    {
     "name": "stdout",
     "output_type": "stream",
     "text": [
      "Accuracy: 0.7124600638977636, Precision (micro): 0.8312101910828026, Recall (micro): 0.7310924369747899\n",
      "Epoch 18 / 100\n"
     ]
    },
    {
     "name": "stderr",
     "output_type": "stream",
     "text": [
      "Train: 100%|██████████| 156/156 [00:43<00:00,  3.56it/s, loss=2.97]\n",
      "Val: 100%|██████████| 40/40 [00:10<00:00,  3.70it/s, loss=2.72]\n"
     ]
    },
    {
     "name": "stdout",
     "output_type": "stream",
     "text": [
      "Accuracy: 0.7124600638977636, Precision (micro): 0.8338658146964856, Recall (micro): 0.7310924369747899\n",
      "Epoch 19 / 100\n"
     ]
    },
    {
     "name": "stderr",
     "output_type": "stream",
     "text": [
      "Train: 100%|██████████| 156/156 [00:43<00:00,  3.57it/s, loss=2.87]\n",
      "Val: 100%|██████████| 40/40 [00:10<00:00,  3.71it/s, loss=2.59]\n"
     ]
    },
    {
     "name": "stdout",
     "output_type": "stream",
     "text": [
      "Accuracy: 0.7188498402555911, Precision (micro): 0.8407643312101911, Recall (micro): 0.7394957983193278\n",
      "Epoch 20 / 100\n"
     ]
    },
    {
     "name": "stderr",
     "output_type": "stream",
     "text": [
      "Train: 100%|██████████| 156/156 [00:43<00:00,  3.55it/s, loss=2.78]\n",
      "Val: 100%|██████████| 40/40 [00:10<00:00,  3.70it/s, loss=2.48]\n"
     ]
    },
    {
     "name": "stdout",
     "output_type": "stream",
     "text": [
      "Accuracy: 0.7412140575079872, Precision (micro): 0.8517350157728707, Recall (micro): 0.7563025210084033\n",
      "Epoch 21 / 100\n"
     ]
    },
    {
     "name": "stderr",
     "output_type": "stream",
     "text": [
      "Train: 100%|██████████| 156/156 [00:43<00:00,  3.62it/s, loss=2.67]\n",
      "Val: 100%|██████████| 40/40 [00:10<00:00,  3.69it/s, loss=2.50]\n"
     ]
    },
    {
     "name": "stdout",
     "output_type": "stream",
     "text": [
      "Accuracy: 0.7348242811501597, Precision (micro): 0.8432601880877743, Recall (micro): 0.7535014005602241\n",
      "Epoch 22 / 100\n"
     ]
    },
    {
     "name": "stderr",
     "output_type": "stream",
     "text": [
      "Train: 100%|██████████| 156/156 [00:43<00:00,  3.55it/s, loss=2.60]\n",
      "Val: 100%|██████████| 40/40 [00:10<00:00,  3.64it/s, loss=2.41]\n"
     ]
    },
    {
     "name": "stdout",
     "output_type": "stream",
     "text": [
      "Accuracy: 0.7284345047923323, Precision (micro): 0.8364779874213837, Recall (micro): 0.7450980392156863\n",
      "Epoch 23 / 100\n"
     ]
    },
    {
     "name": "stderr",
     "output_type": "stream",
     "text": [
      "Train: 100%|██████████| 156/156 [00:44<00:00,  3.51it/s, loss=2.54]\n",
      "Val: 100%|██████████| 40/40 [00:11<00:00,  3.53it/s, loss=2.27]\n"
     ]
    },
    {
     "name": "stdout",
     "output_type": "stream",
     "text": [
      "Accuracy: 0.7476038338658147, Precision (micro): 0.8540372670807453, Recall (micro): 0.7703081232492998\n",
      "Epoch 24 / 100\n"
     ]
    },
    {
     "name": "stderr",
     "output_type": "stream",
     "text": [
      "Train: 100%|██████████| 156/156 [00:43<00:00,  3.56it/s, loss=2.46]\n",
      "Val: 100%|██████████| 40/40 [00:10<00:00,  3.69it/s, loss=2.24]\n"
     ]
    },
    {
     "name": "stdout",
     "output_type": "stream",
     "text": [
      "Accuracy: 0.7380191693290735, Precision (micro): 0.85, Recall (micro): 0.7619047619047619\n",
      "Epoch 25 / 100\n"
     ]
    },
    {
     "name": "stderr",
     "output_type": "stream",
     "text": [
      "Train: 100%|██████████| 156/156 [00:43<00:00,  3.60it/s, loss=2.43]\n",
      "Val: 100%|██████████| 40/40 [00:10<00:00,  3.70it/s, loss=2.19]\n"
     ]
    },
    {
     "name": "stdout",
     "output_type": "stream",
     "text": [
      "Accuracy: 0.7380191693290735, Precision (micro): 0.8509316770186336, Recall (micro): 0.7675070028011205\n",
      "Epoch 26 / 100\n"
     ]
    },
    {
     "name": "stderr",
     "output_type": "stream",
     "text": [
      "Train: 100%|██████████| 156/156 [00:42<00:00,  3.68it/s, loss=2.28]\n",
      "Val: 100%|██████████| 40/40 [00:10<00:00,  3.64it/s, loss=2.11]\n"
     ]
    },
    {
     "name": "stdout",
     "output_type": "stream",
     "text": [
      "Accuracy: 0.744408945686901, Precision (micro): 0.8553846153846154, Recall (micro): 0.7787114845938375\n",
      "Epoch 27 / 100\n"
     ]
    },
    {
     "name": "stderr",
     "output_type": "stream",
     "text": [
      "Train: 100%|██████████| 156/156 [00:43<00:00,  3.56it/s, loss=2.26]\n",
      "Val: 100%|██████████| 40/40 [00:11<00:00,  3.59it/s, loss=2.06]\n"
     ]
    },
    {
     "name": "stdout",
     "output_type": "stream",
     "text": [
      "Accuracy: 0.7539936102236422, Precision (micro): 0.8571428571428571, Recall (micro): 0.7899159663865546\n",
      "Epoch 28 / 100\n"
     ]
    },
    {
     "name": "stderr",
     "output_type": "stream",
     "text": [
      "Train: 100%|██████████| 156/156 [00:43<00:00,  3.57it/s, loss=2.18]\n",
      "Val: 100%|██████████| 40/40 [00:11<00:00,  3.56it/s, loss=1.98]\n"
     ]
    },
    {
     "name": "stdout",
     "output_type": "stream",
     "text": [
      "Accuracy: 0.7603833865814696, Precision (micro): 0.8593272171253823, Recall (micro): 0.7871148459383753\n",
      "Epoch 29 / 100\n"
     ]
    },
    {
     "name": "stderr",
     "output_type": "stream",
     "text": [
      "Train: 100%|██████████| 156/156 [00:42<00:00,  3.69it/s, loss=2.13]\n",
      "Val: 100%|██████████| 40/40 [00:10<00:00,  3.67it/s, loss=2.00]\n"
     ]
    },
    {
     "name": "stdout",
     "output_type": "stream",
     "text": [
      "Accuracy: 0.7571884984025559, Precision (micro): 0.8575757575757575, Recall (micro): 0.7927170868347339\n",
      "Epoch 30 / 100\n"
     ]
    },
    {
     "name": "stderr",
     "output_type": "stream",
     "text": [
      "Train: 100%|██████████| 156/156 [00:41<00:00,  3.74it/s, loss=2.15]\n",
      "Val: 100%|██████████| 40/40 [00:10<00:00,  3.72it/s, loss=1.89]\n"
     ]
    },
    {
     "name": "stdout",
     "output_type": "stream",
     "text": [
      "Accuracy: 0.7667731629392971, Precision (micro): 0.8619631901840491, Recall (micro): 0.7871148459383753\n",
      "Epoch 31 / 100\n"
     ]
    },
    {
     "name": "stderr",
     "output_type": "stream",
     "text": [
      "Train: 100%|██████████| 156/156 [00:43<00:00,  3.58it/s, loss=2.10]\n",
      "Val: 100%|██████████| 40/40 [00:10<00:00,  3.71it/s, loss=1.90]\n"
     ]
    },
    {
     "name": "stdout",
     "output_type": "stream",
     "text": [
      "Accuracy: 0.7795527156549521, Precision (micro): 0.8693009118541033, Recall (micro): 0.8011204481792717\n",
      "Epoch 32 / 100\n"
     ]
    },
    {
     "name": "stderr",
     "output_type": "stream",
     "text": [
      "Train: 100%|██████████| 156/156 [00:42<00:00,  3.66it/s, loss=1.99]\n",
      "Val: 100%|██████████| 40/40 [00:10<00:00,  3.71it/s, loss=1.95]\n"
     ]
    },
    {
     "name": "stdout",
     "output_type": "stream",
     "text": [
      "Accuracy: 0.7635782747603834, Precision (micro): 0.863905325443787, Recall (micro): 0.8179271708683473\n",
      "Epoch 33 / 100\n"
     ]
    },
    {
     "name": "stderr",
     "output_type": "stream",
     "text": [
      "Train: 100%|██████████| 156/156 [00:43<00:00,  3.56it/s, loss=1.97]\n",
      "Val: 100%|██████████| 40/40 [00:10<00:00,  3.69it/s, loss=1.83]\n"
     ]
    },
    {
     "name": "stdout",
     "output_type": "stream",
     "text": [
      "Accuracy: 0.7667731629392971, Precision (micro): 0.8529411764705882, Recall (micro): 0.8123249299719888\n",
      "Epoch 34 / 100\n"
     ]
    },
    {
     "name": "stderr",
     "output_type": "stream",
     "text": [
      "Train: 100%|██████████| 156/156 [00:43<00:00,  3.55it/s, loss=1.91]\n",
      "Val: 100%|██████████| 40/40 [00:10<00:00,  3.68it/s, loss=1.88]\n"
     ]
    },
    {
     "name": "stdout",
     "output_type": "stream",
     "text": [
      "Accuracy: 0.7539936102236422, Precision (micro): 0.8411764705882353, Recall (micro): 0.8011204481792717\n",
      "Epoch 35 / 100\n"
     ]
    },
    {
     "name": "stderr",
     "output_type": "stream",
     "text": [
      "Train: 100%|██████████| 156/156 [00:46<00:00,  3.38it/s, loss=1.89]\n",
      "Val: 100%|██████████| 40/40 [00:10<00:00,  3.68it/s, loss=1.82]\n"
     ]
    },
    {
     "name": "stdout",
     "output_type": "stream",
     "text": [
      "Accuracy: 0.7763578274760383, Precision (micro): 0.8626865671641791, Recall (micro): 0.8095238095238095\n",
      "Epoch 36 / 100\n"
     ]
    },
    {
     "name": "stderr",
     "output_type": "stream",
     "text": [
      "Train: 100%|██████████| 156/156 [00:45<00:00,  3.44it/s, loss=1.88]\n",
      "Val: 100%|██████████| 40/40 [00:10<00:00,  3.69it/s, loss=1.81]\n"
     ]
    },
    {
     "name": "stdout",
     "output_type": "stream",
     "text": [
      "Accuracy: 0.7571884984025559, Precision (micro): 0.8441176470588235, Recall (micro): 0.803921568627451\n",
      "Epoch 37 / 100\n"
     ]
    },
    {
     "name": "stderr",
     "output_type": "stream",
     "text": [
      "Train: 100%|██████████| 156/156 [00:44<00:00,  3.54it/s, loss=1.86]\n",
      "Val: 100%|██████████| 40/40 [00:11<00:00,  3.60it/s, loss=1.85]\n"
     ]
    },
    {
     "name": "stdout",
     "output_type": "stream",
     "text": [
      "Accuracy: 0.7571884984025559, Precision (micro): 0.8391812865497076, Recall (micro): 0.803921568627451\n",
      "Epoch 38 / 100\n"
     ]
    },
    {
     "name": "stderr",
     "output_type": "stream",
     "text": [
      "Train: 100%|██████████| 156/156 [00:43<00:00,  3.55it/s, loss=1.79]\n",
      "Val: 100%|██████████| 40/40 [00:11<00:00,  3.54it/s, loss=1.68]\n"
     ]
    },
    {
     "name": "stdout",
     "output_type": "stream",
     "text": [
      "Accuracy: 0.7635782747603834, Precision (micro): 0.8511904761904762, Recall (micro): 0.8011204481792717\n",
      "Epoch 39 / 100\n"
     ]
    },
    {
     "name": "stderr",
     "output_type": "stream",
     "text": [
      "Train: 100%|██████████| 156/156 [00:43<00:00,  3.61it/s, loss=1.76]\n",
      "Val: 100%|██████████| 40/40 [00:11<00:00,  3.62it/s, loss=1.77]\n"
     ]
    },
    {
     "name": "stdout",
     "output_type": "stream",
     "text": [
      "Accuracy: 0.7635782747603834, Precision (micro): 0.839541547277937, Recall (micro): 0.8207282913165266\n",
      "Epoch 40 / 100\n"
     ]
    },
    {
     "name": "stderr",
     "output_type": "stream",
     "text": [
      "Train: 100%|██████████| 156/156 [00:43<00:00,  3.60it/s, loss=1.73]\n",
      "Val: 100%|██████████| 40/40 [00:11<00:00,  3.58it/s, loss=1.65]\n"
     ]
    },
    {
     "name": "stdout",
     "output_type": "stream",
     "text": [
      "Accuracy: 0.7763578274760383, Precision (micro): 0.8542274052478134, Recall (micro): 0.8207282913165266\n",
      "Epoch 41 / 100\n"
     ]
    },
    {
     "name": "stderr",
     "output_type": "stream",
     "text": [
      "Train: 100%|██████████| 156/156 [00:41<00:00,  3.73it/s, loss=1.68]\n",
      "Val: 100%|██████████| 40/40 [00:11<00:00,  3.61it/s, loss=1.68]\n"
     ]
    },
    {
     "name": "stdout",
     "output_type": "stream",
     "text": [
      "Accuracy: 0.7667731629392971, Precision (micro): 0.8428571428571429, Recall (micro): 0.8263305322128851\n",
      "Epoch 42 / 100\n"
     ]
    },
    {
     "name": "stderr",
     "output_type": "stream",
     "text": [
      "Train: 100%|██████████| 156/156 [00:44<00:00,  3.50it/s, loss=1.68]\n",
      "Val: 100%|██████████| 40/40 [00:10<00:00,  3.70it/s, loss=1.82]\n"
     ]
    },
    {
     "name": "stdout",
     "output_type": "stream",
     "text": [
      "Accuracy: 0.744408945686901, Precision (micro): 0.8333333333333334, Recall (micro): 0.8263305322128851\n",
      "Epoch 43 / 100\n"
     ]
    },
    {
     "name": "stderr",
     "output_type": "stream",
     "text": [
      "Train: 100%|██████████| 156/156 [00:42<00:00,  3.67it/s, loss=1.71]\n",
      "Val: 100%|██████████| 40/40 [00:10<00:00,  3.66it/s, loss=1.68]\n"
     ]
    },
    {
     "name": "stdout",
     "output_type": "stream",
     "text": [
      "Accuracy: 0.7635782747603834, Precision (micro): 0.84375, Recall (micro): 0.8319327731092437\n",
      "Epoch 44 / 100\n"
     ]
    },
    {
     "name": "stderr",
     "output_type": "stream",
     "text": [
      "Train: 100%|██████████| 156/156 [00:42<00:00,  3.69it/s, loss=1.63]\n",
      "Val: 100%|██████████| 40/40 [00:11<00:00,  3.55it/s, loss=1.66]\n"
     ]
    },
    {
     "name": "stdout",
     "output_type": "stream",
     "text": [
      "Accuracy: 0.7603833865814696, Precision (micro): 0.8333333333333334, Recall (micro): 0.8263305322128851\n",
      "Epoch 45 / 100\n"
     ]
    },
    {
     "name": "stderr",
     "output_type": "stream",
     "text": [
      "Train: 100%|██████████| 156/156 [00:43<00:00,  3.61it/s, loss=1.57]\n",
      "Val: 100%|██████████| 40/40 [00:11<00:00,  3.61it/s, loss=1.58]\n"
     ]
    },
    {
     "name": "stdout",
     "output_type": "stream",
     "text": [
      "Accuracy: 0.7539936102236422, Precision (micro): 0.8394366197183099, Recall (micro): 0.834733893557423\n",
      "Epoch 46 / 100\n"
     ]
    },
    {
     "name": "stderr",
     "output_type": "stream",
     "text": [
      "Train: 100%|██████████| 156/156 [00:43<00:00,  3.61it/s, loss=1.62]\n",
      "Val: 100%|██████████| 40/40 [00:10<00:00,  3.68it/s, loss=1.75]\n"
     ]
    },
    {
     "name": "stdout",
     "output_type": "stream",
     "text": [
      "Accuracy: 0.7348242811501597, Precision (micro): 0.8161559888579387, Recall (micro): 0.8207282913165266\n",
      "Epoch 47 / 100\n"
     ]
    },
    {
     "name": "stderr",
     "output_type": "stream",
     "text": [
      "Train: 100%|██████████| 156/156 [00:43<00:00,  3.55it/s, loss=1.56]\n",
      "Val: 100%|██████████| 40/40 [00:10<00:00,  3.70it/s, loss=1.60]\n"
     ]
    },
    {
     "name": "stdout",
     "output_type": "stream",
     "text": [
      "Accuracy: 0.7507987220447284, Precision (micro): 0.8404558404558404, Recall (micro): 0.8263305322128851\n",
      "Epoch 48 / 100\n"
     ]
    },
    {
     "name": "stderr",
     "output_type": "stream",
     "text": [
      "Train: 100%|██████████| 156/156 [00:43<00:00,  3.55it/s, loss=1.52]\n",
      "Val: 100%|██████████| 40/40 [00:10<00:00,  3.70it/s, loss=1.55]\n"
     ]
    },
    {
     "name": "stdout",
     "output_type": "stream",
     "text": [
      "Accuracy: 0.7603833865814696, Precision (micro): 0.8418079096045198, Recall (micro): 0.834733893557423\n",
      "Epoch 49 / 100\n"
     ]
    },
    {
     "name": "stderr",
     "output_type": "stream",
     "text": [
      "Train: 100%|██████████| 156/156 [00:44<00:00,  3.53it/s, loss=1.53]\n",
      "Val: 100%|██████████| 40/40 [00:10<00:00,  3.70it/s, loss=1.67]\n"
     ]
    },
    {
     "name": "stdout",
     "output_type": "stream",
     "text": [
      "Accuracy: 0.744408945686901, Precision (micro): 0.8286516853932584, Recall (micro): 0.8263305322128851\n",
      "Epoch 50 / 100\n"
     ]
    },
    {
     "name": "stderr",
     "output_type": "stream",
     "text": [
      "Train: 100%|██████████| 156/156 [00:44<00:00,  3.50it/s, loss=1.49]\n",
      "Val: 100%|██████████| 40/40 [00:11<00:00,  3.53it/s, loss=1.59]\n"
     ]
    },
    {
     "name": "stdout",
     "output_type": "stream",
     "text": [
      "Accuracy: 0.7539936102236422, Precision (micro): 0.8296089385474861, Recall (micro): 0.8319327731092437\n",
      "Epoch 51 / 100\n"
     ]
    },
    {
     "name": "stderr",
     "output_type": "stream",
     "text": [
      "Train: 100%|██████████| 156/156 [00:44<00:00,  3.54it/s, loss=1.47]\n",
      "Val: 100%|██████████| 40/40 [00:10<00:00,  3.69it/s, loss=1.54]\n"
     ]
    },
    {
     "name": "stdout",
     "output_type": "stream",
     "text": [
      "Accuracy: 0.7699680511182109, Precision (micro): 0.841225626740947, Recall (micro): 0.84593837535014\n",
      "Epoch 52 / 100\n"
     ]
    },
    {
     "name": "stderr",
     "output_type": "stream",
     "text": [
      "Train: 100%|██████████| 156/156 [00:43<00:00,  3.60it/s, loss=1.44]\n",
      "Val: 100%|██████████| 40/40 [00:10<00:00,  3.68it/s, loss=1.82]\n"
     ]
    },
    {
     "name": "stdout",
     "output_type": "stream",
     "text": [
      "Accuracy: 0.7539936102236422, Precision (micro): 0.8301369863013699, Recall (micro): 0.8487394957983193\n",
      "Epoch 53 / 100\n"
     ]
    },
    {
     "name": "stderr",
     "output_type": "stream",
     "text": [
      "Train: 100%|██████████| 156/156 [00:43<00:00,  3.56it/s, loss=1.48]\n",
      "Val: 100%|██████████| 40/40 [00:10<00:00,  3.68it/s, loss=1.60]\n"
     ]
    },
    {
     "name": "stdout",
     "output_type": "stream",
     "text": [
      "Accuracy: 0.7476038338658147, Precision (micro): 0.8319327731092437, Recall (micro): 0.8319327731092437\n",
      "Epoch 54 / 100\n"
     ]
    },
    {
     "name": "stderr",
     "output_type": "stream",
     "text": [
      "Train: 100%|██████████| 156/156 [00:43<00:00,  3.55it/s, loss=1.46]\n",
      "Val: 100%|██████████| 40/40 [00:10<00:00,  3.69it/s, loss=1.66]\n"
     ]
    },
    {
     "name": "stdout",
     "output_type": "stream",
     "text": [
      "Accuracy: 0.7380191693290735, Precision (micro): 0.8164383561643835, Recall (micro): 0.834733893557423\n",
      "Epoch 55 / 100\n"
     ]
    },
    {
     "name": "stderr",
     "output_type": "stream",
     "text": [
      "Train: 100%|██████████| 156/156 [00:44<00:00,  3.53it/s, loss=1.43]\n",
      "Val: 100%|██████████| 40/40 [00:11<00:00,  3.52it/s, loss=1.61]\n"
     ]
    },
    {
     "name": "stdout",
     "output_type": "stream",
     "text": [
      "Accuracy: 0.744408945686901, Precision (micro): 0.8273972602739726, Recall (micro): 0.84593837535014\n",
      "Epoch 56 / 100\n"
     ]
    },
    {
     "name": "stderr",
     "output_type": "stream",
     "text": [
      "Train: 100%|██████████| 156/156 [00:43<00:00,  3.56it/s, loss=1.43]\n",
      "Val: 100%|██████████| 40/40 [00:10<00:00,  3.64it/s, loss=1.55]\n"
     ]
    },
    {
     "name": "stdout",
     "output_type": "stream",
     "text": [
      "Accuracy: 0.7476038338658147, Precision (micro): 0.8224043715846995, Recall (micro): 0.8431372549019608\n",
      "Epoch 57 / 100\n"
     ]
    },
    {
     "name": "stderr",
     "output_type": "stream",
     "text": [
      "Train: 100%|██████████| 156/156 [00:40<00:00,  3.84it/s, loss=1.39]\n",
      "Val: 100%|██████████| 40/40 [00:10<00:00,  3.65it/s, loss=1.53]\n"
     ]
    },
    {
     "name": "stdout",
     "output_type": "stream",
     "text": [
      "Accuracy: 0.7603833865814696, Precision (micro): 0.8287292817679558, Recall (micro): 0.8403361344537815\n",
      "Epoch 58 / 100\n"
     ]
    },
    {
     "name": "stderr",
     "output_type": "stream",
     "text": [
      "Train: 100%|██████████| 156/156 [00:43<00:00,  3.57it/s, loss=1.37]\n",
      "Val: 100%|██████████| 40/40 [00:10<00:00,  3.68it/s, loss=1.52]\n"
     ]
    },
    {
     "name": "stdout",
     "output_type": "stream",
     "text": [
      "Accuracy: 0.7603833865814696, Precision (micro): 0.8398876404494382, Recall (micro): 0.8375350140056023\n",
      "Epoch 59 / 100\n"
     ]
    },
    {
     "name": "stderr",
     "output_type": "stream",
     "text": [
      "Train: 100%|██████████| 156/156 [00:43<00:00,  3.55it/s, loss=1.39]\n",
      "Val: 100%|██████████| 40/40 [00:10<00:00,  3.69it/s, loss=1.64]\n"
     ]
    },
    {
     "name": "stdout",
     "output_type": "stream",
     "text": [
      "Accuracy: 0.7507987220447284, Precision (micro): 0.8211382113821138, Recall (micro): 0.8487394957983193\n",
      "Epoch 60 / 100\n"
     ]
    },
    {
     "name": "stderr",
     "output_type": "stream",
     "text": [
      "Train: 100%|██████████| 156/156 [00:43<00:00,  3.56it/s, loss=1.32]\n",
      "Val: 100%|██████████| 40/40 [00:10<00:00,  3.71it/s, loss=1.56]\n"
     ]
    },
    {
     "name": "stdout",
     "output_type": "stream",
     "text": [
      "Accuracy: 0.7412140575079872, Precision (micro): 0.8138297872340425, Recall (micro): 0.8571428571428571\n",
      "Epoch 61 / 100\n"
     ]
    },
    {
     "name": "stderr",
     "output_type": "stream",
     "text": [
      "Train: 100%|██████████| 156/156 [00:43<00:00,  3.57it/s, loss=1.35]\n",
      "Val: 100%|██████████| 40/40 [00:10<00:00,  3.66it/s, loss=1.57]\n"
     ]
    },
    {
     "name": "stdout",
     "output_type": "stream",
     "text": [
      "Accuracy: 0.7507987220447284, Precision (micro): 0.8283378746594006, Recall (micro): 0.8515406162464986\n",
      "Epoch 62 / 100\n"
     ]
    },
    {
     "name": "stderr",
     "output_type": "stream",
     "text": [
      "Train: 100%|██████████| 156/156 [00:43<00:00,  3.57it/s, loss=1.35]\n",
      "Val: 100%|██████████| 40/40 [00:10<00:00,  3.70it/s, loss=1.59]\n"
     ]
    },
    {
     "name": "stdout",
     "output_type": "stream",
     "text": [
      "Accuracy: 0.7284345047923323, Precision (micro): 0.8091397849462365, Recall (micro): 0.8431372549019608\n",
      "Epoch 63 / 100\n"
     ]
    },
    {
     "name": "stderr",
     "output_type": "stream",
     "text": [
      "Train: 100%|██████████| 156/156 [00:43<00:00,  3.56it/s, loss=1.32]\n",
      "Val: 100%|██████████| 40/40 [00:10<00:00,  3.65it/s, loss=1.57]\n"
     ]
    },
    {
     "name": "stdout",
     "output_type": "stream",
     "text": [
      "Accuracy: 0.7412140575079872, Precision (micro): 0.8189189189189189, Recall (micro): 0.8487394957983193\n",
      "Epoch 64 / 100\n"
     ]
    },
    {
     "name": "stderr",
     "output_type": "stream",
     "text": [
      "Train: 100%|██████████| 156/156 [00:43<00:00,  3.57it/s, loss=1.29]\n",
      "Val: 100%|██████████| 40/40 [00:10<00:00,  3.65it/s, loss=1.64]\n"
     ]
    },
    {
     "name": "stdout",
     "output_type": "stream",
     "text": [
      "Accuracy: 0.7603833865814696, Precision (micro): 0.8324175824175825, Recall (micro): 0.8487394957983193\n",
      "Epoch 65 / 100\n"
     ]
    },
    {
     "name": "stderr",
     "output_type": "stream",
     "text": [
      "Train: 100%|██████████| 156/156 [00:43<00:00,  3.56it/s, loss=1.31]\n",
      "Val: 100%|██████████| 40/40 [00:11<00:00,  3.60it/s, loss=1.68]\n"
     ]
    },
    {
     "name": "stdout",
     "output_type": "stream",
     "text": [
      "Accuracy: 0.7635782747603834, Precision (micro): 0.8324175824175825, Recall (micro): 0.8487394957983193\n",
      "Epoch 66 / 100\n"
     ]
    },
    {
     "name": "stderr",
     "output_type": "stream",
     "text": [
      "Train: 100%|██████████| 156/156 [00:44<00:00,  3.51it/s, loss=1.30]\n",
      "Val: 100%|██████████| 40/40 [00:11<00:00,  3.63it/s, loss=1.39]\n"
     ]
    },
    {
     "name": "stdout",
     "output_type": "stream",
     "text": [
      "Accuracy: 0.7412140575079872, Precision (micro): 0.8361111111111111, Recall (micro): 0.8431372549019608\n",
      "Epoch 67 / 100\n"
     ]
    },
    {
     "name": "stderr",
     "output_type": "stream",
     "text": [
      "Train: 100%|██████████| 156/156 [00:43<00:00,  3.57it/s, loss=1.32]\n",
      "Val: 100%|██████████| 40/40 [00:10<00:00,  3.65it/s, loss=1.69]\n"
     ]
    },
    {
     "name": "stdout",
     "output_type": "stream",
     "text": [
      "Accuracy: 0.7124600638977636, Precision (micro): 0.7978142076502732, Recall (micro): 0.8179271708683473\n",
      "Epoch 68 / 100\n"
     ]
    },
    {
     "name": "stderr",
     "output_type": "stream",
     "text": [
      "Train: 100%|██████████| 156/156 [00:43<00:00,  3.55it/s, loss=1.32]\n",
      "Val: 100%|██████████| 40/40 [00:10<00:00,  3.69it/s, loss=1.57]\n"
     ]
    },
    {
     "name": "stdout",
     "output_type": "stream",
     "text": [
      "Accuracy: 0.7284345047923323, Precision (micro): 0.8131868131868132, Recall (micro): 0.8291316526610645\n",
      "Epoch 69 / 100\n"
     ]
    },
    {
     "name": "stderr",
     "output_type": "stream",
     "text": [
      "Train: 100%|██████████| 156/156 [00:43<00:00,  3.58it/s, loss=1.25]\n",
      "Val: 100%|██████████| 40/40 [00:10<00:00,  3.68it/s, loss=1.59]\n"
     ]
    },
    {
     "name": "stdout",
     "output_type": "stream",
     "text": [
      "Accuracy: 0.7412140575079872, Precision (micro): 0.816711590296496, Recall (micro): 0.8487394957983193\n",
      "Epoch 70 / 100\n"
     ]
    },
    {
     "name": "stderr",
     "output_type": "stream",
     "text": [
      "Train: 100%|██████████| 156/156 [00:42<00:00,  3.68it/s, loss=1.28]\n",
      "Val: 100%|██████████| 40/40 [00:10<00:00,  3.77it/s, loss=1.56]\n"
     ]
    },
    {
     "name": "stdout",
     "output_type": "stream",
     "text": [
      "Accuracy: 0.7412140575079872, Precision (micro): 0.8181818181818182, Recall (micro): 0.8571428571428571\n",
      "Epoch 71 / 100\n"
     ]
    },
    {
     "name": "stderr",
     "output_type": "stream",
     "text": [
      "Train: 100%|██████████| 156/156 [00:40<00:00,  3.89it/s, loss=1.22]\n",
      "Val: 100%|██████████| 40/40 [00:10<00:00,  3.78it/s, loss=1.53]\n"
     ]
    },
    {
     "name": "stdout",
     "output_type": "stream",
     "text": [
      "Accuracy: 0.744408945686901, Precision (micro): 0.824, Recall (micro): 0.865546218487395\n",
      "Epoch 72 / 100\n"
     ]
    },
    {
     "name": "stderr",
     "output_type": "stream",
     "text": [
      "Train: 100%|██████████| 156/156 [00:43<00:00,  3.59it/s, loss=1.22]\n",
      "Val: 100%|██████████| 40/40 [00:10<00:00,  3.70it/s, loss=1.58]\n"
     ]
    },
    {
     "name": "stdout",
     "output_type": "stream",
     "text": [
      "Accuracy: 0.744408945686901, Precision (micro): 0.8155080213903744, Recall (micro): 0.8543417366946778\n",
      "Epoch 73 / 100\n"
     ]
    },
    {
     "name": "stderr",
     "output_type": "stream",
     "text": [
      "Train: 100%|██████████| 156/156 [00:44<00:00,  3.54it/s, loss=1.21]\n",
      "Val: 100%|██████████| 40/40 [00:10<00:00,  3.70it/s, loss=1.53]\n"
     ]
    },
    {
     "name": "stdout",
     "output_type": "stream",
     "text": [
      "Accuracy: 0.7507987220447284, Precision (micro): 0.8216216216216217, Recall (micro): 0.8515406162464986\n",
      "Epoch 74 / 100\n"
     ]
    },
    {
     "name": "stderr",
     "output_type": "stream",
     "text": [
      "Train: 100%|██████████| 156/156 [00:43<00:00,  3.60it/s, loss=1.24]\n",
      "Val: 100%|██████████| 40/40 [00:10<00:00,  3.66it/s, loss=1.57]\n"
     ]
    },
    {
     "name": "stdout",
     "output_type": "stream",
     "text": [
      "Accuracy: 0.7476038338658147, Precision (micro): 0.8150134048257373, Recall (micro): 0.8515406162464986\n",
      "Epoch 75 / 100\n"
     ]
    },
    {
     "name": "stderr",
     "output_type": "stream",
     "text": [
      "Train: 100%|██████████| 156/156 [00:43<00:00,  3.59it/s, loss=1.19]\n",
      "Val: 100%|██████████| 40/40 [00:11<00:00,  3.61it/s, loss=1.61]\n"
     ]
    },
    {
     "name": "stdout",
     "output_type": "stream",
     "text": [
      "Accuracy: 0.7476038338658147, Precision (micro): 0.8101604278074866, Recall (micro): 0.8487394957983193\n",
      "Epoch 76 / 100\n"
     ]
    },
    {
     "name": "stderr",
     "output_type": "stream",
     "text": [
      "Train: 100%|██████████| 156/156 [00:43<00:00,  3.61it/s, loss=1.18]\n",
      "Val: 100%|██████████| 40/40 [00:11<00:00,  3.62it/s, loss=1.58]\n"
     ]
    },
    {
     "name": "stdout",
     "output_type": "stream",
     "text": [
      "Accuracy: 0.7412140575079872, Precision (micro): 0.8189189189189189, Recall (micro): 0.8487394957983193\n",
      "Epoch 77 / 100\n"
     ]
    },
    {
     "name": "stderr",
     "output_type": "stream",
     "text": [
      "Train: 100%|██████████| 156/156 [00:43<00:00,  3.62it/s, loss=1.16]\n",
      "Val: 100%|██████████| 40/40 [00:11<00:00,  3.63it/s, loss=1.52]\n"
     ]
    },
    {
     "name": "stdout",
     "output_type": "stream",
     "text": [
      "Accuracy: 0.744408945686901, Precision (micro): 0.8246575342465754, Recall (micro): 0.8431372549019608\n",
      "Epoch 78 / 100\n"
     ]
    },
    {
     "name": "stderr",
     "output_type": "stream",
     "text": [
      "Train: 100%|██████████| 156/156 [00:43<00:00,  3.59it/s, loss=1.19]\n",
      "Val: 100%|██████████| 40/40 [00:10<00:00,  3.65it/s, loss=1.54]\n"
     ]
    },
    {
     "name": "stdout",
     "output_type": "stream",
     "text": [
      "Accuracy: 0.744408945686901, Precision (micro): 0.8233695652173914, Recall (micro): 0.8487394957983193\n",
      "Epoch 79 / 100\n"
     ]
    },
    {
     "name": "stderr",
     "output_type": "stream",
     "text": [
      "Train: 100%|██████████| 156/156 [00:58<00:00,  2.65it/s, loss=1.21]\n",
      "Val: 100%|██████████| 40/40 [00:11<00:00,  3.62it/s, loss=1.55]\n"
     ]
    },
    {
     "name": "stdout",
     "output_type": "stream",
     "text": [
      "Accuracy: 0.7380191693290735, Precision (micro): 0.816711590296496, Recall (micro): 0.8487394957983193\n",
      "Epoch 80 / 100\n"
     ]
    },
    {
     "name": "stderr",
     "output_type": "stream",
     "text": [
      "Train: 100%|██████████| 156/156 [00:43<00:00,  3.58it/s, loss=1.17]\n",
      "Val: 100%|██████████| 40/40 [00:10<00:00,  3.66it/s, loss=1.50]\n"
     ]
    },
    {
     "name": "stdout",
     "output_type": "stream",
     "text": [
      "Accuracy: 0.7603833865814696, Precision (micro): 0.8260869565217391, Recall (micro): 0.8515406162464986\n",
      "Epoch 81 / 100\n"
     ]
    },
    {
     "name": "stderr",
     "output_type": "stream",
     "text": [
      "Train: 100%|██████████| 156/156 [00:41<00:00,  3.75it/s, loss=1.18]\n",
      "Val: 100%|██████████| 40/40 [00:10<00:00,  3.81it/s, loss=1.49]\n"
     ]
    },
    {
     "name": "stdout",
     "output_type": "stream",
     "text": [
      "Accuracy: 0.7539936102236422, Precision (micro): 0.8256130790190735, Recall (micro): 0.8487394957983193\n",
      "Epoch 82 / 100\n"
     ]
    },
    {
     "name": "stderr",
     "output_type": "stream",
     "text": [
      "Train: 100%|██████████| 156/156 [00:43<00:00,  3.62it/s, loss=1.21]\n",
      "Val: 100%|██████████| 40/40 [00:11<00:00,  3.62it/s, loss=1.44]\n"
     ]
    },
    {
     "name": "stdout",
     "output_type": "stream",
     "text": [
      "Accuracy: 0.7507987220447284, Precision (micro): 0.8259668508287292, Recall (micro): 0.8375350140056023\n",
      "Epoch 83 / 100\n"
     ]
    },
    {
     "name": "stderr",
     "output_type": "stream",
     "text": [
      "Train: 100%|██████████| 156/156 [00:43<00:00,  3.56it/s, loss=1.16]\n",
      "Val: 100%|██████████| 40/40 [00:11<00:00,  3.62it/s, loss=1.54]\n"
     ]
    },
    {
     "name": "stdout",
     "output_type": "stream",
     "text": [
      "Accuracy: 0.7476038338658147, Precision (micro): 0.8211382113821138, Recall (micro): 0.8487394957983193\n",
      "Epoch 84 / 100\n"
     ]
    },
    {
     "name": "stderr",
     "output_type": "stream",
     "text": [
      "Train: 100%|██████████| 156/156 [00:43<00:00,  3.56it/s, loss=1.20]\n",
      "Val: 100%|██████████| 40/40 [00:10<00:00,  3.71it/s, loss=1.64]\n"
     ]
    },
    {
     "name": "stdout",
     "output_type": "stream",
     "text": [
      "Accuracy: 0.744408945686901, Precision (micro): 0.8162162162162162, Recall (micro): 0.84593837535014\n",
      "Epoch 85 / 100\n"
     ]
    },
    {
     "name": "stderr",
     "output_type": "stream",
     "text": [
      "Train: 100%|██████████| 156/156 [00:41<00:00,  3.78it/s, loss=1.16]\n",
      "Val: 100%|██████████| 40/40 [00:10<00:00,  3.71it/s, loss=1.57]\n"
     ]
    },
    {
     "name": "stdout",
     "output_type": "stream",
     "text": [
      "Accuracy: 0.7412140575079872, Precision (micro): 0.8113207547169812, Recall (micro): 0.8431372549019608\n",
      "Epoch 86 / 100\n"
     ]
    },
    {
     "name": "stderr",
     "output_type": "stream",
     "text": [
      "Train: 100%|██████████| 156/156 [00:43<00:00,  3.56it/s, loss=1.13]\n",
      "Val: 100%|██████████| 40/40 [00:10<00:00,  3.69it/s, loss=1.54]\n"
     ]
    },
    {
     "name": "stdout",
     "output_type": "stream",
     "text": [
      "Accuracy: 0.7380191693290735, Precision (micro): 0.8150134048257373, Recall (micro): 0.8515406162464986\n",
      "Epoch 87 / 100\n"
     ]
    },
    {
     "name": "stderr",
     "output_type": "stream",
     "text": [
      "Train: 100%|██████████| 156/156 [00:43<00:00,  3.57it/s, loss=1.15]\n",
      "Val: 100%|██████████| 40/40 [00:10<00:00,  3.72it/s, loss=1.55]\n"
     ]
    },
    {
     "name": "stdout",
     "output_type": "stream",
     "text": [
      "Accuracy: 0.7476038338658147, Precision (micro): 0.8130081300813008, Recall (micro): 0.8403361344537815\n",
      "Epoch 88 / 100\n"
     ]
    },
    {
     "name": "stderr",
     "output_type": "stream",
     "text": [
      "Train: 100%|██████████| 156/156 [00:43<00:00,  3.58it/s, loss=1.16]\n",
      "Val: 100%|██████████| 40/40 [00:10<00:00,  3.67it/s, loss=1.52]\n"
     ]
    },
    {
     "name": "stdout",
     "output_type": "stream",
     "text": [
      "Accuracy: 0.7476038338658147, Precision (micro): 0.8198924731182796, Recall (micro): 0.8543417366946778\n",
      "Epoch 89 / 100\n"
     ]
    },
    {
     "name": "stderr",
     "output_type": "stream",
     "text": [
      "Train: 100%|██████████| 156/156 [00:43<00:00,  3.56it/s, loss=1.16]\n",
      "Val: 100%|██████████| 40/40 [00:10<00:00,  3.71it/s, loss=1.84]\n"
     ]
    },
    {
     "name": "stdout",
     "output_type": "stream",
     "text": [
      "Accuracy: 0.7156549520766773, Precision (micro): 0.7968337730870713, Recall (micro): 0.84593837535014\n",
      "Epoch 90 / 100\n"
     ]
    },
    {
     "name": "stderr",
     "output_type": "stream",
     "text": [
      "Train: 100%|██████████| 156/156 [00:43<00:00,  3.59it/s, loss=nan]\n",
      "Val: 100%|██████████| 40/40 [00:11<00:00,  3.63it/s, loss=nan]\n"
     ]
    },
    {
     "name": "stdout",
     "output_type": "stream",
     "text": [
      "Accuracy: 0.10223642172523961, Precision (micro): 0.1182108626198083, Recall (micro): 0.10364145658263306\n",
      "Epoch 91 / 100\n"
     ]
    },
    {
     "name": "stderr",
     "output_type": "stream",
     "text": [
      "Evaluate: 100%|██████████| 59/59 [00:07<00:00,  7.46it/s]\n",
      "Evaluate: 100%|██████████| 59/59 [00:07<00:00,  7.84it/s]"
     ]
    },
    {
     "name": "stdout",
     "output_type": "stream",
     "text": [
      "================ Classification Report ================\n",
      "                   precision    recall  f1-score   support\n",
      "\n",
      "             Anak       1.00      0.93      0.96        43\n",
      "            Bedah       0.74      0.97      0.84        29\n",
      "             Gigi       1.00      1.00      1.00        42\n",
      "             Gizi       0.81      0.98      0.88        43\n",
      "          Jantung       0.75      0.30      0.43        10\n",
      "             Jiwa       0.98      0.93      0.95        43\n",
      "        Kandungan       0.91      0.98      0.94        43\n",
      "Kulit dan Kelamin       0.88      0.93      0.91        46\n",
      "             Mata       1.00      1.00      1.00        26\n",
      "             Paru       0.00      0.00      0.00         2\n",
      "   Penyakit Dalam       0.70      0.88      0.78        42\n",
      "            Saraf       1.00      0.14      0.25        14\n",
      "              THT       0.86      1.00      0.92        43\n",
      "           Tulang       0.87      0.97      0.92        35\n",
      "          Urologi       0.89      0.57      0.70        14\n",
      "\n",
      "        micro avg       0.88      0.91      0.89       475\n",
      "        macro avg       0.83      0.77      0.77       475\n",
      "     weighted avg       0.88      0.91      0.88       475\n",
      "      samples avg       0.89      0.91      0.90       475\n",
      "\n",
      "================ Multi Label Score ================\n",
      "Accuracy             : 0.8592750533049041\n",
      "Precision            : 0.8757637474541752\n",
      "Recall               : 0.9052631578947369\n",
      "F1 Score             : 0.8902691511387164\n",
      "Hamming Loss         : 0.015067519545131485\n",
      "Jaccard Score\n",
      "Anak                 : 0.9302325581395349\n",
      "Bedah                : 0.717948717948718\n",
      "Gigi                 : 1.0\n",
      "Gizi                 : 0.7924528301886793\n",
      "Jantung              : 0.2727272727272727\n",
      "Jiwa                 : 0.9090909090909091\n",
      "Kandungan            : 0.8936170212765957\n",
      "Kulit dan Kelamin    : 0.8269230769230769\n",
      "Mata                 : 1.0\n",
      "Paru                 : 0.0\n",
      "Penyakit Dalam       : 0.6379310344827587\n",
      "Saraf                : 0.14285714285714285\n",
      "THT                  : 0.86\n",
      "Tulang               : 0.85\n",
      "Urologi              : 0.5333333333333333\n",
      "Jaccard Score Macro Average: 0.6911409264645347\n",
      "Jaccard Score Micro Average: 0.8022388059701493\n",
      "\n",
      "CPU times: user 43min 54s, sys: 11min 44s, total: 55min 38s\n",
      "Wall time: 1h 23min 46s\n"
     ]
    },
    {
     "name": "stderr",
     "output_type": "stream",
     "text": [
      "\n",
      "/opt/conda/lib/python3.8/site-packages/sklearn/metrics/_classification.py:1221: UndefinedMetricWarning: Precision and F-score are ill-defined and being set to 0.0 in labels with no predicted samples. Use `zero_division` parameter to control this behavior.\n",
      "  _warn_prf(average, modifier, msg_start, len(result))\n"
     ]
    }
   ],
   "source": [
    "%%time\n",
    "transformer, classifier = create_model(transformer, classifier)\n",
    "optimizer = torch.optim.AdamW(get_param(transformer, classifier), lr = LEARNING_RATE, weight_decay = REGULARIZATION)\n",
    "\n",
    "num_train_instances = len(train_instances)\n",
    "num_train_steps = int(num_train_instances / BATCH_SIZE * EPOCH)\n",
    "num_warmup_steps = int(num_train_steps * WARMUP_PROPORTION)\n",
    "scheduler = get_constant_schedule_with_warmup(optimizer, num_warmup_steps = num_warmup_steps)\n",
    "\n",
    "info = train_model(transformer, classifier, optimizer, scheduler, num_epochs=EPOCH, last_epoch=0, last_acc=0)\n",
    "\n",
    "y_pred, y_test = aso_pred(transformer, classifier, test_instances)\n",
    "acc, f1, hamm = aso_eval(y_pred, y_test)\n",
    "\n",
    "record_result([f\"daptE6-5\", \"semi-supervised\", \"dapt\", acc, f1, hamm])\n",
    "\n",
    "evaluate_dataset(transformer, classifier, test_instances)"
   ]
  },
  {
   "cell_type": "code",
   "execution_count": null,
   "metadata": {},
   "outputs": [],
   "source": [
    "import os, signal\n",
    "\n",
    "os.kill(os.getpid(), signal.SIGKILL)"
   ]
  },
  {
   "cell_type": "code",
   "execution_count": null,
   "metadata": {},
   "outputs": [],
   "source": []
  }
 ],
 "metadata": {
  "accelerator": "GPU",
  "colab": {
   "provenance": []
  },
  "gpuClass": "standard",
  "kernelspec": {
   "display_name": "Python 3 (ipykernel)",
   "language": "python",
   "name": "python3"
  },
  "language_info": {
   "codemirror_mode": {
    "name": "ipython",
    "version": 3
   },
   "file_extension": ".py",
   "mimetype": "text/x-python",
   "name": "python",
   "nbconvert_exporter": "python",
   "pygments_lexer": "ipython3",
   "version": "3.8.12"
  },
  "widgets": {
   "application/vnd.jupyter.widget-state+json": {
    "04a419f4dda54e89b67b4fdf7df545a4": {
     "model_module": "@jupyter-widgets/base",
     "model_module_version": "1.2.0",
     "model_name": "LayoutModel",
     "state": {
      "_model_module": "@jupyter-widgets/base",
      "_model_module_version": "1.2.0",
      "_model_name": "LayoutModel",
      "_view_count": null,
      "_view_module": "@jupyter-widgets/base",
      "_view_module_version": "1.2.0",
      "_view_name": "LayoutView",
      "align_content": null,
      "align_items": null,
      "align_self": null,
      "border": null,
      "bottom": null,
      "display": null,
      "flex": null,
      "flex_flow": null,
      "grid_area": null,
      "grid_auto_columns": null,
      "grid_auto_flow": null,
      "grid_auto_rows": null,
      "grid_column": null,
      "grid_gap": null,
      "grid_row": null,
      "grid_template_areas": null,
      "grid_template_columns": null,
      "grid_template_rows": null,
      "height": null,
      "justify_content": null,
      "justify_items": null,
      "left": null,
      "margin": null,
      "max_height": null,
      "max_width": null,
      "min_height": null,
      "min_width": null,
      "object_fit": null,
      "object_position": null,
      "order": null,
      "overflow": null,
      "overflow_x": null,
      "overflow_y": null,
      "padding": null,
      "right": null,
      "top": null,
      "visibility": null,
      "width": null
     }
    },
    "05a4b7cf84cc48e19e32b69886d2b458": {
     "model_module": "@jupyter-widgets/controls",
     "model_module_version": "1.5.0",
     "model_name": "HTMLModel",
     "state": {
      "_dom_classes": [],
      "_model_module": "@jupyter-widgets/controls",
      "_model_module_version": "1.5.0",
      "_model_name": "HTMLModel",
      "_view_count": null,
      "_view_module": "@jupyter-widgets/controls",
      "_view_module_version": "1.5.0",
      "_view_name": "HTMLView",
      "description": "",
      "description_tooltip": null,
      "layout": "IPY_MODEL_544d0df5a4a647b9b6b0b8c6bdb26cb6",
      "placeholder": "​",
      "style": "IPY_MODEL_2f37e0b9395b492f9d73b3d095a70bd9",
      "value": "Downloading (…)solve/main/vocab.txt: 100%"
     }
    },
    "06776b06b38b40e3a1564574a3f1a9a1": {
     "model_module": "@jupyter-widgets/base",
     "model_module_version": "1.2.0",
     "model_name": "LayoutModel",
     "state": {
      "_model_module": "@jupyter-widgets/base",
      "_model_module_version": "1.2.0",
      "_model_name": "LayoutModel",
      "_view_count": null,
      "_view_module": "@jupyter-widgets/base",
      "_view_module_version": "1.2.0",
      "_view_name": "LayoutView",
      "align_content": null,
      "align_items": null,
      "align_self": null,
      "border": null,
      "bottom": null,
      "display": null,
      "flex": null,
      "flex_flow": null,
      "grid_area": null,
      "grid_auto_columns": null,
      "grid_auto_flow": null,
      "grid_auto_rows": null,
      "grid_column": null,
      "grid_gap": null,
      "grid_row": null,
      "grid_template_areas": null,
      "grid_template_columns": null,
      "grid_template_rows": null,
      "height": null,
      "justify_content": null,
      "justify_items": null,
      "left": null,
      "margin": null,
      "max_height": null,
      "max_width": null,
      "min_height": null,
      "min_width": null,
      "object_fit": null,
      "object_position": null,
      "order": null,
      "overflow": null,
      "overflow_x": null,
      "overflow_y": null,
      "padding": null,
      "right": null,
      "top": null,
      "visibility": null,
      "width": null
     }
    },
    "0e138bdc5a574e34afa47a739a67d4ac": {
     "model_module": "@jupyter-widgets/controls",
     "model_module_version": "1.5.0",
     "model_name": "ProgressStyleModel",
     "state": {
      "_model_module": "@jupyter-widgets/controls",
      "_model_module_version": "1.5.0",
      "_model_name": "ProgressStyleModel",
      "_view_count": null,
      "_view_module": "@jupyter-widgets/base",
      "_view_module_version": "1.2.0",
      "_view_name": "StyleView",
      "bar_color": null,
      "description_width": ""
     }
    },
    "12102861416449a5a25c9394f0c14b26": {
     "model_module": "@jupyter-widgets/controls",
     "model_module_version": "1.5.0",
     "model_name": "HTMLModel",
     "state": {
      "_dom_classes": [],
      "_model_module": "@jupyter-widgets/controls",
      "_model_module_version": "1.5.0",
      "_model_name": "HTMLModel",
      "_view_count": null,
      "_view_module": "@jupyter-widgets/controls",
      "_view_module_version": "1.5.0",
      "_view_name": "HTMLView",
      "description": "",
      "description_tooltip": null,
      "layout": "IPY_MODEL_40c600367a964cf78ecd442a00518a5b",
      "placeholder": "​",
      "style": "IPY_MODEL_6433c8181f2f430683cc2123bd7150cf",
      "value": "Downloading (…)&quot;pytorch_model.bin&quot;;: 100%"
     }
    },
    "143599c854ab46368a86c5832d7cc442": {
     "model_module": "@jupyter-widgets/base",
     "model_module_version": "1.2.0",
     "model_name": "LayoutModel",
     "state": {
      "_model_module": "@jupyter-widgets/base",
      "_model_module_version": "1.2.0",
      "_model_name": "LayoutModel",
      "_view_count": null,
      "_view_module": "@jupyter-widgets/base",
      "_view_module_version": "1.2.0",
      "_view_name": "LayoutView",
      "align_content": null,
      "align_items": null,
      "align_self": null,
      "border": null,
      "bottom": null,
      "display": null,
      "flex": null,
      "flex_flow": null,
      "grid_area": null,
      "grid_auto_columns": null,
      "grid_auto_flow": null,
      "grid_auto_rows": null,
      "grid_column": null,
      "grid_gap": null,
      "grid_row": null,
      "grid_template_areas": null,
      "grid_template_columns": null,
      "grid_template_rows": null,
      "height": null,
      "justify_content": null,
      "justify_items": null,
      "left": null,
      "margin": null,
      "max_height": null,
      "max_width": null,
      "min_height": null,
      "min_width": null,
      "object_fit": null,
      "object_position": null,
      "order": null,
      "overflow": null,
      "overflow_x": null,
      "overflow_y": null,
      "padding": null,
      "right": null,
      "top": null,
      "visibility": null,
      "width": null
     }
    },
    "2073b8dcf8ee4d1c87f697633cefb2d7": {
     "model_module": "@jupyter-widgets/controls",
     "model_module_version": "1.5.0",
     "model_name": "HBoxModel",
     "state": {
      "_dom_classes": [],
      "_model_module": "@jupyter-widgets/controls",
      "_model_module_version": "1.5.0",
      "_model_name": "HBoxModel",
      "_view_count": null,
      "_view_module": "@jupyter-widgets/controls",
      "_view_module_version": "1.5.0",
      "_view_name": "HBoxView",
      "box_style": "",
      "children": [
       "IPY_MODEL_290b804498d941419e5fcfc496860794",
       "IPY_MODEL_31317a5094ac4aba94fc4e3a906cd64e",
       "IPY_MODEL_3a2b9d5b439241bca6c5594e28e034de"
      ],
      "layout": "IPY_MODEL_143599c854ab46368a86c5832d7cc442"
     }
    },
    "20e43ad1b9c940ef9802daefc509f37a": {
     "model_module": "@jupyter-widgets/controls",
     "model_module_version": "1.5.0",
     "model_name": "DescriptionStyleModel",
     "state": {
      "_model_module": "@jupyter-widgets/controls",
      "_model_module_version": "1.5.0",
      "_model_name": "DescriptionStyleModel",
      "_view_count": null,
      "_view_module": "@jupyter-widgets/base",
      "_view_module_version": "1.2.0",
      "_view_name": "StyleView",
      "description_width": ""
     }
    },
    "254542107d564eeca9c8ae5f9fc92bfa": {
     "model_module": "@jupyter-widgets/controls",
     "model_module_version": "1.5.0",
     "model_name": "HTMLModel",
     "state": {
      "_dom_classes": [],
      "_model_module": "@jupyter-widgets/controls",
      "_model_module_version": "1.5.0",
      "_model_name": "HTMLModel",
      "_view_count": null,
      "_view_module": "@jupyter-widgets/controls",
      "_view_module_version": "1.5.0",
      "_view_name": "HTMLView",
      "description": "",
      "description_tooltip": null,
      "layout": "IPY_MODEL_8b4ecc3e15434844a81eb854287dfe06",
      "placeholder": "​",
      "style": "IPY_MODEL_7f40d47bd4b84478b0316aa52f8dc664",
      "value": "Downloading (…)okenizer_config.json: 100%"
     }
    },
    "290b804498d941419e5fcfc496860794": {
     "model_module": "@jupyter-widgets/controls",
     "model_module_version": "1.5.0",
     "model_name": "HTMLModel",
     "state": {
      "_dom_classes": [],
      "_model_module": "@jupyter-widgets/controls",
      "_model_module_version": "1.5.0",
      "_model_name": "HTMLModel",
      "_view_count": null,
      "_view_module": "@jupyter-widgets/controls",
      "_view_module_version": "1.5.0",
      "_view_name": "HTMLView",
      "description": "",
      "description_tooltip": null,
      "layout": "IPY_MODEL_efee6531459d48d3944cd2cfc7ecdcc8",
      "placeholder": "​",
      "style": "IPY_MODEL_d8772191f4394490aeb5aff707cc6175",
      "value": "Downloading (…)lve/main/config.json: 100%"
     }
    },
    "2f37e0b9395b492f9d73b3d095a70bd9": {
     "model_module": "@jupyter-widgets/controls",
     "model_module_version": "1.5.0",
     "model_name": "DescriptionStyleModel",
     "state": {
      "_model_module": "@jupyter-widgets/controls",
      "_model_module_version": "1.5.0",
      "_model_name": "DescriptionStyleModel",
      "_view_count": null,
      "_view_module": "@jupyter-widgets/base",
      "_view_module_version": "1.2.0",
      "_view_name": "StyleView",
      "description_width": ""
     }
    },
    "30bcec41555a43868a7da00fda16c58a": {
     "model_module": "@jupyter-widgets/controls",
     "model_module_version": "1.5.0",
     "model_name": "HBoxModel",
     "state": {
      "_dom_classes": [],
      "_model_module": "@jupyter-widgets/controls",
      "_model_module_version": "1.5.0",
      "_model_name": "HBoxModel",
      "_view_count": null,
      "_view_module": "@jupyter-widgets/controls",
      "_view_module_version": "1.5.0",
      "_view_name": "HBoxView",
      "box_style": "",
      "children": [
       "IPY_MODEL_254542107d564eeca9c8ae5f9fc92bfa",
       "IPY_MODEL_f13b93f49ebc40a7af91b14f986fbd0a",
       "IPY_MODEL_95493abff50347148c73a43ed81beda3"
      ],
      "layout": "IPY_MODEL_ed8598719f314d1b998be608e5fa1b44"
     }
    },
    "31317a5094ac4aba94fc4e3a906cd64e": {
     "model_module": "@jupyter-widgets/controls",
     "model_module_version": "1.5.0",
     "model_name": "FloatProgressModel",
     "state": {
      "_dom_classes": [],
      "_model_module": "@jupyter-widgets/controls",
      "_model_module_version": "1.5.0",
      "_model_name": "FloatProgressModel",
      "_view_count": null,
      "_view_module": "@jupyter-widgets/controls",
      "_view_module_version": "1.5.0",
      "_view_name": "ProgressView",
      "bar_style": "success",
      "description": "",
      "description_tooltip": null,
      "layout": "IPY_MODEL_bc71c1c75e2b43549390b8893d3ed061",
      "max": 1014,
      "min": 0,
      "orientation": "horizontal",
      "style": "IPY_MODEL_ba3e251080a24b93a6046e6d7ff8cb5c",
      "value": 1014
     }
    },
    "32a7e3f6a6894c3c8263d8d398fe61bb": {
     "model_module": "@jupyter-widgets/base",
     "model_module_version": "1.2.0",
     "model_name": "LayoutModel",
     "state": {
      "_model_module": "@jupyter-widgets/base",
      "_model_module_version": "1.2.0",
      "_model_name": "LayoutModel",
      "_view_count": null,
      "_view_module": "@jupyter-widgets/base",
      "_view_module_version": "1.2.0",
      "_view_name": "LayoutView",
      "align_content": null,
      "align_items": null,
      "align_self": null,
      "border": null,
      "bottom": null,
      "display": null,
      "flex": null,
      "flex_flow": null,
      "grid_area": null,
      "grid_auto_columns": null,
      "grid_auto_flow": null,
      "grid_auto_rows": null,
      "grid_column": null,
      "grid_gap": null,
      "grid_row": null,
      "grid_template_areas": null,
      "grid_template_columns": null,
      "grid_template_rows": null,
      "height": null,
      "justify_content": null,
      "justify_items": null,
      "left": null,
      "margin": null,
      "max_height": null,
      "max_width": null,
      "min_height": null,
      "min_width": null,
      "object_fit": null,
      "object_position": null,
      "order": null,
      "overflow": null,
      "overflow_x": null,
      "overflow_y": null,
      "padding": null,
      "right": null,
      "top": null,
      "visibility": null,
      "width": null
     }
    },
    "32ca4f6aa77645f19865f1c6484e6c90": {
     "model_module": "@jupyter-widgets/base",
     "model_module_version": "1.2.0",
     "model_name": "LayoutModel",
     "state": {
      "_model_module": "@jupyter-widgets/base",
      "_model_module_version": "1.2.0",
      "_model_name": "LayoutModel",
      "_view_count": null,
      "_view_module": "@jupyter-widgets/base",
      "_view_module_version": "1.2.0",
      "_view_name": "LayoutView",
      "align_content": null,
      "align_items": null,
      "align_self": null,
      "border": null,
      "bottom": null,
      "display": null,
      "flex": null,
      "flex_flow": null,
      "grid_area": null,
      "grid_auto_columns": null,
      "grid_auto_flow": null,
      "grid_auto_rows": null,
      "grid_column": null,
      "grid_gap": null,
      "grid_row": null,
      "grid_template_areas": null,
      "grid_template_columns": null,
      "grid_template_rows": null,
      "height": null,
      "justify_content": null,
      "justify_items": null,
      "left": null,
      "margin": null,
      "max_height": null,
      "max_width": null,
      "min_height": null,
      "min_width": null,
      "object_fit": null,
      "object_position": null,
      "order": null,
      "overflow": null,
      "overflow_x": null,
      "overflow_y": null,
      "padding": null,
      "right": null,
      "top": null,
      "visibility": null,
      "width": null
     }
    },
    "381f4c9c261c4af2be406b31f7d56537": {
     "model_module": "@jupyter-widgets/controls",
     "model_module_version": "1.5.0",
     "model_name": "DescriptionStyleModel",
     "state": {
      "_model_module": "@jupyter-widgets/controls",
      "_model_module_version": "1.5.0",
      "_model_name": "DescriptionStyleModel",
      "_view_count": null,
      "_view_module": "@jupyter-widgets/base",
      "_view_module_version": "1.2.0",
      "_view_name": "StyleView",
      "description_width": ""
     }
    },
    "39bbe92530594a828c691d3df28055f9": {
     "model_module": "@jupyter-widgets/controls",
     "model_module_version": "1.5.0",
     "model_name": "DescriptionStyleModel",
     "state": {
      "_model_module": "@jupyter-widgets/controls",
      "_model_module_version": "1.5.0",
      "_model_name": "DescriptionStyleModel",
      "_view_count": null,
      "_view_module": "@jupyter-widgets/base",
      "_view_module_version": "1.2.0",
      "_view_name": "StyleView",
      "description_width": ""
     }
    },
    "3a2b9d5b439241bca6c5594e28e034de": {
     "model_module": "@jupyter-widgets/controls",
     "model_module_version": "1.5.0",
     "model_name": "HTMLModel",
     "state": {
      "_dom_classes": [],
      "_model_module": "@jupyter-widgets/controls",
      "_model_module_version": "1.5.0",
      "_model_name": "HTMLModel",
      "_view_count": null,
      "_view_module": "@jupyter-widgets/controls",
      "_view_module_version": "1.5.0",
      "_view_name": "HTMLView",
      "description": "",
      "description_tooltip": null,
      "layout": "IPY_MODEL_04a419f4dda54e89b67b4fdf7df545a4",
      "placeholder": "​",
      "style": "IPY_MODEL_887fbc5bec7b4dedafa40c0c7825da08",
      "value": " 1.01k/1.01k [00:00&lt;00:00, 35.6kB/s]"
     }
    },
    "3f6e9886b4cc4bb0bc79e29029f5e466": {
     "model_module": "@jupyter-widgets/controls",
     "model_module_version": "1.5.0",
     "model_name": "FloatProgressModel",
     "state": {
      "_dom_classes": [],
      "_model_module": "@jupyter-widgets/controls",
      "_model_module_version": "1.5.0",
      "_model_name": "FloatProgressModel",
      "_view_count": null,
      "_view_module": "@jupyter-widgets/controls",
      "_view_module_version": "1.5.0",
      "_view_name": "ProgressView",
      "bar_style": "success",
      "description": "",
      "description_tooltip": null,
      "layout": "IPY_MODEL_b152d11ce2a64b51a34884291bbc8b1b",
      "max": 234118,
      "min": 0,
      "orientation": "horizontal",
      "style": "IPY_MODEL_88da52c9ddca4bbf91113ef4d1793f07",
      "value": 234118
     }
    },
    "40445df68e4841d7ba23de17b6a66adb": {
     "model_module": "@jupyter-widgets/controls",
     "model_module_version": "1.5.0",
     "model_name": "HBoxModel",
     "state": {
      "_dom_classes": [],
      "_model_module": "@jupyter-widgets/controls",
      "_model_module_version": "1.5.0",
      "_model_name": "HBoxModel",
      "_view_count": null,
      "_view_module": "@jupyter-widgets/controls",
      "_view_module_version": "1.5.0",
      "_view_name": "HBoxView",
      "box_style": "",
      "children": [
       "IPY_MODEL_7485131aa1b342f9808462ad6efeba93",
       "IPY_MODEL_8d89748e23974b369603a51650dd0c08",
       "IPY_MODEL_693f3f5db2c44c9bbb24e8c9ccbe94cf"
      ],
      "layout": "IPY_MODEL_ad952bdd65c04588bd921f33110e28f8"
     }
    },
    "40c600367a964cf78ecd442a00518a5b": {
     "model_module": "@jupyter-widgets/base",
     "model_module_version": "1.2.0",
     "model_name": "LayoutModel",
     "state": {
      "_model_module": "@jupyter-widgets/base",
      "_model_module_version": "1.2.0",
      "_model_name": "LayoutModel",
      "_view_count": null,
      "_view_module": "@jupyter-widgets/base",
      "_view_module_version": "1.2.0",
      "_view_name": "LayoutView",
      "align_content": null,
      "align_items": null,
      "align_self": null,
      "border": null,
      "bottom": null,
      "display": null,
      "flex": null,
      "flex_flow": null,
      "grid_area": null,
      "grid_auto_columns": null,
      "grid_auto_flow": null,
      "grid_auto_rows": null,
      "grid_column": null,
      "grid_gap": null,
      "grid_row": null,
      "grid_template_areas": null,
      "grid_template_columns": null,
      "grid_template_rows": null,
      "height": null,
      "justify_content": null,
      "justify_items": null,
      "left": null,
      "margin": null,
      "max_height": null,
      "max_width": null,
      "min_height": null,
      "min_width": null,
      "object_fit": null,
      "object_position": null,
      "order": null,
      "overflow": null,
      "overflow_x": null,
      "overflow_y": null,
      "padding": null,
      "right": null,
      "top": null,
      "visibility": null,
      "width": null
     }
    },
    "537c4c816876433fbc98cbc3a1fd1818": {
     "model_module": "@jupyter-widgets/controls",
     "model_module_version": "1.5.0",
     "model_name": "HTMLModel",
     "state": {
      "_dom_classes": [],
      "_model_module": "@jupyter-widgets/controls",
      "_model_module_version": "1.5.0",
      "_model_name": "HTMLModel",
      "_view_count": null,
      "_view_module": "@jupyter-widgets/controls",
      "_view_module_version": "1.5.0",
      "_view_name": "HTMLView",
      "description": "",
      "description_tooltip": null,
      "layout": "IPY_MODEL_6ed9d0415f78452dbad942fcdca14418",
      "placeholder": "​",
      "style": "IPY_MODEL_7f58f0dfa3094b6dbfbf4c597faf8a0c",
      "value": "Downloading (…)cial_tokens_map.json: 100%"
     }
    },
    "544d0df5a4a647b9b6b0b8c6bdb26cb6": {
     "model_module": "@jupyter-widgets/base",
     "model_module_version": "1.2.0",
     "model_name": "LayoutModel",
     "state": {
      "_model_module": "@jupyter-widgets/base",
      "_model_module_version": "1.2.0",
      "_model_name": "LayoutModel",
      "_view_count": null,
      "_view_module": "@jupyter-widgets/base",
      "_view_module_version": "1.2.0",
      "_view_name": "LayoutView",
      "align_content": null,
      "align_items": null,
      "align_self": null,
      "border": null,
      "bottom": null,
      "display": null,
      "flex": null,
      "flex_flow": null,
      "grid_area": null,
      "grid_auto_columns": null,
      "grid_auto_flow": null,
      "grid_auto_rows": null,
      "grid_column": null,
      "grid_gap": null,
      "grid_row": null,
      "grid_template_areas": null,
      "grid_template_columns": null,
      "grid_template_rows": null,
      "height": null,
      "justify_content": null,
      "justify_items": null,
      "left": null,
      "margin": null,
      "max_height": null,
      "max_width": null,
      "min_height": null,
      "min_width": null,
      "object_fit": null,
      "object_position": null,
      "order": null,
      "overflow": null,
      "overflow_x": null,
      "overflow_y": null,
      "padding": null,
      "right": null,
      "top": null,
      "visibility": null,
      "width": null
     }
    },
    "59e96c71bc3744f68cb4c66b11188da7": {
     "model_module": "@jupyter-widgets/base",
     "model_module_version": "1.2.0",
     "model_name": "LayoutModel",
     "state": {
      "_model_module": "@jupyter-widgets/base",
      "_model_module_version": "1.2.0",
      "_model_name": "LayoutModel",
      "_view_count": null,
      "_view_module": "@jupyter-widgets/base",
      "_view_module_version": "1.2.0",
      "_view_name": "LayoutView",
      "align_content": null,
      "align_items": null,
      "align_self": null,
      "border": null,
      "bottom": null,
      "display": null,
      "flex": null,
      "flex_flow": null,
      "grid_area": null,
      "grid_auto_columns": null,
      "grid_auto_flow": null,
      "grid_auto_rows": null,
      "grid_column": null,
      "grid_gap": null,
      "grid_row": null,
      "grid_template_areas": null,
      "grid_template_columns": null,
      "grid_template_rows": null,
      "height": null,
      "justify_content": null,
      "justify_items": null,
      "left": null,
      "margin": null,
      "max_height": null,
      "max_width": null,
      "min_height": null,
      "min_width": null,
      "object_fit": null,
      "object_position": null,
      "order": null,
      "overflow": null,
      "overflow_x": null,
      "overflow_y": null,
      "padding": null,
      "right": null,
      "top": null,
      "visibility": null,
      "width": null
     }
    },
    "614a80ae332042ac8940c78d5fda5a76": {
     "model_module": "@jupyter-widgets/base",
     "model_module_version": "1.2.0",
     "model_name": "LayoutModel",
     "state": {
      "_model_module": "@jupyter-widgets/base",
      "_model_module_version": "1.2.0",
      "_model_name": "LayoutModel",
      "_view_count": null,
      "_view_module": "@jupyter-widgets/base",
      "_view_module_version": "1.2.0",
      "_view_name": "LayoutView",
      "align_content": null,
      "align_items": null,
      "align_self": null,
      "border": null,
      "bottom": null,
      "display": null,
      "flex": null,
      "flex_flow": null,
      "grid_area": null,
      "grid_auto_columns": null,
      "grid_auto_flow": null,
      "grid_auto_rows": null,
      "grid_column": null,
      "grid_gap": null,
      "grid_row": null,
      "grid_template_areas": null,
      "grid_template_columns": null,
      "grid_template_rows": null,
      "height": null,
      "justify_content": null,
      "justify_items": null,
      "left": null,
      "margin": null,
      "max_height": null,
      "max_width": null,
      "min_height": null,
      "min_width": null,
      "object_fit": null,
      "object_position": null,
      "order": null,
      "overflow": null,
      "overflow_x": null,
      "overflow_y": null,
      "padding": null,
      "right": null,
      "top": null,
      "visibility": null,
      "width": null
     }
    },
    "6433c8181f2f430683cc2123bd7150cf": {
     "model_module": "@jupyter-widgets/controls",
     "model_module_version": "1.5.0",
     "model_name": "DescriptionStyleModel",
     "state": {
      "_model_module": "@jupyter-widgets/controls",
      "_model_module_version": "1.5.0",
      "_model_name": "DescriptionStyleModel",
      "_view_count": null,
      "_view_module": "@jupyter-widgets/base",
      "_view_module_version": "1.2.0",
      "_view_name": "StyleView",
      "description_width": ""
     }
    },
    "668d076b9d27407881a67924a0646ca1": {
     "model_module": "@jupyter-widgets/controls",
     "model_module_version": "1.5.0",
     "model_name": "HTMLModel",
     "state": {
      "_dom_classes": [],
      "_model_module": "@jupyter-widgets/controls",
      "_model_module_version": "1.5.0",
      "_model_name": "HTMLModel",
      "_view_count": null,
      "_view_module": "@jupyter-widgets/controls",
      "_view_module_version": "1.5.0",
      "_view_name": "HTMLView",
      "description": "",
      "description_tooltip": null,
      "layout": "IPY_MODEL_f842604d51204c31956f68421c7a2d4f",
      "placeholder": "​",
      "style": "IPY_MODEL_a5c9d1ed3e684d3dac00da66fea9d82f",
      "value": " 112/112 [00:00&lt;00:00, 1.53kB/s]"
     }
    },
    "693f3f5db2c44c9bbb24e8c9ccbe94cf": {
     "model_module": "@jupyter-widgets/controls",
     "model_module_version": "1.5.0",
     "model_name": "HTMLModel",
     "state": {
      "_dom_classes": [],
      "_model_module": "@jupyter-widgets/controls",
      "_model_module_version": "1.5.0",
      "_model_name": "HTMLModel",
      "_view_count": null,
      "_view_module": "@jupyter-widgets/controls",
      "_view_module_version": "1.5.0",
      "_view_name": "HTMLView",
      "description": "",
      "description_tooltip": null,
      "layout": "IPY_MODEL_614a80ae332042ac8940c78d5fda5a76",
      "placeholder": "​",
      "style": "IPY_MODEL_381f4c9c261c4af2be406b31f7d56537",
      "value": " 2.00/2.00 [00:00&lt;00:00, 47.4B/s]"
     }
    },
    "6ed9d0415f78452dbad942fcdca14418": {
     "model_module": "@jupyter-widgets/base",
     "model_module_version": "1.2.0",
     "model_name": "LayoutModel",
     "state": {
      "_model_module": "@jupyter-widgets/base",
      "_model_module_version": "1.2.0",
      "_model_name": "LayoutModel",
      "_view_count": null,
      "_view_module": "@jupyter-widgets/base",
      "_view_module_version": "1.2.0",
      "_view_name": "LayoutView",
      "align_content": null,
      "align_items": null,
      "align_self": null,
      "border": null,
      "bottom": null,
      "display": null,
      "flex": null,
      "flex_flow": null,
      "grid_area": null,
      "grid_auto_columns": null,
      "grid_auto_flow": null,
      "grid_auto_rows": null,
      "grid_column": null,
      "grid_gap": null,
      "grid_row": null,
      "grid_template_areas": null,
      "grid_template_columns": null,
      "grid_template_rows": null,
      "height": null,
      "justify_content": null,
      "justify_items": null,
      "left": null,
      "margin": null,
      "max_height": null,
      "max_width": null,
      "min_height": null,
      "min_width": null,
      "object_fit": null,
      "object_position": null,
      "order": null,
      "overflow": null,
      "overflow_x": null,
      "overflow_y": null,
      "padding": null,
      "right": null,
      "top": null,
      "visibility": null,
      "width": null
     }
    },
    "7485131aa1b342f9808462ad6efeba93": {
     "model_module": "@jupyter-widgets/controls",
     "model_module_version": "1.5.0",
     "model_name": "HTMLModel",
     "state": {
      "_dom_classes": [],
      "_model_module": "@jupyter-widgets/controls",
      "_model_module_version": "1.5.0",
      "_model_name": "HTMLModel",
      "_view_count": null,
      "_view_module": "@jupyter-widgets/controls",
      "_view_module_version": "1.5.0",
      "_view_name": "HTMLView",
      "description": "",
      "description_tooltip": null,
      "layout": "IPY_MODEL_59e96c71bc3744f68cb4c66b11188da7",
      "placeholder": "​",
      "style": "IPY_MODEL_39bbe92530594a828c691d3df28055f9",
      "value": "Downloading (…)in/added_tokens.json: 100%"
     }
    },
    "79b5b2951d754d88bee6238513a086d4": {
     "model_module": "@jupyter-widgets/controls",
     "model_module_version": "1.5.0",
     "model_name": "DescriptionStyleModel",
     "state": {
      "_model_module": "@jupyter-widgets/controls",
      "_model_module_version": "1.5.0",
      "_model_name": "DescriptionStyleModel",
      "_view_count": null,
      "_view_module": "@jupyter-widgets/base",
      "_view_module_version": "1.2.0",
      "_view_name": "StyleView",
      "description_width": ""
     }
    },
    "7bff898d9e0444bf95f17ce0338a20e6": {
     "model_module": "@jupyter-widgets/controls",
     "model_module_version": "1.5.0",
     "model_name": "ProgressStyleModel",
     "state": {
      "_model_module": "@jupyter-widgets/controls",
      "_model_module_version": "1.5.0",
      "_model_name": "ProgressStyleModel",
      "_view_count": null,
      "_view_module": "@jupyter-widgets/base",
      "_view_module_version": "1.2.0",
      "_view_name": "StyleView",
      "bar_color": null,
      "description_width": ""
     }
    },
    "7f40d47bd4b84478b0316aa52f8dc664": {
     "model_module": "@jupyter-widgets/controls",
     "model_module_version": "1.5.0",
     "model_name": "DescriptionStyleModel",
     "state": {
      "_model_module": "@jupyter-widgets/controls",
      "_model_module_version": "1.5.0",
      "_model_name": "DescriptionStyleModel",
      "_view_count": null,
      "_view_module": "@jupyter-widgets/base",
      "_view_module_version": "1.2.0",
      "_view_name": "StyleView",
      "description_width": ""
     }
    },
    "7f58f0dfa3094b6dbfbf4c597faf8a0c": {
     "model_module": "@jupyter-widgets/controls",
     "model_module_version": "1.5.0",
     "model_name": "DescriptionStyleModel",
     "state": {
      "_model_module": "@jupyter-widgets/controls",
      "_model_module_version": "1.5.0",
      "_model_name": "DescriptionStyleModel",
      "_view_count": null,
      "_view_module": "@jupyter-widgets/base",
      "_view_module_version": "1.2.0",
      "_view_name": "StyleView",
      "description_width": ""
     }
    },
    "869af91e8cb64ed69a586b5865e1804a": {
     "model_module": "@jupyter-widgets/base",
     "model_module_version": "1.2.0",
     "model_name": "LayoutModel",
     "state": {
      "_model_module": "@jupyter-widgets/base",
      "_model_module_version": "1.2.0",
      "_model_name": "LayoutModel",
      "_view_count": null,
      "_view_module": "@jupyter-widgets/base",
      "_view_module_version": "1.2.0",
      "_view_name": "LayoutView",
      "align_content": null,
      "align_items": null,
      "align_self": null,
      "border": null,
      "bottom": null,
      "display": null,
      "flex": null,
      "flex_flow": null,
      "grid_area": null,
      "grid_auto_columns": null,
      "grid_auto_flow": null,
      "grid_auto_rows": null,
      "grid_column": null,
      "grid_gap": null,
      "grid_row": null,
      "grid_template_areas": null,
      "grid_template_columns": null,
      "grid_template_rows": null,
      "height": null,
      "justify_content": null,
      "justify_items": null,
      "left": null,
      "margin": null,
      "max_height": null,
      "max_width": null,
      "min_height": null,
      "min_width": null,
      "object_fit": null,
      "object_position": null,
      "order": null,
      "overflow": null,
      "overflow_x": null,
      "overflow_y": null,
      "padding": null,
      "right": null,
      "top": null,
      "visibility": null,
      "width": null
     }
    },
    "887fbc5bec7b4dedafa40c0c7825da08": {
     "model_module": "@jupyter-widgets/controls",
     "model_module_version": "1.5.0",
     "model_name": "DescriptionStyleModel",
     "state": {
      "_model_module": "@jupyter-widgets/controls",
      "_model_module_version": "1.5.0",
      "_model_name": "DescriptionStyleModel",
      "_view_count": null,
      "_view_module": "@jupyter-widgets/base",
      "_view_module_version": "1.2.0",
      "_view_name": "StyleView",
      "description_width": ""
     }
    },
    "88da52c9ddca4bbf91113ef4d1793f07": {
     "model_module": "@jupyter-widgets/controls",
     "model_module_version": "1.5.0",
     "model_name": "ProgressStyleModel",
     "state": {
      "_model_module": "@jupyter-widgets/controls",
      "_model_module_version": "1.5.0",
      "_model_name": "ProgressStyleModel",
      "_view_count": null,
      "_view_module": "@jupyter-widgets/base",
      "_view_module_version": "1.2.0",
      "_view_name": "StyleView",
      "bar_color": null,
      "description_width": ""
     }
    },
    "8b4ecc3e15434844a81eb854287dfe06": {
     "model_module": "@jupyter-widgets/base",
     "model_module_version": "1.2.0",
     "model_name": "LayoutModel",
     "state": {
      "_model_module": "@jupyter-widgets/base",
      "_model_module_version": "1.2.0",
      "_model_name": "LayoutModel",
      "_view_count": null,
      "_view_module": "@jupyter-widgets/base",
      "_view_module_version": "1.2.0",
      "_view_name": "LayoutView",
      "align_content": null,
      "align_items": null,
      "align_self": null,
      "border": null,
      "bottom": null,
      "display": null,
      "flex": null,
      "flex_flow": null,
      "grid_area": null,
      "grid_auto_columns": null,
      "grid_auto_flow": null,
      "grid_auto_rows": null,
      "grid_column": null,
      "grid_gap": null,
      "grid_row": null,
      "grid_template_areas": null,
      "grid_template_columns": null,
      "grid_template_rows": null,
      "height": null,
      "justify_content": null,
      "justify_items": null,
      "left": null,
      "margin": null,
      "max_height": null,
      "max_width": null,
      "min_height": null,
      "min_width": null,
      "object_fit": null,
      "object_position": null,
      "order": null,
      "overflow": null,
      "overflow_x": null,
      "overflow_y": null,
      "padding": null,
      "right": null,
      "top": null,
      "visibility": null,
      "width": null
     }
    },
    "8d89748e23974b369603a51650dd0c08": {
     "model_module": "@jupyter-widgets/controls",
     "model_module_version": "1.5.0",
     "model_name": "FloatProgressModel",
     "state": {
      "_dom_classes": [],
      "_model_module": "@jupyter-widgets/controls",
      "_model_module_version": "1.5.0",
      "_model_name": "FloatProgressModel",
      "_view_count": null,
      "_view_module": "@jupyter-widgets/controls",
      "_view_module_version": "1.5.0",
      "_view_name": "ProgressView",
      "bar_style": "success",
      "description": "",
      "description_tooltip": null,
      "layout": "IPY_MODEL_32ca4f6aa77645f19865f1c6484e6c90",
      "max": 2,
      "min": 0,
      "orientation": "horizontal",
      "style": "IPY_MODEL_7bff898d9e0444bf95f17ce0338a20e6",
      "value": 2
     }
    },
    "92f55df24dc74aeaa995b51de23a354f": {
     "model_module": "@jupyter-widgets/controls",
     "model_module_version": "1.5.0",
     "model_name": "ProgressStyleModel",
     "state": {
      "_model_module": "@jupyter-widgets/controls",
      "_model_module_version": "1.5.0",
      "_model_name": "ProgressStyleModel",
      "_view_count": null,
      "_view_module": "@jupyter-widgets/base",
      "_view_module_version": "1.2.0",
      "_view_name": "StyleView",
      "bar_color": null,
      "description_width": ""
     }
    },
    "95493abff50347148c73a43ed81beda3": {
     "model_module": "@jupyter-widgets/controls",
     "model_module_version": "1.5.0",
     "model_name": "HTMLModel",
     "state": {
      "_dom_classes": [],
      "_model_module": "@jupyter-widgets/controls",
      "_model_module_version": "1.5.0",
      "_model_name": "HTMLModel",
      "_view_count": null,
      "_view_module": "@jupyter-widgets/controls",
      "_view_module_version": "1.5.0",
      "_view_name": "HTMLView",
      "description": "",
      "description_tooltip": null,
      "layout": "IPY_MODEL_a3748f6b95ac47e69cf5b06d9a7ce23a",
      "placeholder": "​",
      "style": "IPY_MODEL_79b5b2951d754d88bee6238513a086d4",
      "value": " 42.0/42.0 [00:00&lt;00:00, 862B/s]"
     }
    },
    "96b818dd75274b39b8ac9b92aba7fe2b": {
     "model_module": "@jupyter-widgets/base",
     "model_module_version": "1.2.0",
     "model_name": "LayoutModel",
     "state": {
      "_model_module": "@jupyter-widgets/base",
      "_model_module_version": "1.2.0",
      "_model_name": "LayoutModel",
      "_view_count": null,
      "_view_module": "@jupyter-widgets/base",
      "_view_module_version": "1.2.0",
      "_view_name": "LayoutView",
      "align_content": null,
      "align_items": null,
      "align_self": null,
      "border": null,
      "bottom": null,
      "display": null,
      "flex": null,
      "flex_flow": null,
      "grid_area": null,
      "grid_auto_columns": null,
      "grid_auto_flow": null,
      "grid_auto_rows": null,
      "grid_column": null,
      "grid_gap": null,
      "grid_row": null,
      "grid_template_areas": null,
      "grid_template_columns": null,
      "grid_template_rows": null,
      "height": null,
      "justify_content": null,
      "justify_items": null,
      "left": null,
      "margin": null,
      "max_height": null,
      "max_width": null,
      "min_height": null,
      "min_width": null,
      "object_fit": null,
      "object_position": null,
      "order": null,
      "overflow": null,
      "overflow_x": null,
      "overflow_y": null,
      "padding": null,
      "right": null,
      "top": null,
      "visibility": null,
      "width": null
     }
    },
    "9b90900013144a658ab4db2401caa3f2": {
     "model_module": "@jupyter-widgets/controls",
     "model_module_version": "1.5.0",
     "model_name": "DescriptionStyleModel",
     "state": {
      "_model_module": "@jupyter-widgets/controls",
      "_model_module_version": "1.5.0",
      "_model_name": "DescriptionStyleModel",
      "_view_count": null,
      "_view_module": "@jupyter-widgets/base",
      "_view_module_version": "1.2.0",
      "_view_name": "StyleView",
      "description_width": ""
     }
    },
    "9d17a2913c1242dea25483ad56c0c893": {
     "model_module": "@jupyter-widgets/base",
     "model_module_version": "1.2.0",
     "model_name": "LayoutModel",
     "state": {
      "_model_module": "@jupyter-widgets/base",
      "_model_module_version": "1.2.0",
      "_model_name": "LayoutModel",
      "_view_count": null,
      "_view_module": "@jupyter-widgets/base",
      "_view_module_version": "1.2.0",
      "_view_name": "LayoutView",
      "align_content": null,
      "align_items": null,
      "align_self": null,
      "border": null,
      "bottom": null,
      "display": null,
      "flex": null,
      "flex_flow": null,
      "grid_area": null,
      "grid_auto_columns": null,
      "grid_auto_flow": null,
      "grid_auto_rows": null,
      "grid_column": null,
      "grid_gap": null,
      "grid_row": null,
      "grid_template_areas": null,
      "grid_template_columns": null,
      "grid_template_rows": null,
      "height": null,
      "justify_content": null,
      "justify_items": null,
      "left": null,
      "margin": null,
      "max_height": null,
      "max_width": null,
      "min_height": null,
      "min_width": null,
      "object_fit": null,
      "object_position": null,
      "order": null,
      "overflow": null,
      "overflow_x": null,
      "overflow_y": null,
      "padding": null,
      "right": null,
      "top": null,
      "visibility": null,
      "width": null
     }
    },
    "a1a28e3d4061419fb1d4194c0801124d": {
     "model_module": "@jupyter-widgets/controls",
     "model_module_version": "1.5.0",
     "model_name": "HBoxModel",
     "state": {
      "_dom_classes": [],
      "_model_module": "@jupyter-widgets/controls",
      "_model_module_version": "1.5.0",
      "_model_name": "HBoxModel",
      "_view_count": null,
      "_view_module": "@jupyter-widgets/controls",
      "_view_module_version": "1.5.0",
      "_view_name": "HBoxView",
      "box_style": "",
      "children": [
       "IPY_MODEL_537c4c816876433fbc98cbc3a1fd1818",
       "IPY_MODEL_e71018e6db294d438d0d39f0c1d3ec18",
       "IPY_MODEL_668d076b9d27407881a67924a0646ca1"
      ],
      "layout": "IPY_MODEL_fe87e9d0bc4846c0b16d4a824d9ada8b"
     }
    },
    "a2abf61937a946bcb3797e4532c74022": {
     "model_module": "@jupyter-widgets/controls",
     "model_module_version": "1.5.0",
     "model_name": "HTMLModel",
     "state": {
      "_dom_classes": [],
      "_model_module": "@jupyter-widgets/controls",
      "_model_module_version": "1.5.0",
      "_model_name": "HTMLModel",
      "_view_count": null,
      "_view_module": "@jupyter-widgets/controls",
      "_view_module_version": "1.5.0",
      "_view_name": "HTMLView",
      "description": "",
      "description_tooltip": null,
      "layout": "IPY_MODEL_869af91e8cb64ed69a586b5865e1804a",
      "placeholder": "​",
      "style": "IPY_MODEL_20e43ad1b9c940ef9802daefc509f37a",
      "value": " 445M/445M [00:01&lt;00:00, 265MB/s]"
     }
    },
    "a3748f6b95ac47e69cf5b06d9a7ce23a": {
     "model_module": "@jupyter-widgets/base",
     "model_module_version": "1.2.0",
     "model_name": "LayoutModel",
     "state": {
      "_model_module": "@jupyter-widgets/base",
      "_model_module_version": "1.2.0",
      "_model_name": "LayoutModel",
      "_view_count": null,
      "_view_module": "@jupyter-widgets/base",
      "_view_module_version": "1.2.0",
      "_view_name": "LayoutView",
      "align_content": null,
      "align_items": null,
      "align_self": null,
      "border": null,
      "bottom": null,
      "display": null,
      "flex": null,
      "flex_flow": null,
      "grid_area": null,
      "grid_auto_columns": null,
      "grid_auto_flow": null,
      "grid_auto_rows": null,
      "grid_column": null,
      "grid_gap": null,
      "grid_row": null,
      "grid_template_areas": null,
      "grid_template_columns": null,
      "grid_template_rows": null,
      "height": null,
      "justify_content": null,
      "justify_items": null,
      "left": null,
      "margin": null,
      "max_height": null,
      "max_width": null,
      "min_height": null,
      "min_width": null,
      "object_fit": null,
      "object_position": null,
      "order": null,
      "overflow": null,
      "overflow_x": null,
      "overflow_y": null,
      "padding": null,
      "right": null,
      "top": null,
      "visibility": null,
      "width": null
     }
    },
    "a5c9d1ed3e684d3dac00da66fea9d82f": {
     "model_module": "@jupyter-widgets/controls",
     "model_module_version": "1.5.0",
     "model_name": "DescriptionStyleModel",
     "state": {
      "_model_module": "@jupyter-widgets/controls",
      "_model_module_version": "1.5.0",
      "_model_name": "DescriptionStyleModel",
      "_view_count": null,
      "_view_module": "@jupyter-widgets/base",
      "_view_module_version": "1.2.0",
      "_view_name": "StyleView",
      "description_width": ""
     }
    },
    "ad40facb8c3f4cb2825fe780f193190e": {
     "model_module": "@jupyter-widgets/base",
     "model_module_version": "1.2.0",
     "model_name": "LayoutModel",
     "state": {
      "_model_module": "@jupyter-widgets/base",
      "_model_module_version": "1.2.0",
      "_model_name": "LayoutModel",
      "_view_count": null,
      "_view_module": "@jupyter-widgets/base",
      "_view_module_version": "1.2.0",
      "_view_name": "LayoutView",
      "align_content": null,
      "align_items": null,
      "align_self": null,
      "border": null,
      "bottom": null,
      "display": null,
      "flex": null,
      "flex_flow": null,
      "grid_area": null,
      "grid_auto_columns": null,
      "grid_auto_flow": null,
      "grid_auto_rows": null,
      "grid_column": null,
      "grid_gap": null,
      "grid_row": null,
      "grid_template_areas": null,
      "grid_template_columns": null,
      "grid_template_rows": null,
      "height": null,
      "justify_content": null,
      "justify_items": null,
      "left": null,
      "margin": null,
      "max_height": null,
      "max_width": null,
      "min_height": null,
      "min_width": null,
      "object_fit": null,
      "object_position": null,
      "order": null,
      "overflow": null,
      "overflow_x": null,
      "overflow_y": null,
      "padding": null,
      "right": null,
      "top": null,
      "visibility": null,
      "width": null
     }
    },
    "ad952bdd65c04588bd921f33110e28f8": {
     "model_module": "@jupyter-widgets/base",
     "model_module_version": "1.2.0",
     "model_name": "LayoutModel",
     "state": {
      "_model_module": "@jupyter-widgets/base",
      "_model_module_version": "1.2.0",
      "_model_name": "LayoutModel",
      "_view_count": null,
      "_view_module": "@jupyter-widgets/base",
      "_view_module_version": "1.2.0",
      "_view_name": "LayoutView",
      "align_content": null,
      "align_items": null,
      "align_self": null,
      "border": null,
      "bottom": null,
      "display": null,
      "flex": null,
      "flex_flow": null,
      "grid_area": null,
      "grid_auto_columns": null,
      "grid_auto_flow": null,
      "grid_auto_rows": null,
      "grid_column": null,
      "grid_gap": null,
      "grid_row": null,
      "grid_template_areas": null,
      "grid_template_columns": null,
      "grid_template_rows": null,
      "height": null,
      "justify_content": null,
      "justify_items": null,
      "left": null,
      "margin": null,
      "max_height": null,
      "max_width": null,
      "min_height": null,
      "min_width": null,
      "object_fit": null,
      "object_position": null,
      "order": null,
      "overflow": null,
      "overflow_x": null,
      "overflow_y": null,
      "padding": null,
      "right": null,
      "top": null,
      "visibility": null,
      "width": null
     }
    },
    "b152d11ce2a64b51a34884291bbc8b1b": {
     "model_module": "@jupyter-widgets/base",
     "model_module_version": "1.2.0",
     "model_name": "LayoutModel",
     "state": {
      "_model_module": "@jupyter-widgets/base",
      "_model_module_version": "1.2.0",
      "_model_name": "LayoutModel",
      "_view_count": null,
      "_view_module": "@jupyter-widgets/base",
      "_view_module_version": "1.2.0",
      "_view_name": "LayoutView",
      "align_content": null,
      "align_items": null,
      "align_self": null,
      "border": null,
      "bottom": null,
      "display": null,
      "flex": null,
      "flex_flow": null,
      "grid_area": null,
      "grid_auto_columns": null,
      "grid_auto_flow": null,
      "grid_auto_rows": null,
      "grid_column": null,
      "grid_gap": null,
      "grid_row": null,
      "grid_template_areas": null,
      "grid_template_columns": null,
      "grid_template_rows": null,
      "height": null,
      "justify_content": null,
      "justify_items": null,
      "left": null,
      "margin": null,
      "max_height": null,
      "max_width": null,
      "min_height": null,
      "min_width": null,
      "object_fit": null,
      "object_position": null,
      "order": null,
      "overflow": null,
      "overflow_x": null,
      "overflow_y": null,
      "padding": null,
      "right": null,
      "top": null,
      "visibility": null,
      "width": null
     }
    },
    "b5e1ca62a5d84e12b54d0d218b586ce2": {
     "model_module": "@jupyter-widgets/base",
     "model_module_version": "1.2.0",
     "model_name": "LayoutModel",
     "state": {
      "_model_module": "@jupyter-widgets/base",
      "_model_module_version": "1.2.0",
      "_model_name": "LayoutModel",
      "_view_count": null,
      "_view_module": "@jupyter-widgets/base",
      "_view_module_version": "1.2.0",
      "_view_name": "LayoutView",
      "align_content": null,
      "align_items": null,
      "align_self": null,
      "border": null,
      "bottom": null,
      "display": null,
      "flex": null,
      "flex_flow": null,
      "grid_area": null,
      "grid_auto_columns": null,
      "grid_auto_flow": null,
      "grid_auto_rows": null,
      "grid_column": null,
      "grid_gap": null,
      "grid_row": null,
      "grid_template_areas": null,
      "grid_template_columns": null,
      "grid_template_rows": null,
      "height": null,
      "justify_content": null,
      "justify_items": null,
      "left": null,
      "margin": null,
      "max_height": null,
      "max_width": null,
      "min_height": null,
      "min_width": null,
      "object_fit": null,
      "object_position": null,
      "order": null,
      "overflow": null,
      "overflow_x": null,
      "overflow_y": null,
      "padding": null,
      "right": null,
      "top": null,
      "visibility": null,
      "width": null
     }
    },
    "b6104933f86f4350a80851e8887d6c00": {
     "model_module": "@jupyter-widgets/controls",
     "model_module_version": "1.5.0",
     "model_name": "ProgressStyleModel",
     "state": {
      "_model_module": "@jupyter-widgets/controls",
      "_model_module_version": "1.5.0",
      "_model_name": "ProgressStyleModel",
      "_view_count": null,
      "_view_module": "@jupyter-widgets/base",
      "_view_module_version": "1.2.0",
      "_view_name": "StyleView",
      "bar_color": null,
      "description_width": ""
     }
    },
    "ba3e251080a24b93a6046e6d7ff8cb5c": {
     "model_module": "@jupyter-widgets/controls",
     "model_module_version": "1.5.0",
     "model_name": "ProgressStyleModel",
     "state": {
      "_model_module": "@jupyter-widgets/controls",
      "_model_module_version": "1.5.0",
      "_model_name": "ProgressStyleModel",
      "_view_count": null,
      "_view_module": "@jupyter-widgets/base",
      "_view_module_version": "1.2.0",
      "_view_name": "StyleView",
      "bar_color": null,
      "description_width": ""
     }
    },
    "bc71c1c75e2b43549390b8893d3ed061": {
     "model_module": "@jupyter-widgets/base",
     "model_module_version": "1.2.0",
     "model_name": "LayoutModel",
     "state": {
      "_model_module": "@jupyter-widgets/base",
      "_model_module_version": "1.2.0",
      "_model_name": "LayoutModel",
      "_view_count": null,
      "_view_module": "@jupyter-widgets/base",
      "_view_module_version": "1.2.0",
      "_view_name": "LayoutView",
      "align_content": null,
      "align_items": null,
      "align_self": null,
      "border": null,
      "bottom": null,
      "display": null,
      "flex": null,
      "flex_flow": null,
      "grid_area": null,
      "grid_auto_columns": null,
      "grid_auto_flow": null,
      "grid_auto_rows": null,
      "grid_column": null,
      "grid_gap": null,
      "grid_row": null,
      "grid_template_areas": null,
      "grid_template_columns": null,
      "grid_template_rows": null,
      "height": null,
      "justify_content": null,
      "justify_items": null,
      "left": null,
      "margin": null,
      "max_height": null,
      "max_width": null,
      "min_height": null,
      "min_width": null,
      "object_fit": null,
      "object_position": null,
      "order": null,
      "overflow": null,
      "overflow_x": null,
      "overflow_y": null,
      "padding": null,
      "right": null,
      "top": null,
      "visibility": null,
      "width": null
     }
    },
    "bd3aa89c288d45668f2fe0a0d708cfc8": {
     "model_module": "@jupyter-widgets/controls",
     "model_module_version": "1.5.0",
     "model_name": "FloatProgressModel",
     "state": {
      "_dom_classes": [],
      "_model_module": "@jupyter-widgets/controls",
      "_model_module_version": "1.5.0",
      "_model_name": "FloatProgressModel",
      "_view_count": null,
      "_view_module": "@jupyter-widgets/controls",
      "_view_module_version": "1.5.0",
      "_view_name": "ProgressView",
      "bar_style": "success",
      "description": "",
      "description_tooltip": null,
      "layout": "IPY_MODEL_b5e1ca62a5d84e12b54d0d218b586ce2",
      "max": 444780374,
      "min": 0,
      "orientation": "horizontal",
      "style": "IPY_MODEL_0e138bdc5a574e34afa47a739a67d4ac",
      "value": 444780374
     }
    },
    "d8772191f4394490aeb5aff707cc6175": {
     "model_module": "@jupyter-widgets/controls",
     "model_module_version": "1.5.0",
     "model_name": "DescriptionStyleModel",
     "state": {
      "_model_module": "@jupyter-widgets/controls",
      "_model_module_version": "1.5.0",
      "_model_name": "DescriptionStyleModel",
      "_view_count": null,
      "_view_module": "@jupyter-widgets/base",
      "_view_module_version": "1.2.0",
      "_view_name": "StyleView",
      "description_width": ""
     }
    },
    "dcc96f1bbe6e43f29cc02a88373989e9": {
     "model_module": "@jupyter-widgets/controls",
     "model_module_version": "1.5.0",
     "model_name": "HBoxModel",
     "state": {
      "_dom_classes": [],
      "_model_module": "@jupyter-widgets/controls",
      "_model_module_version": "1.5.0",
      "_model_name": "HBoxModel",
      "_view_count": null,
      "_view_module": "@jupyter-widgets/controls",
      "_view_module_version": "1.5.0",
      "_view_name": "HBoxView",
      "box_style": "",
      "children": [
       "IPY_MODEL_05a4b7cf84cc48e19e32b69886d2b458",
       "IPY_MODEL_3f6e9886b4cc4bb0bc79e29029f5e466",
       "IPY_MODEL_e7115a8750ff49a49eeda83dcfa98e50"
      ],
      "layout": "IPY_MODEL_9d17a2913c1242dea25483ad56c0c893"
     }
    },
    "df49fb14f1b94e13acd5026948becdf6": {
     "model_module": "@jupyter-widgets/controls",
     "model_module_version": "1.5.0",
     "model_name": "HBoxModel",
     "state": {
      "_dom_classes": [],
      "_model_module": "@jupyter-widgets/controls",
      "_model_module_version": "1.5.0",
      "_model_name": "HBoxModel",
      "_view_count": null,
      "_view_module": "@jupyter-widgets/controls",
      "_view_module_version": "1.5.0",
      "_view_name": "HBoxView",
      "box_style": "",
      "children": [
       "IPY_MODEL_12102861416449a5a25c9394f0c14b26",
       "IPY_MODEL_bd3aa89c288d45668f2fe0a0d708cfc8",
       "IPY_MODEL_a2abf61937a946bcb3797e4532c74022"
      ],
      "layout": "IPY_MODEL_ad40facb8c3f4cb2825fe780f193190e"
     }
    },
    "e71018e6db294d438d0d39f0c1d3ec18": {
     "model_module": "@jupyter-widgets/controls",
     "model_module_version": "1.5.0",
     "model_name": "FloatProgressModel",
     "state": {
      "_dom_classes": [],
      "_model_module": "@jupyter-widgets/controls",
      "_model_module_version": "1.5.0",
      "_model_name": "FloatProgressModel",
      "_view_count": null,
      "_view_module": "@jupyter-widgets/controls",
      "_view_module_version": "1.5.0",
      "_view_name": "ProgressView",
      "bar_style": "success",
      "description": "",
      "description_tooltip": null,
      "layout": "IPY_MODEL_06776b06b38b40e3a1564574a3f1a9a1",
      "max": 112,
      "min": 0,
      "orientation": "horizontal",
      "style": "IPY_MODEL_b6104933f86f4350a80851e8887d6c00",
      "value": 112
     }
    },
    "e7115a8750ff49a49eeda83dcfa98e50": {
     "model_module": "@jupyter-widgets/controls",
     "model_module_version": "1.5.0",
     "model_name": "HTMLModel",
     "state": {
      "_dom_classes": [],
      "_model_module": "@jupyter-widgets/controls",
      "_model_module_version": "1.5.0",
      "_model_name": "HTMLModel",
      "_view_count": null,
      "_view_module": "@jupyter-widgets/controls",
      "_view_module_version": "1.5.0",
      "_view_name": "HTMLView",
      "description": "",
      "description_tooltip": null,
      "layout": "IPY_MODEL_32a7e3f6a6894c3c8263d8d398fe61bb",
      "placeholder": "​",
      "style": "IPY_MODEL_9b90900013144a658ab4db2401caa3f2",
      "value": " 234k/234k [00:00&lt;00:00, 265kB/s]"
     }
    },
    "ed8598719f314d1b998be608e5fa1b44": {
     "model_module": "@jupyter-widgets/base",
     "model_module_version": "1.2.0",
     "model_name": "LayoutModel",
     "state": {
      "_model_module": "@jupyter-widgets/base",
      "_model_module_version": "1.2.0",
      "_model_name": "LayoutModel",
      "_view_count": null,
      "_view_module": "@jupyter-widgets/base",
      "_view_module_version": "1.2.0",
      "_view_name": "LayoutView",
      "align_content": null,
      "align_items": null,
      "align_self": null,
      "border": null,
      "bottom": null,
      "display": null,
      "flex": null,
      "flex_flow": null,
      "grid_area": null,
      "grid_auto_columns": null,
      "grid_auto_flow": null,
      "grid_auto_rows": null,
      "grid_column": null,
      "grid_gap": null,
      "grid_row": null,
      "grid_template_areas": null,
      "grid_template_columns": null,
      "grid_template_rows": null,
      "height": null,
      "justify_content": null,
      "justify_items": null,
      "left": null,
      "margin": null,
      "max_height": null,
      "max_width": null,
      "min_height": null,
      "min_width": null,
      "object_fit": null,
      "object_position": null,
      "order": null,
      "overflow": null,
      "overflow_x": null,
      "overflow_y": null,
      "padding": null,
      "right": null,
      "top": null,
      "visibility": null,
      "width": null
     }
    },
    "efee6531459d48d3944cd2cfc7ecdcc8": {
     "model_module": "@jupyter-widgets/base",
     "model_module_version": "1.2.0",
     "model_name": "LayoutModel",
     "state": {
      "_model_module": "@jupyter-widgets/base",
      "_model_module_version": "1.2.0",
      "_model_name": "LayoutModel",
      "_view_count": null,
      "_view_module": "@jupyter-widgets/base",
      "_view_module_version": "1.2.0",
      "_view_name": "LayoutView",
      "align_content": null,
      "align_items": null,
      "align_self": null,
      "border": null,
      "bottom": null,
      "display": null,
      "flex": null,
      "flex_flow": null,
      "grid_area": null,
      "grid_auto_columns": null,
      "grid_auto_flow": null,
      "grid_auto_rows": null,
      "grid_column": null,
      "grid_gap": null,
      "grid_row": null,
      "grid_template_areas": null,
      "grid_template_columns": null,
      "grid_template_rows": null,
      "height": null,
      "justify_content": null,
      "justify_items": null,
      "left": null,
      "margin": null,
      "max_height": null,
      "max_width": null,
      "min_height": null,
      "min_width": null,
      "object_fit": null,
      "object_position": null,
      "order": null,
      "overflow": null,
      "overflow_x": null,
      "overflow_y": null,
      "padding": null,
      "right": null,
      "top": null,
      "visibility": null,
      "width": null
     }
    },
    "f13b93f49ebc40a7af91b14f986fbd0a": {
     "model_module": "@jupyter-widgets/controls",
     "model_module_version": "1.5.0",
     "model_name": "FloatProgressModel",
     "state": {
      "_dom_classes": [],
      "_model_module": "@jupyter-widgets/controls",
      "_model_module_version": "1.5.0",
      "_model_name": "FloatProgressModel",
      "_view_count": null,
      "_view_module": "@jupyter-widgets/controls",
      "_view_module_version": "1.5.0",
      "_view_name": "ProgressView",
      "bar_style": "success",
      "description": "",
      "description_tooltip": null,
      "layout": "IPY_MODEL_96b818dd75274b39b8ac9b92aba7fe2b",
      "max": 42,
      "min": 0,
      "orientation": "horizontal",
      "style": "IPY_MODEL_92f55df24dc74aeaa995b51de23a354f",
      "value": 42
     }
    },
    "f842604d51204c31956f68421c7a2d4f": {
     "model_module": "@jupyter-widgets/base",
     "model_module_version": "1.2.0",
     "model_name": "LayoutModel",
     "state": {
      "_model_module": "@jupyter-widgets/base",
      "_model_module_version": "1.2.0",
      "_model_name": "LayoutModel",
      "_view_count": null,
      "_view_module": "@jupyter-widgets/base",
      "_view_module_version": "1.2.0",
      "_view_name": "LayoutView",
      "align_content": null,
      "align_items": null,
      "align_self": null,
      "border": null,
      "bottom": null,
      "display": null,
      "flex": null,
      "flex_flow": null,
      "grid_area": null,
      "grid_auto_columns": null,
      "grid_auto_flow": null,
      "grid_auto_rows": null,
      "grid_column": null,
      "grid_gap": null,
      "grid_row": null,
      "grid_template_areas": null,
      "grid_template_columns": null,
      "grid_template_rows": null,
      "height": null,
      "justify_content": null,
      "justify_items": null,
      "left": null,
      "margin": null,
      "max_height": null,
      "max_width": null,
      "min_height": null,
      "min_width": null,
      "object_fit": null,
      "object_position": null,
      "order": null,
      "overflow": null,
      "overflow_x": null,
      "overflow_y": null,
      "padding": null,
      "right": null,
      "top": null,
      "visibility": null,
      "width": null
     }
    },
    "fe87e9d0bc4846c0b16d4a824d9ada8b": {
     "model_module": "@jupyter-widgets/base",
     "model_module_version": "1.2.0",
     "model_name": "LayoutModel",
     "state": {
      "_model_module": "@jupyter-widgets/base",
      "_model_module_version": "1.2.0",
      "_model_name": "LayoutModel",
      "_view_count": null,
      "_view_module": "@jupyter-widgets/base",
      "_view_module_version": "1.2.0",
      "_view_name": "LayoutView",
      "align_content": null,
      "align_items": null,
      "align_self": null,
      "border": null,
      "bottom": null,
      "display": null,
      "flex": null,
      "flex_flow": null,
      "grid_area": null,
      "grid_auto_columns": null,
      "grid_auto_flow": null,
      "grid_auto_rows": null,
      "grid_column": null,
      "grid_gap": null,
      "grid_row": null,
      "grid_template_areas": null,
      "grid_template_columns": null,
      "grid_template_rows": null,
      "height": null,
      "justify_content": null,
      "justify_items": null,
      "left": null,
      "margin": null,
      "max_height": null,
      "max_width": null,
      "min_height": null,
      "min_width": null,
      "object_fit": null,
      "object_position": null,
      "order": null,
      "overflow": null,
      "overflow_x": null,
      "overflow_y": null,
      "padding": null,
      "right": null,
      "top": null,
      "visibility": null,
      "width": null
     }
    }
   }
  }
 },
 "nbformat": 4,
 "nbformat_minor": 1
}
