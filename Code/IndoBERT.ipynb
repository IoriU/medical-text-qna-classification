{
 "cells": [
  {
   "cell_type": "code",
   "execution_count": 2,
   "metadata": {
    "colab": {
     "base_uri": "https://localhost:8080/"
    },
    "id": "N7a3p7n7vHXR",
    "outputId": "df4229fc-3bd6-41b2-da4f-90b46b91f579"
   },
   "outputs": [
    {
     "name": "stdout",
     "output_type": "stream",
     "text": [
      "Sun Jun  4 06:19:50 2023       \n",
      "+-----------------------------------------------------------------------------+\n",
      "| NVIDIA-SMI 450.156.00   Driver Version: 450.156.00   CUDA Version: 11.5     |\n",
      "|-------------------------------+----------------------+----------------------+\n",
      "| GPU  Name        Persistence-M| Bus-Id        Disp.A | Volatile Uncorr. ECC |\n",
      "| Fan  Temp  Perf  Pwr:Usage/Cap|         Memory-Usage | GPU-Util  Compute M. |\n",
      "|                               |                      |               MIG M. |\n",
      "|===============================+======================+======================|\n",
      "|   0  A100-SXM4-40GB      On   | 00000000:07:00.0 Off |                    0 |\n",
      "| N/A   27C    P0    61W / 400W |  39005MiB / 40537MiB |      0%      Default |\n",
      "|                               |                      |             Disabled |\n",
      "+-------------------------------+----------------------+----------------------+\n",
      "|   1  A100-SXM4-40GB      On   | 00000000:0F:00.0 Off |                    0 |\n",
      "| N/A   26C    P0    63W / 400W |   2981MiB / 40537MiB |      0%      Default |\n",
      "|                               |                      |             Disabled |\n",
      "+-------------------------------+----------------------+----------------------+\n",
      "|   2  A100-SXM4-40GB      On   | 00000000:47:00.0 Off |                    0 |\n",
      "| N/A   26C    P0    62W / 400W |  39076MiB / 40537MiB |      0%      Default |\n",
      "|                               |                      |             Disabled |\n",
      "+-------------------------------+----------------------+----------------------+\n",
      "|   3  A100-SXM4-40GB      On   | 00000000:4E:00.0 Off |                    0 |\n",
      "| N/A   29C    P0    94W / 400W |  13011MiB / 40537MiB |     95%      Default |\n",
      "|                               |                      |             Disabled |\n",
      "+-------------------------------+----------------------+----------------------+\n",
      "|   4  A100-SXM4-40GB      On   | 00000000:87:00.0 Off |                    0 |\n",
      "| N/A   43C    P0    86W / 400W |  39438MiB / 40537MiB |      0%      Default |\n",
      "|                               |                      |             Disabled |\n",
      "+-------------------------------+----------------------+----------------------+\n",
      "|   5  A100-SXM4-40GB      On   | 00000000:90:00.0 Off |                    0 |\n",
      "| N/A   32C    P0    63W / 400W |  33173MiB / 40537MiB |      0%      Default |\n",
      "|                               |                      |             Disabled |\n",
      "+-------------------------------+----------------------+----------------------+\n",
      "|   6  A100-SXM4-40GB      On   | 00000000:B7:00.0 Off |                    0 |\n",
      "| N/A   31C    P0    63W / 400W |  19738MiB / 40537MiB |      0%      Default |\n",
      "|                               |                      |             Disabled |\n",
      "+-------------------------------+----------------------+----------------------+\n",
      "|   7  A100-SXM4-40GB      On   | 00000000:BD:00.0 Off |                    0 |\n",
      "| N/A   31C    P0    64W / 400W |    632MiB / 40537MiB |      0%      Default |\n",
      "|                               |                      |             Disabled |\n",
      "+-------------------------------+----------------------+----------------------+\n",
      "                                                                               \n",
      "+-----------------------------------------------------------------------------+\n",
      "| Processes:                                                                  |\n",
      "|  GPU   GI   CI        PID   Type   Process name                  GPU Memory |\n",
      "|        ID   ID                                                   Usage      |\n",
      "|=============================================================================|\n",
      "+-----------------------------------------------------------------------------+\n"
     ]
    }
   ],
   "source": [
    "!nvidia-smi"
   ]
  },
  {
   "cell_type": "code",
   "execution_count": 3,
   "metadata": {},
   "outputs": [],
   "source": [
    "import os\n",
    "os.environ['CUDA_VISIBLE_DEVICES'] = '6'"
   ]
  },
  {
   "cell_type": "markdown",
   "metadata": {},
   "source": [
    "# Import"
   ]
  },
  {
   "cell_type": "code",
   "execution_count": 4,
   "metadata": {
    "colab": {
     "base_uri": "https://localhost:8080/"
    },
    "id": "jqXRfh9k6Dwo",
    "outputId": "a5cb801d-b223-4444-ddc1-1cd6d813f6e8"
   },
   "outputs": [],
   "source": [
    "!pip install -qq transformers\n",
    "!pip install -qq nlpaug\n",
    "!pip install -qq scikit-multilearn"
   ]
  },
  {
   "cell_type": "code",
   "execution_count": 5,
   "metadata": {
    "id": "Lu8TdNAy6lFb"
   },
   "outputs": [],
   "source": [
    "import random\n",
    "import numpy as np\n",
    "import nlpaug.augmenter.word as naw\n",
    "import torch\n",
    "import torch.nn.functional as F\n",
    "import torch.nn as nn\n",
    "\n",
    "from transformers import AutoTokenizer, AutoModel, get_constant_schedule_with_warmup\n",
    "from transformers import TrainingArguments, Trainer, AutoConfig\n",
    "from torch.utils.data import TensorDataset, DataLoader, RandomSampler, SequentialSampler"
   ]
  },
  {
   "cell_type": "code",
   "execution_count": 6,
   "metadata": {
    "id": "FT1qwnumvYip"
   },
   "outputs": [],
   "source": [
    "import pandas as pd\n",
    "import xml.etree.ElementTree as ET\n",
    "import re\n",
    "import numpy as np\n",
    "# import seaborn as sns\n",
    "import warnings\n",
    "import string\n",
    "warnings.filterwarnings(\"ignore\", 'This pattern has match groups')\n",
    "import matplotlib.pyplot as plt\n",
    "import matplotlib"
   ]
  },
  {
   "cell_type": "code",
   "execution_count": 7,
   "metadata": {
    "colab": {
     "base_uri": "https://localhost:8080/"
    },
    "id": "HDwsKrIr-v_h",
    "outputId": "b2dc0161-2fc0-4951-b4c3-e30820c4103c"
   },
   "outputs": [
    {
     "data": {
      "text/plain": [
       "<torch._C.Generator at 0x7f088b529290>"
      ]
     },
     "execution_count": 7,
     "metadata": {},
     "output_type": "execute_result"
    }
   ],
   "source": [
    "seed_val = 1906350912\n",
    "random.seed(seed_val)\n",
    "np.random.seed(seed_val)\n",
    "torch.manual_seed(seed_val)"
   ]
  },
  {
   "cell_type": "code",
   "execution_count": 8,
   "metadata": {
    "id": "dfvB2LBk-y8T"
   },
   "outputs": [],
   "source": [
    "if torch.cuda.is_available():\n",
    "  torch.cuda.manual_seed_all(seed_val)"
   ]
  },
  {
   "cell_type": "code",
   "execution_count": 9,
   "metadata": {
    "colab": {
     "base_uri": "https://localhost:8080/"
    },
    "id": "Y540eZ12-3PX",
    "outputId": "03fd27db-0582-4531-aee3-b86a64af742a"
   },
   "outputs": [
    {
     "name": "stdout",
     "output_type": "stream",
     "text": [
      "Tersedia sejumlah 1 GPU(s).\n",
      "GPU yang akan digunakan: A100-SXM4-40GB\n"
     ]
    }
   ],
   "source": [
    "if torch.cuda.is_available():    \n",
    "    device = torch.device(\"cuda\")\n",
    "    print('Tersedia sejumlah %d GPU(s).' % torch.cuda.device_count())\n",
    "    print('GPU yang akan digunakan:', torch.cuda.get_device_name(0))\n",
    "else:\n",
    "    print('Tidak mendukung GPU; hanya CPU')\n",
    "    device = torch.device(\"cpu\")"
   ]
  },
  {
   "cell_type": "code",
   "execution_count": 10,
   "metadata": {
    "id": "n85xtw4fvhUw"
   },
   "outputs": [],
   "source": [
    "df_train = pd.read_csv(f\"Dataset/Human_Annotated.csv\", index_col=\"ID\")\n",
    "df_train.fillna(\"\", inplace = True)\n",
    "# df_test = pd.read_csv(f\"gold_standard.csv\", index_col=\"ID\").drop(columns=[\"Unnamed: 0\"])\n",
    "df_test = pd.read_csv(f\"Dataset/Gold_Standard.csv\", index_col=\"ID\")\n",
    "df_test.fillna(\"\", inplace = True)\n",
    "categories = ['Anak', 'Bedah', 'Gigi', 'Gizi', 'Jantung', 'Jiwa',\n",
    "       'Kandungan', 'Kulit dan Kelamin', 'Mata', 'Paru', 'Penyakit Dalam',\n",
    "       'Saraf', 'THT', 'Tulang', 'Urologi']"
   ]
  },
  {
   "cell_type": "code",
   "execution_count": 11,
   "metadata": {},
   "outputs": [],
   "source": [
    "df_test['Count'] = df_test.drop(columns=['JUDUL', 'ISI']).values.sum(axis=1)\n",
    "df_test = df_test[df_test['Count'] <= 3].drop(columns=['Count'])"
   ]
  },
  {
   "cell_type": "code",
   "execution_count": 12,
   "metadata": {},
   "outputs": [],
   "source": [
    "df_train_umumnt = df_train.drop(columns=[\"Umum\"])\n",
    "df_train_umumnt[\"COUNT CLASS\"] = df_train_umumnt.drop(columns=[\"JUDUL\", \"ISI\"]).sum(axis=1)\n",
    "df_train = df_train_umumnt[df_train_umumnt[\"COUNT CLASS\"] > 0].drop(columns=[\"COUNT CLASS\"])"
   ]
  },
  {
   "cell_type": "code",
   "execution_count": 13,
   "metadata": {},
   "outputs": [],
   "source": [
    "df_test_umumnt = df_test.drop(columns=[\"Umum\"])\n",
    "df_test_umumnt[\"COUNT CLASS\"] = df_test_umumnt.drop(columns=[\"JUDUL\", \"ISI\"]).sum(axis=1)\n",
    "df_test = df_test_umumnt[df_test_umumnt[\"COUNT CLASS\"] > 0].drop(columns=[\"COUNT CLASS\"])"
   ]
  },
  {
   "cell_type": "code",
   "execution_count": 14,
   "metadata": {
    "colab": {
     "base_uri": "https://localhost:8080/",
     "height": 282
    },
    "id": "3zoA4qfQwe0j",
    "outputId": "70bc379b-b280-483f-d95d-dd9a94cb2998"
   },
   "outputs": [
    {
     "data": {
      "text/plain": [
       "<AxesSubplot:ylabel='Frequency'>"
      ]
     },
     "execution_count": 14,
     "metadata": {},
     "output_type": "execute_result"
    },
    {
     "data": {
      "image/png": "[encoded data removed]",
      "text/plain": [
       "<Figure size 432x288 with 1 Axes>"
      ]
     },
     "metadata": {
      "needs_background": "light"
     },
     "output_type": "display_data"
    }
   ],
   "source": [
    "df_train['JUDUL'].str.split().str.len().plot.hist()"
   ]
  },
  {
   "cell_type": "code",
   "execution_count": 15,
   "metadata": {
    "colab": {
     "base_uri": "https://localhost:8080/",
     "height": 282
    },
    "id": "rTQh_T9Zxajc",
    "outputId": "1862777a-6fa0-4975-b506-79ab5d9bbfd5"
   },
   "outputs": [
    {
     "data": {
      "text/plain": [
       "<AxesSubplot:ylabel='Frequency'>"
      ]
     },
     "execution_count": 15,
     "metadata": {},
     "output_type": "execute_result"
    },
    {
     "data": {
      "image/png": "[encoded data removed]",
      "text/plain": [
       "<Figure size 432x288 with 1 Axes>"
      ]
     },
     "metadata": {
      "needs_background": "light"
     },
     "output_type": "display_data"
    }
   ],
   "source": [
    "df_train['ISI'].str.split().str.len().plot.hist()"
   ]
  },
  {
   "cell_type": "code",
   "execution_count": 16,
   "metadata": {
    "id": "Ke1-zHGnzaX_"
   },
   "outputs": [],
   "source": [
    "code = ['DS', 'AD', 'DH', 'TD', 'KD']\n",
    "for i in code:\n",
    "  df_train[i] = df_train.index.map(lambda x: 1 if x[:2] == i else 0)\n",
    "\n",
    "X = df_train[['JUDUL', 'ISI']].values\n",
    "y = df_train.drop(columns=['JUDUL', 'ISI']).values\n",
    "\n",
    "from skmultilearn.model_selection import iterative_train_test_split\n",
    "X_train, y_train, X_val, y_val = iterative_train_test_split(X, y,test_size = 0.2)\n",
    "y_train = y_train[:,:-5]\n",
    "y_val = y_val[:,:-5]"
   ]
  },
  {
   "cell_type": "code",
   "execution_count": 17,
   "metadata": {
    "id": "nwKXD9Asxyop"
   },
   "outputs": [],
   "source": [
    "df_test = df_test[[\"JUDUL\", \"ISI\"] + categories]\n",
    "X_test = df_test[['JUDUL', 'ISI']].values\n",
    "y_test = df_test.drop(columns=['JUDUL', 'ISI']).values"
   ]
  },
  {
   "cell_type": "markdown",
   "metadata": {},
   "source": [
    "# Param"
   ]
  },
  {
   "cell_type": "code",
   "execution_count": 18,
   "metadata": {
    "id": "rXDvGnky_6J5"
   },
   "outputs": [],
   "source": [
    "#--------------------------------\n",
    "#  Some Parameters\n",
    "#--------------------------------\n",
    "MAX_SEQ_LENGTH = 256\n",
    "BATCH_SIZE = 8\n",
    "WARMUP_PROPORTION = 0.1\n",
    "EPOCH = 100\n",
    "REGULARIZATION = 0.02\n",
    "MODEL_NAME = \"indobenchmark/indobert-large-p1\"\n",
    "LEARNING_RATE = 1e-5\n",
    "PATH = \"IndoBenchmark/indobert-large-no-umum-p1.pt\""
   ]
  },
  {
   "cell_type": "markdown",
   "metadata": {},
   "source": [
    "# Tokenize"
   ]
  },
  {
   "cell_type": "code",
   "execution_count": 19,
   "metadata": {},
   "outputs": [],
   "source": [
    "tokenizer = AutoTokenizer.from_pretrained(MODEL_NAME)"
   ]
  },
  {
   "cell_type": "code",
   "execution_count": 20,
   "metadata": {
    "id": "ELEqFOfUNvVY"
   },
   "outputs": [],
   "source": [
    "categories = ['Anak', 'Bedah', 'Gigi', 'Gizi', 'Jantung', 'Jiwa',\n",
    "       'Kandungan', 'Kulit dan Kelamin', 'Mata', 'Paru', 'Penyakit Dalam',\n",
    "       'Saraf', 'THT', 'Tulang', 'Urologi']\n",
    "label2idx = {k: v for v, k in enumerate(categories)}\n",
    "idx2label = {v: k for v, k in enumerate(categories)}"
   ]
  },
  {
   "cell_type": "code",
   "execution_count": 21,
   "metadata": {
    "id": "snFlAEIcyyws"
   },
   "outputs": [],
   "source": [
    "def create_data_loader(x, y):\n",
    "  input_ids = []\n",
    "  input_att_mask = []\n",
    "  input_label = []\n",
    "  for instance, label in zip(x, y):\n",
    "    encoded_sent = tokenizer.encode(instance, \\\n",
    "                                  add_special_tokens = True, \\\n",
    "                                  max_length = MAX_SEQ_LENGTH, \\\n",
    "                                  padding = \"max_length\", \\\n",
    "                                  truncation = True)\n",
    "    input_ids.append(encoded_sent)\n",
    "    input_att_mask.append([int(token_id > 0) for token_id in encoded_sent])\n",
    "    input_label.append(label)\n",
    "  \n",
    "  # ubah ke Torch's Tensor\n",
    "  input_ids = torch.tensor(input_ids)\n",
    "  input_att_mask = torch.tensor(input_att_mask)\n",
    "  input_label = torch.tensor(input_label)\n",
    "\n",
    "  # gunakan Torch's Dataset\n",
    "  dataset = TensorDataset(input_ids, input_att_mask, input_label)\n",
    "\n",
    "  # mengembalikan sebuah abstraksi DataLoader dari Torch\n",
    "  return DataLoader(dataset,\n",
    "                    sampler = SequentialSampler(dataset), \n",
    "#                     sampler = RandomSampler(dataset), \n",
    "                    batch_size = BATCH_SIZE)"
   ]
  },
  {
   "cell_type": "code",
   "execution_count": 22,
   "metadata": {
    "id": "rdjBimWx1vYK"
   },
   "outputs": [
    {
     "name": "stderr",
     "output_type": "stream",
     "text": [
      "/tmp/ipykernel_48553/2236008380.py:18: UserWarning: Creating a tensor from a list of numpy.ndarrays is extremely slow. Please consider converting the list to a single numpy.ndarray with numpy.array() before converting to a tensor. (Triggered internally at  /opt/pytorch/pytorch/torch/csrc/utils/tensor_new.cpp:207.)\n",
      "  input_label = torch.tensor(input_label)\n"
     ]
    }
   ],
   "source": [
    "train_instances = create_data_loader(X_train, y_train)\n",
    "valid_instances = create_data_loader(X_val, y_val)\n",
    "test_instances = create_data_loader(X_test, y_test)\n",
    "dataset = {\"Train\" : train_instances, \"Val\" : valid_instances, \"Test\" : test_instances}"
   ]
  },
  {
   "cell_type": "markdown",
   "metadata": {},
   "source": [
    "# Model"
   ]
  },
  {
   "cell_type": "code",
   "execution_count": 23,
   "metadata": {
    "id": "3TPyFazD4YqC"
   },
   "outputs": [],
   "source": [
    "# Classifier adalah layer on top of BERT yang digunakan untuk klasifikasi\n",
    "# inputnya adalah vektor CLS dari BERT\n",
    "class Classifier(nn.Module):\n",
    "    def __init__(self, input_size = 512, output_size = 3, dropout_rate = 0.1):\n",
    "        super(Classifier, self).__init__()\n",
    "        layers = []\n",
    "        layers.append(nn.Linear(input_size, output_size))\n",
    "        layers.append(nn.LeakyReLU(0.2, inplace = True))\n",
    "        layers.append(nn.Dropout(dropout_rate))\n",
    "        layers.append(nn.Sigmoid())\n",
    "        self.layers = nn.Sequential(*layers)\n",
    "\n",
    "    def forward(self, input):\n",
    "        return self.layers(input)\n"
   ]
  },
  {
   "cell_type": "code",
   "execution_count": 24,
   "metadata": {
    "colab": {
     "base_uri": "https://localhost:8080/"
    },
    "id": "Lqv1fBk0jh2w",
    "outputId": "9f32ebba-7edd-4d43-8986-509fe6c7b833"
   },
   "outputs": [],
   "source": [
    "transformer = None\n",
    "classifier = None\n",
    "def create_model(transformer, classifier):\n",
    "  if classifier != None:\n",
    "    del transformer, classifier\n",
    "    torch.cuda.empty_cache()\n",
    "  config = AutoConfig.from_pretrained(MODEL_NAME)\n",
    "  transformer = AutoModel.from_pretrained(MODEL_NAME)\n",
    "  classifier = Classifier(input_size = config.hidden_size, output_size = len(categories))\n",
    "  if torch.cuda.is_available():    \n",
    "    classifier.cuda()\n",
    "    transformer.cuda()\n",
    "  return transformer, classifier\n",
    "transformer, classifier = create_model(transformer, classifier)"
   ]
  },
  {
   "cell_type": "code",
   "execution_count": 25,
   "metadata": {
    "id": "siSMVaiMGGeG"
   },
   "outputs": [],
   "source": [
    "def get_param(model, cls):\n",
    "    model_vars = [p for p in model.parameters()]\n",
    "    cls_vars = [p for p in cls.parameters()]\n",
    "    return model_vars + cls_vars"
   ]
  },
  {
   "cell_type": "code",
   "execution_count": 26,
   "metadata": {},
   "outputs": [
    {
     "name": "stdout",
     "output_type": "stream",
     "text": [
      "huggingface/tokenizers: The current process just got forked, after parallelism has already been used. Disabling parallelism to avoid deadlocks...\n",
      "To disable this warning, you can either:\n",
      "\t- Avoid using `tokenizers` before the fork if possible\n",
      "Sun Jun  4 06:20:40 2023       \n",
      "+-----------------------------------------------------------------------------+\n",
      "| NVIDIA-SMI 450.156.00   Driver Version: 450.156.00   CUDA Version: 11.5     |\n",
      "|-------------------------------+----------------------+----------------------+\n",
      "| GPU  Name        Persistence-M| Bus-Id        Disp.A | Volatile Uncorr. ECC |\n",
      "| Fan  Temp  Perf  Pwr:Usage/Cap|         Memory-Usage | GPU-Util  Compute M. |\n",
      "|                               |                      |               MIG M. |\n",
      "|===============================+======================+======================|\n",
      "|   0  A100-SXM4-40GB      On   | 00000000:07:00.0 Off |                    0 |\n",
      "| N/A   27C    P0    60W / 400W |  39005MiB / 40537MiB |      0%      Default |\n",
      "|                               |                      |             Disabled |\n",
      "+-------------------------------+----------------------+----------------------+\n",
      "|   1  A100-SXM4-40GB      On   | 00000000:0F:00.0 Off |                    0 |\n",
      "| N/A   26C    P0    63W / 400W |   2983MiB / 40537MiB |      0%      Default |\n",
      "|                               |                      |             Disabled |\n",
      "+-------------------------------+----------------------+----------------------+\n",
      "|   2  A100-SXM4-40GB      On   | 00000000:47:00.0 Off |                    0 |\n",
      "| N/A   26C    P0    66W / 400W |  39076MiB / 40537MiB |     30%      Default |\n",
      "|                               |                      |             Disabled |\n",
      "+-------------------------------+----------------------+----------------------+\n",
      "|   3  A100-SXM4-40GB      On   | 00000000:4E:00.0 Off |                    0 |\n",
      "| N/A   30C    P0    91W / 400W |  13011MiB / 40537MiB |    100%      Default |\n",
      "|                               |                      |             Disabled |\n",
      "+-------------------------------+----------------------+----------------------+\n",
      "|   4  A100-SXM4-40GB      On   | 00000000:87:00.0 Off |                    0 |\n",
      "| N/A   46C    P0   120W / 400W |  39438MiB / 40537MiB |     32%      Default |\n",
      "|                               |                      |             Disabled |\n",
      "+-------------------------------+----------------------+----------------------+\n",
      "|   5  A100-SXM4-40GB      On   | 00000000:90:00.0 Off |                    0 |\n",
      "| N/A   32C    P0    63W / 400W |  33173MiB / 40537MiB |      0%      Default |\n",
      "|                               |                      |             Disabled |\n",
      "+-------------------------------+----------------------+----------------------+\n",
      "|   6  A100-SXM4-40GB      On   | 00000000:B7:00.0 Off |                    0 |\n",
      "| N/A   31C    P0    63W / 400W |  22097MiB / 40537MiB |      0%      Default |\n",
      "|                               |                      |             Disabled |\n",
      "+-------------------------------+----------------------+----------------------+\n",
      "|   7  A100-SXM4-40GB      On   | 00000000:BD:00.0 Off |                    0 |\n",
      "| N/A   31C    P0    64W / 400W |    632MiB / 40537MiB |      0%      Default |\n",
      "|                               |                      |             Disabled |\n",
      "+-------------------------------+----------------------+----------------------+\n",
      "                                                                               \n",
      "+-----------------------------------------------------------------------------+\n",
      "| Processes:                                                                  |\n",
      "|  GPU   GI   CI        PID   Type   Process name                  GPU Memory |\n",
      "|        ID   ID                                                   Usage      |\n",
      "|=============================================================================|\n",
      "+-----------------------------------------------------------------------------+\n"
     ]
    }
   ],
   "source": [
    "!nvidia-smi"
   ]
  },
  {
   "cell_type": "code",
   "execution_count": 27,
   "metadata": {
    "id": "JcC8nfcNJlB7"
   },
   "outputs": [],
   "source": [
    "# training\n",
    "from tqdm import tqdm\n",
    "from time import sleep\n",
    "import copy\n",
    "from sklearn.metrics import classification_report, accuracy_score, recall_score, precision_score\n",
    "\n",
    "def train_model(model, cls, optimizer, scheduler, num_epochs=25, last_epoch=0, last_acc=0):\n",
    "\n",
    "  best_acc = last_acc\n",
    "  max_epoch = last_epoch + num_epochs\n",
    "  loss = torch.tensor([0])\n",
    "  for epoch_i in range(last_epoch, max_epoch):\n",
    "    print(f\"Epoch {epoch_i + 1} / {max_epoch}\")\n",
    "    pred_labels = []\n",
    "    true_labels = []\n",
    "    \n",
    "    if np.isnan(loss.item()):\n",
    "        break\n",
    "        \n",
    "    for phase in [\"Train\", \"Val\"]:\n",
    "      instance = dataset[phase]\n",
    "      if phase == \"Train\":\n",
    "        model.train()\n",
    "        cls.train()\n",
    "      else:\n",
    "        model.eval()\n",
    "        cls.eval()\n",
    "      # Reset the total loss for this epoch.\n",
    "      loss_track = 0\n",
    "      \n",
    "      # Untuk setiap batch di training data\n",
    "      pbar = tqdm(enumerate(instance), desc=phase, total=len(instance))\n",
    "      for step, batch in pbar:\n",
    "\n",
    "        batch_input_ids = batch[0].to(device)\n",
    "        batch_input_att_mask = batch[1].to(device)\n",
    "        batch_label = batch[2].to(device)\n",
    "\n",
    "        if phase == \"Train\":\n",
    "            # Encode real data in the Transformer\n",
    "            bert_outputs = transformer(batch_input_ids, attention_mask = batch_input_att_mask)\n",
    "            cls_hidden_states = bert_outputs.pooler_output\n",
    "            probs = classifier(cls_hidden_states)\n",
    "\n",
    "            # Binary Categorical Cross-Entropy\n",
    "            loss = -torch.mean(torch.sum(batch_label * torch.log(probs) + (1 - batch_label) * torch.log(1 - probs), dim = 1))\n",
    "            \n",
    "            loss.to(device)\n",
    "            optimizer.zero_grad()\n",
    "            loss.backward()\n",
    "            optimizer.step()\n",
    "            loss_track += loss.item()\n",
    "            scheduler.step()\n",
    "            \n",
    "\n",
    "        elif phase == \"Val\":\n",
    "            with torch.no_grad(): \n",
    "                bert_outputs = transformer(batch_input_ids, attention_mask = batch_input_att_mask)\n",
    "                cls_hidden_states = bert_outputs.pooler_output\n",
    "                probs = classifier(cls_hidden_states)\n",
    "\n",
    "                # Categorical Cross-Entropy\n",
    "                loss = -torch.mean(torch.sum(batch_label * torch.log(probs) + (1 - batch_label) * torch.log(1 - probs), dim = 1))\n",
    "\n",
    "                # akumulasi loss di validation set\n",
    "                loss_track += loss.item()\n",
    "            pred_l = []\n",
    "            for prob in probs:\n",
    "                pred = [1 if x >= 0.5 else 0 for x in prob]\n",
    "                if (np.sum(pred) == 0):\n",
    "                    _, idx = torch.max(prob, dim = 0)\n",
    "                    pred[idx] = 1\n",
    "                pred_l.append(pred)\n",
    "            pred_labels += pred_l\n",
    "            true_l = batch_label\n",
    "            true_labels += true_l.detach().cpu()\n",
    "\n",
    "        # pbar.set_description(f\"Average loss : {(loss_track / len(instance)):.2f}\")\n",
    "        pbar.set_postfix(loss = str(f'{(loss_track / len(instance)):.2f}'))\n",
    "        sleep(0.1)\n",
    "\n",
    "  # accuracy\n",
    "    pred_labels = np.array(pred_labels)\n",
    "    true_labels = torch.stack(true_labels).numpy()\n",
    "    val_accuracy = accuracy_score(true_labels, pred_labels)\n",
    "    val_precision = precision_score(true_labels, pred_labels, average='micro')\n",
    "    val_recall = recall_score(true_labels, pred_labels, average='micro')\n",
    "    print(f\"Accuracy: {val_accuracy}, Precision (micro): {val_precision}, Recall (micro): {val_recall}\")\n",
    "\n",
    "    if (val_accuracy > best_acc):\n",
    "      \n",
    "      torch.save({\n",
    "                  'best_model_sd' : model.state_dict(),\n",
    "                  'best_cls_sd' : cls.state_dict(),\n",
    "                  'best_optimizer_sd' : optimizer.state_dict(),\n",
    "                  'best_scheduler_sd' : scheduler.state_dict(),\n",
    "                  'best_epoch' : epoch_i,\n",
    "                  'best_acc' : val_accuracy\n",
    "                  }, PATH)\n",
    "      best_acc = val_accuracy\n",
    "\n",
    "  checkpoint = torch.load(PATH)\n",
    "  model.load_state_dict(checkpoint['best_model_sd'])\n",
    "  cls.load_state_dict(checkpoint['best_cls_sd'])\n",
    "  optimizer.load_state_dict(checkpoint['best_optimizer_sd'])\n",
    "  scheduler.load_state_dict(checkpoint['best_scheduler_sd'])\n",
    "  best_epoch = checkpoint['best_epoch']\n",
    "  best_acc = checkpoint['best_acc']\n",
    "  return {'model' : model, 'cls' : cls, 'optim' : optimizer, \n",
    "          'scheduler' : scheduler, 'best_acc' : best_acc, \"best_epoch\" : best_epoch}  "
   ]
  },
  {
   "cell_type": "code",
   "execution_count": 28,
   "metadata": {
    "id": "40KlFt0AfR86"
   },
   "outputs": [],
   "source": [
    "from sklearn.metrics import classification_report, accuracy_score, jaccard_score, \\\n",
    "hamming_loss, cohen_kappa_score, f1_score, precision_score, recall_score\n",
    "import math\n",
    "def eval_all(y_human, y_machine, categories):\n",
    "  print(\"================ Classification Report ================\")\n",
    "  print(classification_report(y_human, y_machine, target_names=categories))\n",
    "  print(\"================ Multi Label Score ================\")\n",
    "  eval_multi_label(y_human, y_machine, categories)\n",
    "\n",
    "def eval_multi_label(y_test, prediction, categories):\n",
    "    # Butuh informasi lebih lengkap? silakan disimak di bawah ini\n",
    "    print('Accuracy             :', accuracy_score(y_test, prediction))\n",
    "    print('Precision            :', precision_score(y_test, prediction, average='micro'))\n",
    "    print('Recall               :', recall_score(y_test, prediction, average='micro'))\n",
    "    print('F1 Score             :', f1_score(y_test, prediction, average='micro'))\n",
    "    print('Hamming Loss         :', hamming_loss(y_test, prediction))\n",
    "    print('Jaccard Score')\n",
    "    js = jaccard_score(y_test, prediction, average=None)\n",
    "    for i, j in zip(categories, js):\n",
    "      print(f\"{i:<20} : {j}\")\n",
    "    print('Jaccard Score Macro Average:', jaccard_score(y_test, prediction, average='macro'))\n",
    "    print('Jaccard Score Micro Average:', jaccard_score(y_test, prediction, average='micro'))"
   ]
  },
  {
   "cell_type": "code",
   "execution_count": 29,
   "metadata": {
    "colab": {
     "base_uri": "https://localhost:8080/"
    },
    "id": "li2qjFrrfxNi",
    "outputId": "d8378e0b-1257-43a4-ebbb-544f6710f153"
   },
   "outputs": [],
   "source": [
    "def evaluate_dataset(model, cls, instance):\n",
    "    cls.eval()\n",
    "    model.eval()\n",
    "\n",
    "    loss_track = 0\n",
    "    pred_labels = []\n",
    "    true_labels = []\n",
    "\n",
    "    # Untuk setiap batch di validation data\n",
    "    pbar = tqdm(enumerate(instance), desc=\"Evaluate\", total=len(instance))\n",
    "    for step, batch in pbar:\n",
    "\n",
    "        # Unpack sebuah batch dari DataLoader\n",
    "        batch_input_ids = batch[0].to(device)\n",
    "        batch_input_att_mask = batch[1].to(device)\n",
    "        batch_label = batch[2].to(device)\n",
    "\n",
    "        # jangan track gradient! ini sedang evaluasi, bukan training\n",
    "        with torch.no_grad(): \n",
    "            bert_outputs = transformer(batch_input_ids, attention_mask = batch_input_att_mask)\n",
    "            cls_hidden_states = bert_outputs.pooler_output\n",
    "            probs = classifier(cls_hidden_states)\n",
    "\n",
    "        # akumulasi prediksi\n",
    "        pred_l = []\n",
    "        for prob in probs:\n",
    "            pred = [1 if x >= 0.5 else 0 for x in prob]\n",
    "            if (np.sum(pred) == 0):\n",
    "                _, idx = torch.max(prob, dim = 0)\n",
    "                pred[idx] = 1\n",
    "            pred_l.append(pred)\n",
    "        pred_labels += pred_l\n",
    "        true_l = batch_label\n",
    "        true_labels += true_l.detach().cpu()\n",
    "\n",
    "    pred_labels = np.array(pred_labels)\n",
    "    true_labels = torch.stack(true_labels).numpy()\n",
    "    eval_all(true_labels, pred_labels, categories)\n",
    "    return pred_labels\n",
    "    print(\"\")"
   ]
  },
  {
   "cell_type": "code",
   "execution_count": 30,
   "metadata": {
    "colab": {
     "base_uri": "https://localhost:8080/",
     "height": 730
    },
    "id": "woa_BvnwkxKJ",
    "outputId": "9204af72-6851-41c9-875d-376a8689e119",
    "scrolled": true
   },
   "outputs": [
    {
     "name": "stdout",
     "output_type": "stream",
     "text": [
      "Epoch 1 / 100\n"
     ]
    },
    {
     "name": "stderr",
     "output_type": "stream",
     "text": [
      "Train: 100%|██████████| 156/156 [00:34<00:00,  4.50it/s, loss=9.52]\n",
      "Val: 100%|██████████| 40/40 [00:05<00:00,  7.28it/s, loss=7.92]\n"
     ]
    },
    {
     "name": "stdout",
     "output_type": "stream",
     "text": [
      "Accuracy: 0.16613418530351437, Precision (micro): 0.19808306709265175, Recall (micro): 0.17366946778711484\n",
      "Epoch 2 / 100\n"
     ]
    },
    {
     "name": "stderr",
     "output_type": "stream",
     "text": [
      "Train: 100%|██████████| 156/156 [00:33<00:00,  4.62it/s, loss=7.21]\n",
      "Val: 100%|██████████| 40/40 [00:05<00:00,  7.21it/s, loss=6.38]\n"
     ]
    },
    {
     "name": "stdout",
     "output_type": "stream",
     "text": [
      "Accuracy: 0.16293929712460065, Precision (micro): 0.19488817891373802, Recall (micro): 0.17086834733893558\n",
      "Epoch 3 / 100\n"
     ]
    },
    {
     "name": "stderr",
     "output_type": "stream",
     "text": [
      "Train: 100%|██████████| 156/156 [00:33<00:00,  4.62it/s, loss=6.24]\n",
      "Val: 100%|██████████| 40/40 [00:05<00:00,  7.21it/s, loss=5.66]\n"
     ]
    },
    {
     "name": "stdout",
     "output_type": "stream",
     "text": [
      "Accuracy: 0.16293929712460065, Precision (micro): 0.19488817891373802, Recall (micro): 0.17086834733893558\n",
      "Epoch 4 / 100\n"
     ]
    },
    {
     "name": "stderr",
     "output_type": "stream",
     "text": [
      "Train: 100%|██████████| 156/156 [00:33<00:00,  4.62it/s, loss=5.69]\n",
      "Val: 100%|██████████| 40/40 [00:05<00:00,  7.27it/s, loss=5.18]\n"
     ]
    },
    {
     "name": "stdout",
     "output_type": "stream",
     "text": [
      "Accuracy: 0.16293929712460065, Precision (micro): 0.19488817891373802, Recall (micro): 0.17086834733893558\n",
      "Epoch 5 / 100\n"
     ]
    },
    {
     "name": "stderr",
     "output_type": "stream",
     "text": [
      "Train: 100%|██████████| 156/156 [00:34<00:00,  4.51it/s, loss=5.34]\n",
      "Val: 100%|██████████| 40/40 [00:05<00:00,  7.20it/s, loss=4.83]\n"
     ]
    },
    {
     "name": "stdout",
     "output_type": "stream",
     "text": [
      "Accuracy: 0.16293929712460065, Precision (micro): 0.19488817891373802, Recall (micro): 0.17086834733893558\n",
      "Epoch 6 / 100\n"
     ]
    },
    {
     "name": "stderr",
     "output_type": "stream",
     "text": [
      "Train: 100%|██████████| 156/156 [00:35<00:00,  4.43it/s, loss=5.11]\n",
      "Val: 100%|██████████| 40/40 [00:05<00:00,  7.27it/s, loss=4.59]\n"
     ]
    },
    {
     "name": "stdout",
     "output_type": "stream",
     "text": [
      "Accuracy: 0.16293929712460065, Precision (micro): 0.19488817891373802, Recall (micro): 0.17086834733893558\n",
      "Epoch 7 / 100\n"
     ]
    },
    {
     "name": "stderr",
     "output_type": "stream",
     "text": [
      "Train: 100%|██████████| 156/156 [00:33<00:00,  4.61it/s, loss=4.91]\n",
      "Val: 100%|██████████| 40/40 [00:05<00:00,  7.27it/s, loss=4.40]\n"
     ]
    },
    {
     "name": "stdout",
     "output_type": "stream",
     "text": [
      "Accuracy: 0.16293929712460065, Precision (micro): 0.19488817891373802, Recall (micro): 0.17086834733893558\n",
      "Epoch 8 / 100\n"
     ]
    },
    {
     "name": "stderr",
     "output_type": "stream",
     "text": [
      "Train: 100%|██████████| 156/156 [00:33<00:00,  4.62it/s, loss=4.78]\n",
      "Val: 100%|██████████| 40/40 [00:05<00:00,  7.27it/s, loss=4.26]\n"
     ]
    },
    {
     "name": "stdout",
     "output_type": "stream",
     "text": [
      "Accuracy: 0.16293929712460065, Precision (micro): 0.19488817891373802, Recall (micro): 0.17086834733893558\n",
      "Epoch 9 / 100\n"
     ]
    },
    {
     "name": "stderr",
     "output_type": "stream",
     "text": [
      "Train: 100%|██████████| 156/156 [00:33<00:00,  4.61it/s, loss=4.72]\n",
      "Val: 100%|██████████| 40/40 [00:05<00:00,  7.21it/s, loss=4.16]\n"
     ]
    },
    {
     "name": "stdout",
     "output_type": "stream",
     "text": [
      "Accuracy: 0.16293929712460065, Precision (micro): 0.19488817891373802, Recall (micro): 0.17086834733893558\n",
      "Epoch 10 / 100\n"
     ]
    },
    {
     "name": "stderr",
     "output_type": "stream",
     "text": [
      "Train: 100%|██████████| 156/156 [00:33<00:00,  4.62it/s, loss=4.57]\n",
      "Val: 100%|██████████| 40/40 [00:05<00:00,  7.26it/s, loss=4.06]\n"
     ]
    },
    {
     "name": "stdout",
     "output_type": "stream",
     "text": [
      "Accuracy: 0.16293929712460065, Precision (micro): 0.19488817891373802, Recall (micro): 0.17086834733893558\n",
      "Epoch 11 / 100\n"
     ]
    },
    {
     "name": "stderr",
     "output_type": "stream",
     "text": [
      "Train: 100%|██████████| 156/156 [00:33<00:00,  4.62it/s, loss=4.57]\n",
      "Val: 100%|██████████| 40/40 [00:05<00:00,  7.28it/s, loss=3.94]\n"
     ]
    },
    {
     "name": "stdout",
     "output_type": "stream",
     "text": [
      "Accuracy: 0.3993610223642173, Precision (micro): 0.476038338658147, Recall (micro): 0.4173669467787115\n",
      "Epoch 12 / 100\n"
     ]
    },
    {
     "name": "stderr",
     "output_type": "stream",
     "text": [
      "Train: 100%|██████████| 156/156 [00:33<00:00,  4.63it/s, loss=4.39]\n",
      "Val: 100%|██████████| 40/40 [00:05<00:00,  7.27it/s, loss=3.79]\n"
     ]
    },
    {
     "name": "stdout",
     "output_type": "stream",
     "text": [
      "Accuracy: 0.4952076677316294, Precision (micro): 0.597444089456869, Recall (micro): 0.5238095238095238\n",
      "Epoch 13 / 100\n"
     ]
    },
    {
     "name": "stderr",
     "output_type": "stream",
     "text": [
      "Train: 100%|██████████| 156/156 [00:33<00:00,  4.62it/s, loss=4.22]\n",
      "Val: 100%|██████████| 40/40 [00:05<00:00,  7.25it/s, loss=3.65]\n"
     ]
    },
    {
     "name": "stdout",
     "output_type": "stream",
     "text": [
      "Accuracy: 0.5399361022364217, Precision (micro): 0.6517571884984026, Recall (micro): 0.5714285714285714\n",
      "Epoch 14 / 100\n"
     ]
    },
    {
     "name": "stderr",
     "output_type": "stream",
     "text": [
      "Train: 100%|██████████| 156/156 [00:33<00:00,  4.62it/s, loss=4.06]\n",
      "Val: 100%|██████████| 40/40 [00:05<00:00,  7.27it/s, loss=3.50]\n"
     ]
    },
    {
     "name": "stdout",
     "output_type": "stream",
     "text": [
      "Accuracy: 0.6325878594249201, Precision (micro): 0.7476038338658147, Recall (micro): 0.6554621848739496\n",
      "Epoch 15 / 100\n"
     ]
    },
    {
     "name": "stderr",
     "output_type": "stream",
     "text": [
      "Train: 100%|██████████| 156/156 [00:33<00:00,  4.62it/s, loss=3.90]\n",
      "Val: 100%|██████████| 40/40 [00:05<00:00,  7.27it/s, loss=3.37]\n"
     ]
    },
    {
     "name": "stdout",
     "output_type": "stream",
     "text": [
      "Accuracy: 0.6613418530351438, Precision (micro): 0.7795527156549521, Recall (micro): 0.6834733893557423\n",
      "Epoch 16 / 100\n"
     ]
    },
    {
     "name": "stderr",
     "output_type": "stream",
     "text": [
      "Train: 100%|██████████| 156/156 [00:33<00:00,  4.61it/s, loss=3.73]\n",
      "Val: 100%|██████████| 40/40 [00:05<00:00,  7.28it/s, loss=3.21]\n"
     ]
    },
    {
     "name": "stdout",
     "output_type": "stream",
     "text": [
      "Accuracy: 0.7028753993610224, Precision (micro): 0.8210862619808307, Recall (micro): 0.7198879551820728\n",
      "Epoch 17 / 100\n"
     ]
    },
    {
     "name": "stderr",
     "output_type": "stream",
     "text": [
      "Train: 100%|██████████| 156/156 [00:33<00:00,  4.61it/s, loss=3.52]\n",
      "Val: 100%|██████████| 40/40 [00:05<00:00,  7.27it/s, loss=3.05]\n"
     ]
    },
    {
     "name": "stdout",
     "output_type": "stream",
     "text": [
      "Accuracy: 0.7156549520766773, Precision (micro): 0.8306709265175719, Recall (micro): 0.7282913165266106\n",
      "Epoch 18 / 100\n"
     ]
    },
    {
     "name": "stderr",
     "output_type": "stream",
     "text": [
      "Train: 100%|██████████| 156/156 [00:33<00:00,  4.62it/s, loss=3.32]\n",
      "Val: 100%|██████████| 40/40 [00:05<00:00,  7.24it/s, loss=2.95]\n"
     ]
    },
    {
     "name": "stdout",
     "output_type": "stream",
     "text": [
      "Accuracy: 0.7220447284345048, Precision (micro): 0.8370607028753994, Recall (micro): 0.7338935574229691\n",
      "Epoch 19 / 100\n"
     ]
    },
    {
     "name": "stderr",
     "output_type": "stream",
     "text": [
      "Train: 100%|██████████| 156/156 [00:33<00:00,  4.62it/s, loss=3.16]\n",
      "Val: 100%|██████████| 40/40 [00:05<00:00,  7.24it/s, loss=2.80]\n"
     ]
    },
    {
     "name": "stdout",
     "output_type": "stream",
     "text": [
      "Accuracy: 0.7476038338658147, Precision (micro): 0.8690095846645367, Recall (micro): 0.7619047619047619\n",
      "Epoch 20 / 100\n"
     ]
    },
    {
     "name": "stderr",
     "output_type": "stream",
     "text": [
      "Train: 100%|██████████| 156/156 [00:33<00:00,  4.62it/s, loss=3.03]\n",
      "Val: 100%|██████████| 40/40 [00:05<00:00,  7.29it/s, loss=2.68]\n"
     ]
    },
    {
     "name": "stdout",
     "output_type": "stream",
     "text": [
      "Accuracy: 0.7220447284345048, Precision (micro): 0.8402555910543131, Recall (micro): 0.7366946778711485\n",
      "Epoch 21 / 100\n"
     ]
    },
    {
     "name": "stderr",
     "output_type": "stream",
     "text": [
      "Train: 100%|██████████| 156/156 [00:33<00:00,  4.62it/s, loss=2.90]\n",
      "Val: 100%|██████████| 40/40 [00:05<00:00,  7.30it/s, loss=2.62]\n"
     ]
    },
    {
     "name": "stdout",
     "output_type": "stream",
     "text": [
      "Accuracy: 0.7220447284345048, Precision (micro): 0.8375796178343949, Recall (micro): 0.7366946778711485\n",
      "Epoch 22 / 100\n"
     ]
    },
    {
     "name": "stderr",
     "output_type": "stream",
     "text": [
      "Train: 100%|██████████| 156/156 [00:33<00:00,  4.62it/s, loss=2.86]\n",
      "Val: 100%|██████████| 40/40 [00:05<00:00,  7.30it/s, loss=2.49]\n"
     ]
    },
    {
     "name": "stdout",
     "output_type": "stream",
     "text": [
      "Accuracy: 0.7412140575079872, Precision (micro): 0.8626198083067093, Recall (micro): 0.7563025210084033\n",
      "Epoch 23 / 100\n"
     ]
    },
    {
     "name": "stderr",
     "output_type": "stream",
     "text": [
      "Train: 100%|██████████| 156/156 [00:33<00:00,  4.61it/s, loss=2.72]\n",
      "Val: 100%|██████████| 40/40 [00:05<00:00,  7.31it/s, loss=2.45]\n"
     ]
    },
    {
     "name": "stdout",
     "output_type": "stream",
     "text": [
      "Accuracy: 0.7380191693290735, Precision (micro): 0.8544303797468354, Recall (micro): 0.7563025210084033\n",
      "Epoch 24 / 100\n"
     ]
    },
    {
     "name": "stderr",
     "output_type": "stream",
     "text": [
      "Train: 100%|██████████| 156/156 [00:33<00:00,  4.62it/s, loss=2.64]\n",
      "Val: 100%|██████████| 40/40 [00:05<00:00,  7.27it/s, loss=2.32]\n"
     ]
    },
    {
     "name": "stdout",
     "output_type": "stream",
     "text": [
      "Accuracy: 0.731629392971246, Precision (micro): 0.8562300319488818, Recall (micro): 0.7507002801120448\n",
      "Epoch 25 / 100\n"
     ]
    },
    {
     "name": "stderr",
     "output_type": "stream",
     "text": [
      "Train: 100%|██████████| 156/156 [00:33<00:00,  4.62it/s, loss=2.58]\n",
      "Val: 100%|██████████| 40/40 [00:05<00:00,  7.29it/s, loss=2.27]\n"
     ]
    },
    {
     "name": "stdout",
     "output_type": "stream",
     "text": [
      "Accuracy: 0.7476038338658147, Precision (micro): 0.8753993610223643, Recall (micro): 0.7675070028011205\n",
      "Epoch 26 / 100\n"
     ]
    },
    {
     "name": "stderr",
     "output_type": "stream",
     "text": [
      "Train: 100%|██████████| 156/156 [00:33<00:00,  4.62it/s, loss=2.47]\n",
      "Val: 100%|██████████| 40/40 [00:05<00:00,  7.29it/s, loss=2.27]\n"
     ]
    },
    {
     "name": "stdout",
     "output_type": "stream",
     "text": [
      "Accuracy: 0.731629392971246, Precision (micro): 0.8454258675078864, Recall (micro): 0.7507002801120448\n",
      "Epoch 27 / 100\n"
     ]
    },
    {
     "name": "stderr",
     "output_type": "stream",
     "text": [
      "Train: 100%|██████████| 156/156 [00:33<00:00,  4.61it/s, loss=2.41]\n",
      "Val: 100%|██████████| 40/40 [00:05<00:00,  7.27it/s, loss=2.14]\n"
     ]
    },
    {
     "name": "stdout",
     "output_type": "stream",
     "text": [
      "Accuracy: 0.7412140575079872, Precision (micro): 0.861198738170347, Recall (micro): 0.7647058823529411\n",
      "Epoch 28 / 100\n"
     ]
    },
    {
     "name": "stderr",
     "output_type": "stream",
     "text": [
      "Train: 100%|██████████| 156/156 [00:33<00:00,  4.62it/s, loss=2.33]\n",
      "Val: 100%|██████████| 40/40 [00:05<00:00,  7.28it/s, loss=2.10]\n"
     ]
    },
    {
     "name": "stdout",
     "output_type": "stream",
     "text": [
      "Accuracy: 0.7507987220447284, Precision (micro): 0.8647798742138365, Recall (micro): 0.7703081232492998\n",
      "Epoch 29 / 100\n"
     ]
    },
    {
     "name": "stderr",
     "output_type": "stream",
     "text": [
      "Train: 100%|██████████| 156/156 [00:33<00:00,  4.61it/s, loss=2.27]\n",
      "Val: 100%|██████████| 40/40 [00:05<00:00,  7.27it/s, loss=2.00]\n"
     ]
    },
    {
     "name": "stdout",
     "output_type": "stream",
     "text": [
      "Accuracy: 0.7507987220447284, Precision (micro): 0.8620689655172413, Recall (micro): 0.7703081232492998\n",
      "Epoch 30 / 100\n"
     ]
    },
    {
     "name": "stderr",
     "output_type": "stream",
     "text": [
      "Train: 100%|██████████| 156/156 [00:33<00:00,  4.61it/s, loss=2.25]\n",
      "Val: 100%|██████████| 40/40 [00:05<00:00,  7.30it/s, loss=1.97]\n"
     ]
    },
    {
     "name": "stdout",
     "output_type": "stream",
     "text": [
      "Accuracy: 0.7571884984025559, Precision (micro): 0.8629283489096573, Recall (micro): 0.7759103641456583\n",
      "Epoch 31 / 100\n"
     ]
    },
    {
     "name": "stderr",
     "output_type": "stream",
     "text": [
      "Train: 100%|██████████| 156/156 [00:33<00:00,  4.62it/s, loss=2.21]\n",
      "Val: 100%|██████████| 40/40 [00:05<00:00,  7.21it/s, loss=2.01]\n"
     ]
    },
    {
     "name": "stdout",
     "output_type": "stream",
     "text": [
      "Accuracy: 0.7571884984025559, Precision (micro): 0.8549382716049383, Recall (micro): 0.7759103641456583\n",
      "Epoch 32 / 100\n"
     ]
    },
    {
     "name": "stderr",
     "output_type": "stream",
     "text": [
      "Train: 100%|██████████| 156/156 [00:33<00:00,  4.62it/s, loss=2.12]\n",
      "Val: 100%|██████████| 40/40 [00:05<00:00,  7.30it/s, loss=1.98]\n"
     ]
    },
    {
     "name": "stdout",
     "output_type": "stream",
     "text": [
      "Accuracy: 0.7412140575079872, Precision (micro): 0.8470948012232415, Recall (micro): 0.7759103641456583\n",
      "Epoch 33 / 100\n"
     ]
    },
    {
     "name": "stderr",
     "output_type": "stream",
     "text": [
      "Train: 100%|██████████| 156/156 [00:33<00:00,  4.61it/s, loss=2.09]\n",
      "Val: 100%|██████████| 40/40 [00:05<00:00,  7.29it/s, loss=1.94]\n"
     ]
    },
    {
     "name": "stdout",
     "output_type": "stream",
     "text": [
      "Accuracy: 0.7476038338658147, Precision (micro): 0.852760736196319, Recall (micro): 0.7787114845938375\n",
      "Epoch 34 / 100\n"
     ]
    },
    {
     "name": "stderr",
     "output_type": "stream",
     "text": [
      "Train: 100%|██████████| 156/156 [00:33<00:00,  4.61it/s, loss=2.05]\n",
      "Val: 100%|██████████| 40/40 [00:05<00:00,  7.32it/s, loss=1.87]\n"
     ]
    },
    {
     "name": "stdout",
     "output_type": "stream",
     "text": [
      "Accuracy: 0.7635782747603834, Precision (micro): 0.8588588588588588, Recall (micro): 0.8011204481792717\n",
      "Epoch 35 / 100\n"
     ]
    },
    {
     "name": "stderr",
     "output_type": "stream",
     "text": [
      "Train: 100%|██████████| 156/156 [00:33<00:00,  4.61it/s, loss=2.03]\n",
      "Val: 100%|██████████| 40/40 [00:05<00:00,  7.28it/s, loss=1.91]\n"
     ]
    },
    {
     "name": "stdout",
     "output_type": "stream",
     "text": [
      "Accuracy: 0.7539936102236422, Precision (micro): 0.8501529051987767, Recall (micro): 0.7787114845938375\n",
      "Epoch 36 / 100\n"
     ]
    },
    {
     "name": "stderr",
     "output_type": "stream",
     "text": [
      "Train: 100%|██████████| 156/156 [00:33<00:00,  4.63it/s, loss=1.98]\n",
      "Val: 100%|██████████| 40/40 [00:05<00:00,  7.29it/s, loss=1.86]\n"
     ]
    },
    {
     "name": "stdout",
     "output_type": "stream",
     "text": [
      "Accuracy: 0.7667731629392971, Precision (micro): 0.8580060422960725, Recall (micro): 0.7955182072829131\n",
      "Epoch 37 / 100\n"
     ]
    },
    {
     "name": "stderr",
     "output_type": "stream",
     "text": [
      "Train: 100%|██████████| 156/156 [00:33<00:00,  4.62it/s, loss=1.95]\n",
      "Val: 100%|██████████| 40/40 [00:05<00:00,  7.28it/s, loss=1.88]\n"
     ]
    },
    {
     "name": "stdout",
     "output_type": "stream",
     "text": [
      "Accuracy: 0.7571884984025559, Precision (micro): 0.8507462686567164, Recall (micro): 0.7983193277310925\n",
      "Epoch 38 / 100\n"
     ]
    },
    {
     "name": "stderr",
     "output_type": "stream",
     "text": [
      "Train: 100%|██████████| 156/156 [00:33<00:00,  4.61it/s, loss=1.88]\n",
      "Val: 100%|██████████| 40/40 [00:05<00:00,  7.29it/s, loss=1.74]\n"
     ]
    },
    {
     "name": "stdout",
     "output_type": "stream",
     "text": [
      "Accuracy: 0.7667731629392971, Precision (micro): 0.8558558558558559, Recall (micro): 0.7983193277310925\n",
      "Epoch 39 / 100\n"
     ]
    },
    {
     "name": "stderr",
     "output_type": "stream",
     "text": [
      "Train: 100%|██████████| 156/156 [00:33<00:00,  4.61it/s, loss=1.84]\n",
      "Val: 100%|██████████| 40/40 [00:05<00:00,  7.29it/s, loss=1.74]\n"
     ]
    },
    {
     "name": "stdout",
     "output_type": "stream",
     "text": [
      "Accuracy: 0.7667731629392971, Precision (micro): 0.849112426035503, Recall (micro): 0.803921568627451\n",
      "Epoch 40 / 100\n"
     ]
    },
    {
     "name": "stderr",
     "output_type": "stream",
     "text": [
      "Train: 100%|██████████| 156/156 [00:33<00:00,  4.62it/s, loss=1.80]\n",
      "Val: 100%|██████████| 40/40 [00:05<00:00,  7.26it/s, loss=1.70]\n"
     ]
    },
    {
     "name": "stdout",
     "output_type": "stream",
     "text": [
      "Accuracy: 0.7795527156549521, Precision (micro): 0.8640483383685801, Recall (micro): 0.8011204481792717\n",
      "Epoch 41 / 100\n"
     ]
    },
    {
     "name": "stderr",
     "output_type": "stream",
     "text": [
      "Train: 100%|██████████| 156/156 [00:33<00:00,  4.61it/s, loss=1.78]\n",
      "Val: 100%|██████████| 40/40 [00:05<00:00,  7.28it/s, loss=1.79]\n"
     ]
    },
    {
     "name": "stdout",
     "output_type": "stream",
     "text": [
      "Accuracy: 0.7603833865814696, Precision (micro): 0.8441176470588235, Recall (micro): 0.803921568627451\n",
      "Epoch 42 / 100\n"
     ]
    },
    {
     "name": "stderr",
     "output_type": "stream",
     "text": [
      "Train: 100%|██████████| 156/156 [00:33<00:00,  4.61it/s, loss=1.76]\n",
      "Val: 100%|██████████| 40/40 [00:05<00:00,  7.28it/s, loss=1.70]\n"
     ]
    },
    {
     "name": "stdout",
     "output_type": "stream",
     "text": [
      "Accuracy: 0.7571884984025559, Precision (micro): 0.85, Recall (micro): 0.8095238095238095\n",
      "Epoch 43 / 100\n"
     ]
    },
    {
     "name": "stderr",
     "output_type": "stream",
     "text": [
      "Train: 100%|██████████| 156/156 [00:33<00:00,  4.59it/s, loss=1.80]\n",
      "Val: 100%|██████████| 40/40 [00:05<00:00,  7.29it/s, loss=1.64]\n"
     ]
    },
    {
     "name": "stdout",
     "output_type": "stream",
     "text": [
      "Accuracy: 0.7731629392971247, Precision (micro): 0.861764705882353, Recall (micro): 0.8207282913165266\n",
      "Epoch 44 / 100\n"
     ]
    },
    {
     "name": "stderr",
     "output_type": "stream",
     "text": [
      "Train: 100%|██████████| 156/156 [00:33<00:00,  4.62it/s, loss=1.72]\n",
      "Val: 100%|██████████| 40/40 [00:05<00:00,  7.29it/s, loss=1.66]\n"
     ]
    },
    {
     "name": "stdout",
     "output_type": "stream",
     "text": [
      "Accuracy: 0.7699680511182109, Precision (micro): 0.8579881656804734, Recall (micro): 0.8123249299719888\n",
      "Epoch 45 / 100\n"
     ]
    },
    {
     "name": "stderr",
     "output_type": "stream",
     "text": [
      "Train: 100%|██████████| 156/156 [00:33<00:00,  4.62it/s, loss=1.65]\n",
      "Val: 100%|██████████| 40/40 [00:05<00:00,  7.29it/s, loss=1.67]\n"
     ]
    },
    {
     "name": "stdout",
     "output_type": "stream",
     "text": [
      "Accuracy: 0.7635782747603834, Precision (micro): 0.8533724340175953, Recall (micro): 0.8151260504201681\n",
      "Epoch 46 / 100\n"
     ]
    },
    {
     "name": "stderr",
     "output_type": "stream",
     "text": [
      "Train: 100%|██████████| 156/156 [00:33<00:00,  4.61it/s, loss=1.70]\n",
      "Val: 100%|██████████| 40/40 [00:05<00:00,  7.31it/s, loss=1.59]\n"
     ]
    },
    {
     "name": "stdout",
     "output_type": "stream",
     "text": [
      "Accuracy: 0.7507987220447284, Precision (micro): 0.8410404624277457, Recall (micro): 0.8151260504201681\n",
      "Epoch 47 / 100\n"
     ]
    },
    {
     "name": "stderr",
     "output_type": "stream",
     "text": [
      "Train: 100%|██████████| 156/156 [00:33<00:00,  4.62it/s, loss=1.63]\n",
      "Val: 100%|██████████| 40/40 [00:05<00:00,  7.30it/s, loss=1.79]\n"
     ]
    },
    {
     "name": "stdout",
     "output_type": "stream",
     "text": [
      "Accuracy: 0.7348242811501597, Precision (micro): 0.8130311614730878, Recall (micro): 0.803921568627451\n",
      "Epoch 48 / 100\n"
     ]
    },
    {
     "name": "stderr",
     "output_type": "stream",
     "text": [
      "Train: 100%|██████████| 156/156 [00:33<00:00,  4.62it/s, loss=1.59]\n",
      "Val: 100%|██████████| 40/40 [00:05<00:00,  7.31it/s, loss=1.61]\n"
     ]
    },
    {
     "name": "stdout",
     "output_type": "stream",
     "text": [
      "Accuracy: 0.7635782747603834, Precision (micro): 0.8452722063037249, Recall (micro): 0.8263305322128851\n",
      "Epoch 49 / 100\n"
     ]
    },
    {
     "name": "stderr",
     "output_type": "stream",
     "text": [
      "Train: 100%|██████████| 156/156 [00:33<00:00,  4.61it/s, loss=1.59]\n",
      "Val: 100%|██████████| 40/40 [00:05<00:00,  7.30it/s, loss=1.60]\n"
     ]
    },
    {
     "name": "stdout",
     "output_type": "stream",
     "text": [
      "Accuracy: 0.7603833865814696, Precision (micro): 0.8457142857142858, Recall (micro): 0.8291316526610645\n",
      "Epoch 50 / 100\n"
     ]
    },
    {
     "name": "stderr",
     "output_type": "stream",
     "text": [
      "Train: 100%|██████████| 156/156 [00:33<00:00,  4.62it/s, loss=1.54]\n",
      "Val: 100%|██████████| 40/40 [00:05<00:00,  7.28it/s, loss=1.50]\n"
     ]
    },
    {
     "name": "stdout",
     "output_type": "stream",
     "text": [
      "Accuracy: 0.7795527156549521, Precision (micro): 0.8604651162790697, Recall (micro): 0.8291316526610645\n",
      "Epoch 51 / 100\n"
     ]
    },
    {
     "name": "stderr",
     "output_type": "stream",
     "text": [
      "Train: 100%|██████████| 156/156 [00:33<00:00,  4.61it/s, loss=1.51]\n",
      "Val: 100%|██████████| 40/40 [00:05<00:00,  7.30it/s, loss=1.61]\n"
     ]
    },
    {
     "name": "stdout",
     "output_type": "stream",
     "text": [
      "Accuracy: 0.7571884984025559, Precision (micro): 0.8428571428571429, Recall (micro): 0.8263305322128851\n",
      "Epoch 52 / 100\n"
     ]
    },
    {
     "name": "stderr",
     "output_type": "stream",
     "text": [
      "Train: 100%|██████████| 156/156 [00:33<00:00,  4.62it/s, loss=1.49]\n",
      "Val: 100%|██████████| 40/40 [00:05<00:00,  7.28it/s, loss=1.49]\n"
     ]
    },
    {
     "name": "stdout",
     "output_type": "stream",
     "text": [
      "Accuracy: 0.7795527156549521, Precision (micro): 0.8651026392961877, Recall (micro): 0.8263305322128851\n",
      "Epoch 53 / 100\n"
     ]
    },
    {
     "name": "stderr",
     "output_type": "stream",
     "text": [
      "Train: 100%|██████████| 156/156 [00:33<00:00,  4.62it/s, loss=1.53]\n",
      "Val: 100%|██████████| 40/40 [00:05<00:00,  7.27it/s, loss=1.55]\n"
     ]
    },
    {
     "name": "stdout",
     "output_type": "stream",
     "text": [
      "Accuracy: 0.7507987220447284, Precision (micro): 0.8385269121813032, Recall (micro): 0.8291316526610645\n",
      "Epoch 54 / 100\n"
     ]
    },
    {
     "name": "stderr",
     "output_type": "stream",
     "text": [
      "Train: 100%|██████████| 156/156 [00:33<00:00,  4.62it/s, loss=1.49]\n",
      "Val: 100%|██████████| 40/40 [00:05<00:00,  7.25it/s, loss=1.58]\n"
     ]
    },
    {
     "name": "stdout",
     "output_type": "stream",
     "text": [
      "Accuracy: 0.7476038338658147, Precision (micro): 0.8333333333333334, Recall (micro): 0.8123249299719888\n",
      "Epoch 55 / 100\n"
     ]
    },
    {
     "name": "stderr",
     "output_type": "stream",
     "text": [
      "Train: 100%|██████████| 156/156 [00:33<00:00,  4.61it/s, loss=1.46]\n",
      "Val: 100%|██████████| 40/40 [00:05<00:00,  7.29it/s, loss=1.53]\n"
     ]
    },
    {
     "name": "stdout",
     "output_type": "stream",
     "text": [
      "Accuracy: 0.7507987220447284, Precision (micro): 0.8390804597701149, Recall (micro): 0.8179271708683473\n",
      "Epoch 56 / 100\n"
     ]
    },
    {
     "name": "stderr",
     "output_type": "stream",
     "text": [
      "Train: 100%|██████████| 156/156 [00:33<00:00,  4.61it/s, loss=1.47]\n",
      "Val: 100%|██████████| 40/40 [00:05<00:00,  7.25it/s, loss=1.50]\n"
     ]
    },
    {
     "name": "stdout",
     "output_type": "stream",
     "text": [
      "Accuracy: 0.7603833865814696, Precision (micro): 0.8435754189944135, Recall (micro): 0.84593837535014\n",
      "Epoch 57 / 100\n"
     ]
    },
    {
     "name": "stderr",
     "output_type": "stream",
     "text": [
      "Train: 100%|██████████| 156/156 [00:33<00:00,  4.61it/s, loss=1.43]\n",
      "Val: 100%|██████████| 40/40 [00:05<00:00,  7.29it/s, loss=1.49]\n"
     ]
    },
    {
     "name": "stdout",
     "output_type": "stream",
     "text": [
      "Accuracy: 0.7539936102236422, Precision (micro): 0.8413597733711048, Recall (micro): 0.8319327731092437\n",
      "Epoch 58 / 100\n"
     ]
    },
    {
     "name": "stderr",
     "output_type": "stream",
     "text": [
      "Train: 100%|██████████| 156/156 [00:33<00:00,  4.61it/s, loss=1.40]\n",
      "Val: 100%|██████████| 40/40 [00:05<00:00,  7.31it/s, loss=1.45]\n"
     ]
    },
    {
     "name": "stdout",
     "output_type": "stream",
     "text": [
      "Accuracy: 0.7539936102236422, Precision (micro): 0.8385269121813032, Recall (micro): 0.8291316526610645\n",
      "Epoch 59 / 100\n"
     ]
    },
    {
     "name": "stderr",
     "output_type": "stream",
     "text": [
      "Train: 100%|██████████| 156/156 [00:33<00:00,  4.62it/s, loss=1.41]\n",
      "Val: 100%|██████████| 40/40 [00:05<00:00,  7.29it/s, loss=1.48]\n"
     ]
    },
    {
     "name": "stdout",
     "output_type": "stream",
     "text": [
      "Accuracy: 0.7571884984025559, Precision (micro): 0.8370786516853933, Recall (micro): 0.834733893557423\n",
      "Epoch 60 / 100\n"
     ]
    },
    {
     "name": "stderr",
     "output_type": "stream",
     "text": [
      "Train: 100%|██████████| 156/156 [00:33<00:00,  4.61it/s, loss=1.35]\n",
      "Val: 100%|██████████| 40/40 [00:05<00:00,  7.30it/s, loss=1.54]\n"
     ]
    },
    {
     "name": "stdout",
     "output_type": "stream",
     "text": [
      "Accuracy: 0.7571884984025559, Precision (micro): 0.8370786516853933, Recall (micro): 0.834733893557423\n",
      "Epoch 61 / 100\n"
     ]
    },
    {
     "name": "stderr",
     "output_type": "stream",
     "text": [
      "Train: 100%|██████████| 156/156 [00:33<00:00,  4.62it/s, loss=1.38]\n",
      "Val: 100%|██████████| 40/40 [00:05<00:00,  7.29it/s, loss=1.51]\n"
     ]
    },
    {
     "name": "stdout",
     "output_type": "stream",
     "text": [
      "Accuracy: 0.7507987220447284, Precision (micro): 0.8259668508287292, Recall (micro): 0.8375350140056023\n",
      "Epoch 62 / 100\n"
     ]
    },
    {
     "name": "stderr",
     "output_type": "stream",
     "text": [
      "Train: 100%|██████████| 156/156 [00:33<00:00,  4.62it/s, loss=1.36]\n",
      "Val: 100%|██████████| 40/40 [00:05<00:00,  7.29it/s, loss=1.45]\n"
     ]
    },
    {
     "name": "stdout",
     "output_type": "stream",
     "text": [
      "Accuracy: 0.7699680511182109, Precision (micro): 0.8448753462603878, Recall (micro): 0.8543417366946778\n",
      "Epoch 63 / 100\n"
     ]
    },
    {
     "name": "stderr",
     "output_type": "stream",
     "text": [
      "Train: 100%|██████████| 156/156 [00:33<00:00,  4.62it/s, loss=1.34]\n",
      "Val: 100%|██████████| 40/40 [00:05<00:00,  7.27it/s, loss=1.42]\n"
     ]
    },
    {
     "name": "stdout",
     "output_type": "stream",
     "text": [
      "Accuracy: 0.7635782747603834, Precision (micro): 0.84593837535014, Recall (micro): 0.84593837535014\n",
      "Epoch 64 / 100\n"
     ]
    },
    {
     "name": "stderr",
     "output_type": "stream",
     "text": [
      "Train: 100%|██████████| 156/156 [00:33<00:00,  4.62it/s, loss=1.31]\n",
      "Val: 100%|██████████| 40/40 [00:05<00:00,  7.29it/s, loss=1.44]\n"
     ]
    },
    {
     "name": "stdout",
     "output_type": "stream",
     "text": [
      "Accuracy: 0.7539936102236422, Precision (micro): 0.8360655737704918, Recall (micro): 0.8571428571428571\n",
      "Epoch 65 / 100\n"
     ]
    },
    {
     "name": "stderr",
     "output_type": "stream",
     "text": [
      "Train: 100%|██████████| 156/156 [00:33<00:00,  4.62it/s, loss=1.35]\n",
      "Val: 100%|██████████| 40/40 [00:05<00:00,  7.27it/s, loss=1.51]\n"
     ]
    },
    {
     "name": "stdout",
     "output_type": "stream",
     "text": [
      "Accuracy: 0.7667731629392971, Precision (micro): 0.8530259365994236, Recall (micro): 0.8291316526610645\n",
      "Epoch 66 / 100\n"
     ]
    },
    {
     "name": "stderr",
     "output_type": "stream",
     "text": [
      "Train: 100%|██████████| 156/156 [00:33<00:00,  4.61it/s, loss=1.30]\n",
      "Val: 100%|██████████| 40/40 [00:05<00:00,  7.28it/s, loss=1.45]\n"
     ]
    },
    {
     "name": "stdout",
     "output_type": "stream",
     "text": [
      "Accuracy: 0.7571884984025559, Precision (micro): 0.8441926345609065, Recall (micro): 0.834733893557423\n",
      "Epoch 67 / 100\n"
     ]
    },
    {
     "name": "stderr",
     "output_type": "stream",
     "text": [
      "Train: 100%|██████████| 156/156 [00:33<00:00,  4.62it/s, loss=1.29]\n",
      "Val: 100%|██████████| 40/40 [00:05<00:00,  7.29it/s, loss=1.51]\n"
     ]
    },
    {
     "name": "stdout",
     "output_type": "stream",
     "text": [
      "Accuracy: 0.7380191693290735, Precision (micro): 0.8181818181818182, Recall (micro): 0.8319327731092437\n",
      "Epoch 68 / 100\n"
     ]
    },
    {
     "name": "stderr",
     "output_type": "stream",
     "text": [
      "Train: 100%|██████████| 156/156 [00:33<00:00,  4.61it/s, loss=1.29]\n",
      "Val: 100%|██████████| 40/40 [00:05<00:00,  7.27it/s, loss=1.49]\n"
     ]
    },
    {
     "name": "stdout",
     "output_type": "stream",
     "text": [
      "Accuracy: 0.744408945686901, Precision (micro): 0.8380681818181818, Recall (micro): 0.8263305322128851\n",
      "Epoch 69 / 100\n"
     ]
    },
    {
     "name": "stderr",
     "output_type": "stream",
     "text": [
      "Train: 100%|██████████| 156/156 [00:33<00:00,  4.61it/s, loss=1.24]\n",
      "Val: 100%|██████████| 40/40 [00:05<00:00,  7.26it/s, loss=1.42]\n"
     ]
    },
    {
     "name": "stdout",
     "output_type": "stream",
     "text": [
      "Accuracy: 0.7571884984025559, Precision (micro): 0.8394366197183099, Recall (micro): 0.834733893557423\n",
      "Epoch 70 / 100\n"
     ]
    },
    {
     "name": "stderr",
     "output_type": "stream",
     "text": [
      "Train: 100%|██████████| 156/156 [00:33<00:00,  4.62it/s, loss=1.28]\n",
      "Val: 100%|██████████| 40/40 [00:05<00:00,  7.24it/s, loss=1.46]\n"
     ]
    },
    {
     "name": "stdout",
     "output_type": "stream",
     "text": [
      "Accuracy: 0.7539936102236422, Precision (micro): 0.8333333333333334, Recall (micro): 0.8403361344537815\n",
      "Epoch 71 / 100\n"
     ]
    },
    {
     "name": "stderr",
     "output_type": "stream",
     "text": [
      "Train: 100%|██████████| 156/156 [00:33<00:00,  4.62it/s, loss=1.24]\n",
      "Val: 100%|██████████| 40/40 [00:05<00:00,  7.22it/s, loss=1.47]\n"
     ]
    },
    {
     "name": "stdout",
     "output_type": "stream",
     "text": [
      "Accuracy: 0.744408945686901, Precision (micro): 0.8286516853932584, Recall (micro): 0.8263305322128851\n",
      "Epoch 72 / 100\n"
     ]
    },
    {
     "name": "stderr",
     "output_type": "stream",
     "text": [
      "Train: 100%|██████████| 156/156 [00:33<00:00,  4.62it/s, loss=1.23]\n",
      "Val: 100%|██████████| 40/40 [00:05<00:00,  7.28it/s, loss=1.42]\n"
     ]
    },
    {
     "name": "stdout",
     "output_type": "stream",
     "text": [
      "Accuracy: 0.7507987220447284, Precision (micro): 0.8319327731092437, Recall (micro): 0.8319327731092437\n",
      "Epoch 73 / 100\n"
     ]
    },
    {
     "name": "stderr",
     "output_type": "stream",
     "text": [
      "Train: 100%|██████████| 156/156 [00:33<00:00,  4.61it/s, loss=1.22]\n",
      "Val: 100%|██████████| 40/40 [00:05<00:00,  7.31it/s, loss=1.48]\n"
     ]
    },
    {
     "name": "stdout",
     "output_type": "stream",
     "text": [
      "Accuracy: 0.744408945686901, Precision (micro): 0.8333333333333334, Recall (micro): 0.8403361344537815\n",
      "Epoch 74 / 100\n"
     ]
    },
    {
     "name": "stderr",
     "output_type": "stream",
     "text": [
      "Train: 100%|██████████| 156/156 [00:33<00:00,  4.61it/s, loss=1.25]\n",
      "Val: 100%|██████████| 40/40 [00:05<00:00,  7.29it/s, loss=1.40]\n"
     ]
    },
    {
     "name": "stdout",
     "output_type": "stream",
     "text": [
      "Accuracy: 0.7795527156549521, Precision (micro): 0.853448275862069, Recall (micro): 0.8319327731092437\n",
      "Epoch 75 / 100\n"
     ]
    },
    {
     "name": "stderr",
     "output_type": "stream",
     "text": [
      "Train: 100%|██████████| 156/156 [00:33<00:00,  4.61it/s, loss=1.19]\n",
      "Val: 100%|██████████| 40/40 [00:05<00:00,  7.29it/s, loss=1.52]\n"
     ]
    },
    {
     "name": "stdout",
     "output_type": "stream",
     "text": [
      "Accuracy: 0.7476038338658147, Precision (micro): 0.8310249307479224, Recall (micro): 0.8403361344537815\n",
      "Epoch 76 / 100\n"
     ]
    },
    {
     "name": "stderr",
     "output_type": "stream",
     "text": [
      "Train: 100%|██████████| 156/156 [00:33<00:00,  4.61it/s, loss=1.19]\n",
      "Val: 100%|██████████| 40/40 [00:05<00:00,  7.30it/s, loss=1.49]\n"
     ]
    },
    {
     "name": "stdout",
     "output_type": "stream",
     "text": [
      "Accuracy: 0.7635782747603834, Precision (micro): 0.8379888268156425, Recall (micro): 0.8403361344537815\n",
      "Epoch 77 / 100\n"
     ]
    },
    {
     "name": "stderr",
     "output_type": "stream",
     "text": [
      "Train: 100%|██████████| 156/156 [00:33<00:00,  4.62it/s, loss=1.17]\n",
      "Val: 100%|██████████| 40/40 [00:05<00:00,  7.27it/s, loss=1.86]\n"
     ]
    },
    {
     "name": "stdout",
     "output_type": "stream",
     "text": [
      "Accuracy: 0.6837060702875399, Precision (micro): 0.7806122448979592, Recall (micro): 0.8571428571428571\n",
      "Epoch 78 / 100\n"
     ]
    },
    {
     "name": "stderr",
     "output_type": "stream",
     "text": [
      "Train: 100%|██████████| 156/156 [00:33<00:00,  4.62it/s, loss=1.20]\n",
      "Val: 100%|██████████| 40/40 [00:05<00:00,  7.29it/s, loss=1.34]\n"
     ]
    },
    {
     "name": "stdout",
     "output_type": "stream",
     "text": [
      "Accuracy: 0.7731629392971247, Precision (micro): 0.8507042253521127, Recall (micro): 0.84593837535014\n",
      "Epoch 79 / 100\n"
     ]
    },
    {
     "name": "stderr",
     "output_type": "stream",
     "text": [
      "Train: 100%|██████████| 156/156 [00:33<00:00,  4.62it/s, loss=1.22]\n",
      "Val: 100%|██████████| 40/40 [00:05<00:00,  7.28it/s, loss=1.48]\n"
     ]
    },
    {
     "name": "stdout",
     "output_type": "stream",
     "text": [
      "Accuracy: 0.7539936102236422, Precision (micro): 0.821917808219178, Recall (micro): 0.8403361344537815\n",
      "Epoch 80 / 100\n"
     ]
    },
    {
     "name": "stderr",
     "output_type": "stream",
     "text": [
      "Train: 100%|██████████| 156/156 [00:33<00:00,  4.61it/s, loss=1.22]\n",
      "Val: 100%|██████████| 40/40 [00:05<00:00,  7.28it/s, loss=1.52]\n"
     ]
    },
    {
     "name": "stdout",
     "output_type": "stream",
     "text": [
      "Accuracy: 0.7507987220447284, Precision (micro): 0.8292011019283747, Recall (micro): 0.8431372549019608\n",
      "Epoch 81 / 100\n"
     ]
    },
    {
     "name": "stderr",
     "output_type": "stream",
     "text": [
      "Train: 100%|██████████| 156/156 [00:33<00:00,  4.61it/s, loss=1.21]\n",
      "Val: 100%|██████████| 40/40 [00:05<00:00,  7.29it/s, loss=1.58]\n"
     ]
    },
    {
     "name": "stdout",
     "output_type": "stream",
     "text": [
      "Accuracy: 0.7380191693290735, Precision (micro): 0.8131868131868132, Recall (micro): 0.8291316526610645\n",
      "Epoch 82 / 100\n"
     ]
    },
    {
     "name": "stderr",
     "output_type": "stream",
     "text": [
      "Train: 100%|██████████| 156/156 [00:33<00:00,  4.62it/s, loss=1.23]\n",
      "Val: 100%|██████████| 40/40 [00:05<00:00,  7.30it/s, loss=1.52]\n"
     ]
    },
    {
     "name": "stdout",
     "output_type": "stream",
     "text": [
      "Accuracy: 0.744408945686901, Precision (micro): 0.8204419889502762, Recall (micro): 0.8319327731092437\n",
      "Epoch 83 / 100\n"
     ]
    },
    {
     "name": "stderr",
     "output_type": "stream",
     "text": [
      "Train: 100%|██████████| 156/156 [00:33<00:00,  4.62it/s, loss=1.16]\n",
      "Val: 100%|██████████| 40/40 [00:05<00:00,  7.30it/s, loss=1.52]\n"
     ]
    },
    {
     "name": "stdout",
     "output_type": "stream",
     "text": [
      "Accuracy: 0.7476038338658147, Precision (micro): 0.8259668508287292, Recall (micro): 0.8375350140056023\n",
      "Epoch 84 / 100\n"
     ]
    },
    {
     "name": "stderr",
     "output_type": "stream",
     "text": [
      "Train: 100%|██████████| 156/156 [00:33<00:00,  4.62it/s, loss=1.20]\n",
      "Val: 100%|██████████| 40/40 [00:05<00:00,  7.29it/s, loss=1.48]\n"
     ]
    },
    {
     "name": "stdout",
     "output_type": "stream",
     "text": [
      "Accuracy: 0.7412140575079872, Precision (micro): 0.8259668508287292, Recall (micro): 0.8375350140056023\n",
      "Epoch 85 / 100\n"
     ]
    },
    {
     "name": "stderr",
     "output_type": "stream",
     "text": [
      "Train: 100%|██████████| 156/156 [00:33<00:00,  4.62it/s, loss=1.16]\n",
      "Val: 100%|██████████| 40/40 [00:05<00:00,  7.29it/s, loss=1.43]\n"
     ]
    },
    {
     "name": "stdout",
     "output_type": "stream",
     "text": [
      "Accuracy: 0.7476038338658147, Precision (micro): 0.8309859154929577, Recall (micro): 0.8263305322128851\n",
      "Epoch 86 / 100\n"
     ]
    },
    {
     "name": "stderr",
     "output_type": "stream",
     "text": [
      "Train: 100%|██████████| 156/156 [00:33<00:00,  4.61it/s, loss=1.13]\n",
      "Val: 100%|██████████| 40/40 [00:05<00:00,  7.28it/s, loss=1.46]\n"
     ]
    },
    {
     "name": "stdout",
     "output_type": "stream",
     "text": [
      "Accuracy: 0.7667731629392971, Precision (micro): 0.8494318181818182, Recall (micro): 0.8375350140056023\n",
      "Epoch 87 / 100\n"
     ]
    },
    {
     "name": "stderr",
     "output_type": "stream",
     "text": [
      "Train: 100%|██████████| 156/156 [00:33<00:00,  4.62it/s, loss=1.15]\n",
      "Val: 100%|██████████| 40/40 [00:05<00:00,  7.26it/s, loss=1.44]\n"
     ]
    },
    {
     "name": "stdout",
     "output_type": "stream",
     "text": [
      "Accuracy: 0.7603833865814696, Precision (micro): 0.8394366197183099, Recall (micro): 0.834733893557423\n",
      "Epoch 88 / 100\n"
     ]
    },
    {
     "name": "stderr",
     "output_type": "stream",
     "text": [
      "Train: 100%|██████████| 156/156 [00:33<00:00,  4.62it/s, loss=1.16]\n",
      "Val: 100%|██████████| 40/40 [00:05<00:00,  7.27it/s, loss=1.41]\n"
     ]
    },
    {
     "name": "stdout",
     "output_type": "stream",
     "text": [
      "Accuracy: 0.7603833865814696, Precision (micro): 0.835195530726257, Recall (micro): 0.8375350140056023\n",
      "Epoch 89 / 100\n"
     ]
    },
    {
     "name": "stderr",
     "output_type": "stream",
     "text": [
      "Train: 100%|██████████| 156/156 [00:33<00:00,  4.61it/s, loss=1.16]\n",
      "Val: 100%|██████████| 40/40 [00:05<00:00,  7.28it/s, loss=1.38]\n"
     ]
    },
    {
     "name": "stdout",
     "output_type": "stream",
     "text": [
      "Accuracy: 0.7539936102236422, Precision (micro): 0.8413597733711048, Recall (micro): 0.8319327731092437\n",
      "Epoch 90 / 100\n"
     ]
    },
    {
     "name": "stderr",
     "output_type": "stream",
     "text": [
      "Train: 100%|██████████| 156/156 [00:33<00:00,  4.61it/s, loss=1.20]\n",
      "Val: 100%|██████████| 40/40 [00:05<00:00,  7.30it/s, loss=1.45]\n"
     ]
    },
    {
     "name": "stdout",
     "output_type": "stream",
     "text": [
      "Accuracy: 0.7476038338658147, Precision (micro): 0.8310249307479224, Recall (micro): 0.8403361344537815\n",
      "Epoch 91 / 100\n"
     ]
    },
    {
     "name": "stderr",
     "output_type": "stream",
     "text": [
      "Train: 100%|██████████| 156/156 [00:33<00:00,  4.62it/s, loss=1.19]\n",
      "Val: 100%|██████████| 40/40 [00:05<00:00,  7.28it/s, loss=1.39]\n"
     ]
    },
    {
     "name": "stdout",
     "output_type": "stream",
     "text": [
      "Accuracy: 0.7731629392971247, Precision (micro): 0.8531073446327684, Recall (micro): 0.84593837535014\n",
      "Epoch 92 / 100\n"
     ]
    },
    {
     "name": "stderr",
     "output_type": "stream",
     "text": [
      "Train: 100%|██████████| 156/156 [00:33<00:00,  4.61it/s, loss=1.08]\n",
      "Val: 100%|██████████| 40/40 [00:05<00:00,  7.31it/s, loss=1.43]\n"
     ]
    },
    {
     "name": "stdout",
     "output_type": "stream",
     "text": [
      "Accuracy: 0.7635782747603834, Precision (micro): 0.8409090909090909, Recall (micro): 0.8291316526610645\n",
      "Epoch 93 / 100\n"
     ]
    },
    {
     "name": "stderr",
     "output_type": "stream",
     "text": [
      "Train: 100%|██████████| 156/156 [00:33<00:00,  4.61it/s, loss=1.14]\n",
      "Val: 100%|██████████| 40/40 [00:05<00:00,  7.27it/s, loss=1.52]\n"
     ]
    },
    {
     "name": "stdout",
     "output_type": "stream",
     "text": [
      "Accuracy: 0.744408945686901, Precision (micro): 0.8352272727272727, Recall (micro): 0.8235294117647058\n",
      "Epoch 94 / 100\n"
     ]
    },
    {
     "name": "stderr",
     "output_type": "stream",
     "text": [
      "Train: 100%|██████████| 156/156 [00:33<00:00,  4.62it/s, loss=1.12]\n",
      "Val: 100%|██████████| 40/40 [00:05<00:00,  7.29it/s, loss=1.52]\n"
     ]
    },
    {
     "name": "stdout",
     "output_type": "stream",
     "text": [
      "Accuracy: 0.7571884984025559, Precision (micro): 0.8366197183098592, Recall (micro): 0.8319327731092437\n",
      "Epoch 95 / 100\n"
     ]
    },
    {
     "name": "stderr",
     "output_type": "stream",
     "text": [
      "Train: 100%|██████████| 156/156 [00:33<00:00,  4.61it/s, loss=1.13]\n",
      "Val: 100%|██████████| 40/40 [00:05<00:00,  7.27it/s, loss=1.39]\n"
     ]
    },
    {
     "name": "stdout",
     "output_type": "stream",
     "text": [
      "Accuracy: 0.7635782747603834, Precision (micro): 0.8434065934065934, Recall (micro): 0.8599439775910365\n",
      "Epoch 96 / 100\n"
     ]
    },
    {
     "name": "stderr",
     "output_type": "stream",
     "text": [
      "Train: 100%|██████████| 156/156 [00:33<00:00,  4.62it/s, loss=1.12]\n",
      "Val: 100%|██████████| 40/40 [00:05<00:00,  7.28it/s, loss=1.47]\n"
     ]
    },
    {
     "name": "stdout",
     "output_type": "stream",
     "text": [
      "Accuracy: 0.7571884984025559, Precision (micro): 0.8347107438016529, Recall (micro): 0.8487394957983193\n",
      "Epoch 97 / 100\n"
     ]
    },
    {
     "name": "stderr",
     "output_type": "stream",
     "text": [
      "Train: 100%|██████████| 156/156 [00:33<00:00,  4.62it/s, loss=1.12]\n",
      "Val: 100%|██████████| 40/40 [00:05<00:00,  7.26it/s, loss=1.42]\n"
     ]
    },
    {
     "name": "stdout",
     "output_type": "stream",
     "text": [
      "Accuracy: 0.7476038338658147, Precision (micro): 0.8292682926829268, Recall (micro): 0.8571428571428571\n",
      "Epoch 98 / 100\n"
     ]
    },
    {
     "name": "stderr",
     "output_type": "stream",
     "text": [
      "Train: 100%|██████████| 156/156 [00:33<00:00,  4.61it/s, loss=1.10]\n",
      "Val: 100%|██████████| 40/40 [00:05<00:00,  7.29it/s, loss=1.38]\n"
     ]
    },
    {
     "name": "stdout",
     "output_type": "stream",
     "text": [
      "Accuracy: 0.7603833865814696, Precision (micro): 0.8402203856749312, Recall (micro): 0.8543417366946778\n",
      "Epoch 99 / 100\n"
     ]
    },
    {
     "name": "stderr",
     "output_type": "stream",
     "text": [
      "Train: 100%|██████████| 156/156 [00:33<00:00,  4.61it/s, loss=1.14]\n",
      "Val: 100%|██████████| 40/40 [00:05<00:00,  7.25it/s, loss=1.37]\n"
     ]
    },
    {
     "name": "stdout",
     "output_type": "stream",
     "text": [
      "Accuracy: 0.7731629392971247, Precision (micro): 0.8522727272727273, Recall (micro): 0.8403361344537815\n",
      "Epoch 100 / 100\n"
     ]
    },
    {
     "name": "stderr",
     "output_type": "stream",
     "text": [
      "Train: 100%|██████████| 156/156 [00:33<00:00,  4.61it/s, loss=1.13]\n",
      "Val: 100%|██████████| 40/40 [00:05<00:00,  7.27it/s, loss=1.49]\n"
     ]
    },
    {
     "name": "stdout",
     "output_type": "stream",
     "text": [
      "Accuracy: 0.7635782747603834, Precision (micro): 0.8314917127071824, Recall (micro): 0.8431372549019608\n",
      "CPU times: user 30min 49s, sys: 6min 18s, total: 37min 7s\n",
      "Wall time: 1h 7min 5s\n"
     ]
    }
   ],
   "source": [
    "%%time\n",
    "transformer, classifier = create_model(transformer, classifier)\n",
    "optimizer = torch.optim.AdamW(get_param(transformer, classifier), lr = LEARNING_RATE, weight_decay = REGULARIZATION)\n",
    "\n",
    "num_train_instances = len(train_instances)\n",
    "num_train_steps = int(num_train_instances / BATCH_SIZE * EPOCH)\n",
    "num_warmup_steps = int(num_train_steps * WARMUP_PROPORTION)\n",
    "scheduler = get_constant_schedule_with_warmup(optimizer, num_warmup_steps = num_warmup_steps)\n",
    "\n",
    "info = train_model(transformer, classifier, optimizer, scheduler, num_epochs=EPOCH, last_epoch=0, last_acc=0)"
   ]
  },
  {
   "cell_type": "code",
   "execution_count": 31,
   "metadata": {},
   "outputs": [
    {
     "name": "stdout",
     "output_type": "stream",
     "text": [
      "Acc : 0.7795527156549521, Epoch : 39\n"
     ]
    }
   ],
   "source": [
    "info = torch.load(PATH)\n",
    "# transformer.load_state_dict(info['best_model_sd'])\n",
    "# classifier.load_state_dict(info['best_cls_sd'])\n",
    "# optimizer.load_state_dict(info['best_optimizer_sd'])\n",
    "# scheduler.load_state_dict(info['best_scheduler_sd'])\n",
    "print(f\"Acc : {info['best_acc']}, Epoch : {info['best_epoch']}\")"
   ]
  },
  {
   "cell_type": "code",
   "execution_count": 39,
   "metadata": {
    "collapsed": true
   },
   "outputs": [
    {
     "name": "stderr",
     "output_type": "stream",
     "text": [
      "Evaluate: 100%|██████████| 156/156 [00:04<00:00, 31.56it/s]"
     ]
    },
    {
     "name": "stdout",
     "output_type": "stream",
     "text": [
      "================ Classification Report ================\n",
      "                   precision    recall  f1-score   support\n",
      "\n",
      "             Anak       1.00      1.00      1.00       148\n",
      "            Bedah       1.00      0.96      0.98       116\n",
      "             Gigi       1.00      1.00      1.00        30\n",
      "             Gizi       1.00      0.99      0.99        88\n",
      "          Jantung       1.00      0.94      0.97        31\n",
      "             Jiwa       1.00      1.00      1.00        90\n",
      "        Kandungan       1.00      1.00      1.00       244\n",
      "Kulit dan Kelamin       1.00      0.99      0.99       172\n",
      "             Mata       1.00      0.98      0.99        65\n",
      "             Paru       1.00      0.47      0.64        17\n",
      "   Penyakit Dalam       1.00      0.99      0.99       197\n",
      "            Saraf       1.00      0.86      0.93        51\n",
      "              THT       1.00      0.99      1.00       125\n",
      "           Tulang       1.00      1.00      1.00        39\n",
      "          Urologi       1.00      0.87      0.93        31\n",
      "\n",
      "        micro avg       1.00      0.98      0.99      1444\n",
      "        macro avg       1.00      0.94      0.96      1444\n",
      "     weighted avg       1.00      0.98      0.99      1444\n",
      "      samples avg       1.00      0.99      0.99      1444\n",
      "\n",
      "================ Multi Label Score ================\n",
      "Accuracy             : 0.9727126805778491\n",
      "Precision            : 1.0\n",
      "Recall               : 0.9764542936288089\n",
      "F1 Score             : 0.9880868955851437\n",
      "Hamming Loss         : 0.0018191546281433922\n",
      "Jaccard Score\n",
      "Anak                 : 1.0\n",
      "Bedah                : 0.9568965517241379\n",
      "Gigi                 : 1.0\n",
      "Gizi                 : 0.9886363636363636\n",
      "Jantung              : 0.9354838709677419\n",
      "Jiwa                 : 1.0\n",
      "Kandungan            : 1.0\n",
      "Kulit dan Kelamin    : 0.9883720930232558\n",
      "Mata                 : 0.9846153846153847\n",
      "Paru                 : 0.47058823529411764\n",
      "Penyakit Dalam       : 0.9898477157360406\n",
      "Saraf                : 0.8627450980392157\n",
      "THT                  : 0.992\n",
      "Tulang               : 1.0\n",
      "Urologi              : 0.8709677419354839\n",
      "Jaccard Score Macro Average: 0.9360102036647828\n",
      "Jaccard Score Micro Average: 0.9764542936288089\n",
      "\n"
     ]
    },
    {
     "name": "stderr",
     "output_type": "stream",
     "text": [
      "\n"
     ]
    }
   ],
   "source": [
    "evaluate_dataset(transformer, classifier, train_instancesa)"
   ]
  },
  {
   "cell_type": "code",
   "execution_count": 40,
   "metadata": {
    "colab": {
     "base_uri": "https://localhost:8080/"
    },
    "collapsed": true,
    "id": "N5NeHMKjAYPH",
    "outputId": "652f1ba1-9672-44f3-b198-e74358f32b40"
   },
   "outputs": [
    {
     "name": "stderr",
     "output_type": "stream",
     "text": [
      "Evaluate: 100%|██████████| 40/40 [00:01<00:00, 32.03it/s]"
     ]
    },
    {
     "name": "stdout",
     "output_type": "stream",
     "text": [
      "================ Classification Report ================\n",
      "                   precision    recall  f1-score   support\n",
      "\n",
      "             Anak       0.88      0.97      0.92        37\n",
      "            Bedah       0.87      0.90      0.88        29\n",
      "             Gigi       1.00      0.86      0.92         7\n",
      "             Gizi       0.81      0.91      0.86        23\n",
      "          Jantung       0.57      0.57      0.57         7\n",
      "             Jiwa       0.82      0.82      0.82        22\n",
      "        Kandungan       0.92      0.89      0.90        61\n",
      "Kulit dan Kelamin       0.88      0.98      0.92        43\n",
      "             Mata       0.93      0.93      0.93        15\n",
      "             Paru       1.00      1.00      1.00         4\n",
      "   Penyakit Dalam       0.77      0.67      0.72        49\n",
      "            Saraf       0.78      0.58      0.67        12\n",
      "              THT       0.97      0.97      0.97        31\n",
      "           Tulang       1.00      1.00      1.00         9\n",
      "          Urologi       1.00      0.62      0.77         8\n",
      "\n",
      "        micro avg       0.87      0.87      0.87       357\n",
      "        macro avg       0.88      0.84      0.86       357\n",
      "     weighted avg       0.87      0.87      0.86       357\n",
      "      samples avg       0.89      0.89      0.88       357\n",
      "\n",
      "================ Multi Label Score ================\n",
      "Accuracy             : 0.792332268370607\n",
      "Precision            : 0.8704225352112676\n",
      "Recall               : 0.865546218487395\n",
      "F1 Score             : 0.8679775280898876\n",
      "Hamming Loss         : 0.02002129925452609\n",
      "Jaccard Score\n",
      "Anak                 : 0.8571428571428571\n",
      "Bedah                : 0.7878787878787878\n",
      "Gigi                 : 0.8571428571428571\n",
      "Gizi                 : 0.75\n",
      "Jantung              : 0.4\n",
      "Jiwa                 : 0.6923076923076923\n",
      "Kandungan            : 0.8181818181818182\n",
      "Kulit dan Kelamin    : 0.8571428571428571\n",
      "Mata                 : 0.875\n",
      "Paru                 : 1.0\n",
      "Penyakit Dalam       : 0.559322033898305\n",
      "Saraf                : 0.5\n",
      "THT                  : 0.9375\n",
      "Tulang               : 1.0\n",
      "Urologi              : 0.625\n",
      "Jaccard Score Macro Average: 0.7677745935796784\n",
      "Jaccard Score Micro Average: 0.7667493796526055\n",
      "\n"
     ]
    },
    {
     "name": "stderr",
     "output_type": "stream",
     "text": [
      "\n"
     ]
    }
   ],
   "source": [
    "evaluate_dataset(transformer, classifier, valid_instances)"
   ]
  },
  {
   "cell_type": "code",
   "execution_count": 32,
   "metadata": {
    "scrolled": true
   },
   "outputs": [
    {
     "name": "stderr",
     "output_type": "stream",
     "text": [
      "Evaluate: 100%|██████████| 59/59 [00:01<00:00, 30.81it/s]\n"
     ]
    },
    {
     "name": "stdout",
     "output_type": "stream",
     "text": [
      "================ Classification Report ================\n",
      "                   precision    recall  f1-score   support\n",
      "\n",
      "             Anak       0.93      0.95      0.94        43\n",
      "            Bedah       0.79      0.93      0.86        29\n",
      "             Gigi       1.00      1.00      1.00        42\n",
      "             Gizi       1.00      0.93      0.96        43\n",
      "          Jantung       0.90      0.90      0.90        10\n",
      "             Jiwa       0.95      0.86      0.90        43\n",
      "        Kandungan       0.93      0.98      0.95        43\n",
      "Kulit dan Kelamin       0.91      0.93      0.92        46\n",
      "             Mata       1.00      1.00      1.00        26\n",
      "             Paru       1.00      0.50      0.67         2\n",
      "   Penyakit Dalam       0.75      0.93      0.83        42\n",
      "            Saraf       0.79      0.79      0.79        14\n",
      "              THT       0.69      0.98      0.81        43\n",
      "           Tulang       0.95      1.00      0.97        35\n",
      "          Urologi       0.88      0.50      0.64        14\n",
      "\n",
      "        micro avg       0.88      0.93      0.91       475\n",
      "        macro avg       0.90      0.88      0.88       475\n",
      "     weighted avg       0.90      0.93      0.91       475\n",
      "      samples avg       0.91      0.93      0.92       475\n",
      "\n",
      "================ Multi Label Score ================\n",
      "Accuracy             : 0.8656716417910447\n",
      "Precision            : 0.884\n",
      "Recall               : 0.9305263157894736\n",
      "F1 Score             : 0.9066666666666667\n",
      "Hamming Loss         : 0.012935323383084577\n",
      "Jaccard Score\n",
      "Anak                 : 0.8913043478260869\n",
      "Bedah                : 0.75\n",
      "Gigi                 : 1.0\n",
      "Gizi                 : 0.9302325581395349\n",
      "Jantung              : 0.8181818181818182\n",
      "Jiwa                 : 0.8222222222222222\n",
      "Kandungan            : 0.9130434782608695\n",
      "Kulit dan Kelamin    : 0.86\n",
      "Mata                 : 1.0\n",
      "Paru                 : 0.5\n",
      "Penyakit Dalam       : 0.7090909090909091\n",
      "Saraf                : 0.6470588235294118\n",
      "THT                  : 0.6774193548387096\n",
      "Tulang               : 0.9459459459459459\n",
      "Urologi              : 0.4666666666666667\n",
      "Jaccard Score Macro Average: 0.795411074980145\n",
      "Jaccard Score Micro Average: 0.8292682926829268\n"
     ]
    }
   ],
   "source": [
    "evaluate_dataset(transformer, classifier, test_instances)"
   ]
  },
  {
   "cell_type": "markdown",
   "metadata": {},
   "source": [
    "# ASO"
   ]
  },
  {
   "cell_type": "code",
   "execution_count": 31,
   "metadata": {},
   "outputs": [],
   "source": [
    "def aso_pred(model, cls, instance):\n",
    "    cls.eval()\n",
    "    model.eval()\n",
    "\n",
    "    loss_track = 0\n",
    "    pred_labels = []\n",
    "    true_labels = []\n",
    "\n",
    "    # Untuk setiap batch di validation data\n",
    "    pbar = tqdm(enumerate(instance), desc=\"Evaluate\", total=len(instance))\n",
    "    for step, batch in pbar:\n",
    "\n",
    "        # Unpack sebuah batch dari DataLoader\n",
    "        batch_input_ids = batch[0].to(device)\n",
    "        batch_input_att_mask = batch[1].to(device)\n",
    "        batch_label = batch[2].to(device)\n",
    "\n",
    "        # jangan track gradient! ini sedang evaluasi, bukan training\n",
    "        with torch.no_grad(): \n",
    "            bert_outputs = transformer(batch_input_ids, attention_mask = batch_input_att_mask)\n",
    "            cls_hidden_states = bert_outputs.pooler_output\n",
    "            probs = classifier(cls_hidden_states)\n",
    "\n",
    "        # akumulasi prediksi\n",
    "        pred_l = []\n",
    "        for prob in probs:\n",
    "            pred = [1 if x >= 0.5 else 0 for x in prob]\n",
    "            if (np.sum(pred) == 0):\n",
    "                _, idx = torch.max(prob, dim = 0)\n",
    "                pred[idx] = 1\n",
    "            pred_l.append(pred)\n",
    "        pred_labels += pred_l\n",
    "        true_l = batch_label\n",
    "        true_labels += true_l.detach().cpu()\n",
    "\n",
    "    pred_labels = np.array(pred_labels)\n",
    "    true_labels = torch.stack(true_labels).numpy()\n",
    "    return pred_labels, true_labels\n",
    "\n",
    "def aso_eval(prediction, y_test):\n",
    "    return accuracy_score(y_test, prediction), f1_score(y_test, prediction, average='micro', zero_division=0), hamming_loss(y_test, prediction)"
   ]
  },
  {
   "cell_type": "code",
   "execution_count": 32,
   "metadata": {
    "scrolled": true
   },
   "outputs": [
    {
     "name": "stdout",
     "output_type": "stream",
     "text": [
      "ada\n"
     ]
    }
   ],
   "source": [
    "import csv  \n",
    "import os\n",
    "\n",
    "# Specifying path\n",
    "\n",
    "path = 'Result/Deep_Learning_Result.csv'\n",
    "\n",
    "# Checking whether the specified path exists\n",
    "\n",
    "if not os.path.exists(path):\n",
    "  print(\"gada\")\n",
    "  f = open(path, \"w+\")\n",
    "  writer = csv.writer(f)\n",
    "  writer.writerow(['Id', \"Learning Method\", 'Model', 'Accuracy', 'F1-Score', 'Hamming Loss'])\n",
    "  f.close()\n",
    "else:\n",
    "  print('ada')\n",
    "\n",
    "def record_result(row):\n",
    "  f = open(path, \"a\")\n",
    "  writer = csv.writer(f)\n",
    "  writer.writerow(row)\n",
    "  f.close()"
   ]
  },
  {
   "cell_type": "code",
   "execution_count": null,
   "metadata": {
    "scrolled": true
   },
   "outputs": [
    {
     "name": "stdout",
     "output_type": "stream",
     "text": [
      "Epoch 1 / 100\n"
     ]
    },
    {
     "name": "stderr",
     "output_type": "stream",
     "text": [
      "Train: 100%|██████████| 156/156 [00:34<00:00,  4.49it/s, loss=9.52]\n",
      "Val: 100%|██████████| 40/40 [00:05<00:00,  7.19it/s, loss=7.92]\n"
     ]
    },
    {
     "name": "stdout",
     "output_type": "stream",
     "text": [
      "Accuracy: 0.16613418530351437, Precision (micro): 0.19808306709265175, Recall (micro): 0.17366946778711484\n",
      "Epoch 2 / 100\n"
     ]
    },
    {
     "name": "stderr",
     "output_type": "stream",
     "text": [
      "Train: 100%|██████████| 156/156 [00:33<00:00,  4.61it/s, loss=7.21]\n",
      "Val: 100%|██████████| 40/40 [00:05<00:00,  7.25it/s, loss=6.38]\n"
     ]
    },
    {
     "name": "stdout",
     "output_type": "stream",
     "text": [
      "Accuracy: 0.16293929712460065, Precision (micro): 0.19488817891373802, Recall (micro): 0.17086834733893558\n",
      "Epoch 3 / 100\n"
     ]
    },
    {
     "name": "stderr",
     "output_type": "stream",
     "text": [
      "Train: 100%|██████████| 156/156 [00:56<00:00,  2.75it/s, loss=6.24]\n",
      "Val: 100%|██████████| 40/40 [00:11<00:00,  3.57it/s, loss=5.66]\n"
     ]
    },
    {
     "name": "stdout",
     "output_type": "stream",
     "text": [
      "Accuracy: 0.16293929712460065, Precision (micro): 0.19488817891373802, Recall (micro): 0.17086834733893558\n",
      "Epoch 4 / 100\n"
     ]
    },
    {
     "name": "stderr",
     "output_type": "stream",
     "text": [
      "Train: 100%|██████████| 156/156 [00:53<00:00,  2.94it/s, loss=5.69]\n",
      "Val: 100%|██████████| 40/40 [00:05<00:00,  7.03it/s, loss=5.18]\n"
     ]
    },
    {
     "name": "stdout",
     "output_type": "stream",
     "text": [
      "Accuracy: 0.16293929712460065, Precision (micro): 0.19488817891373802, Recall (micro): 0.17086834733893558\n",
      "Epoch 5 / 100\n"
     ]
    },
    {
     "name": "stderr",
     "output_type": "stream",
     "text": [
      "Train:  31%|███       | 48/156 [00:12<00:32,  3.34it/s, loss=1.71]"
     ]
    }
   ],
   "source": [
    "%%time\n",
    "transformer, classifier = create_model(transformer, classifier)\n",
    "optimizer = torch.optim.AdamW(get_param(transformer, classifier), lr = LEARNING_RATE, weight_decay = REGULARIZATION)\n",
    "\n",
    "num_train_instances = len(train_instances)\n",
    "num_train_steps = int(num_train_instances / BATCH_SIZE * EPOCH)\n",
    "num_warmup_steps = int(num_train_steps * WARMUP_PROPORTION)\n",
    "scheduler = get_constant_schedule_with_warmup(optimizer, num_warmup_steps = num_warmup_steps)\n",
    "\n",
    "info = train_model(transformer, classifier, optimizer, scheduler, num_epochs=EPOCH, last_epoch=0, last_acc=0)\n",
    "\n",
    "y_pred, y_test = aso_pred(transformer, classifier, test_instances)\n",
    "acc, f1, hamm = aso_eval(y_pred, y_test)\n",
    "\n",
    "record_result([f\"indobert-large-1\", \"supervised\", \"indobert\", acc, f1, hamm])\n",
    "\n",
    "evaluate_dataset(transformer, classifier, test_instances)"
   ]
  },
  {
   "cell_type": "code",
   "execution_count": null,
   "metadata": {},
   "outputs": [],
   "source": [
    "%%time\n",
    "transformer, classifier = create_model(transformer, classifier)\n",
    "optimizer = torch.optim.AdamW(get_param(transformer, classifier), lr = LEARNING_RATE, weight_decay = REGULARIZATION)\n",
    "\n",
    "num_train_instances = len(train_instances)\n",
    "num_train_steps = int(num_train_instances / BATCH_SIZE * EPOCH)\n",
    "num_warmup_steps = int(num_train_steps * WARMUP_PROPORTION)\n",
    "scheduler = get_constant_schedule_with_warmup(optimizer, num_warmup_steps = num_warmup_steps)\n",
    "\n",
    "info = train_model(transformer, classifier, optimizer, scheduler, num_epochs=EPOCH, last_epoch=0, last_acc=0)\n",
    "\n",
    "y_pred, y_test = aso_pred(transformer, classifier, test_instances)\n",
    "acc, f1, hamm = aso_eval(y_pred, y_test)\n",
    "\n",
    "record_result([f\"indobert-large-2\", \"supervised\", \"indobert\", acc, f1, hamm])\n",
    "\n",
    "evaluate_dataset(transformer, classifier, test_instances)"
   ]
  },
  {
   "cell_type": "code",
   "execution_count": null,
   "metadata": {},
   "outputs": [],
   "source": [
    "%%time\n",
    "transformer, classifier = create_model(transformer, classifier)\n",
    "optimizer = torch.optim.AdamW(get_param(transformer, classifier), lr = LEARNING_RATE, weight_decay = REGULARIZATION)\n",
    "\n",
    "num_train_instances = len(train_instances)\n",
    "num_train_steps = int(num_train_instances / BATCH_SIZE * EPOCH)\n",
    "num_warmup_steps = int(num_train_steps * WARMUP_PROPORTION)\n",
    "scheduler = get_constant_schedule_with_warmup(optimizer, num_warmup_steps = num_warmup_steps)\n",
    "\n",
    "info = train_model(transformer, classifier, optimizer, scheduler, num_epochs=EPOCH, last_epoch=0, last_acc=0)\n",
    "\n",
    "y_pred, y_test = aso_pred(transformer, classifier, test_instances)\n",
    "acc, f1, hamm = aso_eval(y_pred, y_test)\n",
    "\n",
    "record_result([f\"indobert-large-3\", \"supervised\", \"indobert\", acc, f1, hamm])\n",
    "\n",
    "evaluate_dataset(transformer, classifier, test_instances)"
   ]
  },
  {
   "cell_type": "code",
   "execution_count": null,
   "metadata": {},
   "outputs": [],
   "source": [
    "%%time\n",
    "transformer, classifier = create_model(transformer, classifier)\n",
    "optimizer = torch.optim.AdamW(get_param(transformer, classifier), lr = LEARNING_RATE, weight_decay = REGULARIZATION)\n",
    "\n",
    "num_train_instances = len(train_instances)\n",
    "num_train_steps = int(num_train_instances / BATCH_SIZE * EPOCH)\n",
    "num_warmup_steps = int(num_train_steps * WARMUP_PROPORTION)\n",
    "scheduler = get_constant_schedule_with_warmup(optimizer, num_warmup_steps = num_warmup_steps)\n",
    "\n",
    "info = train_model(transformer, classifier, optimizer, scheduler, num_epochs=EPOCH, last_epoch=0, last_acc=0)\n",
    "\n",
    "y_pred, y_test = aso_pred(transformer, classifier, test_instances)\n",
    "acc, f1, hamm = aso_eval(y_pred, y_test)\n",
    "\n",
    "record_result([f\"indobert-large-4\", \"supervised\", \"indobert\", acc, f1, hamm])\n",
    "\n",
    "evaluate_dataset(transformer, classifier, test_instances)"
   ]
  },
  {
   "cell_type": "code",
   "execution_count": null,
   "metadata": {},
   "outputs": [],
   "source": [
    "%%time\n",
    "transformer, classifier = create_model(transformer, classifier)\n",
    "optimizer = torch.optim.AdamW(get_param(transformer, classifier), lr = LEARNING_RATE, weight_decay = REGULARIZATION)\n",
    "\n",
    "num_train_instances = len(train_instances)\n",
    "num_train_steps = int(num_train_instances / BATCH_SIZE * EPOCH)\n",
    "num_warmup_steps = int(num_train_steps * WARMUP_PROPORTION)\n",
    "scheduler = get_constant_schedule_with_warmup(optimizer, num_warmup_steps = num_warmup_steps)\n",
    "\n",
    "info = train_model(transformer, classifier, optimizer, scheduler, num_epochs=EPOCH, last_epoch=0, last_acc=0)\n",
    "\n",
    "y_pred, y_test = aso_pred(transformer, classifier, test_instances)\n",
    "acc, f1, hamm = aso_eval(y_pred, y_test)\n",
    "\n",
    "record_result([f\"indobert-large-5\", \"supervised\", \"indobert\", acc, f1, hamm])\n",
    "\n",
    "evaluate_dataset(transformer, classifier, test_instances)"
   ]
  },
  {
   "cell_type": "code",
   "execution_count": null,
   "metadata": {},
   "outputs": [],
   "source": [
    "import os, signal\n",
    "\n",
    "os.kill(os.getpid(), signal.SIGKILL)"
   ]
  },
  {
   "cell_type": "code",
   "execution_count": null,
   "metadata": {},
   "outputs": [],
   "source": []
  }
 ],
 "metadata": {
  "accelerator": "GPU",
  "colab": {
   "provenance": []
  },
  "gpuClass": "standard",
  "kernelspec": {
   "display_name": "Python 3 (ipykernel)",
   "language": "python",
   "name": "python3"
  },
  "language_info": {
   "codemirror_mode": {
    "name": "ipython",
    "version": 3
   },
   "file_extension": ".py",
   "mimetype": "text/x-python",
   "name": "python",
   "nbconvert_exporter": "python",
   "pygments_lexer": "ipython3",
   "version": "3.8.12"
  },
  "widgets": {
   "application/vnd.jupyter.widget-state+json": {
    "04a419f4dda54e89b67b4fdf7df545a4": {
     "model_module": "@jupyter-widgets/base",
     "model_module_version": "1.2.0",
     "model_name": "LayoutModel",
     "state": {
      "_model_module": "@jupyter-widgets/base",
      "_model_module_version": "1.2.0",
      "_model_name": "LayoutModel",
      "_view_count": null,
      "_view_module": "@jupyter-widgets/base",
      "_view_module_version": "1.2.0",
      "_view_name": "LayoutView",
      "align_content": null,
      "align_items": null,
      "align_self": null,
      "border": null,
      "bottom": null,
      "display": null,
      "flex": null,
      "flex_flow": null,
      "grid_area": null,
      "grid_auto_columns": null,
      "grid_auto_flow": null,
      "grid_auto_rows": null,
      "grid_column": null,
      "grid_gap": null,
      "grid_row": null,
      "grid_template_areas": null,
      "grid_template_columns": null,
      "grid_template_rows": null,
      "height": null,
      "justify_content": null,
      "justify_items": null,
      "left": null,
      "margin": null,
      "max_height": null,
      "max_width": null,
      "min_height": null,
      "min_width": null,
      "object_fit": null,
      "object_position": null,
      "order": null,
      "overflow": null,
      "overflow_x": null,
      "overflow_y": null,
      "padding": null,
      "right": null,
      "top": null,
      "visibility": null,
      "width": null
     }
    },
    "05a4b7cf84cc48e19e32b69886d2b458": {
     "model_module": "@jupyter-widgets/controls",
     "model_module_version": "1.5.0",
     "model_name": "HTMLModel",
     "state": {
      "_dom_classes": [],
      "_model_module": "@jupyter-widgets/controls",
      "_model_module_version": "1.5.0",
      "_model_name": "HTMLModel",
      "_view_count": null,
      "_view_module": "@jupyter-widgets/controls",
      "_view_module_version": "1.5.0",
      "_view_name": "HTMLView",
      "description": "",
      "description_tooltip": null,
      "layout": "IPY_MODEL_544d0df5a4a647b9b6b0b8c6bdb26cb6",
      "placeholder": "​",
      "style": "IPY_MODEL_2f37e0b9395b492f9d73b3d095a70bd9",
      "value": "Downloading (…)solve/main/vocab.txt: 100%"
     }
    },
    "06776b06b38b40e3a1564574a3f1a9a1": {
     "model_module": "@jupyter-widgets/base",
     "model_module_version": "1.2.0",
     "model_name": "LayoutModel",
     "state": {
      "_model_module": "@jupyter-widgets/base",
      "_model_module_version": "1.2.0",
      "_model_name": "LayoutModel",
      "_view_count": null,
      "_view_module": "@jupyter-widgets/base",
      "_view_module_version": "1.2.0",
      "_view_name": "LayoutView",
      "align_content": null,
      "align_items": null,
      "align_self": null,
      "border": null,
      "bottom": null,
      "display": null,
      "flex": null,
      "flex_flow": null,
      "grid_area": null,
      "grid_auto_columns": null,
      "grid_auto_flow": null,
      "grid_auto_rows": null,
      "grid_column": null,
      "grid_gap": null,
      "grid_row": null,
      "grid_template_areas": null,
      "grid_template_columns": null,
      "grid_template_rows": null,
      "height": null,
      "justify_content": null,
      "justify_items": null,
      "left": null,
      "margin": null,
      "max_height": null,
      "max_width": null,
      "min_height": null,
      "min_width": null,
      "object_fit": null,
      "object_position": null,
      "order": null,
      "overflow": null,
      "overflow_x": null,
      "overflow_y": null,
      "padding": null,
      "right": null,
      "top": null,
      "visibility": null,
      "width": null
     }
    },
    "0e138bdc5a574e34afa47a739a67d4ac": {
     "model_module": "@jupyter-widgets/controls",
     "model_module_version": "1.5.0",
     "model_name": "ProgressStyleModel",
     "state": {
      "_model_module": "@jupyter-widgets/controls",
      "_model_module_version": "1.5.0",
      "_model_name": "ProgressStyleModel",
      "_view_count": null,
      "_view_module": "@jupyter-widgets/base",
      "_view_module_version": "1.2.0",
      "_view_name": "StyleView",
      "bar_color": null,
      "description_width": ""
     }
    },
    "12102861416449a5a25c9394f0c14b26": {
     "model_module": "@jupyter-widgets/controls",
     "model_module_version": "1.5.0",
     "model_name": "HTMLModel",
     "state": {
      "_dom_classes": [],
      "_model_module": "@jupyter-widgets/controls",
      "_model_module_version": "1.5.0",
      "_model_name": "HTMLModel",
      "_view_count": null,
      "_view_module": "@jupyter-widgets/controls",
      "_view_module_version": "1.5.0",
      "_view_name": "HTMLView",
      "description": "",
      "description_tooltip": null,
      "layout": "IPY_MODEL_40c600367a964cf78ecd442a00518a5b",
      "placeholder": "​",
      "style": "IPY_MODEL_6433c8181f2f430683cc2123bd7150cf",
      "value": "Downloading (…)&quot;pytorch_model.bin&quot;;: 100%"
     }
    },
    "143599c854ab46368a86c5832d7cc442": {
     "model_module": "@jupyter-widgets/base",
     "model_module_version": "1.2.0",
     "model_name": "LayoutModel",
     "state": {
      "_model_module": "@jupyter-widgets/base",
      "_model_module_version": "1.2.0",
      "_model_name": "LayoutModel",
      "_view_count": null,
      "_view_module": "@jupyter-widgets/base",
      "_view_module_version": "1.2.0",
      "_view_name": "LayoutView",
      "align_content": null,
      "align_items": null,
      "align_self": null,
      "border": null,
      "bottom": null,
      "display": null,
      "flex": null,
      "flex_flow": null,
      "grid_area": null,
      "grid_auto_columns": null,
      "grid_auto_flow": null,
      "grid_auto_rows": null,
      "grid_column": null,
      "grid_gap": null,
      "grid_row": null,
      "grid_template_areas": null,
      "grid_template_columns": null,
      "grid_template_rows": null,
      "height": null,
      "justify_content": null,
      "justify_items": null,
      "left": null,
      "margin": null,
      "max_height": null,
      "max_width": null,
      "min_height": null,
      "min_width": null,
      "object_fit": null,
      "object_position": null,
      "order": null,
      "overflow": null,
      "overflow_x": null,
      "overflow_y": null,
      "padding": null,
      "right": null,
      "top": null,
      "visibility": null,
      "width": null
     }
    },
    "2073b8dcf8ee4d1c87f697633cefb2d7": {
     "model_module": "@jupyter-widgets/controls",
     "model_module_version": "1.5.0",
     "model_name": "HBoxModel",
     "state": {
      "_dom_classes": [],
      "_model_module": "@jupyter-widgets/controls",
      "_model_module_version": "1.5.0",
      "_model_name": "HBoxModel",
      "_view_count": null,
      "_view_module": "@jupyter-widgets/controls",
      "_view_module_version": "1.5.0",
      "_view_name": "HBoxView",
      "box_style": "",
      "children": [
       "IPY_MODEL_290b804498d941419e5fcfc496860794",
       "IPY_MODEL_31317a5094ac4aba94fc4e3a906cd64e",
       "IPY_MODEL_3a2b9d5b439241bca6c5594e28e034de"
      ],
      "layout": "IPY_MODEL_143599c854ab46368a86c5832d7cc442"
     }
    },
    "20e43ad1b9c940ef9802daefc509f37a": {
     "model_module": "@jupyter-widgets/controls",
     "model_module_version": "1.5.0",
     "model_name": "DescriptionStyleModel",
     "state": {
      "_model_module": "@jupyter-widgets/controls",
      "_model_module_version": "1.5.0",
      "_model_name": "DescriptionStyleModel",
      "_view_count": null,
      "_view_module": "@jupyter-widgets/base",
      "_view_module_version": "1.2.0",
      "_view_name": "StyleView",
      "description_width": ""
     }
    },
    "254542107d564eeca9c8ae5f9fc92bfa": {
     "model_module": "@jupyter-widgets/controls",
     "model_module_version": "1.5.0",
     "model_name": "HTMLModel",
     "state": {
      "_dom_classes": [],
      "_model_module": "@jupyter-widgets/controls",
      "_model_module_version": "1.5.0",
      "_model_name": "HTMLModel",
      "_view_count": null,
      "_view_module": "@jupyter-widgets/controls",
      "_view_module_version": "1.5.0",
      "_view_name": "HTMLView",
      "description": "",
      "description_tooltip": null,
      "layout": "IPY_MODEL_8b4ecc3e15434844a81eb854287dfe06",
      "placeholder": "​",
      "style": "IPY_MODEL_7f40d47bd4b84478b0316aa52f8dc664",
      "value": "Downloading (…)okenizer_config.json: 100%"
     }
    },
    "290b804498d941419e5fcfc496860794": {
     "model_module": "@jupyter-widgets/controls",
     "model_module_version": "1.5.0",
     "model_name": "HTMLModel",
     "state": {
      "_dom_classes": [],
      "_model_module": "@jupyter-widgets/controls",
      "_model_module_version": "1.5.0",
      "_model_name": "HTMLModel",
      "_view_count": null,
      "_view_module": "@jupyter-widgets/controls",
      "_view_module_version": "1.5.0",
      "_view_name": "HTMLView",
      "description": "",
      "description_tooltip": null,
      "layout": "IPY_MODEL_efee6531459d48d3944cd2cfc7ecdcc8",
      "placeholder": "​",
      "style": "IPY_MODEL_d8772191f4394490aeb5aff707cc6175",
      "value": "Downloading (…)lve/main/config.json: 100%"
     }
    },
    "2f37e0b9395b492f9d73b3d095a70bd9": {
     "model_module": "@jupyter-widgets/controls",
     "model_module_version": "1.5.0",
     "model_name": "DescriptionStyleModel",
     "state": {
      "_model_module": "@jupyter-widgets/controls",
      "_model_module_version": "1.5.0",
      "_model_name": "DescriptionStyleModel",
      "_view_count": null,
      "_view_module": "@jupyter-widgets/base",
      "_view_module_version": "1.2.0",
      "_view_name": "StyleView",
      "description_width": ""
     }
    },
    "30bcec41555a43868a7da00fda16c58a": {
     "model_module": "@jupyter-widgets/controls",
     "model_module_version": "1.5.0",
     "model_name": "HBoxModel",
     "state": {
      "_dom_classes": [],
      "_model_module": "@jupyter-widgets/controls",
      "_model_module_version": "1.5.0",
      "_model_name": "HBoxModel",
      "_view_count": null,
      "_view_module": "@jupyter-widgets/controls",
      "_view_module_version": "1.5.0",
      "_view_name": "HBoxView",
      "box_style": "",
      "children": [
       "IPY_MODEL_254542107d564eeca9c8ae5f9fc92bfa",
       "IPY_MODEL_f13b93f49ebc40a7af91b14f986fbd0a",
       "IPY_MODEL_95493abff50347148c73a43ed81beda3"
      ],
      "layout": "IPY_MODEL_ed8598719f314d1b998be608e5fa1b44"
     }
    },
    "31317a5094ac4aba94fc4e3a906cd64e": {
     "model_module": "@jupyter-widgets/controls",
     "model_module_version": "1.5.0",
     "model_name": "FloatProgressModel",
     "state": {
      "_dom_classes": [],
      "_model_module": "@jupyter-widgets/controls",
      "_model_module_version": "1.5.0",
      "_model_name": "FloatProgressModel",
      "_view_count": null,
      "_view_module": "@jupyter-widgets/controls",
      "_view_module_version": "1.5.0",
      "_view_name": "ProgressView",
      "bar_style": "success",
      "description": "",
      "description_tooltip": null,
      "layout": "IPY_MODEL_bc71c1c75e2b43549390b8893d3ed061",
      "max": 1014,
      "min": 0,
      "orientation": "horizontal",
      "style": "IPY_MODEL_ba3e251080a24b93a6046e6d7ff8cb5c",
      "value": 1014
     }
    },
    "32a7e3f6a6894c3c8263d8d398fe61bb": {
     "model_module": "@jupyter-widgets/base",
     "model_module_version": "1.2.0",
     "model_name": "LayoutModel",
     "state": {
      "_model_module": "@jupyter-widgets/base",
      "_model_module_version": "1.2.0",
      "_model_name": "LayoutModel",
      "_view_count": null,
      "_view_module": "@jupyter-widgets/base",
      "_view_module_version": "1.2.0",
      "_view_name": "LayoutView",
      "align_content": null,
      "align_items": null,
      "align_self": null,
      "border": null,
      "bottom": null,
      "display": null,
      "flex": null,
      "flex_flow": null,
      "grid_area": null,
      "grid_auto_columns": null,
      "grid_auto_flow": null,
      "grid_auto_rows": null,
      "grid_column": null,
      "grid_gap": null,
      "grid_row": null,
      "grid_template_areas": null,
      "grid_template_columns": null,
      "grid_template_rows": null,
      "height": null,
      "justify_content": null,
      "justify_items": null,
      "left": null,
      "margin": null,
      "max_height": null,
      "max_width": null,
      "min_height": null,
      "min_width": null,
      "object_fit": null,
      "object_position": null,
      "order": null,
      "overflow": null,
      "overflow_x": null,
      "overflow_y": null,
      "padding": null,
      "right": null,
      "top": null,
      "visibility": null,
      "width": null
     }
    },
    "32ca4f6aa77645f19865f1c6484e6c90": {
     "model_module": "@jupyter-widgets/base",
     "model_module_version": "1.2.0",
     "model_name": "LayoutModel",
     "state": {
      "_model_module": "@jupyter-widgets/base",
      "_model_module_version": "1.2.0",
      "_model_name": "LayoutModel",
      "_view_count": null,
      "_view_module": "@jupyter-widgets/base",
      "_view_module_version": "1.2.0",
      "_view_name": "LayoutView",
      "align_content": null,
      "align_items": null,
      "align_self": null,
      "border": null,
      "bottom": null,
      "display": null,
      "flex": null,
      "flex_flow": null,
      "grid_area": null,
      "grid_auto_columns": null,
      "grid_auto_flow": null,
      "grid_auto_rows": null,
      "grid_column": null,
      "grid_gap": null,
      "grid_row": null,
      "grid_template_areas": null,
      "grid_template_columns": null,
      "grid_template_rows": null,
      "height": null,
      "justify_content": null,
      "justify_items": null,
      "left": null,
      "margin": null,
      "max_height": null,
      "max_width": null,
      "min_height": null,
      "min_width": null,
      "object_fit": null,
      "object_position": null,
      "order": null,
      "overflow": null,
      "overflow_x": null,
      "overflow_y": null,
      "padding": null,
      "right": null,
      "top": null,
      "visibility": null,
      "width": null
     }
    },
    "381f4c9c261c4af2be406b31f7d56537": {
     "model_module": "@jupyter-widgets/controls",
     "model_module_version": "1.5.0",
     "model_name": "DescriptionStyleModel",
     "state": {
      "_model_module": "@jupyter-widgets/controls",
      "_model_module_version": "1.5.0",
      "_model_name": "DescriptionStyleModel",
      "_view_count": null,
      "_view_module": "@jupyter-widgets/base",
      "_view_module_version": "1.2.0",
      "_view_name": "StyleView",
      "description_width": ""
     }
    },
    "39bbe92530594a828c691d3df28055f9": {
     "model_module": "@jupyter-widgets/controls",
     "model_module_version": "1.5.0",
     "model_name": "DescriptionStyleModel",
     "state": {
      "_model_module": "@jupyter-widgets/controls",
      "_model_module_version": "1.5.0",
      "_model_name": "DescriptionStyleModel",
      "_view_count": null,
      "_view_module": "@jupyter-widgets/base",
      "_view_module_version": "1.2.0",
      "_view_name": "StyleView",
      "description_width": ""
     }
    },
    "3a2b9d5b439241bca6c5594e28e034de": {
     "model_module": "@jupyter-widgets/controls",
     "model_module_version": "1.5.0",
     "model_name": "HTMLModel",
     "state": {
      "_dom_classes": [],
      "_model_module": "@jupyter-widgets/controls",
      "_model_module_version": "1.5.0",
      "_model_name": "HTMLModel",
      "_view_count": null,
      "_view_module": "@jupyter-widgets/controls",
      "_view_module_version": "1.5.0",
      "_view_name": "HTMLView",
      "description": "",
      "description_tooltip": null,
      "layout": "IPY_MODEL_04a419f4dda54e89b67b4fdf7df545a4",
      "placeholder": "​",
      "style": "IPY_MODEL_887fbc5bec7b4dedafa40c0c7825da08",
      "value": " 1.01k/1.01k [00:00&lt;00:00, 35.6kB/s]"
     }
    },
    "3f6e9886b4cc4bb0bc79e29029f5e466": {
     "model_module": "@jupyter-widgets/controls",
     "model_module_version": "1.5.0",
     "model_name": "FloatProgressModel",
     "state": {
      "_dom_classes": [],
      "_model_module": "@jupyter-widgets/controls",
      "_model_module_version": "1.5.0",
      "_model_name": "FloatProgressModel",
      "_view_count": null,
      "_view_module": "@jupyter-widgets/controls",
      "_view_module_version": "1.5.0",
      "_view_name": "ProgressView",
      "bar_style": "success",
      "description": "",
      "description_tooltip": null,
      "layout": "IPY_MODEL_b152d11ce2a64b51a34884291bbc8b1b",
      "max": 234118,
      "min": 0,
      "orientation": "horizontal",
      "style": "IPY_MODEL_88da52c9ddca4bbf91113ef4d1793f07",
      "value": 234118
     }
    },
    "40445df68e4841d7ba23de17b6a66adb": {
     "model_module": "@jupyter-widgets/controls",
     "model_module_version": "1.5.0",
     "model_name": "HBoxModel",
     "state": {
      "_dom_classes": [],
      "_model_module": "@jupyter-widgets/controls",
      "_model_module_version": "1.5.0",
      "_model_name": "HBoxModel",
      "_view_count": null,
      "_view_module": "@jupyter-widgets/controls",
      "_view_module_version": "1.5.0",
      "_view_name": "HBoxView",
      "box_style": "",
      "children": [
       "IPY_MODEL_7485131aa1b342f9808462ad6efeba93",
       "IPY_MODEL_8d89748e23974b369603a51650dd0c08",
       "IPY_MODEL_693f3f5db2c44c9bbb24e8c9ccbe94cf"
      ],
      "layout": "IPY_MODEL_ad952bdd65c04588bd921f33110e28f8"
     }
    },
    "40c600367a964cf78ecd442a00518a5b": {
     "model_module": "@jupyter-widgets/base",
     "model_module_version": "1.2.0",
     "model_name": "LayoutModel",
     "state": {
      "_model_module": "@jupyter-widgets/base",
      "_model_module_version": "1.2.0",
      "_model_name": "LayoutModel",
      "_view_count": null,
      "_view_module": "@jupyter-widgets/base",
      "_view_module_version": "1.2.0",
      "_view_name": "LayoutView",
      "align_content": null,
      "align_items": null,
      "align_self": null,
      "border": null,
      "bottom": null,
      "display": null,
      "flex": null,
      "flex_flow": null,
      "grid_area": null,
      "grid_auto_columns": null,
      "grid_auto_flow": null,
      "grid_auto_rows": null,
      "grid_column": null,
      "grid_gap": null,
      "grid_row": null,
      "grid_template_areas": null,
      "grid_template_columns": null,
      "grid_template_rows": null,
      "height": null,
      "justify_content": null,
      "justify_items": null,
      "left": null,
      "margin": null,
      "max_height": null,
      "max_width": null,
      "min_height": null,
      "min_width": null,
      "object_fit": null,
      "object_position": null,
      "order": null,
      "overflow": null,
      "overflow_x": null,
      "overflow_y": null,
      "padding": null,
      "right": null,
      "top": null,
      "visibility": null,
      "width": null
     }
    },
    "537c4c816876433fbc98cbc3a1fd1818": {
     "model_module": "@jupyter-widgets/controls",
     "model_module_version": "1.5.0",
     "model_name": "HTMLModel",
     "state": {
      "_dom_classes": [],
      "_model_module": "@jupyter-widgets/controls",
      "_model_module_version": "1.5.0",
      "_model_name": "HTMLModel",
      "_view_count": null,
      "_view_module": "@jupyter-widgets/controls",
      "_view_module_version": "1.5.0",
      "_view_name": "HTMLView",
      "description": "",
      "description_tooltip": null,
      "layout": "IPY_MODEL_6ed9d0415f78452dbad942fcdca14418",
      "placeholder": "​",
      "style": "IPY_MODEL_7f58f0dfa3094b6dbfbf4c597faf8a0c",
      "value": "Downloading (…)cial_tokens_map.json: 100%"
     }
    },
    "544d0df5a4a647b9b6b0b8c6bdb26cb6": {
     "model_module": "@jupyter-widgets/base",
     "model_module_version": "1.2.0",
     "model_name": "LayoutModel",
     "state": {
      "_model_module": "@jupyter-widgets/base",
      "_model_module_version": "1.2.0",
      "_model_name": "LayoutModel",
      "_view_count": null,
      "_view_module": "@jupyter-widgets/base",
      "_view_module_version": "1.2.0",
      "_view_name": "LayoutView",
      "align_content": null,
      "align_items": null,
      "align_self": null,
      "border": null,
      "bottom": null,
      "display": null,
      "flex": null,
      "flex_flow": null,
      "grid_area": null,
      "grid_auto_columns": null,
      "grid_auto_flow": null,
      "grid_auto_rows": null,
      "grid_column": null,
      "grid_gap": null,
      "grid_row": null,
      "grid_template_areas": null,
      "grid_template_columns": null,
      "grid_template_rows": null,
      "height": null,
      "justify_content": null,
      "justify_items": null,
      "left": null,
      "margin": null,
      "max_height": null,
      "max_width": null,
      "min_height": null,
      "min_width": null,
      "object_fit": null,
      "object_position": null,
      "order": null,
      "overflow": null,
      "overflow_x": null,
      "overflow_y": null,
      "padding": null,
      "right": null,
      "top": null,
      "visibility": null,
      "width": null
     }
    },
    "59e96c71bc3744f68cb4c66b11188da7": {
     "model_module": "@jupyter-widgets/base",
     "model_module_version": "1.2.0",
     "model_name": "LayoutModel",
     "state": {
      "_model_module": "@jupyter-widgets/base",
      "_model_module_version": "1.2.0",
      "_model_name": "LayoutModel",
      "_view_count": null,
      "_view_module": "@jupyter-widgets/base",
      "_view_module_version": "1.2.0",
      "_view_name": "LayoutView",
      "align_content": null,
      "align_items": null,
      "align_self": null,
      "border": null,
      "bottom": null,
      "display": null,
      "flex": null,
      "flex_flow": null,
      "grid_area": null,
      "grid_auto_columns": null,
      "grid_auto_flow": null,
      "grid_auto_rows": null,
      "grid_column": null,
      "grid_gap": null,
      "grid_row": null,
      "grid_template_areas": null,
      "grid_template_columns": null,
      "grid_template_rows": null,
      "height": null,
      "justify_content": null,
      "justify_items": null,
      "left": null,
      "margin": null,
      "max_height": null,
      "max_width": null,
      "min_height": null,
      "min_width": null,
      "object_fit": null,
      "object_position": null,
      "order": null,
      "overflow": null,
      "overflow_x": null,
      "overflow_y": null,
      "padding": null,
      "right": null,
      "top": null,
      "visibility": null,
      "width": null
     }
    },
    "614a80ae332042ac8940c78d5fda5a76": {
     "model_module": "@jupyter-widgets/base",
     "model_module_version": "1.2.0",
     "model_name": "LayoutModel",
     "state": {
      "_model_module": "@jupyter-widgets/base",
      "_model_module_version": "1.2.0",
      "_model_name": "LayoutModel",
      "_view_count": null,
      "_view_module": "@jupyter-widgets/base",
      "_view_module_version": "1.2.0",
      "_view_name": "LayoutView",
      "align_content": null,
      "align_items": null,
      "align_self": null,
      "border": null,
      "bottom": null,
      "display": null,
      "flex": null,
      "flex_flow": null,
      "grid_area": null,
      "grid_auto_columns": null,
      "grid_auto_flow": null,
      "grid_auto_rows": null,
      "grid_column": null,
      "grid_gap": null,
      "grid_row": null,
      "grid_template_areas": null,
      "grid_template_columns": null,
      "grid_template_rows": null,
      "height": null,
      "justify_content": null,
      "justify_items": null,
      "left": null,
      "margin": null,
      "max_height": null,
      "max_width": null,
      "min_height": null,
      "min_width": null,
      "object_fit": null,
      "object_position": null,
      "order": null,
      "overflow": null,
      "overflow_x": null,
      "overflow_y": null,
      "padding": null,
      "right": null,
      "top": null,
      "visibility": null,
      "width": null
     }
    },
    "6433c8181f2f430683cc2123bd7150cf": {
     "model_module": "@jupyter-widgets/controls",
     "model_module_version": "1.5.0",
     "model_name": "DescriptionStyleModel",
     "state": {
      "_model_module": "@jupyter-widgets/controls",
      "_model_module_version": "1.5.0",
      "_model_name": "DescriptionStyleModel",
      "_view_count": null,
      "_view_module": "@jupyter-widgets/base",
      "_view_module_version": "1.2.0",
      "_view_name": "StyleView",
      "description_width": ""
     }
    },
    "668d076b9d27407881a67924a0646ca1": {
     "model_module": "@jupyter-widgets/controls",
     "model_module_version": "1.5.0",
     "model_name": "HTMLModel",
     "state": {
      "_dom_classes": [],
      "_model_module": "@jupyter-widgets/controls",
      "_model_module_version": "1.5.0",
      "_model_name": "HTMLModel",
      "_view_count": null,
      "_view_module": "@jupyter-widgets/controls",
      "_view_module_version": "1.5.0",
      "_view_name": "HTMLView",
      "description": "",
      "description_tooltip": null,
      "layout": "IPY_MODEL_f842604d51204c31956f68421c7a2d4f",
      "placeholder": "​",
      "style": "IPY_MODEL_a5c9d1ed3e684d3dac00da66fea9d82f",
      "value": " 112/112 [00:00&lt;00:00, 1.53kB/s]"
     }
    },
    "693f3f5db2c44c9bbb24e8c9ccbe94cf": {
     "model_module": "@jupyter-widgets/controls",
     "model_module_version": "1.5.0",
     "model_name": "HTMLModel",
     "state": {
      "_dom_classes": [],
      "_model_module": "@jupyter-widgets/controls",
      "_model_module_version": "1.5.0",
      "_model_name": "HTMLModel",
      "_view_count": null,
      "_view_module": "@jupyter-widgets/controls",
      "_view_module_version": "1.5.0",
      "_view_name": "HTMLView",
      "description": "",
      "description_tooltip": null,
      "layout": "IPY_MODEL_614a80ae332042ac8940c78d5fda5a76",
      "placeholder": "​",
      "style": "IPY_MODEL_381f4c9c261c4af2be406b31f7d56537",
      "value": " 2.00/2.00 [00:00&lt;00:00, 47.4B/s]"
     }
    },
    "6ed9d0415f78452dbad942fcdca14418": {
     "model_module": "@jupyter-widgets/base",
     "model_module_version": "1.2.0",
     "model_name": "LayoutModel",
     "state": {
      "_model_module": "@jupyter-widgets/base",
      "_model_module_version": "1.2.0",
      "_model_name": "LayoutModel",
      "_view_count": null,
      "_view_module": "@jupyter-widgets/base",
      "_view_module_version": "1.2.0",
      "_view_name": "LayoutView",
      "align_content": null,
      "align_items": null,
      "align_self": null,
      "border": null,
      "bottom": null,
      "display": null,
      "flex": null,
      "flex_flow": null,
      "grid_area": null,
      "grid_auto_columns": null,
      "grid_auto_flow": null,
      "grid_auto_rows": null,
      "grid_column": null,
      "grid_gap": null,
      "grid_row": null,
      "grid_template_areas": null,
      "grid_template_columns": null,
      "grid_template_rows": null,
      "height": null,
      "justify_content": null,
      "justify_items": null,
      "left": null,
      "margin": null,
      "max_height": null,
      "max_width": null,
      "min_height": null,
      "min_width": null,
      "object_fit": null,
      "object_position": null,
      "order": null,
      "overflow": null,
      "overflow_x": null,
      "overflow_y": null,
      "padding": null,
      "right": null,
      "top": null,
      "visibility": null,
      "width": null
     }
    },
    "7485131aa1b342f9808462ad6efeba93": {
     "model_module": "@jupyter-widgets/controls",
     "model_module_version": "1.5.0",
     "model_name": "HTMLModel",
     "state": {
      "_dom_classes": [],
      "_model_module": "@jupyter-widgets/controls",
      "_model_module_version": "1.5.0",
      "_model_name": "HTMLModel",
      "_view_count": null,
      "_view_module": "@jupyter-widgets/controls",
      "_view_module_version": "1.5.0",
      "_view_name": "HTMLView",
      "description": "",
      "description_tooltip": null,
      "layout": "IPY_MODEL_59e96c71bc3744f68cb4c66b11188da7",
      "placeholder": "​",
      "style": "IPY_MODEL_39bbe92530594a828c691d3df28055f9",
      "value": "Downloading (…)in/added_tokens.json: 100%"
     }
    },
    "79b5b2951d754d88bee6238513a086d4": {
     "model_module": "@jupyter-widgets/controls",
     "model_module_version": "1.5.0",
     "model_name": "DescriptionStyleModel",
     "state": {
      "_model_module": "@jupyter-widgets/controls",
      "_model_module_version": "1.5.0",
      "_model_name": "DescriptionStyleModel",
      "_view_count": null,
      "_view_module": "@jupyter-widgets/base",
      "_view_module_version": "1.2.0",
      "_view_name": "StyleView",
      "description_width": ""
     }
    },
    "7bff898d9e0444bf95f17ce0338a20e6": {
     "model_module": "@jupyter-widgets/controls",
     "model_module_version": "1.5.0",
     "model_name": "ProgressStyleModel",
     "state": {
      "_model_module": "@jupyter-widgets/controls",
      "_model_module_version": "1.5.0",
      "_model_name": "ProgressStyleModel",
      "_view_count": null,
      "_view_module": "@jupyter-widgets/base",
      "_view_module_version": "1.2.0",
      "_view_name": "StyleView",
      "bar_color": null,
      "description_width": ""
     }
    },
    "7f40d47bd4b84478b0316aa52f8dc664": {
     "model_module": "@jupyter-widgets/controls",
     "model_module_version": "1.5.0",
     "model_name": "DescriptionStyleModel",
     "state": {
      "_model_module": "@jupyter-widgets/controls",
      "_model_module_version": "1.5.0",
      "_model_name": "DescriptionStyleModel",
      "_view_count": null,
      "_view_module": "@jupyter-widgets/base",
      "_view_module_version": "1.2.0",
      "_view_name": "StyleView",
      "description_width": ""
     }
    },
    "7f58f0dfa3094b6dbfbf4c597faf8a0c": {
     "model_module": "@jupyter-widgets/controls",
     "model_module_version": "1.5.0",
     "model_name": "DescriptionStyleModel",
     "state": {
      "_model_module": "@jupyter-widgets/controls",
      "_model_module_version": "1.5.0",
      "_model_name": "DescriptionStyleModel",
      "_view_count": null,
      "_view_module": "@jupyter-widgets/base",
      "_view_module_version": "1.2.0",
      "_view_name": "StyleView",
      "description_width": ""
     }
    },
    "869af91e8cb64ed69a586b5865e1804a": {
     "model_module": "@jupyter-widgets/base",
     "model_module_version": "1.2.0",
     "model_name": "LayoutModel",
     "state": {
      "_model_module": "@jupyter-widgets/base",
      "_model_module_version": "1.2.0",
      "_model_name": "LayoutModel",
      "_view_count": null,
      "_view_module": "@jupyter-widgets/base",
      "_view_module_version": "1.2.0",
      "_view_name": "LayoutView",
      "align_content": null,
      "align_items": null,
      "align_self": null,
      "border": null,
      "bottom": null,
      "display": null,
      "flex": null,
      "flex_flow": null,
      "grid_area": null,
      "grid_auto_columns": null,
      "grid_auto_flow": null,
      "grid_auto_rows": null,
      "grid_column": null,
      "grid_gap": null,
      "grid_row": null,
      "grid_template_areas": null,
      "grid_template_columns": null,
      "grid_template_rows": null,
      "height": null,
      "justify_content": null,
      "justify_items": null,
      "left": null,
      "margin": null,
      "max_height": null,
      "max_width": null,
      "min_height": null,
      "min_width": null,
      "object_fit": null,
      "object_position": null,
      "order": null,
      "overflow": null,
      "overflow_x": null,
      "overflow_y": null,
      "padding": null,
      "right": null,
      "top": null,
      "visibility": null,
      "width": null
     }
    },
    "887fbc5bec7b4dedafa40c0c7825da08": {
     "model_module": "@jupyter-widgets/controls",
     "model_module_version": "1.5.0",
     "model_name": "DescriptionStyleModel",
     "state": {
      "_model_module": "@jupyter-widgets/controls",
      "_model_module_version": "1.5.0",
      "_model_name": "DescriptionStyleModel",
      "_view_count": null,
      "_view_module": "@jupyter-widgets/base",
      "_view_module_version": "1.2.0",
      "_view_name": "StyleView",
      "description_width": ""
     }
    },
    "88da52c9ddca4bbf91113ef4d1793f07": {
     "model_module": "@jupyter-widgets/controls",
     "model_module_version": "1.5.0",
     "model_name": "ProgressStyleModel",
     "state": {
      "_model_module": "@jupyter-widgets/controls",
      "_model_module_version": "1.5.0",
      "_model_name": "ProgressStyleModel",
      "_view_count": null,
      "_view_module": "@jupyter-widgets/base",
      "_view_module_version": "1.2.0",
      "_view_name": "StyleView",
      "bar_color": null,
      "description_width": ""
     }
    },
    "8b4ecc3e15434844a81eb854287dfe06": {
     "model_module": "@jupyter-widgets/base",
     "model_module_version": "1.2.0",
     "model_name": "LayoutModel",
     "state": {
      "_model_module": "@jupyter-widgets/base",
      "_model_module_version": "1.2.0",
      "_model_name": "LayoutModel",
      "_view_count": null,
      "_view_module": "@jupyter-widgets/base",
      "_view_module_version": "1.2.0",
      "_view_name": "LayoutView",
      "align_content": null,
      "align_items": null,
      "align_self": null,
      "border": null,
      "bottom": null,
      "display": null,
      "flex": null,
      "flex_flow": null,
      "grid_area": null,
      "grid_auto_columns": null,
      "grid_auto_flow": null,
      "grid_auto_rows": null,
      "grid_column": null,
      "grid_gap": null,
      "grid_row": null,
      "grid_template_areas": null,
      "grid_template_columns": null,
      "grid_template_rows": null,
      "height": null,
      "justify_content": null,
      "justify_items": null,
      "left": null,
      "margin": null,
      "max_height": null,
      "max_width": null,
      "min_height": null,
      "min_width": null,
      "object_fit": null,
      "object_position": null,
      "order": null,
      "overflow": null,
      "overflow_x": null,
      "overflow_y": null,
      "padding": null,
      "right": null,
      "top": null,
      "visibility": null,
      "width": null
     }
    },
    "8d89748e23974b369603a51650dd0c08": {
     "model_module": "@jupyter-widgets/controls",
     "model_module_version": "1.5.0",
     "model_name": "FloatProgressModel",
     "state": {
      "_dom_classes": [],
      "_model_module": "@jupyter-widgets/controls",
      "_model_module_version": "1.5.0",
      "_model_name": "FloatProgressModel",
      "_view_count": null,
      "_view_module": "@jupyter-widgets/controls",
      "_view_module_version": "1.5.0",
      "_view_name": "ProgressView",
      "bar_style": "success",
      "description": "",
      "description_tooltip": null,
      "layout": "IPY_MODEL_32ca4f6aa77645f19865f1c6484e6c90",
      "max": 2,
      "min": 0,
      "orientation": "horizontal",
      "style": "IPY_MODEL_7bff898d9e0444bf95f17ce0338a20e6",
      "value": 2
     }
    },
    "92f55df24dc74aeaa995b51de23a354f": {
     "model_module": "@jupyter-widgets/controls",
     "model_module_version": "1.5.0",
     "model_name": "ProgressStyleModel",
     "state": {
      "_model_module": "@jupyter-widgets/controls",
      "_model_module_version": "1.5.0",
      "_model_name": "ProgressStyleModel",
      "_view_count": null,
      "_view_module": "@jupyter-widgets/base",
      "_view_module_version": "1.2.0",
      "_view_name": "StyleView",
      "bar_color": null,
      "description_width": ""
     }
    },
    "95493abff50347148c73a43ed81beda3": {
     "model_module": "@jupyter-widgets/controls",
     "model_module_version": "1.5.0",
     "model_name": "HTMLModel",
     "state": {
      "_dom_classes": [],
      "_model_module": "@jupyter-widgets/controls",
      "_model_module_version": "1.5.0",
      "_model_name": "HTMLModel",
      "_view_count": null,
      "_view_module": "@jupyter-widgets/controls",
      "_view_module_version": "1.5.0",
      "_view_name": "HTMLView",
      "description": "",
      "description_tooltip": null,
      "layout": "IPY_MODEL_a3748f6b95ac47e69cf5b06d9a7ce23a",
      "placeholder": "​",
      "style": "IPY_MODEL_79b5b2951d754d88bee6238513a086d4",
      "value": " 42.0/42.0 [00:00&lt;00:00, 862B/s]"
     }
    },
    "96b818dd75274b39b8ac9b92aba7fe2b": {
     "model_module": "@jupyter-widgets/base",
     "model_module_version": "1.2.0",
     "model_name": "LayoutModel",
     "state": {
      "_model_module": "@jupyter-widgets/base",
      "_model_module_version": "1.2.0",
      "_model_name": "LayoutModel",
      "_view_count": null,
      "_view_module": "@jupyter-widgets/base",
      "_view_module_version": "1.2.0",
      "_view_name": "LayoutView",
      "align_content": null,
      "align_items": null,
      "align_self": null,
      "border": null,
      "bottom": null,
      "display": null,
      "flex": null,
      "flex_flow": null,
      "grid_area": null,
      "grid_auto_columns": null,
      "grid_auto_flow": null,
      "grid_auto_rows": null,
      "grid_column": null,
      "grid_gap": null,
      "grid_row": null,
      "grid_template_areas": null,
      "grid_template_columns": null,
      "grid_template_rows": null,
      "height": null,
      "justify_content": null,
      "justify_items": null,
      "left": null,
      "margin": null,
      "max_height": null,
      "max_width": null,
      "min_height": null,
      "min_width": null,
      "object_fit": null,
      "object_position": null,
      "order": null,
      "overflow": null,
      "overflow_x": null,
      "overflow_y": null,
      "padding": null,
      "right": null,
      "top": null,
      "visibility": null,
      "width": null
     }
    },
    "9b90900013144a658ab4db2401caa3f2": {
     "model_module": "@jupyter-widgets/controls",
     "model_module_version": "1.5.0",
     "model_name": "DescriptionStyleModel",
     "state": {
      "_model_module": "@jupyter-widgets/controls",
      "_model_module_version": "1.5.0",
      "_model_name": "DescriptionStyleModel",
      "_view_count": null,
      "_view_module": "@jupyter-widgets/base",
      "_view_module_version": "1.2.0",
      "_view_name": "StyleView",
      "description_width": ""
     }
    },
    "9d17a2913c1242dea25483ad56c0c893": {
     "model_module": "@jupyter-widgets/base",
     "model_module_version": "1.2.0",
     "model_name": "LayoutModel",
     "state": {
      "_model_module": "@jupyter-widgets/base",
      "_model_module_version": "1.2.0",
      "_model_name": "LayoutModel",
      "_view_count": null,
      "_view_module": "@jupyter-widgets/base",
      "_view_module_version": "1.2.0",
      "_view_name": "LayoutView",
      "align_content": null,
      "align_items": null,
      "align_self": null,
      "border": null,
      "bottom": null,
      "display": null,
      "flex": null,
      "flex_flow": null,
      "grid_area": null,
      "grid_auto_columns": null,
      "grid_auto_flow": null,
      "grid_auto_rows": null,
      "grid_column": null,
      "grid_gap": null,
      "grid_row": null,
      "grid_template_areas": null,
      "grid_template_columns": null,
      "grid_template_rows": null,
      "height": null,
      "justify_content": null,
      "justify_items": null,
      "left": null,
      "margin": null,
      "max_height": null,
      "max_width": null,
      "min_height": null,
      "min_width": null,
      "object_fit": null,
      "object_position": null,
      "order": null,
      "overflow": null,
      "overflow_x": null,
      "overflow_y": null,
      "padding": null,
      "right": null,
      "top": null,
      "visibility": null,
      "width": null
     }
    },
    "a1a28e3d4061419fb1d4194c0801124d": {
     "model_module": "@jupyter-widgets/controls",
     "model_module_version": "1.5.0",
     "model_name": "HBoxModel",
     "state": {
      "_dom_classes": [],
      "_model_module": "@jupyter-widgets/controls",
      "_model_module_version": "1.5.0",
      "_model_name": "HBoxModel",
      "_view_count": null,
      "_view_module": "@jupyter-widgets/controls",
      "_view_module_version": "1.5.0",
      "_view_name": "HBoxView",
      "box_style": "",
      "children": [
       "IPY_MODEL_537c4c816876433fbc98cbc3a1fd1818",
       "IPY_MODEL_e71018e6db294d438d0d39f0c1d3ec18",
       "IPY_MODEL_668d076b9d27407881a67924a0646ca1"
      ],
      "layout": "IPY_MODEL_fe87e9d0bc4846c0b16d4a824d9ada8b"
     }
    },
    "a2abf61937a946bcb3797e4532c74022": {
     "model_module": "@jupyter-widgets/controls",
     "model_module_version": "1.5.0",
     "model_name": "HTMLModel",
     "state": {
      "_dom_classes": [],
      "_model_module": "@jupyter-widgets/controls",
      "_model_module_version": "1.5.0",
      "_model_name": "HTMLModel",
      "_view_count": null,
      "_view_module": "@jupyter-widgets/controls",
      "_view_module_version": "1.5.0",
      "_view_name": "HTMLView",
      "description": "",
      "description_tooltip": null,
      "layout": "IPY_MODEL_869af91e8cb64ed69a586b5865e1804a",
      "placeholder": "​",
      "style": "IPY_MODEL_20e43ad1b9c940ef9802daefc509f37a",
      "value": " 445M/445M [00:01&lt;00:00, 265MB/s]"
     }
    },
    "a3748f6b95ac47e69cf5b06d9a7ce23a": {
     "model_module": "@jupyter-widgets/base",
     "model_module_version": "1.2.0",
     "model_name": "LayoutModel",
     "state": {
      "_model_module": "@jupyter-widgets/base",
      "_model_module_version": "1.2.0",
      "_model_name": "LayoutModel",
      "_view_count": null,
      "_view_module": "@jupyter-widgets/base",
      "_view_module_version": "1.2.0",
      "_view_name": "LayoutView",
      "align_content": null,
      "align_items": null,
      "align_self": null,
      "border": null,
      "bottom": null,
      "display": null,
      "flex": null,
      "flex_flow": null,
      "grid_area": null,
      "grid_auto_columns": null,
      "grid_auto_flow": null,
      "grid_auto_rows": null,
      "grid_column": null,
      "grid_gap": null,
      "grid_row": null,
      "grid_template_areas": null,
      "grid_template_columns": null,
      "grid_template_rows": null,
      "height": null,
      "justify_content": null,
      "justify_items": null,
      "left": null,
      "margin": null,
      "max_height": null,
      "max_width": null,
      "min_height": null,
      "min_width": null,
      "object_fit": null,
      "object_position": null,
      "order": null,
      "overflow": null,
      "overflow_x": null,
      "overflow_y": null,
      "padding": null,
      "right": null,
      "top": null,
      "visibility": null,
      "width": null
     }
    },
    "a5c9d1ed3e684d3dac00da66fea9d82f": {
     "model_module": "@jupyter-widgets/controls",
     "model_module_version": "1.5.0",
     "model_name": "DescriptionStyleModel",
     "state": {
      "_model_module": "@jupyter-widgets/controls",
      "_model_module_version": "1.5.0",
      "_model_name": "DescriptionStyleModel",
      "_view_count": null,
      "_view_module": "@jupyter-widgets/base",
      "_view_module_version": "1.2.0",
      "_view_name": "StyleView",
      "description_width": ""
     }
    },
    "ad40facb8c3f4cb2825fe780f193190e": {
     "model_module": "@jupyter-widgets/base",
     "model_module_version": "1.2.0",
     "model_name": "LayoutModel",
     "state": {
      "_model_module": "@jupyter-widgets/base",
      "_model_module_version": "1.2.0",
      "_model_name": "LayoutModel",
      "_view_count": null,
      "_view_module": "@jupyter-widgets/base",
      "_view_module_version": "1.2.0",
      "_view_name": "LayoutView",
      "align_content": null,
      "align_items": null,
      "align_self": null,
      "border": null,
      "bottom": null,
      "display": null,
      "flex": null,
      "flex_flow": null,
      "grid_area": null,
      "grid_auto_columns": null,
      "grid_auto_flow": null,
      "grid_auto_rows": null,
      "grid_column": null,
      "grid_gap": null,
      "grid_row": null,
      "grid_template_areas": null,
      "grid_template_columns": null,
      "grid_template_rows": null,
      "height": null,
      "justify_content": null,
      "justify_items": null,
      "left": null,
      "margin": null,
      "max_height": null,
      "max_width": null,
      "min_height": null,
      "min_width": null,
      "object_fit": null,
      "object_position": null,
      "order": null,
      "overflow": null,
      "overflow_x": null,
      "overflow_y": null,
      "padding": null,
      "right": null,
      "top": null,
      "visibility": null,
      "width": null
     }
    },
    "ad952bdd65c04588bd921f33110e28f8": {
     "model_module": "@jupyter-widgets/base",
     "model_module_version": "1.2.0",
     "model_name": "LayoutModel",
     "state": {
      "_model_module": "@jupyter-widgets/base",
      "_model_module_version": "1.2.0",
      "_model_name": "LayoutModel",
      "_view_count": null,
      "_view_module": "@jupyter-widgets/base",
      "_view_module_version": "1.2.0",
      "_view_name": "LayoutView",
      "align_content": null,
      "align_items": null,
      "align_self": null,
      "border": null,
      "bottom": null,
      "display": null,
      "flex": null,
      "flex_flow": null,
      "grid_area": null,
      "grid_auto_columns": null,
      "grid_auto_flow": null,
      "grid_auto_rows": null,
      "grid_column": null,
      "grid_gap": null,
      "grid_row": null,
      "grid_template_areas": null,
      "grid_template_columns": null,
      "grid_template_rows": null,
      "height": null,
      "justify_content": null,
      "justify_items": null,
      "left": null,
      "margin": null,
      "max_height": null,
      "max_width": null,
      "min_height": null,
      "min_width": null,
      "object_fit": null,
      "object_position": null,
      "order": null,
      "overflow": null,
      "overflow_x": null,
      "overflow_y": null,
      "padding": null,
      "right": null,
      "top": null,
      "visibility": null,
      "width": null
     }
    },
    "b152d11ce2a64b51a34884291bbc8b1b": {
     "model_module": "@jupyter-widgets/base",
     "model_module_version": "1.2.0",
     "model_name": "LayoutModel",
     "state": {
      "_model_module": "@jupyter-widgets/base",
      "_model_module_version": "1.2.0",
      "_model_name": "LayoutModel",
      "_view_count": null,
      "_view_module": "@jupyter-widgets/base",
      "_view_module_version": "1.2.0",
      "_view_name": "LayoutView",
      "align_content": null,
      "align_items": null,
      "align_self": null,
      "border": null,
      "bottom": null,
      "display": null,
      "flex": null,
      "flex_flow": null,
      "grid_area": null,
      "grid_auto_columns": null,
      "grid_auto_flow": null,
      "grid_auto_rows": null,
      "grid_column": null,
      "grid_gap": null,
      "grid_row": null,
      "grid_template_areas": null,
      "grid_template_columns": null,
      "grid_template_rows": null,
      "height": null,
      "justify_content": null,
      "justify_items": null,
      "left": null,
      "margin": null,
      "max_height": null,
      "max_width": null,
      "min_height": null,
      "min_width": null,
      "object_fit": null,
      "object_position": null,
      "order": null,
      "overflow": null,
      "overflow_x": null,
      "overflow_y": null,
      "padding": null,
      "right": null,
      "top": null,
      "visibility": null,
      "width": null
     }
    },
    "b5e1ca62a5d84e12b54d0d218b586ce2": {
     "model_module": "@jupyter-widgets/base",
     "model_module_version": "1.2.0",
     "model_name": "LayoutModel",
     "state": {
      "_model_module": "@jupyter-widgets/base",
      "_model_module_version": "1.2.0",
      "_model_name": "LayoutModel",
      "_view_count": null,
      "_view_module": "@jupyter-widgets/base",
      "_view_module_version": "1.2.0",
      "_view_name": "LayoutView",
      "align_content": null,
      "align_items": null,
      "align_self": null,
      "border": null,
      "bottom": null,
      "display": null,
      "flex": null,
      "flex_flow": null,
      "grid_area": null,
      "grid_auto_columns": null,
      "grid_auto_flow": null,
      "grid_auto_rows": null,
      "grid_column": null,
      "grid_gap": null,
      "grid_row": null,
      "grid_template_areas": null,
      "grid_template_columns": null,
      "grid_template_rows": null,
      "height": null,
      "justify_content": null,
      "justify_items": null,
      "left": null,
      "margin": null,
      "max_height": null,
      "max_width": null,
      "min_height": null,
      "min_width": null,
      "object_fit": null,
      "object_position": null,
      "order": null,
      "overflow": null,
      "overflow_x": null,
      "overflow_y": null,
      "padding": null,
      "right": null,
      "top": null,
      "visibility": null,
      "width": null
     }
    },
    "b6104933f86f4350a80851e8887d6c00": {
     "model_module": "@jupyter-widgets/controls",
     "model_module_version": "1.5.0",
     "model_name": "ProgressStyleModel",
     "state": {
      "_model_module": "@jupyter-widgets/controls",
      "_model_module_version": "1.5.0",
      "_model_name": "ProgressStyleModel",
      "_view_count": null,
      "_view_module": "@jupyter-widgets/base",
      "_view_module_version": "1.2.0",
      "_view_name": "StyleView",
      "bar_color": null,
      "description_width": ""
     }
    },
    "ba3e251080a24b93a6046e6d7ff8cb5c": {
     "model_module": "@jupyter-widgets/controls",
     "model_module_version": "1.5.0",
     "model_name": "ProgressStyleModel",
     "state": {
      "_model_module": "@jupyter-widgets/controls",
      "_model_module_version": "1.5.0",
      "_model_name": "ProgressStyleModel",
      "_view_count": null,
      "_view_module": "@jupyter-widgets/base",
      "_view_module_version": "1.2.0",
      "_view_name": "StyleView",
      "bar_color": null,
      "description_width": ""
     }
    },
    "bc71c1c75e2b43549390b8893d3ed061": {
     "model_module": "@jupyter-widgets/base",
     "model_module_version": "1.2.0",
     "model_name": "LayoutModel",
     "state": {
      "_model_module": "@jupyter-widgets/base",
      "_model_module_version": "1.2.0",
      "_model_name": "LayoutModel",
      "_view_count": null,
      "_view_module": "@jupyter-widgets/base",
      "_view_module_version": "1.2.0",
      "_view_name": "LayoutView",
      "align_content": null,
      "align_items": null,
      "align_self": null,
      "border": null,
      "bottom": null,
      "display": null,
      "flex": null,
      "flex_flow": null,
      "grid_area": null,
      "grid_auto_columns": null,
      "grid_auto_flow": null,
      "grid_auto_rows": null,
      "grid_column": null,
      "grid_gap": null,
      "grid_row": null,
      "grid_template_areas": null,
      "grid_template_columns": null,
      "grid_template_rows": null,
      "height": null,
      "justify_content": null,
      "justify_items": null,
      "left": null,
      "margin": null,
      "max_height": null,
      "max_width": null,
      "min_height": null,
      "min_width": null,
      "object_fit": null,
      "object_position": null,
      "order": null,
      "overflow": null,
      "overflow_x": null,
      "overflow_y": null,
      "padding": null,
      "right": null,
      "top": null,
      "visibility": null,
      "width": null
     }
    },
    "bd3aa89c288d45668f2fe0a0d708cfc8": {
     "model_module": "@jupyter-widgets/controls",
     "model_module_version": "1.5.0",
     "model_name": "FloatProgressModel",
     "state": {
      "_dom_classes": [],
      "_model_module": "@jupyter-widgets/controls",
      "_model_module_version": "1.5.0",
      "_model_name": "FloatProgressModel",
      "_view_count": null,
      "_view_module": "@jupyter-widgets/controls",
      "_view_module_version": "1.5.0",
      "_view_name": "ProgressView",
      "bar_style": "success",
      "description": "",
      "description_tooltip": null,
      "layout": "IPY_MODEL_b5e1ca62a5d84e12b54d0d218b586ce2",
      "max": 444780374,
      "min": 0,
      "orientation": "horizontal",
      "style": "IPY_MODEL_0e138bdc5a574e34afa47a739a67d4ac",
      "value": 444780374
     }
    },
    "d8772191f4394490aeb5aff707cc6175": {
     "model_module": "@jupyter-widgets/controls",
     "model_module_version": "1.5.0",
     "model_name": "DescriptionStyleModel",
     "state": {
      "_model_module": "@jupyter-widgets/controls",
      "_model_module_version": "1.5.0",
      "_model_name": "DescriptionStyleModel",
      "_view_count": null,
      "_view_module": "@jupyter-widgets/base",
      "_view_module_version": "1.2.0",
      "_view_name": "StyleView",
      "description_width": ""
     }
    },
    "dcc96f1bbe6e43f29cc02a88373989e9": {
     "model_module": "@jupyter-widgets/controls",
     "model_module_version": "1.5.0",
     "model_name": "HBoxModel",
     "state": {
      "_dom_classes": [],
      "_model_module": "@jupyter-widgets/controls",
      "_model_module_version": "1.5.0",
      "_model_name": "HBoxModel",
      "_view_count": null,
      "_view_module": "@jupyter-widgets/controls",
      "_view_module_version": "1.5.0",
      "_view_name": "HBoxView",
      "box_style": "",
      "children": [
       "IPY_MODEL_05a4b7cf84cc48e19e32b69886d2b458",
       "IPY_MODEL_3f6e9886b4cc4bb0bc79e29029f5e466",
       "IPY_MODEL_e7115a8750ff49a49eeda83dcfa98e50"
      ],
      "layout": "IPY_MODEL_9d17a2913c1242dea25483ad56c0c893"
     }
    },
    "df49fb14f1b94e13acd5026948becdf6": {
     "model_module": "@jupyter-widgets/controls",
     "model_module_version": "1.5.0",
     "model_name": "HBoxModel",
     "state": {
      "_dom_classes": [],
      "_model_module": "@jupyter-widgets/controls",
      "_model_module_version": "1.5.0",
      "_model_name": "HBoxModel",
      "_view_count": null,
      "_view_module": "@jupyter-widgets/controls",
      "_view_module_version": "1.5.0",
      "_view_name": "HBoxView",
      "box_style": "",
      "children": [
       "IPY_MODEL_12102861416449a5a25c9394f0c14b26",
       "IPY_MODEL_bd3aa89c288d45668f2fe0a0d708cfc8",
       "IPY_MODEL_a2abf61937a946bcb3797e4532c74022"
      ],
      "layout": "IPY_MODEL_ad40facb8c3f4cb2825fe780f193190e"
     }
    },
    "e71018e6db294d438d0d39f0c1d3ec18": {
     "model_module": "@jupyter-widgets/controls",
     "model_module_version": "1.5.0",
     "model_name": "FloatProgressModel",
     "state": {
      "_dom_classes": [],
      "_model_module": "@jupyter-widgets/controls",
      "_model_module_version": "1.5.0",
      "_model_name": "FloatProgressModel",
      "_view_count": null,
      "_view_module": "@jupyter-widgets/controls",
      "_view_module_version": "1.5.0",
      "_view_name": "ProgressView",
      "bar_style": "success",
      "description": "",
      "description_tooltip": null,
      "layout": "IPY_MODEL_06776b06b38b40e3a1564574a3f1a9a1",
      "max": 112,
      "min": 0,
      "orientation": "horizontal",
      "style": "IPY_MODEL_b6104933f86f4350a80851e8887d6c00",
      "value": 112
     }
    },
    "e7115a8750ff49a49eeda83dcfa98e50": {
     "model_module": "@jupyter-widgets/controls",
     "model_module_version": "1.5.0",
     "model_name": "HTMLModel",
     "state": {
      "_dom_classes": [],
      "_model_module": "@jupyter-widgets/controls",
      "_model_module_version": "1.5.0",
      "_model_name": "HTMLModel",
      "_view_count": null,
      "_view_module": "@jupyter-widgets/controls",
      "_view_module_version": "1.5.0",
      "_view_name": "HTMLView",
      "description": "",
      "description_tooltip": null,
      "layout": "IPY_MODEL_32a7e3f6a6894c3c8263d8d398fe61bb",
      "placeholder": "​",
      "style": "IPY_MODEL_9b90900013144a658ab4db2401caa3f2",
      "value": " 234k/234k [00:00&lt;00:00, 265kB/s]"
     }
    },
    "ed8598719f314d1b998be608e5fa1b44": {
     "model_module": "@jupyter-widgets/base",
     "model_module_version": "1.2.0",
     "model_name": "LayoutModel",
     "state": {
      "_model_module": "@jupyter-widgets/base",
      "_model_module_version": "1.2.0",
      "_model_name": "LayoutModel",
      "_view_count": null,
      "_view_module": "@jupyter-widgets/base",
      "_view_module_version": "1.2.0",
      "_view_name": "LayoutView",
      "align_content": null,
      "align_items": null,
      "align_self": null,
      "border": null,
      "bottom": null,
      "display": null,
      "flex": null,
      "flex_flow": null,
      "grid_area": null,
      "grid_auto_columns": null,
      "grid_auto_flow": null,
      "grid_auto_rows": null,
      "grid_column": null,
      "grid_gap": null,
      "grid_row": null,
      "grid_template_areas": null,
      "grid_template_columns": null,
      "grid_template_rows": null,
      "height": null,
      "justify_content": null,
      "justify_items": null,
      "left": null,
      "margin": null,
      "max_height": null,
      "max_width": null,
      "min_height": null,
      "min_width": null,
      "object_fit": null,
      "object_position": null,
      "order": null,
      "overflow": null,
      "overflow_x": null,
      "overflow_y": null,
      "padding": null,
      "right": null,
      "top": null,
      "visibility": null,
      "width": null
     }
    },
    "efee6531459d48d3944cd2cfc7ecdcc8": {
     "model_module": "@jupyter-widgets/base",
     "model_module_version": "1.2.0",
     "model_name": "LayoutModel",
     "state": {
      "_model_module": "@jupyter-widgets/base",
      "_model_module_version": "1.2.0",
      "_model_name": "LayoutModel",
      "_view_count": null,
      "_view_module": "@jupyter-widgets/base",
      "_view_module_version": "1.2.0",
      "_view_name": "LayoutView",
      "align_content": null,
      "align_items": null,
      "align_self": null,
      "border": null,
      "bottom": null,
      "display": null,
      "flex": null,
      "flex_flow": null,
      "grid_area": null,
      "grid_auto_columns": null,
      "grid_auto_flow": null,
      "grid_auto_rows": null,
      "grid_column": null,
      "grid_gap": null,
      "grid_row": null,
      "grid_template_areas": null,
      "grid_template_columns": null,
      "grid_template_rows": null,
      "height": null,
      "justify_content": null,
      "justify_items": null,
      "left": null,
      "margin": null,
      "max_height": null,
      "max_width": null,
      "min_height": null,
      "min_width": null,
      "object_fit": null,
      "object_position": null,
      "order": null,
      "overflow": null,
      "overflow_x": null,
      "overflow_y": null,
      "padding": null,
      "right": null,
      "top": null,
      "visibility": null,
      "width": null
     }
    },
    "f13b93f49ebc40a7af91b14f986fbd0a": {
     "model_module": "@jupyter-widgets/controls",
     "model_module_version": "1.5.0",
     "model_name": "FloatProgressModel",
     "state": {
      "_dom_classes": [],
      "_model_module": "@jupyter-widgets/controls",
      "_model_module_version": "1.5.0",
      "_model_name": "FloatProgressModel",
      "_view_count": null,
      "_view_module": "@jupyter-widgets/controls",
      "_view_module_version": "1.5.0",
      "_view_name": "ProgressView",
      "bar_style": "success",
      "description": "",
      "description_tooltip": null,
      "layout": "IPY_MODEL_96b818dd75274b39b8ac9b92aba7fe2b",
      "max": 42,
      "min": 0,
      "orientation": "horizontal",
      "style": "IPY_MODEL_92f55df24dc74aeaa995b51de23a354f",
      "value": 42
     }
    },
    "f842604d51204c31956f68421c7a2d4f": {
     "model_module": "@jupyter-widgets/base",
     "model_module_version": "1.2.0",
     "model_name": "LayoutModel",
     "state": {
      "_model_module": "@jupyter-widgets/base",
      "_model_module_version": "1.2.0",
      "_model_name": "LayoutModel",
      "_view_count": null,
      "_view_module": "@jupyter-widgets/base",
      "_view_module_version": "1.2.0",
      "_view_name": "LayoutView",
      "align_content": null,
      "align_items": null,
      "align_self": null,
      "border": null,
      "bottom": null,
      "display": null,
      "flex": null,
      "flex_flow": null,
      "grid_area": null,
      "grid_auto_columns": null,
      "grid_auto_flow": null,
      "grid_auto_rows": null,
      "grid_column": null,
      "grid_gap": null,
      "grid_row": null,
      "grid_template_areas": null,
      "grid_template_columns": null,
      "grid_template_rows": null,
      "height": null,
      "justify_content": null,
      "justify_items": null,
      "left": null,
      "margin": null,
      "max_height": null,
      "max_width": null,
      "min_height": null,
      "min_width": null,
      "object_fit": null,
      "object_position": null,
      "order": null,
      "overflow": null,
      "overflow_x": null,
      "overflow_y": null,
      "padding": null,
      "right": null,
      "top": null,
      "visibility": null,
      "width": null
     }
    },
    "fe87e9d0bc4846c0b16d4a824d9ada8b": {
     "model_module": "@jupyter-widgets/base",
     "model_module_version": "1.2.0",
     "model_name": "LayoutModel",
     "state": {
      "_model_module": "@jupyter-widgets/base",
      "_model_module_version": "1.2.0",
      "_model_name": "LayoutModel",
      "_view_count": null,
      "_view_module": "@jupyter-widgets/base",
      "_view_module_version": "1.2.0",
      "_view_name": "LayoutView",
      "align_content": null,
      "align_items": null,
      "align_self": null,
      "border": null,
      "bottom": null,
      "display": null,
      "flex": null,
      "flex_flow": null,
      "grid_area": null,
      "grid_auto_columns": null,
      "grid_auto_flow": null,
      "grid_auto_rows": null,
      "grid_column": null,
      "grid_gap": null,
      "grid_row": null,
      "grid_template_areas": null,
      "grid_template_columns": null,
      "grid_template_rows": null,
      "height": null,
      "justify_content": null,
      "justify_items": null,
      "left": null,
      "margin": null,
      "max_height": null,
      "max_width": null,
      "min_height": null,
      "min_width": null,
      "object_fit": null,
      "object_position": null,
      "order": null,
      "overflow": null,
      "overflow_x": null,
      "overflow_y": null,
      "padding": null,
      "right": null,
      "top": null,
      "visibility": null,
      "width": null
     }
    }
   }
  }
 },
 "nbformat": 4,
 "nbformat_minor": 1
}
