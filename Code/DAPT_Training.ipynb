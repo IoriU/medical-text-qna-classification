{
 "cells": [
  {
   "cell_type": "code",
   "execution_count": 1,
   "id": "fa24c6b4",
   "metadata": {},
   "outputs": [
    {
     "name": "stdout",
     "output_type": "stream",
     "text": [
      "Fri Jun  2 03:58:58 2023       \n",
      "+-----------------------------------------------------------------------------+\n",
      "| NVIDIA-SMI 450.156.00   Driver Version: 450.156.00   CUDA Version: 11.5     |\n",
      "|-------------------------------+----------------------+----------------------+\n",
      "| GPU  Name        Persistence-M| Bus-Id        Disp.A | Volatile Uncorr. ECC |\n",
      "| Fan  Temp  Perf  Pwr:Usage/Cap|         Memory-Usage | GPU-Util  Compute M. |\n",
      "|                               |                      |               MIG M. |\n",
      "|===============================+======================+======================|\n",
      "|   0  A100-SXM4-40GB      On   | 00000000:07:00.0 Off |                    0 |\n",
      "| N/A   33C    P0    89W / 400W |  37443MiB / 40537MiB |    100%      Default |\n",
      "|                               |                      |             Disabled |\n",
      "+-------------------------------+----------------------+----------------------+\n",
      "|   1  A100-SXM4-40GB      On   | 00000000:0F:00.0 Off |                    0 |\n",
      "| N/A   29C    P0    64W / 400W |  40532MiB / 40537MiB |      0%      Default |\n",
      "|                               |                      |             Disabled |\n",
      "+-------------------------------+----------------------+----------------------+\n",
      "|   2  A100-SXM4-40GB      On   | 00000000:47:00.0 Off |                    0 |\n",
      "| N/A   35C    P0    85W / 400W |  36689MiB / 40537MiB |     23%      Default |\n",
      "|                               |                      |             Disabled |\n",
      "+-------------------------------+----------------------+----------------------+\n",
      "|   3  A100-SXM4-40GB      On   | 00000000:4E:00.0 Off |                    0 |\n",
      "| N/A   36C    P0    87W / 400W |  29772MiB / 40537MiB |    100%      Default |\n",
      "|                               |                      |             Disabled |\n",
      "+-------------------------------+----------------------+----------------------+\n",
      "|   4  A100-SXM4-40GB      On   | 00000000:87:00.0 Off |                    0 |\n",
      "| N/A   48C    P0    97W / 400W |  38809MiB / 40537MiB |     68%      Default |\n",
      "|                               |                      |             Disabled |\n",
      "+-------------------------------+----------------------+----------------------+\n",
      "|   5  A100-SXM4-40GB      On   | 00000000:90:00.0 Off |                    0 |\n",
      "| N/A   34C    P0    63W / 400W |  39086MiB / 40537MiB |      0%      Default |\n",
      "|                               |                      |             Disabled |\n",
      "+-------------------------------+----------------------+----------------------+\n",
      "|   6  A100-SXM4-40GB      On   | 00000000:B7:00.0 Off |                    0 |\n",
      "| N/A   57C    P0   289W / 400W |  37835MiB / 40537MiB |     90%      Default |\n",
      "|                               |                      |             Disabled |\n",
      "+-------------------------------+----------------------+----------------------+\n",
      "|   7  A100-SXM4-40GB      On   | 00000000:BD:00.0 Off |                    0 |\n",
      "| N/A   41C    P0    89W / 400W |  40323MiB / 40537MiB |      0%      Default |\n",
      "|                               |                      |             Disabled |\n",
      "+-------------------------------+----------------------+----------------------+\n",
      "                                                                               \n",
      "+-----------------------------------------------------------------------------+\n",
      "| Processes:                                                                  |\n",
      "|  GPU   GI   CI        PID   Type   Process name                  GPU Memory |\n",
      "|        ID   ID                                                   Usage      |\n",
      "|=============================================================================|\n",
      "+-----------------------------------------------------------------------------+\n"
     ]
    }
   ],
   "source": [
    "!nvidia-smi"
   ]
  },
  {
   "cell_type": "code",
   "execution_count": 2,
   "id": "af4b61c5",
   "metadata": {},
   "outputs": [],
   "source": [
    "!pip install -qq transformers scikit-multilearn tqdm seaborn ipywidgets"
   ]
  },
  {
   "cell_type": "code",
   "execution_count": 3,
   "id": "eec565b0",
   "metadata": {},
   "outputs": [],
   "source": [
    "import os\n",
    "os.environ['CUDA_VISIBLE_DEVICES'] = '3'"
   ]
  },
  {
   "cell_type": "code",
   "execution_count": 4,
   "id": "aceb73a8",
   "metadata": {},
   "outputs": [],
   "source": [
    "import random\n",
    "import numpy as np\n",
    "import torch\n",
    "import torch.nn.functional as F\n",
    "import torch.nn as nn\n",
    "\n",
    "from transformers import AutoTokenizer, AutoModel, get_constant_schedule_with_warmup\n",
    "from transformers import TrainingArguments, Trainer, AutoConfig\n",
    "from torch.utils.data import TensorDataset, DataLoader, RandomSampler, SequentialSampler"
   ]
  },
  {
   "cell_type": "code",
   "execution_count": 5,
   "id": "273ed0f5",
   "metadata": {},
   "outputs": [],
   "source": [
    "import pandas as pd\n",
    "import re\n",
    "import numpy as np\n",
    "import seaborn as sns\n",
    "import warnings\n",
    "import string\n",
    "warnings.filterwarnings(\"ignore\", 'This pattern has match groups')\n",
    "import matplotlib.pyplot as plt\n",
    "import matplotlib"
   ]
  },
  {
   "cell_type": "code",
   "execution_count": 6,
   "id": "74659247",
   "metadata": {},
   "outputs": [
    {
     "data": {
      "text/plain": [
       "<torch._C.Generator at 0x7f0a6898b4b0>"
      ]
     },
     "execution_count": 6,
     "metadata": {},
     "output_type": "execute_result"
    }
   ],
   "source": [
    "seed_val = 1906350912\n",
    "random.seed(seed_val)\n",
    "np.random.seed(seed_val)\n",
    "torch.manual_seed(seed_val)"
   ]
  },
  {
   "cell_type": "code",
   "execution_count": 7,
   "id": "5e570258",
   "metadata": {},
   "outputs": [],
   "source": [
    "if torch.cuda.is_available():\n",
    "  torch.cuda.manual_seed_all(seed_val)"
   ]
  },
  {
   "cell_type": "code",
   "execution_count": 8,
   "id": "f484b394",
   "metadata": {},
   "outputs": [
    {
     "name": "stdout",
     "output_type": "stream",
     "text": [
      "Tersedia sejumlah 1 GPU(s).\n",
      "GPU yang akan digunakan: A100-SXM4-40GB\n"
     ]
    }
   ],
   "source": [
    "if torch.cuda.is_available():    \n",
    "    device = torch.device(\"cuda\")\n",
    "    print('Tersedia sejumlah %d GPU(s).' % torch.cuda.device_count())\n",
    "    print('GPU yang akan digunakan:', torch.cuda.get_device_name(0))\n",
    "else:\n",
    "    print('Tidak mendukung GPU; hanya CPU')\n",
    "    device = torch.device(\"cpu\")"
   ]
  },
  {
   "cell_type": "code",
   "execution_count": 9,
   "id": "c6546138",
   "metadata": {},
   "outputs": [],
   "source": [
    "df_human = pd.read_csv(f\"Dataset/Human_Annotated.csv\", index_col=\"ID\")\n",
    "df_human.fillna(\"\", inplace = True)\n",
    "df_machine = pd.read_csv(f\"Dataset/Mini_Machine_Annotated.csv\", index_col=\"ID\")\n",
    "df_machine.fillna(\"\", inplace = True)\n",
    "df_unlabel = pd.read_csv(f\"Dataset/Mini_unlabeled.csv\", index_col=\"ID\")\n",
    "df_unlabel.fillna(\"\", inplace = True)"
   ]
  },
  {
   "cell_type": "code",
   "execution_count": 10,
   "id": "bb624ac0",
   "metadata": {},
   "outputs": [],
   "source": [
    "df_all = pd.concat([df_human[[\"JUDUL\", \"ISI\"]], df_machine[[\"JUDUL\", \"ISI\"]], df_unlabel[[\"JUDUL\", \"ISI\"]]])"
   ]
  },
  {
   "cell_type": "code",
   "execution_count": 11,
   "id": "8ae5722a",
   "metadata": {},
   "outputs": [],
   "source": [
    "del df_human, df_machine, df_unlabel"
   ]
  },
  {
   "cell_type": "code",
   "execution_count": 12,
   "id": "3e522b4f",
   "metadata": {},
   "outputs": [],
   "source": [
    "df_all = df_all.drop_duplicates()"
   ]
  },
  {
   "cell_type": "code",
   "execution_count": 13,
   "id": "840ce6d5",
   "metadata": {},
   "outputs": [
    {
     "data": {
      "text/plain": [
       "<AxesSubplot:ylabel='Frequency'>"
      ]
     },
     "execution_count": 13,
     "metadata": {},
     "output_type": "execute_result"
    },
    {
     "data": {
      "image/png": "[encoded data removed]",
      "text/plain": [
       "<Figure size 432x288 with 1 Axes>"
      ]
     },
     "metadata": {
      "needs_background": "light"
     },
     "output_type": "display_data"
    }
   ],
   "source": [
    "df_all['JUDUL'].str.split().str.len().plot.hist()"
   ]
  },
  {
   "cell_type": "code",
   "execution_count": 14,
   "id": "4fa231ae",
   "metadata": {},
   "outputs": [
    {
     "data": {
      "text/plain": [
       "<AxesSubplot:ylabel='Frequency'>"
      ]
     },
     "execution_count": 14,
     "metadata": {},
     "output_type": "execute_result"
    },
    {
     "data": {
      "image/png": "[encoded data removed]",
      "text/plain": [
       "<Figure size 432x288 with 1 Axes>"
      ]
     },
     "metadata": {
      "needs_background": "light"
     },
     "output_type": "display_data"
    }
   ],
   "source": [
    "df_all['ISI'].str.split().str.len().plot.hist()"
   ]
  },
  {
   "cell_type": "code",
   "execution_count": 15,
   "id": "84371119",
   "metadata": {},
   "outputs": [],
   "source": [
    "from sklearn.model_selection import train_test_split\n",
    "\n",
    "train, test = train_test_split(df_all, test_size=0.2)\n",
    "del df_all"
   ]
  },
  {
   "cell_type": "code",
   "execution_count": 16,
   "id": "cdce7a72",
   "metadata": {},
   "outputs": [],
   "source": [
    "def generate_dataset(lst):\n",
    "    \"\"\"\n",
    "    Generate input-output pairs for next sentence prediction from a dataframe with columns TITLE and CONTENT.\n",
    "    \"\"\"\n",
    "    sentences = []\n",
    "    temp = []\n",
    "    for i, j in lst:\n",
    "        if len(i) != 0 and i[-1] not in \".!?\":\n",
    "            i += '.'\n",
    "        if len(j) != 0 and j[-1] not in \".!?\":\n",
    "            j += '.'\n",
    "        li = re.split('(?<=[.!?]) +',i)\n",
    "        lj = re.split('(?<=[.!?]) +',j)\n",
    "        comb = li + [\"SEP\"] + lj + [\"SEP\"]\n",
    "\n",
    "        for k, l in enumerate(comb):\n",
    "            if (len(temp) != 0 and len(l) < 5 and l != 'SEP' and temp[-1] != 'SEP' and temp[-1] != 'SEP'):\n",
    "                temp[-1] += l\n",
    "            else:\n",
    "                temp.append(l)\n",
    "        while len(temp) > 2:\n",
    "            a = temp.pop(0)\n",
    "            isNSP = 1\n",
    "            if (temp[0] == 'SEP'):\n",
    "                temp.pop(0)\n",
    "                isNSP = 0\n",
    "            b = temp[0]\n",
    "            if (b == 'SEP'):\n",
    "                b = \"\"\n",
    "            yield ({'a':a, 'b':b, 'nsp':isNSP})"
   ]
  },
  {
   "cell_type": "code",
   "execution_count": 17,
   "id": "b5942a41",
   "metadata": {},
   "outputs": [],
   "source": [
    "max_train = len(list(generate_dataset(train.values)))\n",
    "max_test = len(list(generate_dataset(test.values)))"
   ]
  },
  {
   "cell_type": "code",
   "execution_count": 18,
   "id": "d9fdab84",
   "metadata": {},
   "outputs": [
    {
     "name": "stdout",
     "output_type": "stream",
     "text": [
      "42891 10568\n"
     ]
    }
   ],
   "source": [
    "print(max_train, max_test)"
   ]
  },
  {
   "cell_type": "code",
   "execution_count": 22,
   "id": "1718651d",
   "metadata": {},
   "outputs": [],
   "source": [
    "#--------------------------------\n",
    "#  Some Parameters\n",
    "#--------------------------------\n",
    "MAX_SEQ_LENGTH = 256\n",
    "BATCH_SIZE = 8\n",
    "WARMUP_PROPORTION = 0.4\n",
    "REGULARIZATION = 0.02\n",
    "MODEL_NAME = \"indobenchmark/indobert-large-p1\"\n",
    "LEARNING_RATE = 1e-5\n",
    "PATH = \"Model/dapt-indobert-large-p1\""
   ]
  },
  {
   "cell_type": "code",
   "execution_count": 20,
   "id": "2a3f53f1",
   "metadata": {},
   "outputs": [
    {
     "data": {
      "application/vnd.jupyter.widget-view+json": {
       "model_id": "bb01cb69cf0447d18b7b37aaab595710",
       "version_major": 2,
       "version_minor": 0
      },
      "text/plain": [
       "VBox(children=(HTML(value='<center> <img\\nsrc=https://huggingface.co/front/assets/huggingface_logo-noborder.sv…"
      ]
     },
     "metadata": {},
     "output_type": "display_data"
    }
   ],
   "source": [
    "from huggingface_hub import notebook_login\n",
    "\n",
    "notebook_login()"
   ]
  },
  {
   "cell_type": "code",
   "execution_count": 21,
   "id": "5e0a4acf",
   "metadata": {},
   "outputs": [
    {
     "name": "stdout",
     "output_type": "stream",
     "text": [
      "user id 'Hendrico' will be used during the example\n"
     ]
    }
   ],
   "source": [
    "from huggingface_hub import HfApi\n",
    "\n",
    "user_id = HfApi().whoami()[\"name\"]\n",
    "\n",
    "print(f\"user id '{user_id}' will be used during the example\")"
   ]
  },
  {
   "cell_type": "code",
   "execution_count": 23,
   "id": "82d06e76",
   "metadata": {},
   "outputs": [],
   "source": [
    "from transformers import AutoTokenizer, BertForPreTraining, BertForMaskedLM, BertForNextSentencePrediction\n",
    "import torch\n",
    "\n",
    "tokenizer = AutoTokenizer.from_pretrained(MODEL_NAME)"
   ]
  },
  {
   "cell_type": "code",
   "execution_count": 24,
   "id": "93042764",
   "metadata": {},
   "outputs": [
    {
     "name": "stderr",
     "output_type": "stream",
     "text": [
      "Some weights of BertForPreTraining were not initialized from the model checkpoint at indobenchmark/indobert-large-p1 and are newly initialized: ['cls.seq_relationship.weight', 'cls.predictions.transform.dense.weight', 'cls.predictions.transform.LayerNorm.bias', 'cls.predictions.transform.dense.bias', 'cls.predictions.bias', 'cls.predictions.transform.LayerNorm.weight', 'cls.seq_relationship.bias']\n",
      "You should probably TRAIN this model on a down-stream task to be able to use it for predictions and inference.\n"
     ]
    }
   ],
   "source": [
    "model = None\n",
    "def create_model(model):\n",
    "    if model != None:\n",
    "        del model\n",
    "        torch.cuda.empty_cache()\n",
    "    model = BertForPreTraining.from_pretrained(MODEL_NAME)\n",
    "    if torch.cuda.is_available():    \n",
    "        model.cuda()\n",
    "    return model\n",
    "model = create_model(model)"
   ]
  },
  {
   "cell_type": "code",
   "execution_count": 30,
   "id": "6a9e0cfb",
   "metadata": {},
   "outputs": [],
   "source": [
    "def tokenize(a, b):\n",
    "    inputs = tokenizer(a, b, \\\n",
    "                         add_special_tokens = True, \\\n",
    "                          max_length = MAX_SEQ_LENGTH, \\\n",
    "                          padding = \"max_length\", \\\n",
    "                          truncation = True)\n",
    "    tokens = inputs['input_ids']\n",
    "    labels = []\n",
    "    # Randomly mask some of the tokens\n",
    "    masked_tokens = []\n",
    "    for token in tokens:\n",
    "        if token > 4 and random.random() < 0.15:\n",
    "            labels.append(token)\n",
    "            cum_rand = random.random()\n",
    "            if (cum_rand < 0.8):\n",
    "                masked_tokens.append(4)\n",
    "            elif (cum_rand < 0.9):\n",
    "                masked_tokens.append(random.randint(5, 30520))\n",
    "            elif (cum_rand < 1):\n",
    "                masked_tokens.append(token)\n",
    "        else:\n",
    "            labels.append(-100)\n",
    "            masked_tokens.append(token)\n",
    "    masked_tokens = torch.tensor([masked_tokens])\n",
    "    labels = torch.tensor([labels])\n",
    "    inputs = {\n",
    "        'input_ids' : masked_tokens.to(device),\n",
    "        'token_type_ids' : torch.tensor([inputs['token_type_ids']]).to(device),\n",
    "        'attention_mask' : torch.tensor([inputs['attention_mask']]).to(device)\n",
    "    }\n",
    "    return {'inputs' : inputs, 'labels' : labels.to(device)}"
   ]
  },
  {
   "cell_type": "code",
   "execution_count": 32,
   "id": "35132257",
   "metadata": {},
   "outputs": [],
   "source": [
    "# training\n",
    "from tqdm import tqdm\n",
    "from time import sleep\n",
    "import copy\n",
    "from sklearn.metrics import classification_report, accuracy_score, recall_score, precision_score\n",
    "\n",
    "def train_model(model, optimizer, num_epochs=25, last_epoch=0):\n",
    "    max_epoch = last_epoch + num_epochs\n",
    "\n",
    "    for epoch_i in range(last_epoch, max_epoch):\n",
    "        print(f\"Epoch {epoch_i + 1} / {max_epoch}\")\n",
    "        model.train()\n",
    "        # Reset the total loss for this epoch.\n",
    "        loss_track = 0\n",
    "        \n",
    "        # Untuk setiap batch di training data\n",
    "        pbar = tqdm(generate_dataset(train.values), desc=\"train\", total = max_train)\n",
    "        for batch in pbar:\n",
    "            tokens = tokenize(batch['a'], batch['b'])\n",
    "            X = tokens['inputs']\n",
    "            label = tokens['labels']\n",
    "            nsp = torch.tensor([batch['nsp']]).to(device)\n",
    "            \n",
    "            outputs = model(**X, labels=label, next_sentence_label=nsp)        \n",
    "\n",
    "            # Categorical Cross-Entropy\n",
    "            loss = outputs.loss\n",
    "            \n",
    "            optimizer.zero_grad()\n",
    "            loss.backward()\n",
    "            optimizer.step()\n",
    "            loss_track += loss.item()\n",
    "            pbar.set_postfix(loss = str(f'{(loss_track):.2f}'))\n",
    "        \n",
    "            sleep(0.1)\n",
    "        \n",
    "        loss_track = 0\n",
    "        pbar = tqdm(generate_dataset(test.values), desc=\"Test\", total=max_test)\n",
    "        for batch in pbar:\n",
    "            with torch.no_grad(): \n",
    "\n",
    "                tokens = tokenize(batch['a'], batch['b'])\n",
    "                X = tokens['inputs']\n",
    "                label = tokens['labels']\n",
    "                nsp = torch.tensor([batch['nsp']]).to(device)\n",
    "\n",
    "                outputs = model(**X, labels=label, next_sentence_label=nsp)\n",
    "                # Categorical Cross-Entropy\n",
    "                loss = outputs.loss\n",
    "                loss_track += loss.item()\n",
    "            pbar.set_postfix(loss = str(f'{(loss_track):.2f}'))\n",
    "        \n",
    "            sleep(0.1)\n",
    "\n",
    "        torch.save({\n",
    "                  'best_model_sd' : model.state_dict(),\n",
    "                  'best_optimizer_sd' : optimizer.state_dict(),\n",
    "                  'best_epoch' : epoch_i+1,\n",
    "                  'best_loss' : (loss_track / max_test)\n",
    "                  }, f\"{PATH}-{epoch_i + 1}.pt\")\n",
    "\n",
    "    return {'model' : model, 'optim' : optimizer}  "
   ]
  },
  {
   "cell_type": "code",
   "execution_count": null,
   "id": "c2e244c8",
   "metadata": {},
   "outputs": [],
   "source": [
    "%%time\n",
    "model = create_model(model)\n",
    "optimizer = torch.optim.AdamW(model.parameters(), lr = LEARNING_RATE, weight_decay = REGULARIZATION)\n",
    "info = train_model(model, optimizer, num_epochs=10, last_epoch=0)"
   ]
  },
  {
   "cell_type": "code",
   "execution_count": null,
   "id": "17e69765",
   "metadata": {},
   "outputs": [],
   "source": [
    "import os, signal\n",
    "\n",
    "os.kill(os.getpid(), signal.SIGKILL)"
   ]
  }
 ],
 "metadata": {
  "kernelspec": {
   "display_name": "Python 3 (ipykernel)",
   "language": "python",
   "name": "python3"
  },
  "language_info": {
   "codemirror_mode": {
    "name": "ipython",
    "version": 3
   },
   "file_extension": ".py",
   "mimetype": "text/x-python",
   "name": "python",
   "nbconvert_exporter": "python",
   "pygments_lexer": "ipython3",
   "version": "3.8.12"
  }
 },
 "nbformat": 4,
 "nbformat_minor": 5
}
